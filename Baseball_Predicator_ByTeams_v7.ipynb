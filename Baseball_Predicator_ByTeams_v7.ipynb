{
  "nbformat": 4,
  "nbformat_minor": 0,
  "metadata": {
    "colab": {
      "name": "Baseball_Predicator_ByTeams_v7.ipynb",
      "provenance": [],
      "collapsed_sections": []
    },
    "kernelspec": {
      "name": "python3",
      "display_name": "Python 3"
    },
    "language_info": {
      "name": "python"
    }
  },
  "cells": [
    {
      "cell_type": "code",
      "metadata": {
        "colab": {
          "base_uri": "https://localhost:8080/"
        },
        "id": "wIpbNvX75g2W",
        "outputId": "762ebc19-19ef-4d31-9774-936b61d910bd"
      },
      "source": [
        "# import relevant libraries\n",
        "import pandas as pd\n",
        "import numpy as np\n",
        "import matplotlib.pyplot as plt\n",
        "!pip install bs4 \n",
        "from bs4 import BeautifulSoup\n",
        "!pip install lxml\n",
        "import requests\n",
        "from datetime import datetime\n",
        "import seaborn as sb\n",
        "from statsmodels.tsa.arima_model import ARIMA\n",
        "from pandas.plotting import autocorrelation_plot\n",
        "from sklearn.linear_model import LinearRegression\n",
        "from sklearn.metrics import f1_score"
      ],
      "execution_count": 215,
      "outputs": [
        {
          "output_type": "stream",
          "text": [
            "Requirement already satisfied: bs4 in /usr/local/lib/python3.7/dist-packages (0.0.1)\n",
            "Requirement already satisfied: beautifulsoup4 in /usr/local/lib/python3.7/dist-packages (from bs4) (4.6.3)\n",
            "Requirement already satisfied: lxml in /usr/local/lib/python3.7/dist-packages (4.2.6)\n"
          ],
          "name": "stdout"
        }
      ]
    },
    {
      "cell_type": "code",
      "metadata": {
        "id": "2j17-KYr5m1Z"
      },
      "source": [
        "# Web Scraping\n",
        "# use requests to open and grab the desired html link\n",
        "html = requests.get('https://www.baseball-reference.com/leagues/MLB/2018-schedule.shtml').text\n",
        "# employ BeautifulSoup with an appropriate parser to extract\n",
        "soup = BeautifulSoup(html, 'lxml')\n",
        "# find all of the games\n",
        "gameday = soup.find('p', class_='game')\n",
        "game = soup.find('h3').text\n",
        "\n",
        "# function that accepts the date from the website and returns\n",
        "# it in the correct datetime format\n",
        "def correctDateTime(date):\n",
        "  d = date.split(' ', 1)[1:]\n",
        "  substr1 = d[0].split()[0]\n",
        "  substr2 = d[0].split()[1]\n",
        "  # remove the comma\n",
        "  substr2 = substr2.replace(',', '')\n",
        "  # create appropriate date string to pass to datetime\n",
        "  gameday = substr2 + \" \" + substr1 + \", \" + d[0].split()[-1]\n",
        "  # convert gameday to a datetime called date\n",
        "  day = datetime.strptime(gameday, \"%d %B, %Y\").date()\n",
        "  return day"
      ],
      "execution_count": 216,
      "outputs": []
    },
    {
      "cell_type": "code",
      "metadata": {
        "id": "rXh-SYhW5sj8"
      },
      "source": [
        "# first let us create a list to hold the names of all 30 MLB teams\n",
        "columns = []\n",
        "# first loop through the schedule to find all MLB teams\n",
        "schedule = soup.find('div', class_='section_content')\n",
        "gamedays = schedule.find_all('div')\n",
        "# iterate through gamedays \n",
        "for gameday in gamedays:\n",
        "  # create a sup-soup of all the games\n",
        "  games = gameday.find_all('p', class_='game')\n",
        "  # loop through each game\n",
        "  for game in games:\n",
        "    awayTeam = game.find('a').text\n",
        "    homeTeam = game.find('strong').text\n",
        "    # fix format of homeTeam\n",
        "    homeTeam = homeTeam.partition('\\n')[0]\n",
        "    # if the first space is blank, delete it\n",
        "    if homeTeam[0] == ' ':\n",
        "      homeTeam = homeTeam[1:]\n",
        "    # add the home team to the list of teams if it had not\n",
        "    # already been added to the list\n",
        "    if awayTeam not in columns:\n",
        "      columns.append(awayTeam)\n",
        "    if homeTeam not in columns:\n",
        "      columns.append(homeTeam)\n",
        "\n",
        "# now let us loop through schedule to find all of the gamedays and\n",
        "# we shall store them in gamedates\n",
        "gamedates = []\n",
        "for gameday in gamedays: \n",
        "  date = correctDateTime(gameday.find('h3').text)\n",
        "  if date not in gamedates:\n",
        "    gamedates.append(date)"
      ],
      "execution_count": 217,
      "outputs": []
    },
    {
      "cell_type": "code",
      "metadata": {
        "colab": {
          "base_uri": "https://localhost:8080/",
          "height": 513
        },
        "id": "B9YoH6XH5xsm",
        "outputId": "e4934c29-3fca-4255-b4c7-075a974fd713"
      },
      "source": [
        "# create dataframe with all 30 MLB teams in the columns and game dates as row indices\n",
        "gameResults = pd.DataFrame(columns=columns, index=gamedates)\n",
        "\n",
        "# iterate through gamedays \n",
        "for gameday in gamedays:\n",
        "  date = correctDateTime(gameday.find('h3').text)\n",
        "  # create a sup-soup of all the games\n",
        "  games = gameday.find_all('p', class_='game')\n",
        "  # loop through each game\n",
        "  for game in games:\n",
        "    # results of each game\n",
        "    teams = game.find_all('a')\n",
        "    awayTeam = teams[0].text\n",
        "    homeTeam = teams[1].text\n",
        "    awayRuns = game.text.splitlines()[2]\n",
        "    homeRuns = game.text.splitlines()[5]\n",
        "    # remove parentheses and blank spaces\n",
        "    for i in awayRuns:\n",
        "      awayRuns = awayRuns.replace('(', '')\n",
        "      awayRuns = awayRuns.replace(' ', '')\n",
        "    awayRuns = awayRuns[:-1]\n",
        "    for i in homeRuns:\n",
        "      homeRuns = homeRuns.replace('(', '')\n",
        "      homeRuns = homeRuns.replace(' ', '')\n",
        "    homeRuns = homeRuns[:-1]\n",
        "\n",
        "    # make runs ints\n",
        "    awayRuns = int(awayRuns)\n",
        "    homeRuns = int(homeRuns)\n",
        "\n",
        "    # if away team wins\n",
        "    if awayRuns > homeRuns:\n",
        "      # create list of info for the winner\n",
        "      winnerList = [awayRuns, homeRuns]\n",
        "      # add a +1 label since the game is one\n",
        "      winnerList.append(1)\n",
        "      # assign the results to the main dataframe\n",
        "      gameResults.loc[date][awayTeam] = winnerList\n",
        "    \n",
        "      # create list info for loser\n",
        "      loserList = [homeRuns, awayRuns]\n",
        "      # add a 0 label reflecting a loss\n",
        "      loserList.append(0)\n",
        "      # assign the results to the main dataframe\n",
        "      gameResults.loc[date][homeTeam] = loserList\n",
        "\n",
        "    # if home team wins\n",
        "    elif homeRuns > awayRuns:\n",
        "      # create list of info for the winner\n",
        "      winnerList = [homeRuns, awayRuns]\n",
        "      # add a +1 label since the game is one\n",
        "      winnerList.append(1)\n",
        "      # assign the results to the main dataframe\n",
        "      gameResults.loc[date][homeTeam] = winnerList\n",
        "    \n",
        "      # create list info for loser\n",
        "      loserList = [awayRuns, homeRuns]\n",
        "      # add a 0 label reflecting a loss\n",
        "      loserList.append(0)\n",
        "      # assign the results to the main dataframe\n",
        "      gameResults.loc[date][awayTeam] = loserList\n",
        "\n",
        "    gameResults.loc[date][homeTeam] = {'runs_for': gameResults.loc[date, homeTeam][0], 'runs_against': gameResults.loc[date, homeTeam][1], \"win/loss\": gameResults.loc[date, homeTeam][2]}\n",
        "    gameResults.loc[date][awayTeam] = {'runs_for': gameResults.loc[date, awayTeam][0], 'runs_against': gameResults.loc[date, awayTeam][1], \"win/loss\": gameResults.loc[date, awayTeam][2]} \n",
        "  \n",
        "gameResults.head()"
      ],
      "execution_count": 218,
      "outputs": [
        {
          "output_type": "execute_result",
          "data": {
            "text/html": [
              "<div>\n",
              "<style scoped>\n",
              "    .dataframe tbody tr th:only-of-type {\n",
              "        vertical-align: middle;\n",
              "    }\n",
              "\n",
              "    .dataframe tbody tr th {\n",
              "        vertical-align: top;\n",
              "    }\n",
              "\n",
              "    .dataframe thead th {\n",
              "        text-align: right;\n",
              "    }\n",
              "</style>\n",
              "<table border=\"1\" class=\"dataframe\">\n",
              "  <thead>\n",
              "    <tr style=\"text-align: right;\">\n",
              "      <th></th>\n",
              "      <th>Colorado Rockies</th>\n",
              "      <th>Arizona D'Backs</th>\n",
              "      <th>Philadelphia Phillies</th>\n",
              "      <th>Atlanta Braves</th>\n",
              "      <th>Minnesota Twins</th>\n",
              "      <th>Baltimore Orioles</th>\n",
              "      <th>Chicago White Sox</th>\n",
              "      <th>San Francisco Giants</th>\n",
              "      <th>Chicago Cubs</th>\n",
              "      <th>St. Louis Cardinals</th>\n",
              "      <th>New York Mets</th>\n",
              "      <th>Los Angeles Angels</th>\n",
              "      <th>Oakland Athletics</th>\n",
              "      <th>Milwaukee Brewers</th>\n",
              "      <th>Cleveland Indians</th>\n",
              "      <th>Seattle Mariners</th>\n",
              "      <th>Boston Red Sox</th>\n",
              "      <th>Tampa Bay Rays</th>\n",
              "      <th>Houston Astros</th>\n",
              "      <th>New York Yankees</th>\n",
              "      <th>Washington Nationals</th>\n",
              "      <th>Pittsburgh Pirates</th>\n",
              "      <th>Miami Marlins</th>\n",
              "      <th>Texas Rangers</th>\n",
              "      <th>Los Angeles Dodgers</th>\n",
              "      <th>Toronto Blue Jays</th>\n",
              "      <th>Cincinnati Reds</th>\n",
              "      <th>Kansas City Royals</th>\n",
              "      <th>Detroit Tigers</th>\n",
              "      <th>San Diego Padres</th>\n",
              "    </tr>\n",
              "  </thead>\n",
              "  <tbody>\n",
              "    <tr>\n",
              "      <th>2018-03-29</th>\n",
              "      <td>{'runs_for': 2, 'runs_against': 8, 'win/loss': 0}</td>\n",
              "      <td>{'runs_for': 8, 'runs_against': 2, 'win/loss': 1}</td>\n",
              "      <td>{'runs_for': 5, 'runs_against': 8, 'win/loss': 0}</td>\n",
              "      <td>{'runs_for': 8, 'runs_against': 5, 'win/loss': 1}</td>\n",
              "      <td>{'runs_for': 2, 'runs_against': 3, 'win/loss': 0}</td>\n",
              "      <td>{'runs_for': 3, 'runs_against': 2, 'win/loss': 1}</td>\n",
              "      <td>{'runs_for': 14, 'runs_against': 7, 'win/loss'...</td>\n",
              "      <td>{'runs_for': 1, 'runs_against': 0, 'win/loss': 1}</td>\n",
              "      <td>{'runs_for': 8, 'runs_against': 4, 'win/loss': 1}</td>\n",
              "      <td>{'runs_for': 4, 'runs_against': 9, 'win/loss': 0}</td>\n",
              "      <td>{'runs_for': 9, 'runs_against': 4, 'win/loss': 1}</td>\n",
              "      <td>{'runs_for': 5, 'runs_against': 6, 'win/loss': 0}</td>\n",
              "      <td>{'runs_for': 6, 'runs_against': 5, 'win/loss': 1}</td>\n",
              "      <td>{'runs_for': 2, 'runs_against': 1, 'win/loss': 1}</td>\n",
              "      <td>{'runs_for': 1, 'runs_against': 2, 'win/loss': 0}</td>\n",
              "      <td>{'runs_for': 2, 'runs_against': 1, 'win/loss': 1}</td>\n",
              "      <td>{'runs_for': 4, 'runs_against': 6, 'win/loss': 0}</td>\n",
              "      <td>{'runs_for': 6, 'runs_against': 4, 'win/loss': 1}</td>\n",
              "      <td>{'runs_for': 4, 'runs_against': 1, 'win/loss': 1}</td>\n",
              "      <td>{'runs_for': 6, 'runs_against': 1, 'win/loss': 1}</td>\n",
              "      <td>NaN</td>\n",
              "      <td>NaN</td>\n",
              "      <td>{'runs_for': 4, 'runs_against': 8, 'win/loss': 0}</td>\n",
              "      <td>{'runs_for': 1, 'runs_against': 4, 'win/loss': 0}</td>\n",
              "      <td>{'runs_for': 0, 'runs_against': 1, 'win/loss': 0}</td>\n",
              "      <td>{'runs_for': 1, 'runs_against': 6, 'win/loss': 0}</td>\n",
              "      <td>NaN</td>\n",
              "      <td>{'runs_for': 7, 'runs_against': 14, 'win/loss'...</td>\n",
              "      <td>NaN</td>\n",
              "      <td>{'runs_for': 1, 'runs_against': 2, 'win/loss': 0}</td>\n",
              "    </tr>\n",
              "    <tr>\n",
              "      <th>2018-03-30</th>\n",
              "      <td>{'runs_for': 8, 'runs_against': 9, 'win/loss': 0}</td>\n",
              "      <td>{'runs_for': 9, 'runs_against': 8, 'win/loss': 1}</td>\n",
              "      <td>{'runs_for': 5, 'runs_against': 4, 'win/loss': 1}</td>\n",
              "      <td>{'runs_for': 4, 'runs_against': 5, 'win/loss': 0}</td>\n",
              "      <td>NaN</td>\n",
              "      <td>NaN</td>\n",
              "      <td>NaN</td>\n",
              "      <td>{'runs_for': 1, 'runs_against': 0, 'win/loss': 1}</td>\n",
              "      <td>{'runs_for': 1, 'runs_against': 2, 'win/loss': 0}</td>\n",
              "      <td>NaN</td>\n",
              "      <td>NaN</td>\n",
              "      <td>{'runs_for': 2, 'runs_against': 1, 'win/loss': 1}</td>\n",
              "      <td>{'runs_for': 1, 'runs_against': 2, 'win/loss': 0}</td>\n",
              "      <td>{'runs_for': 8, 'runs_against': 6, 'win/loss': 1}</td>\n",
              "      <td>NaN</td>\n",
              "      <td>NaN</td>\n",
              "      <td>{'runs_for': 1, 'runs_against': 0, 'win/loss': 1}</td>\n",
              "      <td>{'runs_for': 0, 'runs_against': 1, 'win/loss': 0}</td>\n",
              "      <td>{'runs_for': 1, 'runs_against': 5, 'win/loss': 0}</td>\n",
              "      <td>{'runs_for': 4, 'runs_against': 2, 'win/loss': 1}</td>\n",
              "      <td>{'runs_for': 2, 'runs_against': 0, 'win/loss': 1}</td>\n",
              "      <td>{'runs_for': 13, 'runs_against': 10, 'win/loss...</td>\n",
              "      <td>{'runs_for': 2, 'runs_against': 1, 'win/loss': 1}</td>\n",
              "      <td>{'runs_for': 5, 'runs_against': 1, 'win/loss': 1}</td>\n",
              "      <td>{'runs_for': 0, 'runs_against': 1, 'win/loss': 0}</td>\n",
              "      <td>{'runs_for': 2, 'runs_against': 4, 'win/loss': 0}</td>\n",
              "      <td>{'runs_for': 0, 'runs_against': 2, 'win/loss': 0}</td>\n",
              "      <td>NaN</td>\n",
              "      <td>{'runs_for': 10, 'runs_against': 13, 'win/loss...</td>\n",
              "      <td>{'runs_for': 6, 'runs_against': 8, 'win/loss': 0}</td>\n",
              "    </tr>\n",
              "    <tr>\n",
              "      <th>2018-03-31</th>\n",
              "      <td>{'runs_for': 2, 'runs_against': 1, 'win/loss': 1}</td>\n",
              "      <td>{'runs_for': 1, 'runs_against': 2, 'win/loss': 0}</td>\n",
              "      <td>{'runs_for': 2, 'runs_against': 15, 'win/loss'...</td>\n",
              "      <td>{'runs_for': 15, 'runs_against': 2, 'win/loss'...</td>\n",
              "      <td>{'runs_for': 6, 'runs_against': 2, 'win/loss': 1}</td>\n",
              "      <td>{'runs_for': 2, 'runs_against': 6, 'win/loss': 0}</td>\n",
              "      <td>{'runs_for': 4, 'runs_against': 3, 'win/loss': 1}</td>\n",
              "      <td>{'runs_for': 0, 'runs_against': 5, 'win/loss': 0}</td>\n",
              "      <td>{'runs_for': 10, 'runs_against': 6, 'win/loss'...</td>\n",
              "      <td>{'runs_for': 2, 'runs_against': 6, 'win/loss': 0}</td>\n",
              "      <td>{'runs_for': 6, 'runs_against': 2, 'win/loss': 1}</td>\n",
              "      <td>{'runs_for': 8, 'runs_against': 3, 'win/loss': 1}</td>\n",
              "      <td>{'runs_for': 3, 'runs_against': 8, 'win/loss': 0}</td>\n",
              "      <td>{'runs_for': 7, 'runs_against': 3, 'win/loss': 1}</td>\n",
              "      <td>{'runs_for': 6, 'runs_against': 5, 'win/loss': 1}</td>\n",
              "      <td>{'runs_for': 5, 'runs_against': 6, 'win/loss': 0}</td>\n",
              "      <td>{'runs_for': 3, 'runs_against': 2, 'win/loss': 1}</td>\n",
              "      <td>{'runs_for': 2, 'runs_against': 3, 'win/loss': 0}</td>\n",
              "      <td>{'runs_for': 9, 'runs_against': 3, 'win/loss': 1}</td>\n",
              "      <td>{'runs_for': 3, 'runs_against': 5, 'win/loss': 0}</td>\n",
              "      <td>{'runs_for': 13, 'runs_against': 7, 'win/loss'...</td>\n",
              "      <td>NaN</td>\n",
              "      <td>{'runs_for': 6, 'runs_against': 10, 'win/loss'...</td>\n",
              "      <td>{'runs_for': 3, 'runs_against': 9, 'win/loss': 0}</td>\n",
              "      <td>{'runs_for': 5, 'runs_against': 0, 'win/loss': 1}</td>\n",
              "      <td>{'runs_for': 5, 'runs_against': 3, 'win/loss': 1}</td>\n",
              "      <td>{'runs_for': 7, 'runs_against': 13, 'win/loss'...</td>\n",
              "      <td>{'runs_for': 3, 'runs_against': 4, 'win/loss': 0}</td>\n",
              "      <td>NaN</td>\n",
              "      <td>{'runs_for': 3, 'runs_against': 7, 'win/loss': 0}</td>\n",
              "    </tr>\n",
              "    <tr>\n",
              "      <th>2018-04-01</th>\n",
              "      <td>NaN</td>\n",
              "      <td>NaN</td>\n",
              "      <td>NaN</td>\n",
              "      <td>NaN</td>\n",
              "      <td>{'runs_for': 7, 'runs_against': 0, 'win/loss': 1}</td>\n",
              "      <td>{'runs_for': 0, 'runs_against': 7, 'win/loss': 0}</td>\n",
              "      <td>NaN</td>\n",
              "      <td>{'runs_for': 0, 'runs_against': 9, 'win/loss': 0}</td>\n",
              "      <td>{'runs_for': 0, 'runs_against': 6, 'win/loss': 0}</td>\n",
              "      <td>{'runs_for': 5, 'runs_against': 1, 'win/loss': 1}</td>\n",
              "      <td>{'runs_for': 1, 'runs_against': 5, 'win/loss': 0}</td>\n",
              "      <td>{'runs_for': 7, 'runs_against': 4, 'win/loss': 1}</td>\n",
              "      <td>{'runs_for': 4, 'runs_against': 7, 'win/loss': 0}</td>\n",
              "      <td>NaN</td>\n",
              "      <td>{'runs_for': 4, 'runs_against': 5, 'win/loss': 0}</td>\n",
              "      <td>{'runs_for': 5, 'runs_against': 4, 'win/loss': 1}</td>\n",
              "      <td>{'runs_for': 2, 'runs_against': 1, 'win/loss': 1}</td>\n",
              "      <td>{'runs_for': 1, 'runs_against': 2, 'win/loss': 0}</td>\n",
              "      <td>{'runs_for': 8, 'runs_against': 2, 'win/loss': 1}</td>\n",
              "      <td>{'runs_for': 4, 'runs_against': 7, 'win/loss': 0}</td>\n",
              "      <td>{'runs_for': 6, 'runs_against': 5, 'win/loss': 1}</td>\n",
              "      <td>{'runs_for': 8, 'runs_against': 6, 'win/loss': 1}</td>\n",
              "      <td>{'runs_for': 6, 'runs_against': 0, 'win/loss': 1}</td>\n",
              "      <td>{'runs_for': 2, 'runs_against': 8, 'win/loss': 0}</td>\n",
              "      <td>{'runs_for': 9, 'runs_against': 0, 'win/loss': 1}</td>\n",
              "      <td>{'runs_for': 7, 'runs_against': 4, 'win/loss': 1}</td>\n",
              "      <td>{'runs_for': 5, 'runs_against': 6, 'win/loss': 0}</td>\n",
              "      <td>NaN</td>\n",
              "      <td>{'runs_for': 6, 'runs_against': 8, 'win/loss': 0}</td>\n",
              "      <td>NaN</td>\n",
              "    </tr>\n",
              "    <tr>\n",
              "      <th>2018-04-02</th>\n",
              "      <td>{'runs_for': 7, 'runs_against': 4, 'win/loss': 1}</td>\n",
              "      <td>{'runs_for': 8, 'runs_against': 7, 'win/loss': 1}</td>\n",
              "      <td>NaN</td>\n",
              "      <td>{'runs_for': 1, 'runs_against': 8, 'win/loss': 0}</td>\n",
              "      <td>{'runs_for': 4, 'runs_against': 5, 'win/loss': 0}</td>\n",
              "      <td>{'runs_for': 1, 'runs_against': 6, 'win/loss': 0}</td>\n",
              "      <td>{'runs_for': 2, 'runs_against': 4, 'win/loss': 0}</td>\n",
              "      <td>NaN</td>\n",
              "      <td>{'runs_for': 0, 'runs_against': 1, 'win/loss': 0}</td>\n",
              "      <td>{'runs_for': 8, 'runs_against': 4, 'win/loss': 1}</td>\n",
              "      <td>NaN</td>\n",
              "      <td>{'runs_for': 0, 'runs_against': 6, 'win/loss': 0}</td>\n",
              "      <td>{'runs_for': 3, 'runs_against': 1, 'win/loss': 1}</td>\n",
              "      <td>{'runs_for': 4, 'runs_against': 8, 'win/loss': 0}</td>\n",
              "      <td>{'runs_for': 6, 'runs_against': 0, 'win/loss': 1}</td>\n",
              "      <td>NaN</td>\n",
              "      <td>{'runs_for': 7, 'runs_against': 3, 'win/loss': 1}</td>\n",
              "      <td>NaN</td>\n",
              "      <td>{'runs_for': 6, 'runs_against': 1, 'win/loss': 1}</td>\n",
              "      <td>NaN</td>\n",
              "      <td>{'runs_for': 8, 'runs_against': 1, 'win/loss': 1}</td>\n",
              "      <td>{'runs_for': 5, 'runs_against': 4, 'win/loss': 1}</td>\n",
              "      <td>{'runs_for': 3, 'runs_against': 7, 'win/loss': 0}</td>\n",
              "      <td>{'runs_for': 1, 'runs_against': 3, 'win/loss': 0}</td>\n",
              "      <td>{'runs_for': 7, 'runs_against': 8, 'win/loss': 0}</td>\n",
              "      <td>{'runs_for': 4, 'runs_against': 2, 'win/loss': 1}</td>\n",
              "      <td>{'runs_for': 1, 'runs_against': 0, 'win/loss': 1}</td>\n",
              "      <td>{'runs_for': 1, 'runs_against': 6, 'win/loss': 0}</td>\n",
              "      <td>{'runs_for': 6, 'runs_against': 1, 'win/loss': 1}</td>\n",
              "      <td>{'runs_for': 4, 'runs_against': 7, 'win/loss': 0}</td>\n",
              "    </tr>\n",
              "  </tbody>\n",
              "</table>\n",
              "</div>"
            ],
            "text/plain": [
              "                                             Colorado Rockies  ...                                   San Diego Padres\n",
              "2018-03-29  {'runs_for': 2, 'runs_against': 8, 'win/loss': 0}  ...  {'runs_for': 1, 'runs_against': 2, 'win/loss': 0}\n",
              "2018-03-30  {'runs_for': 8, 'runs_against': 9, 'win/loss': 0}  ...  {'runs_for': 6, 'runs_against': 8, 'win/loss': 0}\n",
              "2018-03-31  {'runs_for': 2, 'runs_against': 1, 'win/loss': 1}  ...  {'runs_for': 3, 'runs_against': 7, 'win/loss': 0}\n",
              "2018-04-01                                                NaN  ...                                                NaN\n",
              "2018-04-02  {'runs_for': 7, 'runs_against': 4, 'win/loss': 1}  ...  {'runs_for': 4, 'runs_against': 7, 'win/loss': 0}\n",
              "\n",
              "[5 rows x 30 columns]"
            ]
          },
          "metadata": {
            "tags": []
          },
          "execution_count": 218
        }
      ]
    },
    {
      "cell_type": "code",
      "metadata": {
        "colab": {
          "base_uri": "https://localhost:8080/"
        },
        "id": "R52pTrK36C7l",
        "outputId": "fd4a224d-4abd-46c3-f14c-b1f182bf7011"
      },
      "source": [
        "# make null list\n",
        "nullList = gameResults.isnull()\n",
        "# iterate through gamedays \n",
        "for i in range(len(gameResults)):\n",
        "  for j in range(len(gameResults.columns)):\n",
        "    # ensure that the game is not an off-day (null)\n",
        "    if nullList.iloc[i][j] == False:\n",
        "      gameResults.iloc[i][j]['run_differential'] = gameResults.iloc[i][j]['runs_for'] - gameResults.iloc[i][j]['runs_against']\n",
        "      \n",
        "for i in range(15, len(gameResults)):\n",
        "  for j in range(len(gameResults.columns)):\n",
        "    # make sure game is not an off-day (null)\n",
        "    if nullList.iloc[i][j] == False:\n",
        "      # make sure previous game was not an off-day (null)\n",
        "      # find the most-recent non-off-day\n",
        "      sum = 0\n",
        "      # g will be a dummy variable that tracks\n",
        "      # how far back we go\n",
        "      g = 0\n",
        "      for p in range(1,10):\n",
        "        # make sure the value is non-null\n",
        "        if nullList.iloc[i-p][j] == False:\n",
        "          sum += gameResults.iloc[i-p][j]['runs_for']\n",
        "          # increment g by 1 indicating that we have \"found\"\n",
        "          # a previos game\n",
        "          g +=1\n",
        "        # stop when g gets to 5 because we only want the last 5 games\n",
        "        if g > 4:\n",
        "          break\n",
        "      # avg = sum/n\n",
        "      gameResults.iloc[i][j][\"5-day_avg_runs\"] = sum/5\n",
        "\n",
        "print('Game Date: ' + str(gameResults.index[-1]))\n",
        "print('Los Angeles Dodgers\\nScore: ' + str(gameResults.iloc[-1]['Los Angeles Dodgers']['runs_for']) \\\n",
        "+ '-' + str(gameResults.iloc[-1]['Los Angeles Dodgers']['runs_against']) + '\\nResult(Win/Loss-1/0): '\\\n",
        "+ str(str(gameResults.iloc[-1]['Los Angeles Dodgers']['win/loss'])))\n",
        "print('Avg. Runs Scored Over Previous 5 Games: ' + str(gameResults.iloc[-1]['Los Angeles Dodgers']['5-day_avg_runs']))"
      ],
      "execution_count": 219,
      "outputs": [
        {
          "output_type": "stream",
          "text": [
            "Game Date: 2018-10-01\n",
            "Los Angeles Dodgers\n",
            "Score: 5-2\n",
            "Result(Win/Loss-1/0): 1\n",
            "Avg. Runs Scored Over Previous 5 Games: 6.6\n"
          ],
          "name": "stdout"
        }
      ]
    },
    {
      "cell_type": "code",
      "metadata": {
        "id": "B4-q1Tvk6N1u"
      },
      "source": [
        "# aggregate data into one numpy array on which we can employ correlation\n",
        "winLossList = []\n",
        "prevGameDiffList = []\n",
        "\n",
        "# iterate through games by the same procedure as before\n",
        "for j in range(len(gameResults.columns)):\n",
        "  for i in range(15, len(gameResults)):\n",
        "    if nullList.iloc[i][j] == False:\n",
        "      # append the lists accordingly\n",
        "      winLossList.append(gameResults.iloc[i][j]['runs_for'])\n",
        "      prevGameDiffList.append(gameResults.iloc[i][j]['5-day_avg_runs'])"
      ],
      "execution_count": 220,
      "outputs": []
    },
    {
      "cell_type": "code",
      "metadata": {
        "colab": {
          "base_uri": "https://localhost:8080/",
          "height": 643
        },
        "id": "qjZEwOTy6VBG",
        "outputId": "f4a938d7-8877-48bd-9c55-027bb23e053f"
      },
      "source": [
        "# create releveant numpy arrays\n",
        "winLossArray = np.array(winLossList)\n",
        "avgGameDiff = np.array(prevGameDiffList)\n",
        "\n",
        "plt.scatter(prevGameDiffList, winLossList, marker='.', alpha = .5, color='navy')\n",
        "plt.gcf().set_size_inches((12,10))\n",
        "plt.xlabel('Avg. Runs Scored Over Past 5 Games', fontsize = 19)\n",
        "plt.ylabel('Runs Scored', fontsize = 19)\n",
        "plt.title('Runs Scored in Prior Games vs. in Upcoming Game', fontsize = 22)\n",
        "plt.text(8.21, 21, '    Correlation\\nCoefficient: ' + str(round(np.corrcoef(winLossArray, avgGameDiff)[1][0], 2)), fontsize=14, color='black')\n",
        "plt.style.use('ggplot')\n",
        "\n",
        "plt.show()"
      ],
      "execution_count": 221,
      "outputs": [
        {
          "output_type": "display_data",
          "data": {
            "image/png": "[encoded data removed]",
            "text/plain": [
              "<Figure size 864x720 with 1 Axes>"
            ]
          },
          "metadata": {
            "tags": [],
            "needs_background": "light"
          }
        }
      ]
    },
    {
      "cell_type": "code",
      "metadata": {
        "colab": {
          "base_uri": "https://localhost:8080/",
          "height": 641
        },
        "id": "E4KRgHYk6aTK",
        "outputId": "a1ef8045-8d32-4e21-d170-73bc95d3d011"
      },
      "source": [
        "plt.hist(avgGameDiff, bins=49, color='steelblue')\n",
        "plt.gcf().set_size_inches((12,10))\n",
        "plt.title('Distribution of Avg. Runs Scored Every 5 Games by all Teams', fontsize = 22)\n",
        "plt.xlabel('Runs Scored', fontsize=19)\n",
        "plt.ylabel('Occurances', fontsize=19)\n",
        "plt.style.use('seaborn')\n",
        "plt.axvline(avgGameDiff.mean(), color='k', linestyle='dashed', alpha = 0.6, linewidth=1)\n",
        "plt.text(6, 210, ' Mean Runs Scored\\nEvery 5 Games: ' + str(round(avgGameDiff.mean(), 2)), fontsize=14, color='black')\n",
        "plt.show()"
      ],
      "execution_count": 222,
      "outputs": [
        {
          "output_type": "display_data",
          "data": {
            "image/png": "[encoded data removed]",
            "text/plain": [
              "<Figure size 864x720 with 1 Axes>"
            ]
          },
          "metadata": {
            "tags": []
          }
        }
      ]
    },
    {
      "cell_type": "code",
      "metadata": {
        "colab": {
          "base_uri": "https://localhost:8080/",
          "height": 650
        },
        "id": "grwfLsLS6i6y",
        "outputId": "438ca126-55f6-42c1-82a5-a8138e70e1ef"
      },
      "source": [
        "# create lists to hold win/loss info and iterate through the \n",
        "# dataframe like before\n",
        "DodgersWinLoss = []\n",
        "DodgersWinLossIndex = []\n",
        "for i in range(len(gameResults)):\n",
        "  if nullList.iloc[i]['Los Angeles Dodgers'] == False:\n",
        "    DodgersWinLoss.append(gameResults.iloc[i]['Los Angeles Dodgers']['win/loss'])\n",
        "    DodgersWinLossIndex.append(gameResults.index[i])\n",
        "\n",
        "first = np.array(DodgersWinLoss[:-1])\n",
        "second = np.array(DodgersWinLoss[1:])\n",
        "\n",
        "autocorrelation_plot(DodgersWinLoss, color='steelblue')\n",
        "plt.title('Dodgers Win/Loss Autocorrelation Plot', fontsize=22)\n",
        "plt.gcf().set_size_inches((12,10))\n",
        "plt.style.use('seaborn')\n",
        "plt.ylabel('Autocorrelation', fontsize=17)\n",
        "plt.xlabel('Lag', fontsize=17)\n",
        "plt.text(10, .23, 'First lag\\nAutocorrelation: ' + str(round((np.corrcoef(first, second))[0][1], 2)), fontsize=14, color='black', alpha =.75)\n",
        "plt.ylim(-.3,.3)"
      ],
      "execution_count": 223,
      "outputs": [
        {
          "output_type": "execute_result",
          "data": {
            "text/plain": [
              "(-0.3, 0.3)"
            ]
          },
          "metadata": {
            "tags": []
          },
          "execution_count": 223
        },
        {
          "output_type": "display_data",
          "data": {
            "image/png": "[encoded data removed]",
            "text/plain": [
              "<Figure size 864x720 with 1 Axes>"
            ]
          },
          "metadata": {
            "tags": []
          }
        }
      ]
    },
    {
      "cell_type": "code",
      "metadata": {
        "colab": {
          "base_uri": "https://localhost:8080/"
        },
        "id": "Hx3DXX5x6qNh",
        "outputId": "508f08e7-9eb4-4e93-bc7c-8f7dc403e978"
      },
      "source": [
        "# ARIMA Output\n",
        "ARIMA_model = ARIMA(DodgersWinLoss, order=(5,0,0))\n",
        "ARIMA_model_fit = ARIMA_model.fit()\n",
        "print(ARIMA_model_fit.summary())"
      ],
      "execution_count": 224,
      "outputs": [
        {
          "output_type": "stream",
          "text": [
            "                              ARMA Model Results                              \n",
            "==============================================================================\n",
            "Dep. Variable:                      y   No. Observations:                  160\n",
            "Model:                     ARMA(5, 0)   Log Likelihood                -111.963\n",
            "Method:                       css-mle   S.D. of innovations              0.487\n",
            "Date:                Sat, 31 Jul 2021   AIC                            237.926\n",
            "Time:                        16:01:39   BIC                            259.452\n",
            "Sample:                             0   HQIC                           246.667\n",
            "                                                                              \n",
            "==============================================================================\n",
            "                 coef    std err          z      P>|z|      [0.025      0.975]\n",
            "------------------------------------------------------------------------------\n",
            "const          0.5562      0.038     14.640      0.000       0.482       0.631\n",
            "ar.L1.y        0.1047      0.079      1.321      0.188      -0.051       0.260\n",
            "ar.L2.y       -0.0206      0.080     -0.258      0.797      -0.177       0.136\n",
            "ar.L3.y       -0.1611      0.079     -2.047      0.042      -0.315      -0.007\n",
            "ar.L4.y        0.0706      0.080      0.883      0.379      -0.086       0.227\n",
            "ar.L5.y       -0.0084      0.080     -0.105      0.917      -0.166       0.149\n",
            "                                    Roots                                    \n",
            "=============================================================================\n",
            "                  Real          Imaginary           Modulus         Frequency\n",
            "-----------------------------------------------------------------------------\n",
            "AR.1           -1.6038           -0.0000j            1.6038           -0.5000\n",
            "AR.2            0.5456           -1.7480j            1.8312           -0.2018\n",
            "AR.3            0.5456           +1.7480j            1.8312            0.2018\n",
            "AR.4            4.4437           -1.5223j            4.6972           -0.0525\n",
            "AR.5            4.4437           +1.5223j            4.6972            0.0525\n",
            "-----------------------------------------------------------------------------\n"
          ],
          "name": "stdout"
        }
      ]
    },
    {
      "cell_type": "code",
      "metadata": {
        "colab": {
          "base_uri": "https://localhost:8080/",
          "height": 538
        },
        "id": "xcRRUrXy6zKp",
        "outputId": "255cce7d-57a4-4435-f990-78ac0adb6c5a"
      },
      "source": [
        "# dump all of the team names into a list\n",
        "teams = []\n",
        "for i in range(len(gameResults.columns)):\n",
        "  teams.append(gameResults.columns[i])\n",
        "\n",
        "# create dictionaries\n",
        "wins = {}\n",
        "runsFor = {}\n",
        "runsAgainst = {}\n",
        "\n",
        "# fill in the number of wins, runs for, and runs against\n",
        "for i in range(len(teams)):\n",
        "  wins[teams[i]] = 0\n",
        "for i in range(len(teams)):\n",
        "  runsFor[teams[i]] = 0\n",
        "for i in range(len(teams)):\n",
        "  runsAgainst[teams[i]] = 0\n",
        "\n",
        "# create a nullList for future checking\n",
        "# loop through the results and increment each dictionary\n",
        "nullList = gameResults.isnull()\n",
        "for i in range(len(gameResults)):\n",
        "  for j in range(len(teams)):\n",
        "    if nullList.iloc[i][j] == False: \n",
        "      wins[teams[j]] += gameResults.iloc[i][j]['win/loss']\n",
        "for i in range(len(gameResults)):\n",
        "  for j in range(len(teams)):\n",
        "    if nullList.iloc[i][j] == False: \n",
        "      runsFor[teams[j]] += gameResults.iloc[i][j]['runs_for']\n",
        "for i in range(len(gameResults)):\n",
        "  for j in range(len(teams)):\n",
        "    if nullList.iloc[i][j] == False: \n",
        "      runsAgainst[teams[j]] += gameResults.iloc[i][j]['runs_against']\n",
        "\n",
        "# create dummy lists so that we can create numpy arrays \n",
        "# to perform subsequent operations on\n",
        "list1 = []\n",
        "for key, value in wins.items():\n",
        "  list1.append(value)\n",
        "winNum = np.array(list1)\n",
        "list2 = []\n",
        "for key, value in runsFor.items():\n",
        "  list2.append(value)\n",
        "runNum = np.array(list2)\n",
        "list3 = []\n",
        "for key, value in runsAgainst.items():\n",
        "  list3.append(value)\n",
        "runsAgainstNum = np.array(list3)\n",
        "\n",
        "# plot both scatter charts and show correlations\n",
        "fig = plt.figure()\n",
        "plt.subplot(1,2,1)\n",
        "plt.scatter(runNum, winNum, color='steelblue')\n",
        "plt.xlabel('Runs Scored', fontsize = 16)\n",
        "plt.ylabel('Games Won', fontsize = 16)\n",
        "plt.title('Runs Scored vs. Games Won', fontsize = 18)\n",
        "plt.text(610, 92, '    Correlation\\nCoefficient: ' + str(round(np.corrcoef(winNum, runNum)[1][0], 2)), fontsize=14, color='black')\n",
        "plt.style.use('seaborn')\n",
        "plt.plot()\n",
        "\n",
        "plt.subplot(1,2,2)\n",
        "plt.scatter(runsAgainstNum, winNum, alpha = .7, color='navy')\n",
        "plt.gcf().set_size_inches((18,8))\n",
        "plt.xlabel('Runs Given Up', fontsize = 16)\n",
        "plt.ylabel('Games Won', fontsize = 16)\n",
        "plt.title('Runs Given Up vs. Games Won', fontsize = 18)\n",
        "plt.text(570, 62, '    Correlation\\nCoefficient: ' + str(round(np.corrcoef(winNum, runsAgainstNum)[1][0], 2)), fontsize=14, color='black')\n",
        "plt.style.use('seaborn')\n",
        "plt.plot()"
      ],
      "execution_count": 225,
      "outputs": [
        {
          "output_type": "execute_result",
          "data": {
            "text/plain": [
              "[]"
            ]
          },
          "metadata": {
            "tags": []
          },
          "execution_count": 225
        },
        {
          "output_type": "display_data",
          "data": {
            "image/png": "[encoded data removed]",
            "text/plain": [
              "<Figure size 1296x576 with 2 Axes>"
            ]
          },
          "metadata": {
            "tags": []
          }
        }
      ]
    },
    {
      "cell_type": "code",
      "metadata": {
        "colab": {
          "base_uri": "https://localhost:8080/",
          "height": 633
        },
        "id": "szfIrx617NJP",
        "outputId": "b45a81ed-a91a-4a0c-e2ef-77005181e885"
      },
      "source": [
        "# Linear Regression\n",
        "X = runNum[:, np.newaxis]\n",
        "model = LinearRegression(fit_intercept=True)\n",
        "model.fit(X, winNum)\n",
        "predictions = model.predict(X)\n",
        "plt.scatter(X, winNum, color='steelblue')\n",
        "plt.plot(X, predictions, color='midnightblue')\n",
        "plt.gcf().set_size_inches((10,10))\n",
        "plt.text(605, 82, 'R-Squared: ' + str(round((np.corrcoef(winNum, runNum)[1][0])**2, 2)), fontsize=14, color='black')\n",
        "plt.xlabel('Runs Scored', fontsize = 16)\n",
        "plt.ylabel('Games Won', fontsize = 16)\n",
        "plt.title('Linear Regression Model', fontsize = 22)\n",
        "plt.style.use('seaborn')"
      ],
      "execution_count": 226,
      "outputs": [
        {
          "output_type": "display_data",
          "data": {
            "image/png": "[encoded data removed]",
            "text/plain": [
              "<Figure size 720x720 with 1 Axes>"
            ]
          },
          "metadata": {
            "tags": []
          }
        }
      ]
    },
    {
      "cell_type": "code",
      "metadata": {
        "id": "HKy_5vTo7TZf"
      },
      "source": [
        "xls = pd.ExcelFile('/content/Baseball_Seasonal_Data.xls')\n",
        "Pirates = pd.read_excel(xls, 'Pirates')\n",
        "Reds = pd.read_excel(xls, 'Reds')\n",
        "WhiteSox = pd.read_excel(xls, 'WhiteSox')\n",
        "Royals = pd.read_excel(xls, 'Royals')\n",
        "DBacks = pd.read_excel(xls, 'DBacks')\n",
        "Dodgers = pd.read_excel(xls, 'Dodgers')\n",
        "Rockies = pd.read_excel(xls, 'Rockies')\n",
        "Cardinals = pd.read_excel(xls, 'Cardinals')\n",
        "Brewers = pd.read_excel(xls, 'Brewers')\n",
        "Indians = pd.read_excel(xls, 'Indians')\n",
        "Nationals = pd.read_excel(xls, 'Nationals')\n",
        "Rangers = pd.read_excel(xls, 'Rangers')\n",
        "Marlins = pd.read_excel(xls, 'Marlins')\n",
        "BlueJays = pd.read_excel(xls, 'BlueJays')\n",
        "Rays = pd.read_excel(xls, 'Rays')\n",
        "Mets = pd.read_excel(xls, 'Mets')\n",
        "Tigers = pd.read_excel(xls, 'Tigers')\n",
        "Cubs = pd.read_excel(xls, 'Cubs')\n",
        "Astros = pd.read_excel(xls, 'Astros')\n",
        "RedSox = pd.read_excel(xls, 'RedSox')\n",
        "Padres = pd.read_excel(xls, 'Padres')\n",
        "Giants = pd.read_excel(xls, 'Giants')\n",
        "Twins = pd.read_excel(xls, 'Twins') \n",
        "Orioles = pd.read_excel(xls, 'Orioles')\n",
        "Yankees = pd.read_excel(xls, 'Yankees')\n",
        "Angels = pd.read_excel(xls, 'Angels')\n",
        "Athletics = pd.read_excel(xls, 'Athletics')  \n",
        "Phillies = pd.read_excel(xls, 'Phillies') \n",
        "Braves = pd.read_excel(xls, 'Braves')\n",
        "Mariners = pd.read_excel(xls, 'Mariners')"
      ],
      "execution_count": 227,
      "outputs": []
    },
    {
      "cell_type": "code",
      "metadata": {
        "colab": {
          "base_uri": "https://localhost:8080/",
          "height": 419
        },
        "id": "4VqFOl1JFdYO",
        "outputId": "5c68a6eb-0e6f-4d2d-9c1e-b2a24984de5c"
      },
      "source": [
        "Reds"
      ],
      "execution_count": 228,
      "outputs": [
        {
          "output_type": "execute_result",
          "data": {
            "text/html": [
              "<div>\n",
              "<style scoped>\n",
              "    .dataframe tbody tr th:only-of-type {\n",
              "        vertical-align: middle;\n",
              "    }\n",
              "\n",
              "    .dataframe tbody tr th {\n",
              "        vertical-align: top;\n",
              "    }\n",
              "\n",
              "    .dataframe thead th {\n",
              "        text-align: right;\n",
              "    }\n",
              "</style>\n",
              "<table border=\"1\" class=\"dataframe\">\n",
              "  <thead>\n",
              "    <tr style=\"text-align: right;\">\n",
              "      <th></th>\n",
              "      <th>Runs</th>\n",
              "      <th>RA</th>\n",
              "      <th>Results</th>\n",
              "      <th>HomeTeam</th>\n",
              "    </tr>\n",
              "  </thead>\n",
              "  <tbody>\n",
              "    <tr>\n",
              "      <th>0</th>\n",
              "      <td>1.0</td>\n",
              "      <td>5.0</td>\n",
              "      <td>0.0</td>\n",
              "      <td>1.0</td>\n",
              "    </tr>\n",
              "    <tr>\n",
              "      <th>1</th>\n",
              "      <td>5.0</td>\n",
              "      <td>8.0</td>\n",
              "      <td>0.0</td>\n",
              "      <td>1.0</td>\n",
              "    </tr>\n",
              "    <tr>\n",
              "      <th>2</th>\n",
              "      <td>5.0</td>\n",
              "      <td>1.0</td>\n",
              "      <td>1.0</td>\n",
              "      <td>1.0</td>\n",
              "    </tr>\n",
              "    <tr>\n",
              "      <th>3</th>\n",
              "      <td>6.0</td>\n",
              "      <td>10.0</td>\n",
              "      <td>0.0</td>\n",
              "      <td>1.0</td>\n",
              "    </tr>\n",
              "    <tr>\n",
              "      <th>4</th>\n",
              "      <td>4.0</td>\n",
              "      <td>3.0</td>\n",
              "      <td>1.0</td>\n",
              "      <td>1.0</td>\n",
              "    </tr>\n",
              "    <tr>\n",
              "      <th>...</th>\n",
              "      <td>...</td>\n",
              "      <td>...</td>\n",
              "      <td>...</td>\n",
              "      <td>...</td>\n",
              "    </tr>\n",
              "    <tr>\n",
              "      <th>3609</th>\n",
              "      <td>2.0</td>\n",
              "      <td>9.0</td>\n",
              "      <td>0.0</td>\n",
              "      <td>1.0</td>\n",
              "    </tr>\n",
              "    <tr>\n",
              "      <th>3610</th>\n",
              "      <td>3.0</td>\n",
              "      <td>5.0</td>\n",
              "      <td>0.0</td>\n",
              "      <td>1.0</td>\n",
              "    </tr>\n",
              "    <tr>\n",
              "      <th>3611</th>\n",
              "      <td>5.0</td>\n",
              "      <td>6.0</td>\n",
              "      <td>0.0</td>\n",
              "      <td>0.0</td>\n",
              "    </tr>\n",
              "    <tr>\n",
              "      <th>3612</th>\n",
              "      <td>4.0</td>\n",
              "      <td>2.0</td>\n",
              "      <td>1.0</td>\n",
              "      <td>0.0</td>\n",
              "    </tr>\n",
              "    <tr>\n",
              "      <th>3613</th>\n",
              "      <td>3.0</td>\n",
              "      <td>1.0</td>\n",
              "      <td>1.0</td>\n",
              "      <td>0.0</td>\n",
              "    </tr>\n",
              "  </tbody>\n",
              "</table>\n",
              "<p>3614 rows × 4 columns</p>\n",
              "</div>"
            ],
            "text/plain": [
              "      Runs    RA  Results  HomeTeam\n",
              "0      1.0   5.0      0.0       1.0\n",
              "1      5.0   8.0      0.0       1.0\n",
              "2      5.0   1.0      1.0       1.0\n",
              "3      6.0  10.0      0.0       1.0\n",
              "4      4.0   3.0      1.0       1.0\n",
              "...    ...   ...      ...       ...\n",
              "3609   2.0   9.0      0.0       1.0\n",
              "3610   3.0   5.0      0.0       1.0\n",
              "3611   5.0   6.0      0.0       0.0\n",
              "3612   4.0   2.0      1.0       0.0\n",
              "3613   3.0   1.0      1.0       0.0\n",
              "\n",
              "[3614 rows x 4 columns]"
            ]
          },
          "metadata": {
            "tags": []
          },
          "execution_count": 228
        }
      ]
    },
    {
      "cell_type": "code",
      "metadata": {
        "id": "6cuZrcnR7ynN"
      },
      "source": [
        "Angels_Home = pd.DataFrame(Angels, columns = ['Result', 'HomeTeam'])\n",
        "Astros_Home = pd.DataFrame(Astros, columns = ['Result', 'HomeTeam'])\n",
        "Athletics_Home = pd.DataFrame(Athletics, columns = ['Result', 'HomeTeam'])\n",
        "BlueJays_Home = pd.DataFrame(BlueJays, columns = ['Result', 'HomeTeam'])\n",
        "Braves_Home = pd.DataFrame(Braves, columns = ['Result', 'HomeTeam'])\n",
        "Brewers_Home = pd.DataFrame(Brewers, columns = ['Result', 'HomeTeam'])\n",
        "Cardinals_Home = pd.DataFrame(Cardinals, columns = ['Result', 'HomeTeam'])\n",
        "Cubs_Home = pd.DataFrame(Cubs, columns = ['Result', 'HomeTeam'])\n",
        "DBacks_Home = pd.DataFrame(DBacks, columns = ['Result', 'HomeTeam'])\n",
        "Dodgers_Home = pd.DataFrame(Dodgers, columns = ['Result', 'HomeTeam'])\n",
        "Giants_Home = pd.DataFrame(Giants, columns = ['Result', 'HomeTeam'])\n",
        "Indians_Home = pd.DataFrame(Indians, columns = ['Result', 'HomeTeam'])\n",
        "Mariners_Home = pd.DataFrame(Mariners, columns = ['Result', 'HomeTeam'])\n",
        "Marlins_Home = pd.DataFrame(Marlins, columns = ['Result', 'HomeTeam'])\n",
        "Mets_Home = pd.DataFrame(Mets, columns = ['Result', 'HomeTeam'])\n",
        "Nationals_Home = pd.DataFrame(Nationals, columns = ['Result', 'HomeTeam'])\n",
        "Orioles_Home = pd.DataFrame(Orioles, columns = ['Result', 'HomeTeam'])\n",
        "Padres_Home = pd.DataFrame(Padres, columns = ['Result', 'HomeTeam'])\n",
        "Phillies_Home = pd.DataFrame(Phillies, columns = ['Result', 'HomeTeam'])\n",
        "Pirates_Home = pd.DataFrame(Pirates, columns = ['Result', 'HomeTeam'])\n",
        "Rangers_Home = pd.DataFrame(Rangers, columns = ['Result', 'HomeTeam'])\n",
        "Rays_Home = pd.DataFrame(Rays, columns = ['Result', 'HomeTeam'])\n",
        "RedSox_Home = pd.DataFrame(RedSox, columns = ['Result', 'HomeTeam'])\n",
        "Reds_Home = pd.DataFrame(Reds, columns = ['Result', 'HomeTeam'])\n",
        "Rockies_Home = pd.DataFrame(Rockies, columns = ['Result', 'HomeTeam'])\n",
        "Royals_Home = pd.DataFrame(Royals, columns = ['Result', 'HomeTeam'])\n",
        "Tigers_Home = pd.DataFrame(Tigers, columns = ['Result', 'HomeTeam'])\n",
        "Twins_Home = pd.DataFrame(Twins, columns = ['Result', 'HomeTeam'])\n",
        "WhiteSox_Home = pd.DataFrame(WhiteSox, columns = ['Result', 'HomeTeam'])\n",
        "Yankees_Home = pd.DataFrame(Yankees, columns = ['Result', 'HomeTeam'])\n"
      ],
      "execution_count": 229,
      "outputs": []
    },
    {
      "cell_type": "code",
      "metadata": {
        "id": "N5CgSqEEyIRf"
      },
      "source": [
        "Reds_filtered = Reds_Home[Reds_Home['HomeTeam'] == 1]\n",
        "Angels_filtered = Angels_Home[Angels_Home['HomeTeam'] == 1]\n",
        "Astros_filtered = Astros_Home[Astros_Home['HomeTeam'] == 1]\n",
        "Athletics_filtered = Athletics_Home[Athletics_Home['HomeTeam'] == 1]\n",
        "BlueJays_filtered = BlueJays_Home[BlueJays_Home['HomeTeam'] == 1]\n",
        "Braves_filtered = Braves_Home[Braves_Home['HomeTeam'] == 1]\n",
        "Brewers_filtered = Brewers_Home[Brewers_Home['HomeTeam'] == 1]\n",
        "Cardinals_filtered = Cardinals_Home[Cardinals_Home['HomeTeam'] == 1]\n",
        "Cubs_filtered = Cubs_Home[Cubs_Home['HomeTeam'] == 1]\n",
        "DBacks_filtered = DBacks_Home[DBacks_Home['HomeTeam'] == 1]\n",
        "Dodgers_filtered = Dodgers_Home[Dodgers_Home['HomeTeam'] == 1]\n",
        "Giants_filtered = Giants_Home[Giants_Home['HomeTeam'] == 1]\n",
        "Indians_filtered= Indians_Home[Indians_Home['HomeTeam'] == 1]\n",
        "Mariners_filtered = Mariners_Home[Mariners_Home['HomeTeam'] == 1]\n",
        "Marlins_filtered = Marlins_Home[Marlins_Home['HomeTeam'] == 1]\n",
        "Mets_filtered = Mets_Home[Mets_Home['HomeTeam'] == 1]\n",
        "Nationals_filtered = Nationals_Home[Nationals_Home['HomeTeam'] == 1]\n",
        "Orioles_filtered = Orioles_Home[Orioles_Home['HomeTeam'] == 1]\n",
        "Padres_filtered = Padres_Home[Padres_Home['HomeTeam'] == 1]\n",
        "Phillies_filtered = Phillies_Home[Phillies_Home['HomeTeam'] == 1]\n",
        "Pirates_filtered = Pirates_Home[Pirates_Home['HomeTeam'] == 1]\n",
        "Rangers_filtered = Rangers_Home[Rangers_Home['HomeTeam'] == 1]\n",
        "Rays_filtered = Rays_Home[Rays_Home['HomeTeam'] == 1]\n",
        "RedSox_filtered = RedSox_Home[RedSox_Home['HomeTeam'] == 1]\n",
        "Reds_filtered = Reds_Home[Reds_Home['HomeTeam'] == 1]\n",
        "Rockies_filtered = Rockies_Home[Rockies_Home['HomeTeam'] == 1]\n",
        "Royals_filtered = Royals_Home[Royals_Home['HomeTeam'] == 1]\n",
        "Tigers_filtered = Tigers_Home[Tigers_Home['HomeTeam'] == 1]\n",
        "Twins_filtered = Twins_Home[Twins_Home['HomeTeam'] == 1]\n",
        "WhiteSox_filtered = WhiteSox_Home[WhiteSox_Home['HomeTeam'] == 1]\n",
        "Yankees_filtered = Yankees_Home[Yankees_Home['HomeTeam'] == 1]"
      ],
      "execution_count": 230,
      "outputs": []
    },
    {
      "cell_type": "code",
      "metadata": {
        "id": "wbQH-cZU18b8"
      },
      "source": [
        "df_Angels = Angels_filtered.copy()\n",
        "df_Angels['HomeWin'] = df_Angels.loc[:,'Result'].apply(lambda x: 1 if x == 1 else 0)\n",
        "\n",
        "df_Astros = Astros_filtered.copy()\n",
        "df_Astros['HomeWin'] = df_Astros.loc[:,'Result'].apply(lambda x: 1 if x == 1 else 0)\n",
        "\n",
        "df_Athletics = Reds_filtered.copy()\n",
        "df_Athletics['HomeWin'] = df_Athletics.loc[:,'Result'].apply(lambda x: 1 if x == 1 else 0)\n",
        "\n",
        "df_BlueJays = BlueJays_filtered.copy()\n",
        "df_BlueJays['HomeWin'] = df_BlueJays.loc[:,'Result'].apply(lambda x: 1 if x == 1 else 0)\n",
        "\n",
        "df_Braves = Braves_filtered.copy()\n",
        "df_Braves['HomeWin'] = df_Braves.loc[:,'Result'].apply(lambda x: 1 if x == 1 else 0)\n",
        "\n",
        "df_Brewers = Brewers_filtered.copy()\n",
        "df_Brewers['HomeWin'] = df_Brewers.loc[:,'Result'].apply(lambda x: 1 if x == 1 else 0)\n",
        "\n",
        "df_Cardinals = Cardinals_filtered.copy()\n",
        "df_Cardinals['HomeWin'] = df_Cardinals.loc[:,'Result'].apply(lambda x: 1 if x == 1 else 0)\n",
        "\n",
        "df_Cubs = Cubs_filtered.copy()\n",
        "df_Cubs['HomeWin'] = df_Cubs.loc[:,'Result'].apply(lambda x: 1 if x == 1 else 0)\n",
        "\n",
        "df_DBacks = DBacks_filtered.copy()\n",
        "df_DBacks['HomeWin'] = df_DBacks.loc[:,'Result'].apply(lambda x: 1 if x == 1 else 0)\n",
        "\n",
        "df_Dodgers = Dodgers_filtered.copy()\n",
        "df_Dodgers['HomeWin'] = df_Dodgers.loc[:,'Result'].apply(lambda x: 1 if x == 1 else 0)\n",
        "\n",
        "df_Giants = Giants_filtered.copy()\n",
        "df_Giants['HomeWin'] = df_Giants.loc[:,'Result'].apply(lambda x: 1 if x == 1 else 0)\n",
        "\n",
        "df_Indians = Indians_filtered.copy()\n",
        "df_Indians['HomeWin'] = df_Indians.loc[:,'Result'].apply(lambda x: 1 if x == 1 else 0)\n",
        "\n",
        "df_Mariners = Mariners_filtered.copy()\n",
        "df_Mariners['HomeWin'] = df_Mariners.loc[:,'Result'].apply(lambda x: 1 if x == 1 else 0)\n",
        "\n",
        "df_Marlins = Marlins_filtered.copy()\n",
        "df_Marlins['HomeWin'] = df_Marlins.loc[:,'Result'].apply(lambda x: 1 if x == 1 else 0)\n",
        "\n",
        "df_Mets = Mets_filtered.copy()\n",
        "df_Mets['HomeWin'] = df_Mets.loc[:,'Result'].apply(lambda x: 1 if x == 1 else 0)\n",
        "\n",
        "df_Nationals = Nationals_filtered.copy()\n",
        "df_Nationals['HomeWin'] = df_Nationals.loc[:,'Result'].apply(lambda x: 1 if x == 1 else 0)\n",
        "\n",
        "df_Orioles = Orioles_filtered.copy()\n",
        "df_Orioles['HomeWin'] = df_Orioles.loc[:,'Result'].apply(lambda x: 1 if x == 1 else 0)\n",
        "\n",
        "df_Padres = Padres_filtered.copy()\n",
        "df_Padres['HomeWin'] = df_Padres.loc[:,'Result'].apply(lambda x: 1 if x == 1 else 0)\n",
        "\n",
        "df_Phillies = Phillies_filtered.copy()\n",
        "df_Phillies['HomeWin'] = df_Phillies.loc[:,'Result'].apply(lambda x: 1 if x == 1 else 0)\n",
        "\n",
        "df_Pirates = Pirates_filtered.copy()\n",
        "df_Pirates['HomeWin'] = df_Pirates.loc[:,'Result'].apply(lambda x: 1 if x == 1 else 0)\n",
        "\n",
        "df_Rangers = Rangers_filtered.copy()\n",
        "df_Rangers['HomeWin'] = df_Rangers.loc[:,'Result'].apply(lambda x: 1 if x == 1 else 0)\n",
        "\n",
        "df_Rays = Rays_filtered.copy()\n",
        "df_Rays['HomeWin'] = df_Rays.loc[:,'Result'].apply(lambda x: 1 if x == 1 else 0)\n",
        "\n",
        "df_RedSox = RedSox_filtered.copy()\n",
        "df_RedSox['HomeWin'] = df_RedSox.loc[:,'Result'].apply(lambda x: 1 if x == 1 else 0)\n",
        "\n",
        "df_Reds = Reds_filtered.copy()\n",
        "df_Reds['HomeWin'] = df_Reds.loc[:,'Result'].apply(lambda x: 1 if x == 1 else 0)\n",
        "\n",
        "df_Rockies = Rockies_filtered.copy()\n",
        "df_Rockies['HomeWin'] = df_Rockies.loc[:,'Result'].apply(lambda x: 1 if x == 1 else 0)\n",
        "\n",
        "df_Royals = Royals_filtered.copy()\n",
        "df_Royals['HomeWin'] = df_Royals.loc[:,'Result'].apply(lambda x: 1 if x == 1 else 0)\n",
        "\n",
        "df_Tigers = Tigers_filtered.copy()\n",
        "df_Tigers['HomeWin'] = df_Tigers.loc[:,'Result'].apply(lambda x: 1 if x == 1 else 0)\n",
        "\n",
        "df_Twins = Twins_filtered.copy()\n",
        "df_Twins['HomeWin'] = df_Twins.loc[:,'Result'].apply(lambda x: 1 if x == 1 else 0)\n",
        "\n",
        "df_WhiteSox = WhiteSox_filtered.copy()\n",
        "df_WhiteSox['HomeWin'] = df_WhiteSox.loc[:,'Result'].apply(lambda x: 1 if x == 1 else 0)\n",
        "\n",
        "df_Yankees = Yankees_filtered.copy()\n",
        "df_Yankees['HomeWin'] = df_Yankees.loc[:,'Result'].apply(lambda x: 1 if x == 1 else 0)"
      ],
      "execution_count": 231,
      "outputs": []
    },
    {
      "cell_type": "code",
      "metadata": {
        "colab": {
          "base_uri": "https://localhost:8080/",
          "height": 419
        },
        "id": "FkzuhPUM2XTM",
        "outputId": "81d378c6-09f4-44d5-b85c-ee7ce6dcd3e7"
      },
      "source": [
        "df_Angels"
      ],
      "execution_count": 232,
      "outputs": [
        {
          "output_type": "execute_result",
          "data": {
            "text/html": [
              "<div>\n",
              "<style scoped>\n",
              "    .dataframe tbody tr th:only-of-type {\n",
              "        vertical-align: middle;\n",
              "    }\n",
              "\n",
              "    .dataframe tbody tr th {\n",
              "        vertical-align: top;\n",
              "    }\n",
              "\n",
              "    .dataframe thead th {\n",
              "        text-align: right;\n",
              "    }\n",
              "</style>\n",
              "<table border=\"1\" class=\"dataframe\">\n",
              "  <thead>\n",
              "    <tr style=\"text-align: right;\">\n",
              "      <th></th>\n",
              "      <th>Result</th>\n",
              "      <th>HomeTeam</th>\n",
              "      <th>HomeWin</th>\n",
              "    </tr>\n",
              "  </thead>\n",
              "  <tbody>\n",
              "    <tr>\n",
              "      <th>0</th>\n",
              "      <td>0.0</td>\n",
              "      <td>1.0</td>\n",
              "      <td>0</td>\n",
              "    </tr>\n",
              "    <tr>\n",
              "      <th>1</th>\n",
              "      <td>0.0</td>\n",
              "      <td>1.0</td>\n",
              "      <td>0</td>\n",
              "    </tr>\n",
              "    <tr>\n",
              "      <th>2</th>\n",
              "      <td>1.0</td>\n",
              "      <td>1.0</td>\n",
              "      <td>1</td>\n",
              "    </tr>\n",
              "    <tr>\n",
              "      <th>4</th>\n",
              "      <td>1.0</td>\n",
              "      <td>1.0</td>\n",
              "      <td>1</td>\n",
              "    </tr>\n",
              "    <tr>\n",
              "      <th>5</th>\n",
              "      <td>1.0</td>\n",
              "      <td>1.0</td>\n",
              "      <td>1</td>\n",
              "    </tr>\n",
              "    <tr>\n",
              "      <th>...</th>\n",
              "      <td>...</td>\n",
              "      <td>...</td>\n",
              "      <td>...</td>\n",
              "    </tr>\n",
              "    <tr>\n",
              "      <th>3610</th>\n",
              "      <td>0.0</td>\n",
              "      <td>1.0</td>\n",
              "      <td>0</td>\n",
              "    </tr>\n",
              "    <tr>\n",
              "      <th>3611</th>\n",
              "      <td>1.0</td>\n",
              "      <td>1.0</td>\n",
              "      <td>1</td>\n",
              "    </tr>\n",
              "    <tr>\n",
              "      <th>3612</th>\n",
              "      <td>0.0</td>\n",
              "      <td>1.0</td>\n",
              "      <td>0</td>\n",
              "    </tr>\n",
              "    <tr>\n",
              "      <th>3613</th>\n",
              "      <td>0.0</td>\n",
              "      <td>1.0</td>\n",
              "      <td>0</td>\n",
              "    </tr>\n",
              "    <tr>\n",
              "      <th>3614</th>\n",
              "      <td>0.0</td>\n",
              "      <td>1.0</td>\n",
              "      <td>0</td>\n",
              "    </tr>\n",
              "  </tbody>\n",
              "</table>\n",
              "<p>1619 rows × 3 columns</p>\n",
              "</div>"
            ],
            "text/plain": [
              "      Result  HomeTeam  HomeWin\n",
              "0        0.0       1.0        0\n",
              "1        0.0       1.0        0\n",
              "2        1.0       1.0        1\n",
              "4        1.0       1.0        1\n",
              "5        1.0       1.0        1\n",
              "...      ...       ...      ...\n",
              "3610     0.0       1.0        0\n",
              "3611     1.0       1.0        1\n",
              "3612     0.0       1.0        0\n",
              "3613     0.0       1.0        0\n",
              "3614     0.0       1.0        0\n",
              "\n",
              "[1619 rows x 3 columns]"
            ]
          },
          "metadata": {
            "tags": []
          },
          "execution_count": 232
        }
      ]
    },
    {
      "cell_type": "code",
      "metadata": {
        "id": "ANRcjqIBdcsi"
      },
      "source": [
        "df_MLB_HomeTeams = df_Angels.append(df_Astros)\n",
        "df_MLB_HomeTeams = df_MLB_HomeTeams.append(df_Athletics)\n",
        "df_MLB_HomeTeams = df_MLB_HomeTeams.append(df_BlueJays)\n",
        "df_MLB_HomeTeams = df_MLB_HomeTeams.append(df_Braves)\n",
        "df_MLB_HomeTeams = df_MLB_HomeTeams.append(df_Brewers)\n",
        "df_MLB_HomeTeams = df_MLB_HomeTeams.append(df_Cardinals)\n",
        "df_MLB_HomeTeams = df_MLB_HomeTeams.append(df_Cubs)\n",
        "df_MLB_HomeTeams = df_MLB_HomeTeams.append(df_DBacks)\n",
        "df_MLB_HomeTeams = df_MLB_HomeTeams.append(df_Dodgers)\n",
        "df_MLB_HomeTeams = df_MLB_HomeTeams.append(df_Giants)\n",
        "df_MLB_HomeTeams = df_MLB_HomeTeams.append(df_Indians)\n",
        "df_MLB_HomeTeams = df_MLB_HomeTeams.append(df_Mariners)\n",
        "df_MLB_HomeTeams = df_MLB_HomeTeams.append(df_Marlins)\n",
        "df_MLB_HomeTeams = df_MLB_HomeTeams.append(df_Mets)\n",
        "df_MLB_HomeTeams = df_MLB_HomeTeams.append(df_Nationals)\n",
        "df_MLB_HomeTeams = df_MLB_HomeTeams.append(df_Orioles)\n",
        "df_MLB_HomeTeams = df_MLB_HomeTeams.append(df_Padres)\n",
        "df_MLB_HomeTeams = df_MLB_HomeTeams.append(df_Phillies)\n",
        "df_MLB_HomeTeams = df_MLB_HomeTeams.append(df_Pirates)\n",
        "df_MLB_HomeTeams = df_MLB_HomeTeams.append(df_Rangers)\n",
        "df_MLB_HomeTeams = df_MLB_HomeTeams.append(df_Rays)\n",
        "df_MLB_HomeTeams = df_MLB_HomeTeams.append(df_Reds)\n",
        "df_MLB_HomeTeams = df_MLB_HomeTeams.append(df_RedSox)\n",
        "df_MLB_HomeTeams = df_MLB_HomeTeams.append(df_Rockies)\n",
        "df_MLB_HomeTeams = df_MLB_HomeTeams.append(df_Royals)\n",
        "df_MLB_HomeTeams = df_MLB_HomeTeams.append(df_Tigers)\n",
        "df_MLB_HomeTeams = df_MLB_HomeTeams.append(df_Twins)\n",
        "df_MLB_HomeTeams = df_MLB_HomeTeams.append(df_WhiteSox)\n",
        "df_MLB_HomeTeams = df_MLB_HomeTeams.append(df_Yankees)"
      ],
      "execution_count": 233,
      "outputs": []
    },
    {
      "cell_type": "code",
      "metadata": {
        "colab": {
          "base_uri": "https://localhost:8080/",
          "height": 419
        },
        "id": "tKHNTIfefWCy",
        "outputId": "b9cfe7eb-7be4-4e09-e053-90b3239120ff"
      },
      "source": [
        "df_MLB_HomeTeams"
      ],
      "execution_count": 234,
      "outputs": [
        {
          "output_type": "execute_result",
          "data": {
            "text/html": [
              "<div>\n",
              "<style scoped>\n",
              "    .dataframe tbody tr th:only-of-type {\n",
              "        vertical-align: middle;\n",
              "    }\n",
              "\n",
              "    .dataframe tbody tr th {\n",
              "        vertical-align: top;\n",
              "    }\n",
              "\n",
              "    .dataframe thead th {\n",
              "        text-align: right;\n",
              "    }\n",
              "</style>\n",
              "<table border=\"1\" class=\"dataframe\">\n",
              "  <thead>\n",
              "    <tr style=\"text-align: right;\">\n",
              "      <th></th>\n",
              "      <th>Result</th>\n",
              "      <th>HomeTeam</th>\n",
              "      <th>HomeWin</th>\n",
              "    </tr>\n",
              "  </thead>\n",
              "  <tbody>\n",
              "    <tr>\n",
              "      <th>0</th>\n",
              "      <td>0.0</td>\n",
              "      <td>1.0</td>\n",
              "      <td>0</td>\n",
              "    </tr>\n",
              "    <tr>\n",
              "      <th>1</th>\n",
              "      <td>0.0</td>\n",
              "      <td>1.0</td>\n",
              "      <td>0</td>\n",
              "    </tr>\n",
              "    <tr>\n",
              "      <th>2</th>\n",
              "      <td>1.0</td>\n",
              "      <td>1.0</td>\n",
              "      <td>1</td>\n",
              "    </tr>\n",
              "    <tr>\n",
              "      <th>4</th>\n",
              "      <td>1.0</td>\n",
              "      <td>1.0</td>\n",
              "      <td>1</td>\n",
              "    </tr>\n",
              "    <tr>\n",
              "      <th>5</th>\n",
              "      <td>1.0</td>\n",
              "      <td>1.0</td>\n",
              "      <td>1</td>\n",
              "    </tr>\n",
              "    <tr>\n",
              "      <th>...</th>\n",
              "      <td>...</td>\n",
              "      <td>...</td>\n",
              "      <td>...</td>\n",
              "    </tr>\n",
              "    <tr>\n",
              "      <th>3603</th>\n",
              "      <td>0.0</td>\n",
              "      <td>1.0</td>\n",
              "      <td>0</td>\n",
              "    </tr>\n",
              "    <tr>\n",
              "      <th>3604</th>\n",
              "      <td>1.0</td>\n",
              "      <td>1.0</td>\n",
              "      <td>1</td>\n",
              "    </tr>\n",
              "    <tr>\n",
              "      <th>3605</th>\n",
              "      <td>0.0</td>\n",
              "      <td>1.0</td>\n",
              "      <td>0</td>\n",
              "    </tr>\n",
              "    <tr>\n",
              "      <th>3606</th>\n",
              "      <td>1.0</td>\n",
              "      <td>1.0</td>\n",
              "      <td>1</td>\n",
              "    </tr>\n",
              "    <tr>\n",
              "      <th>3607</th>\n",
              "      <td>1.0</td>\n",
              "      <td>1.0</td>\n",
              "      <td>1</td>\n",
              "    </tr>\n",
              "  </tbody>\n",
              "</table>\n",
              "<p>48054 rows × 3 columns</p>\n",
              "</div>"
            ],
            "text/plain": [
              "      Result  HomeTeam  HomeWin\n",
              "0        0.0       1.0        0\n",
              "1        0.0       1.0        0\n",
              "2        1.0       1.0        1\n",
              "4        1.0       1.0        1\n",
              "5        1.0       1.0        1\n",
              "...      ...       ...      ...\n",
              "3603     0.0       1.0        0\n",
              "3604     1.0       1.0        1\n",
              "3605     0.0       1.0        0\n",
              "3606     1.0       1.0        1\n",
              "3607     1.0       1.0        1\n",
              "\n",
              "[48054 rows x 3 columns]"
            ]
          },
          "metadata": {
            "tags": []
          },
          "execution_count": 234
        }
      ]
    },
    {
      "cell_type": "markdown",
      "metadata": {
        "id": "PFIlvOmjhThl"
      },
      "source": [
        "Machine learning is a smart alternative to analyzing vast amounts of data. Based on the tasks performed and the nature of the output, you can classify machine learning models into three types:\n",
        "Regression: where the output variable to be predicted is a continuous variable\n",
        "Classification: where the output variable to be predicted is a categorical variable\n",
        "Clustering: where there is no pre-defined notion of a label allocated to the groups/clusters formed.\n",
        "A large number of important problem areas within the realm of classification — an important area of supervised machine learning. And despite the term ‘Regression’ in Logistic Regression — it is, in fact, one of the most basic classification algorithms. Unlike linear regression which outputs continuous number values, logistic regression uses the logistic sigmoid function to transform its output to return a probability value which can then be mapped to two or more discrete classes.\n",
        "Types of Logistic Regression:\n",
        "Binary (true/false, yes/no)\n",
        "Multi-class (sheep, cats, dogs)\n",
        "Ordinal (Job satisfaction level — dissatisfied, satisfied, highly satisfied)\n",
        "\n",
        "Citation: https://towardsdatascience.com/multivariate-logistic-regression-in-python-7c6255a286ec\n"
      ]
    },
    {
      "cell_type": "code",
      "metadata": {
        "id": "LBAPoNXWf18I",
        "colab": {
          "base_uri": "https://localhost:8080/",
          "height": 137
        },
        "outputId": "195c7c98-b688-4393-e4e7-b63be02a8922"
      },
      "source": [
        "'''\n",
        "Mariners[\"HomeWin\"] = Mariners[\"Result\"] == 1.0\n",
        "Pirates[\"HomeWin\"] = Pirates[\"Result\"] == 1.0\n",
        "Reds[\"HomeWin\"] = Reds[\"Result\"] == 1.0\n",
        "WhiteSox[\"HomeWin\"] = WhiteSox[\"Result\"] == 1.0\n",
        "Royals[\"HomeWin\"] = Royals[\"Result\"] == 1.0\n",
        "DBacks[\"HomeWin\"] = DBacks[\"Result\"] == 1.0\n",
        "Dodgers[\"HomeWin\"] = Dodgers[\"Result\"] == 1.0\n",
        "Rockies[\"HomeWin\"] = Rockies[\"Result\"] == 1.0\n",
        "Cardinals[\"HomeWin\"] = Cardinals[\"Result\"] == 1.0\n",
        "Brewers[\"HomeWin\"] = Brewers[\"Result\"] == 1.0\n",
        "Indians[\"HomeWin\"] = Indians[\"Result\"] == 1.0\n",
        "Nationals[\"HomeWin\"] = Nationals[\"Result\"] == 1.0\n",
        "Rangers[\"HomeWin\"] = Rangers[\"Result\"] == 1.0\n",
        "Marlins[\"HomeWin\"] = Marlins[\"Result\"] == 1.0\n",
        "BlueJays[\"HomeWin\"] = BlueJays[\"Result\"] == 1.0\n",
        "Rays[\"HomeWin\"] = Rays[\"Result\"] == 1.0\n",
        "Mets[\"HomeWin\"] = Mets[\"Result\"] == 1.0\n",
        "Tigers[\"HomeWin\"] = Tigers[\"Result\"] == 1.0\n",
        "Cubs[\"HomeWin\"] = Cubs[\"Result\"] == 1.0\n",
        "Astros[\"HomeWin\"] = Astros[\"Result\"] == 1.0\n",
        "RedSox[\"HomeWin\"] = RedSox[\"Result\"] == 1.0\n",
        "Padres[\"HomeWin\"] = Padres[\"Result\"] == 1.0\n",
        "Giants[\"HomeWin\"] = Giants[\"Result\"] == 1.0\n",
        "Twins[\"HomeWin\"] = Twins[\"Result\"] == 1.0\n",
        "Orioles[\"HomeWin\"] = Orioles[\"Result\"] == 1.0\n",
        "Yankees[\"HomeWin\"] = Yankees[\"Result\"] == 1.0\n",
        "Angels[\"HomeWin\"] = Angels[\"Result\"] == 1.0\n",
        "Athletics[\"HomeWin\"] = Athletics[\"Result\"] == 1.0\n",
        "Phillies[\"HomeWin\"] = Phillies[\"Result\"] == 1.0\n",
        "Braves[\"HomeWin\"] = Braves[\"Result\"] == 1.0\n",
        "'''"
      ],
      "execution_count": 235,
      "outputs": [
        {
          "output_type": "execute_result",
          "data": {
            "application/vnd.google.colaboratory.intrinsic+json": {
              "type": "string"
            },
            "text/plain": [
              "'\\nMariners[\"HomeWin\"] = Mariners[\"Result\"] == 1.0\\nPirates[\"HomeWin\"] = Pirates[\"Result\"] == 1.0\\nReds[\"HomeWin\"] = Reds[\"Result\"] == 1.0\\nWhiteSox[\"HomeWin\"] = WhiteSox[\"Result\"] == 1.0\\nRoyals[\"HomeWin\"] = Royals[\"Result\"] == 1.0\\nDBacks[\"HomeWin\"] = DBacks[\"Result\"] == 1.0\\nDodgers[\"HomeWin\"] = Dodgers[\"Result\"] == 1.0\\nRockies[\"HomeWin\"] = Rockies[\"Result\"] == 1.0\\nCardinals[\"HomeWin\"] = Cardinals[\"Result\"] == 1.0\\nBrewers[\"HomeWin\"] = Brewers[\"Result\"] == 1.0\\nIndians[\"HomeWin\"] = Indians[\"Result\"] == 1.0\\nNationals[\"HomeWin\"] = Nationals[\"Result\"] == 1.0\\nRangers[\"HomeWin\"] = Rangers[\"Result\"] == 1.0\\nMarlins[\"HomeWin\"] = Marlins[\"Result\"] == 1.0\\nBlueJays[\"HomeWin\"] = BlueJays[\"Result\"] == 1.0\\nRays[\"HomeWin\"] = Rays[\"Result\"] == 1.0\\nMets[\"HomeWin\"] = Mets[\"Result\"] == 1.0\\nTigers[\"HomeWin\"] = Tigers[\"Result\"] == 1.0\\nCubs[\"HomeWin\"] = Cubs[\"Result\"] == 1.0\\nAstros[\"HomeWin\"] = Astros[\"Result\"] == 1.0\\nRedSox[\"HomeWin\"] = RedSox[\"Result\"] == 1.0\\nPadres[\"HomeWin\"] = Padres[\"Result\"] == 1.0\\nGiants[\"HomeWin\"] = Giants[\"Result\"] == 1.0\\nTwins[\"HomeWin\"] = Twins[\"Result\"] == 1.0\\nOrioles[\"HomeWin\"] = Orioles[\"Result\"] == 1.0\\nYankees[\"HomeWin\"] = Yankees[\"Result\"] == 1.0\\nAngels[\"HomeWin\"] = Angels[\"Result\"] == 1.0\\nAthletics[\"HomeWin\"] = Athletics[\"Result\"] == 1.0\\nPhillies[\"HomeWin\"] = Phillies[\"Result\"] == 1.0\\nBraves[\"HomeWin\"] = Braves[\"Result\"] == 1.0\\n'"
            ]
          },
          "metadata": {
            "tags": []
          },
          "execution_count": 235
        }
      ]
    },
    {
      "cell_type": "code",
      "metadata": {
        "colab": {
          "base_uri": "https://localhost:8080/"
        },
        "id": "K6S8gj8Rb1F_",
        "outputId": "4b55c7de-8db7-486e-8c80-e7d95ed1f808"
      },
      "source": [
        "n_games = df_Reds[\"HomeWin\"].count()\n",
        "n_games"
      ],
      "execution_count": 236,
      "outputs": [
        {
          "output_type": "execute_result",
          "data": {
            "text/plain": [
              "1604"
            ]
          },
          "metadata": {
            "tags": []
          },
          "execution_count": 236
        }
      ]
    },
    {
      "cell_type": "code",
      "metadata": {
        "colab": {
          "base_uri": "https://localhost:8080/"
        },
        "id": "yUwjbJgPcAoZ",
        "outputId": "6a76a557-aa91-4c13-bbc3-df567624858a"
      },
      "source": [
        "n_homewins = df_Reds[\"HomeWin\"].sum()\n",
        "n_homewins"
      ],
      "execution_count": 237,
      "outputs": [
        {
          "output_type": "execute_result",
          "data": {
            "text/plain": [
              "0"
            ]
          },
          "metadata": {
            "tags": []
          },
          "execution_count": 237
        }
      ]
    },
    {
      "cell_type": "code",
      "metadata": {
        "colab": {
          "base_uri": "https://localhost:8080/"
        },
        "id": "R_tu1L4mbfc4",
        "outputId": "ba982b2f-09a7-4184-a91e-8d51689ed449"
      },
      "source": [
        "#Create the baseline: Home Teams win games more frequently--this is true in most sports!\n",
        "Angels_games = df_Angels[\"HomeWin\"].count()\n",
        "Angels_homewins = df_Angels[\"HomeWin\"].sum()\n",
        "win_percentage = Angels_homewins / Angels_games\n",
        "\n",
        "print (\"Angels Home Win Percentage: {0:.1f}%\".format(100 * win_percentage))"
      ],
      "execution_count": 238,
      "outputs": [
        {
          "output_type": "stream",
          "text": [
            "Angels Home Win Percentage: 56.3%\n"
          ],
          "name": "stdout"
        }
      ]
    },
    {
      "cell_type": "code",
      "metadata": {
        "colab": {
          "base_uri": "https://localhost:8080/"
        },
        "id": "M5k_-PrCfmGO",
        "outputId": "20a1c83c-d19e-487f-83a3-687541b1bee4"
      },
      "source": [
        "#Create the baseline: Home Teams win games more frequently--this is true in most sports!\n",
        "Astros_games = df_Astros[\"HomeWin\"].count()\n",
        "Astros_homewins = df_Astros[\"HomeWin\"].sum()\n",
        "win_percentage = Astros_homewins / Astros_games\n",
        "\n",
        "print (\"Astros Home Win Percentage: {0:.1f}%\".format(100 * win_percentage))"
      ],
      "execution_count": 239,
      "outputs": [
        {
          "output_type": "stream",
          "text": [
            "Astros Home Win Percentage: 54.1%\n"
          ],
          "name": "stdout"
        }
      ]
    },
    {
      "cell_type": "code",
      "metadata": {
        "colab": {
          "base_uri": "https://localhost:8080/"
        },
        "id": "x3PqxFXz9gCE",
        "outputId": "e589bee8-0e2f-4c3a-aecc-ad667383e2e0"
      },
      "source": [
        "#Create the baseline: Home Teams win games more frequently--this is true in most sports!\n",
        "Athletics_games = df_Athletics[\"HomeWin\"].count()\n",
        "Athletics_homewins = df_Athletics[\"HomeWin\"].sum()\n",
        "win_percentage = Athletics_homewins / Athletics_games\n",
        "\n",
        "print (\"Athletics Home Win Percentage: {0:.1f}%\".format(100 * win_percentage))"
      ],
      "execution_count": 240,
      "outputs": [
        {
          "output_type": "stream",
          "text": [
            "Athletics Home Win Percentage: 0.0%\n"
          ],
          "name": "stdout"
        }
      ]
    },
    {
      "cell_type": "code",
      "metadata": {
        "colab": {
          "base_uri": "https://localhost:8080/"
        },
        "id": "JkTOztDwFrEz",
        "outputId": "83672910-fd5b-4cac-c5fc-6d8735d516d4"
      },
      "source": [
        "#Create the baseline: Home Teams win games more frequently--this is true in most sports!\n",
        "BlueJays_games = df_BlueJays[\"HomeWin\"].count()\n",
        "BlueJays_homewins = df_BlueJays[\"HomeWin\"].sum()\n",
        "win_percentage = BlueJays_homewins / BlueJays_games\n",
        "\n",
        "print (\"BlueJays Home Win Percentage: {0:.1f}%\".format(100 * win_percentage))"
      ],
      "execution_count": 241,
      "outputs": [
        {
          "output_type": "stream",
          "text": [
            "BlueJays Home Win Percentage: 53.8%\n"
          ],
          "name": "stdout"
        }
      ]
    },
    {
      "cell_type": "code",
      "metadata": {
        "colab": {
          "base_uri": "https://localhost:8080/"
        },
        "id": "qwyeVf-jG736",
        "outputId": "c7181621-6284-449c-9fa9-a08e25aa6b36"
      },
      "source": [
        "#Create the baseline: Home Teams win games more frequently--this is true in most sports!\n",
        "Braves_games = df_Braves[\"HomeWin\"].count()\n",
        "Braves_homewins = df_Braves[\"HomeWin\"].sum()\n",
        "win_percentage = Braves_homewins / Braves_games\n",
        "\n",
        "print (\"Braves Home Win Percentage: {0:.1f}%\".format(100 * win_percentage))"
      ],
      "execution_count": 242,
      "outputs": [
        {
          "output_type": "stream",
          "text": [
            "Braves Home Win Percentage: 56.9%\n"
          ],
          "name": "stdout"
        }
      ]
    },
    {
      "cell_type": "code",
      "metadata": {
        "colab": {
          "base_uri": "https://localhost:8080/"
        },
        "id": "0iWvaucaIM0t",
        "outputId": "96119e63-79f6-4f88-8bc8-6be399159dcb"
      },
      "source": [
        "#Create the baseline: Home Teams win games more frequently--this is true in most sports!\n",
        "Brewers_games = df_Brewers[\"HomeWin\"].count()\n",
        "Brewers_homewins = df_Brewers[\"HomeWin\"].sum()\n",
        "win_percentage = Brewers_homewins / Brewers_games\n",
        "\n",
        "print (\"Brewers Home Win Percentage: {0:.1f}%\".format(100 * win_percentage))"
      ],
      "execution_count": 243,
      "outputs": [
        {
          "output_type": "stream",
          "text": [
            "Brewers Home Win Percentage: 52.7%\n"
          ],
          "name": "stdout"
        }
      ]
    },
    {
      "cell_type": "code",
      "metadata": {
        "colab": {
          "base_uri": "https://localhost:8080/"
        },
        "id": "fD-RJajDJgcF",
        "outputId": "9083a6d2-5b98-4fdb-d0a6-4704fa5284b4"
      },
      "source": [
        "#Create the baseline: Home Teams win games more frequently--this is true in most sports!\n",
        "Cardinals_games = df_Cardinals[\"HomeWin\"].count()\n",
        "Cardinals_homewins = df_Cardinals[\"HomeWin\"].sum()\n",
        "win_percentage = Cardinals_homewins / Cardinals_games\n",
        "\n",
        "print (\"Cardinals Home Win Percentage: {0:.1f}%\".format(100 * win_percentage))"
      ],
      "execution_count": 244,
      "outputs": [
        {
          "output_type": "stream",
          "text": [
            "Cardinals Home Win Percentage: 59.9%\n"
          ],
          "name": "stdout"
        }
      ]
    },
    {
      "cell_type": "code",
      "metadata": {
        "colab": {
          "base_uri": "https://localhost:8080/"
        },
        "id": "aqUlzzypKrCV",
        "outputId": "8207374c-2669-4758-849d-4a320b888207"
      },
      "source": [
        "#Create the baseline: Home Teams win games more frequently--this is true in most sports!\n",
        "Cubs_games = df_Cubs[\"HomeWin\"].count()\n",
        "Cubs_homewins = df_Cubs[\"HomeWin\"].sum()\n",
        "win_percentage = Cubs_homewins / Cubs_games\n",
        "\n",
        "print (\"Cubs Home Win Percentage: {0:.1f}%\".format(100 * win_percentage))"
      ],
      "execution_count": 245,
      "outputs": [
        {
          "output_type": "stream",
          "text": [
            "Cubs Home Win Percentage: 53.8%\n"
          ],
          "name": "stdout"
        }
      ]
    },
    {
      "cell_type": "code",
      "metadata": {
        "colab": {
          "base_uri": "https://localhost:8080/"
        },
        "id": "bOrSJDo7MBZB",
        "outputId": "571dbee8-35b4-4fe5-c8c5-17d578aea176"
      },
      "source": [
        "#Create the baseline: Home Teams win games more frequently--this is true in most sports!\n",
        "DBacks_games = df_DBacks[\"HomeWin\"].count()\n",
        "DBacks_homewins = df_DBacks[\"HomeWin\"].sum()\n",
        "win_percentage = DBacks_homewins / DBacks_games\n",
        "\n",
        "print (\"Diamondbacks Home Win Percentage: {0:.1f}%\".format(100 * win_percentage))"
      ],
      "execution_count": 246,
      "outputs": [
        {
          "output_type": "stream",
          "text": [
            "Diamondbacks Home Win Percentage: 52.5%\n"
          ],
          "name": "stdout"
        }
      ]
    },
    {
      "cell_type": "code",
      "metadata": {
        "colab": {
          "base_uri": "https://localhost:8080/"
        },
        "id": "yuz8WFDjNELi",
        "outputId": "cfa8d00d-d989-4a3d-e148-1e6dcf533793"
      },
      "source": [
        "#Create the baseline: Home Teams win games more frequently--this is true in most sports!\n",
        "Dodgers_games = df_Dodgers[\"HomeWin\"].count()\n",
        "Dodgers_homewins = df_Dodgers[\"HomeWin\"].sum()\n",
        "win_percentage = Dodgers_homewins / Dodgers_games\n",
        "\n",
        "print (\"Dodgers Home Win Percentage: {0:.1f}%\".format(100 * win_percentage))"
      ],
      "execution_count": 247,
      "outputs": [
        {
          "output_type": "stream",
          "text": [
            "Dodgers Home Win Percentage: 58.7%\n"
          ],
          "name": "stdout"
        }
      ]
    },
    {
      "cell_type": "code",
      "metadata": {
        "colab": {
          "base_uri": "https://localhost:8080/"
        },
        "id": "y2F1QV3WN69j",
        "outputId": "066a17d0-f9bb-44b0-baea-836838e42f06"
      },
      "source": [
        "#Create the baseline: Home Teams win games more frequently--this is true in most sports!\n",
        "Giants_games = df_Giants[\"HomeWin\"].count()\n",
        "Giants_homewins = df_Giants[\"HomeWin\"].sum()\n",
        "win_percentage = Giants_homewins / Giants_games\n",
        "\n",
        "print (\"Giants Home Win Percentage: {0:.1f}%\".format(100 * win_percentage))"
      ],
      "execution_count": 248,
      "outputs": [
        {
          "output_type": "stream",
          "text": [
            "Giants Home Win Percentage: 55.5%\n"
          ],
          "name": "stdout"
        }
      ]
    },
    {
      "cell_type": "code",
      "metadata": {
        "colab": {
          "base_uri": "https://localhost:8080/"
        },
        "id": "lrYTY6j9Pywa",
        "outputId": "29a3f2c0-7f3a-43aa-a399-4bc68e4277be"
      },
      "source": [
        "#Create the baseline: Home Teams win games more frequently--this is true in most sports!\n",
        "Indians_games = df_Indians[\"HomeWin\"].count()\n",
        "Indians_homewins = df_Indians[\"HomeWin\"].sum()\n",
        "win_percentage = Indians_homewins / Indians_games\n",
        "\n",
        "print (\"Indians Home Win Percentage: {0:.1f}%\".format(100 * win_percentage))"
      ],
      "execution_count": 249,
      "outputs": [
        {
          "output_type": "stream",
          "text": [
            "Indians Home Win Percentage: 55.0%\n"
          ],
          "name": "stdout"
        }
      ]
    },
    {
      "cell_type": "code",
      "metadata": {
        "colab": {
          "base_uri": "https://localhost:8080/"
        },
        "id": "G0RSo9A6RAGV",
        "outputId": "19851cea-2278-4cbe-e511-5cf1c38e6dce"
      },
      "source": [
        "#Create the baseline: Home Teams win games more frequently--this is true in most sports!\n",
        "Mariners_games = df_Mariners[\"HomeWin\"].count()\n",
        "Mariners_homewins = df_Mariners[\"HomeWin\"].sum()\n",
        "win_percentage = Mariners_homewins / Mariners_games\n",
        "\n",
        "print (\"Mariners Home Win Percentage: {0:.1f}%\".format(100 * win_percentage))"
      ],
      "execution_count": 250,
      "outputs": [
        {
          "output_type": "stream",
          "text": [
            "Mariners Home Win Percentage: 52.0%\n"
          ],
          "name": "stdout"
        }
      ]
    },
    {
      "cell_type": "code",
      "metadata": {
        "colab": {
          "base_uri": "https://localhost:8080/"
        },
        "id": "Pvu_Jo1pSDGP",
        "outputId": "626a0d28-a8de-42e6-ae3b-a2c995221a4f"
      },
      "source": [
        "#Create the baseline: Home Teams win games more frequently--this is true in most sports!\n",
        "Marlins_games = df_Marlins[\"HomeWin\"].count()\n",
        "Marlins_homewins = df_Marlins[\"HomeWin\"].sum()\n",
        "win_percentage = Marlins_homewins / Marlins_games\n",
        "\n",
        "print (\"Marlins Home Win Percentage: {0:.1f}%\".format(100 * win_percentage))"
      ],
      "execution_count": 251,
      "outputs": [
        {
          "output_type": "stream",
          "text": [
            "Marlins Home Win Percentage: 50.9%\n"
          ],
          "name": "stdout"
        }
      ]
    },
    {
      "cell_type": "code",
      "metadata": {
        "colab": {
          "base_uri": "https://localhost:8080/"
        },
        "id": "eO4VfXJ7Sho_",
        "outputId": "3a75a45b-99b3-4d78-b882-78be908be33b"
      },
      "source": [
        "#Create the baseline: Home Teams win games more frequently--this is true in most sports!\n",
        "Mets_games = df_Mets[\"HomeWin\"].count()\n",
        "Mets_homewins = df_Mets[\"HomeWin\"].sum()\n",
        "win_percentage = Mets_homewins / Mets_games\n",
        "\n",
        "print (\"Mets Home Win Percentage: {0:.1f}%\".format(100 * win_percentage))"
      ],
      "execution_count": 252,
      "outputs": [
        {
          "output_type": "stream",
          "text": [
            "Mets Home Win Percentage: 52.0%\n"
          ],
          "name": "stdout"
        }
      ]
    },
    {
      "cell_type": "code",
      "metadata": {
        "colab": {
          "base_uri": "https://localhost:8080/"
        },
        "id": "blQyZ4O8Tl22",
        "outputId": "a0cc261c-2e59-46e6-e04e-01c21543f89b"
      },
      "source": [
        "#Create the baseline: Home Teams win games more frequently--this is true in most sports!\n",
        "Nationals_games = df_Nationals[\"HomeWin\"].count()\n",
        "Nationals_homewins = df_Nationals[\"HomeWin\"].sum()\n",
        "win_percentage = Nationals_homewins / Nationals_games\n",
        "\n",
        "print (\"Nationals Home Win Percentage: {0:.1f}%\".format(100 * win_percentage))"
      ],
      "execution_count": 253,
      "outputs": [
        {
          "output_type": "stream",
          "text": [
            "Nationals Home Win Percentage: 53.1%\n"
          ],
          "name": "stdout"
        }
      ]
    },
    {
      "cell_type": "code",
      "metadata": {
        "colab": {
          "base_uri": "https://localhost:8080/"
        },
        "id": "3Zs7XL73UZM7",
        "outputId": "d98be831-ec70-4d16-d896-40db836e2435"
      },
      "source": [
        "#Create the baseline: Home Teams win games more frequently--this is true in most sports!\n",
        "Orioles_games = df_Orioles[\"HomeWin\"].count()\n",
        "Orioles_homewins = df_Orioles[\"HomeWin\"].sum()\n",
        "win_percentage = Orioles_homewins / Orioles_games\n",
        "\n",
        "print (\"Orioles Home Win Percentage: {0:.1f}%\".format(100 * win_percentage))"
      ],
      "execution_count": 254,
      "outputs": [
        {
          "output_type": "stream",
          "text": [
            "Orioles Home Win Percentage: 48.7%\n"
          ],
          "name": "stdout"
        }
      ]
    },
    {
      "cell_type": "code",
      "metadata": {
        "colab": {
          "base_uri": "https://localhost:8080/"
        },
        "id": "qY2-yWCoVeCs",
        "outputId": "91f2660c-a94c-41c2-e93f-9885945c3840"
      },
      "source": [
        "#Create the baseline: Home Teams win games more frequently--this is true in most sports!\n",
        "Padres_games = df_Padres[\"HomeWin\"].count()\n",
        "Padres_homewins = df_Padres[\"HomeWin\"].sum()\n",
        "win_percentage = Padres_homewins / Padres_games\n",
        "\n",
        "print (\"Padres Home Win Percentage: {0:.1f}%\".format(100 * win_percentage))"
      ],
      "execution_count": 255,
      "outputs": [
        {
          "output_type": "stream",
          "text": [
            "Padres Home Win Percentage: 50.0%\n"
          ],
          "name": "stdout"
        }
      ]
    },
    {
      "cell_type": "code",
      "metadata": {
        "colab": {
          "base_uri": "https://localhost:8080/"
        },
        "id": "mRt5LByhWTEy",
        "outputId": "b857bb22-73dd-42aa-f2f7-a63298356b44"
      },
      "source": [
        "#Create the baseline: Home Teams win games more frequently--this is true in most sports!\n",
        "Phillies_games = df_Phillies[\"HomeWin\"].count()\n",
        "Phillies_homewins = df_Phillies[\"HomeWin\"].sum()\n",
        "win_percentage = Phillies_homewins / Phillies_games\n",
        "\n",
        "print (\"Phillies Home Win Percentage: {0:.1f}%\".format(100 * win_percentage))"
      ],
      "execution_count": 256,
      "outputs": [
        {
          "output_type": "stream",
          "text": [
            "Phillies Home Win Percentage: 53.7%\n"
          ],
          "name": "stdout"
        }
      ]
    },
    {
      "cell_type": "code",
      "metadata": {
        "colab": {
          "base_uri": "https://localhost:8080/"
        },
        "id": "66jK3RebXWlz",
        "outputId": "df9b48c9-5e42-4c34-e78c-cecd38e4e497"
      },
      "source": [
        "#Create the baseline: Home Teams win games more frequently--this is true in most sports!\n",
        "Pirates_games = df_Pirates[\"HomeWin\"].count()\n",
        "Pirates_homewins = df_Pirates[\"HomeWin\"].sum()\n",
        "win_percentage = Pirates_homewins / Pirates_games\n",
        "\n",
        "print (\"Pirates Home Win Percentage: {0:.1f}%\".format(100 * win_percentage))"
      ],
      "execution_count": 257,
      "outputs": [
        {
          "output_type": "stream",
          "text": [
            "Pirates Home Win Percentage: 50.7%\n"
          ],
          "name": "stdout"
        }
      ]
    },
    {
      "cell_type": "code",
      "metadata": {
        "colab": {
          "base_uri": "https://localhost:8080/"
        },
        "id": "SSNwHE0UYEL0",
        "outputId": "d69bd391-4083-42c8-f388-15b0c60aab2d"
      },
      "source": [
        "#Create the baseline: Home Teams win games more frequently--this is true in most sports!\n",
        "Rangers_games = df_Rangers[\"HomeWin\"].count()\n",
        "Rangers_homewins = df_Rangers[\"HomeWin\"].sum()\n",
        "win_percentage = Rangers_homewins / Rangers_games\n",
        "\n",
        "print (\"Rangers Home Win Percentage: {0:.1f}%\".format(100 * win_percentage))"
      ],
      "execution_count": 258,
      "outputs": [
        {
          "output_type": "stream",
          "text": [
            "Rangers Home Win Percentage: 54.3%\n"
          ],
          "name": "stdout"
        }
      ]
    },
    {
      "cell_type": "code",
      "metadata": {
        "colab": {
          "base_uri": "https://localhost:8080/"
        },
        "id": "UL8aO2efgmEL",
        "outputId": "cba35fc9-2d0d-4da1-a107-a429933ed5e2"
      },
      "source": [
        "#Create the baseline: Home Teams win games more frequently--this is true in most sports!\n",
        "Rays_games = df_Rays[\"HomeWin\"].count()\n",
        "Rays_homewins = df_Rays[\"HomeWin\"].sum()\n",
        "win_percentage = Rays_homewins / Rays_games\n",
        "\n",
        "print (\"Rays Home Win Percentage: {0:.1f}%\".format(100 * win_percentage))"
      ],
      "execution_count": 259,
      "outputs": [
        {
          "output_type": "stream",
          "text": [
            "Rays Home Win Percentage: 52.7%\n"
          ],
          "name": "stdout"
        }
      ]
    },
    {
      "cell_type": "code",
      "metadata": {
        "colab": {
          "base_uri": "https://localhost:8080/"
        },
        "id": "sF0kh1spjOo0",
        "outputId": "546472bd-4b99-4127-b618-bbf36fc41e13"
      },
      "source": [
        "#Create the baseline: Home Teams win games more frequently--this is true in most sports!\n",
        "Reds_games = df_Reds[\"HomeWin\"].count()\n",
        "Reds_homewins = df_Reds[\"HomeWin\"].sum()\n",
        "win_percentage = Reds_homewins / Reds_games\n",
        "\n",
        "print (\"Reds Home Win Percentage: {0:.1f}%\".format(100 * win_percentage))"
      ],
      "execution_count": 260,
      "outputs": [
        {
          "output_type": "stream",
          "text": [
            "Reds Home Win Percentage: 0.0%\n"
          ],
          "name": "stdout"
        }
      ]
    },
    {
      "cell_type": "code",
      "metadata": {
        "colab": {
          "base_uri": "https://localhost:8080/"
        },
        "id": "xpOGd8YSkChM",
        "outputId": "5c113c6b-dc94-46b8-feeb-00a37c36e8a0"
      },
      "source": [
        "#Create the baseline: Home Teams win games more frequently--this is true in most sports!\n",
        "RedSox_games = df_RedSox[\"HomeWin\"].count()\n",
        "RedSox_homewins = df_RedSox[\"HomeWin\"].sum()\n",
        "win_percentage = RedSox_homewins / RedSox_games\n",
        "\n",
        "print (\"RedSox Home Win Percentage: {0:.1f}%\".format(100 * win_percentage))"
      ],
      "execution_count": 261,
      "outputs": [
        {
          "output_type": "stream",
          "text": [
            "RedSox Home Win Percentage: 0.0%\n"
          ],
          "name": "stdout"
        }
      ]
    },
    {
      "cell_type": "code",
      "metadata": {
        "colab": {
          "base_uri": "https://localhost:8080/"
        },
        "id": "AmG6j9wnlP8z",
        "outputId": "fab6c9aa-7d92-4211-dfbb-2049eeeadee6"
      },
      "source": [
        "#Create the baseline: Home Teams win games more frequently--this is true in most sports!\n",
        "Rockies_games = df_Rockies[\"HomeWin\"].count()\n",
        "Rockies_homewins = df_Rockies[\"HomeWin\"].sum()\n",
        "win_percentage = Rockies_homewins / Rockies_games\n",
        "\n",
        "print (\"Rockies Home Win Percentage: {0:.1f}%\".format(100 * win_percentage))"
      ],
      "execution_count": 262,
      "outputs": [
        {
          "output_type": "stream",
          "text": [
            "Rockies Home Win Percentage: 54.5%\n"
          ],
          "name": "stdout"
        }
      ]
    },
    {
      "cell_type": "code",
      "metadata": {
        "colab": {
          "base_uri": "https://localhost:8080/"
        },
        "id": "o1ON2h26l8r-",
        "outputId": "f0435291-4a81-409d-aeaa-1da136dcd626"
      },
      "source": [
        "#Create the baseline: Home Teams win games more frequently--this is true in most sports!\n",
        "Royals_games = df_Royals[\"HomeWin\"].count()\n",
        "Royals_homewins = df_Royals[\"HomeWin\"].sum()\n",
        "win_percentage = Royals_homewins / Royals_games\n",
        "\n",
        "print (\"Royals Home Win Percentage: {0:.1f}%\".format(100 * win_percentage))"
      ],
      "execution_count": 263,
      "outputs": [
        {
          "output_type": "stream",
          "text": [
            "Royals Home Win Percentage: 47.5%\n"
          ],
          "name": "stdout"
        }
      ]
    },
    {
      "cell_type": "code",
      "metadata": {
        "colab": {
          "base_uri": "https://localhost:8080/"
        },
        "id": "gzkWEkpbmseF",
        "outputId": "4ecb52cf-5a70-4bb9-e855-e8232fe938d0"
      },
      "source": [
        "#Create the baseline: Home Teams win games more frequently--this is true in most sports!\n",
        "Tigers_games = df_Tigers[\"HomeWin\"].count()\n",
        "Tigers_homewins = df_Tigers[\"HomeWin\"].sum()\n",
        "win_percentage = Tigers_homewins / Tigers_games\n",
        "\n",
        "print (\"Tigers Home Win Percentage: {0:.1f}%\".format(100 * win_percentage))"
      ],
      "execution_count": 264,
      "outputs": [
        {
          "output_type": "stream",
          "text": [
            "Tigers Home Win Percentage: 50.6%\n"
          ],
          "name": "stdout"
        }
      ]
    },
    {
      "cell_type": "code",
      "metadata": {
        "colab": {
          "base_uri": "https://localhost:8080/"
        },
        "id": "noIwWDlDnY_V",
        "outputId": "369bb18d-a9cb-451f-deb1-8225b27f2fa2"
      },
      "source": [
        "#Create the baseline: Home Teams win games more frequently--this is true in most sports!\n",
        "Twins_games = df_Twins[\"HomeWin\"].count()\n",
        "Twins_homewins = df_Twins[\"HomeWin\"].sum()\n",
        "win_percentage = Twins_homewins / Twins_games\n",
        "\n",
        "print (\"Twins Home Win Percentage: {0:.1f}%\".format(100 * win_percentage))"
      ],
      "execution_count": 265,
      "outputs": [
        {
          "output_type": "stream",
          "text": [
            "Twins Home Win Percentage: 53.9%\n"
          ],
          "name": "stdout"
        }
      ]
    },
    {
      "cell_type": "code",
      "metadata": {
        "colab": {
          "base_uri": "https://localhost:8080/"
        },
        "id": "t2j_TWLhoYhZ",
        "outputId": "493acc6c-040a-4388-f613-ccc579de2692"
      },
      "source": [
        "#Create the baseline: Home Teams win games more frequently--this is true in most sports!\n",
        "WhiteSox_games = df_WhiteSox[\"HomeWin\"].count()\n",
        "WhiteSox_homewins = df_WhiteSox[\"HomeWin\"].sum()\n",
        "win_percentage = WhiteSox_homewins / WhiteSox_games\n",
        "\n",
        "print (\"WhiteSox Home Win Percentage: {0:.1f}%\".format(100 * win_percentage))"
      ],
      "execution_count": 266,
      "outputs": [
        {
          "output_type": "stream",
          "text": [
            "WhiteSox Home Win Percentage: 53.4%\n"
          ],
          "name": "stdout"
        }
      ]
    },
    {
      "cell_type": "code",
      "metadata": {
        "colab": {
          "base_uri": "https://localhost:8080/"
        },
        "id": "G1NxHO5apDBv",
        "outputId": "08ca2d73-bf10-4c69-e746-b4ef94f9055d"
      },
      "source": [
        "#Create the baseline: Home Teams win games more frequently--this is true in most sports!\n",
        "Yankees_games = df_Yankees[\"HomeWin\"].count()\n",
        "Yankees_homewins = df_Yankees[\"HomeWin\"].sum()\n",
        "win_percentage = Yankees_homewins / Yankees_games\n",
        "\n",
        "print (\"Yankees Home Win Percentage: {0:.1f}%\".format(100 * win_percentage))"
      ],
      "execution_count": 267,
      "outputs": [
        {
          "output_type": "stream",
          "text": [
            "Yankees Home Win Percentage: 62.5%\n"
          ],
          "name": "stdout"
        }
      ]
    },
    {
      "cell_type": "code",
      "metadata": {
        "id": "lC_b8RGsmRIH"
      },
      "source": [
        "from sklearn.metrics import f1_score, make_scorer, classification_report\n",
        "\n",
        "scorer = make_scorer(f1_score, pos_label=None, average='weighted')"
      ],
      "execution_count": 268,
      "outputs": []
    },
    {
      "cell_type": "code",
      "metadata": {
        "id": "LRMdLjwhG8IX"
      },
      "source": [
        "#My class values for each MLB Team\n",
        "y_true_Angels = df_Angels[\"HomeWin\"].values\n",
        "y_true_Astros = df_Astros[\"HomeWin\"].values\n",
        "y_true_Athletics = df_Athletics[\"HomeWin\"].values\n",
        "y_true_BlueJays = df_BlueJays[\"HomeWin\"].values\n",
        "y_true_Braves = df_Braves[\"HomeWin\"].values\n",
        "y_true_Brewers = df_Brewers[\"HomeWin\"].values\n",
        "y_true_Cardinals = df_Cardinals[\"HomeWin\"].values\n",
        "y_true_Cubs = df_Cubs[\"HomeWin\"].values\n",
        "y_true_DBacks = df_DBacks[\"HomeWin\"].values\n",
        "y_true_Dodgers = df_Dodgers[\"HomeWin\"].values\n",
        "y_true_Giants = df_Giants[\"HomeWin\"].values\n",
        "y_true_Indians = df_Indians[\"HomeWin\"].values\n",
        "y_true_Mariners = df_Mariners[\"HomeWin\"].values\n",
        "y_true_Marlins = df_Marlins[\"HomeWin\"].values\n",
        "y_true_Mets = df_Mets[\"HomeWin\"].values\n",
        "y_true_Nationals = df_Nationals[\"HomeWin\"].values\n",
        "y_true_Orioles = df_Orioles[\"HomeWin\"].values\n",
        "y_true_Padres = df_Padres[\"HomeWin\"].values\n",
        "y_true_Phillies = df_Phillies[\"HomeWin\"].values\n",
        "y_true_Pirates = df_Pirates[\"HomeWin\"].values\n",
        "y_true_Rangers = df_Rangers[\"HomeWin\"].values\n",
        "y_true_Rays = df_Rays[\"HomeWin\"].values\n",
        "y_true_RedSox = df_RedSox[\"HomeWin\"].values\n",
        "y_true_Reds = df_Reds[\"HomeWin\"].values\n",
        "y_true_Rockies = df_Rockies[\"HomeWin\"].values\n",
        "y_true_Royals = df_Royals[\"HomeWin\"].values\n",
        "y_true_Tigers = df_Tigers[\"HomeWin\"].values\n",
        "y_true_Twins = df_Twins[\"HomeWin\"].values\n",
        "y_true_WhiteSox = df_WhiteSox[\"HomeWin\"].values\n",
        "y_true_Yankees = df_Yankees[\"HomeWin\"].values"
      ],
      "execution_count": 269,
      "outputs": []
    },
    {
      "cell_type": "code",
      "metadata": {
        "colab": {
          "base_uri": "https://localhost:8080/"
        },
        "id": "z_eLzc9ilu8n",
        "outputId": "30e25482-6824-4902-f6d6-e84d55b48b0c"
      },
      "source": [
        "#Create a \"basic\" classifer\n",
        "y_pred = [1] * len(y_true_Angels)\n",
        "print (\"Angels \" \"F1: {:.4f}\".format(f1_score(y_true_Angels, y_pred, pos_label=None, average='weighted')))\n",
        "print (\"This is not very good we must do better!!!\")\n",
        "print(\" \")\n",
        "\n",
        "#Create a \"basic\" classifer\n",
        "y_pred = [1] * len(y_true_Astros)\n",
        "print (\"Astros \" \"F1: {:.4f}\".format(f1_score(y_true_Astros, y_pred, pos_label=None, average='weighted')))\n",
        "print (\"This is not very good we must do better!!!\")\n",
        "print(\" \")\n",
        "\n",
        "#Create a \"basic\" classifer\n",
        "y_pred = [1] * len(y_true_Athletics)\n",
        "print (\"Athletics \" \"F1: {:.4f}\".format(f1_score(y_true_Athletics, y_pred, pos_label=None, average='weighted')))\n",
        "print (\"This is not very good we must do better!!!\")\n",
        "print(\" \")\n",
        "\n",
        "#Create a \"basic\" classifer\n",
        "y_pred = [1] * len(y_true_BlueJays)\n",
        "print (\"BlueJays \" \"F1: {:.4f}\".format(f1_score(y_true_BlueJays, y_pred, pos_label=None, average='weighted')))\n",
        "print (\"This is not very good we must do better!!!\")\n",
        "print(\" \")\n",
        "\n",
        "#Create a \"basic\" classifer\n",
        "y_pred = [1] * len(y_true_Braves)\n",
        "print (\"Braves \" \"F1: {:.4f}\".format(f1_score(y_true_Braves, y_pred, pos_label=None, average='weighted')))\n",
        "print (\"This is not very good we must do better!!!\")\n",
        "print(\" \")\n",
        "\n",
        "#Create a \"basic\" classifer\n",
        "y_pred = [1] * len(y_true_Brewers)\n",
        "print (\"Brewers \"\"F1: {:.4f}\".format(f1_score(y_true_Brewers, y_pred, pos_label=None, average='weighted')))\n",
        "print (\"This is not very good we must do better!!!\")\n",
        "print(\" \")\n",
        "\n",
        "#Create a \"basic\" classifer\n",
        "y_pred = [1] * len(y_true_Cardinals)\n",
        "print (\"Cardinals \"\"F1: {:.4f}\".format(f1_score(y_true_Cardinals, y_pred, pos_label=None, average='weighted')))\n",
        "print (\"This is not very good we must do better!!!\")\n",
        "print(\" \")\n",
        "\n",
        "#Create a \"basic\" classifer\n",
        "y_pred = [1] * len(y_true_Cubs)\n",
        "print (\"Cubs \"\"F1: {:.4f}\".format(f1_score(y_true_Cubs, y_pred, pos_label=None, average='weighted')))\n",
        "print (\"This is not very good we must do better!!!\")\n",
        "print(\" \")\n",
        "\n",
        "#Create a \"basic\" classifer\n",
        "y_pred = [1] * len(y_true_DBacks)\n",
        "print (\"DBacks \"\"F1: {:.4f}\".format(f1_score(y_true_DBacks, y_pred, pos_label=None, average='weighted')))\n",
        "print (\"This is not very good we must do better!!!\")\n",
        "print(\" \")\n",
        "\n",
        "#Create a \"basic\" classifer\n",
        "y_pred = [1] * len(y_true_Dodgers)\n",
        "print (\"Dodgers \"\"F1: {:.4f}\".format(f1_score(y_true_Dodgers, y_pred, pos_label=None, average='weighted')))\n",
        "print (\"This is not very good we must do better!!!\")\n",
        "print(\" \")\n",
        "\n",
        "#Create a \"basic\" classifer\n",
        "y_pred = [1] * len(y_true_Giants)\n",
        "print (\"Giants \"\"F1: {:.4f}\".format(f1_score(y_true_Giants, y_pred, pos_label=None, average='weighted')))\n",
        "print (\"This is not very good we must do better!!!\")\n",
        "print(\" \")\n",
        "\n",
        "#Create a \"basic\" classifer\n",
        "y_pred = [1] * len(y_true_Indians)\n",
        "print (\"Indians \"\"F1: {:.4f}\".format(f1_score(y_true_Indians, y_pred, pos_label=None, average='weighted')))\n",
        "print (\"This is not very good we must do better!!!\")\n",
        "print(\" \")\n",
        "\n",
        "#Create a \"basic\" classifer\n",
        "y_pred = [1] * len(y_true_Mariners)\n",
        "print (\"Mariners \"\"F1: {:.4f}\".format(f1_score(y_true_Mariners, y_pred, pos_label=None, average='weighted')))\n",
        "print (\"This is not very good we must do better!!!\")\n",
        "print(\" \")\n",
        "\n",
        "#Create a \"basic\" classifer\n",
        "y_pred = [1] * len(y_true_Marlins)\n",
        "print (\"Marlins \"\"F1: {:.4f}\".format(f1_score(y_true_Marlins, y_pred, pos_label=None, average='weighted')))\n",
        "print (\"This is not very good we must do better!!!\")\n",
        "print(\" \")\n",
        "\n",
        "#Create a \"basic\" classifer\n",
        "y_pred = [1] * len(y_true_Mets)\n",
        "print (\"Mets \"\"F1: {:.4f}\".format(f1_score(y_true_Mets, y_pred, pos_label=None, average='weighted')))\n",
        "print (\"This is not very good we must do better!!!\")\n",
        "print(\" \")\n",
        "\n",
        "#Create a \"basic\" classifer\n",
        "y_pred = [1] * len(y_true_Nationals)\n",
        "print (\"Nationals \"\"F1: {:.4f}\".format(f1_score(y_true_Nationals, y_pred, pos_label=None, average='weighted')))\n",
        "print (\"This is not very good we must do better!!!\")\n",
        "print(\" \")\n",
        "\n",
        "#Create a \"basic\" classifer\n",
        "y_pred = [1] * len(y_true_Orioles)\n",
        "print (\"Orioles \"\"F1: {:.4f}\".format(f1_score(y_true_Orioles, y_pred, pos_label=None, average='weighted')))\n",
        "print (\"This is not very good we must do better!!!\")\n",
        "print(\" \")\n",
        "\n",
        "#Create a \"basic\" classifer\n",
        "y_pred = [1] * len(y_true_Padres)\n",
        "print (\"Padres \"\"F1: {:.4f}\".format(f1_score(y_true_Padres, y_pred, pos_label=None, average='weighted')))\n",
        "print (\"This is not very good we must do better!!!\")\n",
        "print(\" \")\n",
        "\n",
        "#Create a \"basic\" classifer\n",
        "y_pred = [1] * len(y_true_Phillies)\n",
        "print (\"Phillies \"\"F1: {:.4f}\".format(f1_score(y_true_Phillies, y_pred, pos_label=None, average='weighted')))\n",
        "print (\"This is not very good we must do better!!!\")\n",
        "print(\" \")\n",
        "\n",
        "#Create a \"basic\" classifer\n",
        "y_pred = [1] * len(y_true_Pirates)\n",
        "print (\"Pirates \"\"F1: {:.4f}\".format(f1_score(y_true_Pirates, y_pred, pos_label=None, average='weighted')))\n",
        "print (\"This is not very good we must do better!!!\")\n",
        "print(\" \")\n",
        "\n",
        "#Create a \"basic\" classifer\n",
        "y_pred = [1] * len(y_true_Rangers)\n",
        "print (\"Rangers \"\"F1: {:.4f}\".format(f1_score(y_true_Rangers, y_pred, pos_label=None, average='weighted')))\n",
        "print (\"This is not very good we must do better!!!\")\n",
        "print(\" \")\n",
        "\n",
        "#Create a \"basic\" classifer\n",
        "y_pred = [1] * len(y_true_Rays)\n",
        "print (\"Rays \"\"F1: {:.4f}\".format(f1_score(y_true_Rays, y_pred, pos_label=None, average='weighted')))\n",
        "print (\"This is not very good we must do better!!!\")\n",
        "print(\" \")\n",
        "\n",
        "#Create a \"basic\" classifer\n",
        "y_pred = [1] * len(y_true_Reds)\n",
        "print (\"Reds \"\"F1: {:.4f}\".format(f1_score(y_true_Reds, y_pred, pos_label=None, average='weighted')))\n",
        "print (\"This is not very good we must do better!!!\")\n",
        "print(\" \")\n",
        "\n",
        "#Create a \"basic\" classifer\n",
        "y_pred = [1] * len(y_true_RedSox)\n",
        "print (\"RedSox \"\"F1: {:.4f}\".format(f1_score(y_true_RedSox, y_pred, pos_label=None, average='weighted')))\n",
        "print (\"This is not very good we must do better!!!\")\n",
        "print(\" \")\n",
        "\n",
        "#Create a \"basic\" classifer\n",
        "y_pred = [1] * len(y_true_Rockies)\n",
        "print (\"Rockies \"\"F1: {:.4f}\".format(f1_score(y_true_Rockies, y_pred, pos_label=None, average='weighted')))\n",
        "print (\"This is not very good we must do better!!!\")\n",
        "print(\" \")\n",
        "\n",
        "#Create a \"basic\" classifer\n",
        "y_pred = [1] * len(y_true_Royals)\n",
        "print (\"Royals \"\"F1: {:.4f}\".format(f1_score(y_true_Royals, y_pred, pos_label=None, average='weighted')))\n",
        "print (\"This is not very good we must do better!!!\")\n",
        "print(\" \")\n",
        "\n",
        "#Create a \"basic\" classifer\n",
        "y_pred = [1] * len(y_true_Tigers)\n",
        "print (\"Tigers \"\"F1: {:.4f}\".format(f1_score(y_true_Tigers, y_pred, pos_label=None, average='weighted')))\n",
        "print (\"This is not very good we must do better!!!\")\n",
        "print(\" \")\n",
        "\n",
        "#Create a \"basic\" classifer\n",
        "y_pred = [1] * len(y_true_Twins)\n",
        "print (\"Twins \"\"F1: {:.4f}\".format(f1_score(y_true_Twins, y_pred, pos_label=None, average='weighted')))\n",
        "print (\"This is not very good we must do better!!!\")\n",
        "print(\" \")\n",
        "\n",
        "#Create a \"basic\" classifer\n",
        "y_pred = [1] * len(y_true_WhiteSox)\n",
        "print (\"WhiteSox \"\"F1: {:.4f}\".format(f1_score(y_true_WhiteSox, y_pred, pos_label=None, average='weighted')))\n",
        "print (\"This is not very good we must do better!!!\")\n",
        "print(\" \")\n",
        "\n",
        "#Create a \"basic\" classifer\n",
        "y_pred = [1] * len(y_true_Yankees)\n",
        "print (\"Yankees \"\"F1: {:.4f}\".format(f1_score(y_true_Yankees, y_pred, pos_label=None, average='weighted')))\n",
        "print (\"This is not very good we must do better!!!\")"
      ],
      "execution_count": 270,
      "outputs": [
        {
          "output_type": "stream",
          "text": [
            "Angels F1: 0.4052\n",
            "This is not very good we must do better!!!\n",
            " \n",
            "Astros F1: 0.3796\n",
            "This is not very good we must do better!!!\n",
            " \n",
            "Athletics F1: 0.0000\n",
            "This is not very good we must do better!!!\n",
            " \n",
            "BlueJays F1: 0.3761\n",
            "This is not very good we must do better!!!\n",
            " \n",
            "Braves F1: 0.4128\n",
            "This is not very good we must do better!!!\n",
            " \n",
            "Brewers F1: 0.3636\n",
            "This is not very good we must do better!!!\n",
            " \n",
            "Cardinals F1: 0.4491\n",
            "This is not very good we must do better!!!\n",
            " \n",
            "Cubs F1: 0.3766\n",
            "This is not very good we must do better!!!\n",
            " \n",
            "DBacks F1: 0.3612\n",
            "This is not very good we must do better!!!\n",
            " \n",
            "Dodgers F1: 0.4346\n",
            "This is not very good we must do better!!!\n",
            " \n",
            "Giants F1: 0.3967\n",
            "This is not very good we must do better!!!\n",
            " \n",
            "Indians F1: 0.3904\n",
            "This is not very good we must do better!!!\n",
            " \n",
            "Mariners F1: 0.3558\n",
            "This is not very good we must do better!!!\n",
            " \n",
            "Marlins F1: 0.3431\n",
            "This is not very good we must do better!!!\n",
            " \n",
            "Mets F1: 0.3554\n",
            "This is not very good we must do better!!!\n",
            " \n",
            "Nationals F1: 0.3682\n",
            "This is not very good we must do better!!!\n",
            " \n",
            "Orioles F1: 0.3193\n",
            "This is not very good we must do better!!!\n",
            " \n",
            "Padres F1: 0.3330\n",
            "This is not very good we must do better!!!\n",
            " \n",
            "Phillies F1: 0.3758\n",
            "This is not very good we must do better!!!\n",
            " \n",
            "Pirates F1: 0.3411\n",
            "This is not very good we must do better!!!\n",
            " \n",
            "Rangers F1: 0.3825\n",
            "This is not very good we must do better!!!\n",
            " \n",
            "Rays F1: 0.3640\n",
            "This is not very good we must do better!!!\n",
            " \n",
            "Reds F1: 0.0000\n",
            "This is not very good we must do better!!!\n",
            " \n",
            "RedSox F1: 0.0000\n",
            "This is not very good we must do better!!!\n",
            " \n",
            "Rockies F1: 0.3846\n",
            "This is not very good we must do better!!!\n",
            " \n",
            "Royals F1: 0.3055\n",
            "This is not very good we must do better!!!\n",
            " \n",
            "Tigers F1: 0.3396\n",
            "This is not very good we must do better!!!\n",
            " \n",
            "Twins F1: 0.3773\n",
            "This is not very good we must do better!!!\n",
            " \n",
            "WhiteSox F1: 0.3717\n",
            "This is not very good we must do better!!!\n",
            " \n",
            "Yankees F1: 0.4814\n",
            "This is not very good we must do better!!!\n"
          ],
          "name": "stdout"
        }
      ]
    },
    {
      "cell_type": "code",
      "metadata": {
        "colab": {
          "base_uri": "https://localhost:8080/",
          "height": 419
        },
        "id": "b2C69hSpf3yT",
        "outputId": "a62229e9-5b80-4655-e592-d200abc9e247"
      },
      "source": [
        "df_MLB_HomeTeams"
      ],
      "execution_count": 271,
      "outputs": [
        {
          "output_type": "execute_result",
          "data": {
            "text/html": [
              "<div>\n",
              "<style scoped>\n",
              "    .dataframe tbody tr th:only-of-type {\n",
              "        vertical-align: middle;\n",
              "    }\n",
              "\n",
              "    .dataframe tbody tr th {\n",
              "        vertical-align: top;\n",
              "    }\n",
              "\n",
              "    .dataframe thead th {\n",
              "        text-align: right;\n",
              "    }\n",
              "</style>\n",
              "<table border=\"1\" class=\"dataframe\">\n",
              "  <thead>\n",
              "    <tr style=\"text-align: right;\">\n",
              "      <th></th>\n",
              "      <th>Result</th>\n",
              "      <th>HomeTeam</th>\n",
              "      <th>HomeWin</th>\n",
              "    </tr>\n",
              "  </thead>\n",
              "  <tbody>\n",
              "    <tr>\n",
              "      <th>0</th>\n",
              "      <td>0.0</td>\n",
              "      <td>1.0</td>\n",
              "      <td>0</td>\n",
              "    </tr>\n",
              "    <tr>\n",
              "      <th>1</th>\n",
              "      <td>0.0</td>\n",
              "      <td>1.0</td>\n",
              "      <td>0</td>\n",
              "    </tr>\n",
              "    <tr>\n",
              "      <th>2</th>\n",
              "      <td>1.0</td>\n",
              "      <td>1.0</td>\n",
              "      <td>1</td>\n",
              "    </tr>\n",
              "    <tr>\n",
              "      <th>4</th>\n",
              "      <td>1.0</td>\n",
              "      <td>1.0</td>\n",
              "      <td>1</td>\n",
              "    </tr>\n",
              "    <tr>\n",
              "      <th>5</th>\n",
              "      <td>1.0</td>\n",
              "      <td>1.0</td>\n",
              "      <td>1</td>\n",
              "    </tr>\n",
              "    <tr>\n",
              "      <th>...</th>\n",
              "      <td>...</td>\n",
              "      <td>...</td>\n",
              "      <td>...</td>\n",
              "    </tr>\n",
              "    <tr>\n",
              "      <th>3603</th>\n",
              "      <td>0.0</td>\n",
              "      <td>1.0</td>\n",
              "      <td>0</td>\n",
              "    </tr>\n",
              "    <tr>\n",
              "      <th>3604</th>\n",
              "      <td>1.0</td>\n",
              "      <td>1.0</td>\n",
              "      <td>1</td>\n",
              "    </tr>\n",
              "    <tr>\n",
              "      <th>3605</th>\n",
              "      <td>0.0</td>\n",
              "      <td>1.0</td>\n",
              "      <td>0</td>\n",
              "    </tr>\n",
              "    <tr>\n",
              "      <th>3606</th>\n",
              "      <td>1.0</td>\n",
              "      <td>1.0</td>\n",
              "      <td>1</td>\n",
              "    </tr>\n",
              "    <tr>\n",
              "      <th>3607</th>\n",
              "      <td>1.0</td>\n",
              "      <td>1.0</td>\n",
              "      <td>1</td>\n",
              "    </tr>\n",
              "  </tbody>\n",
              "</table>\n",
              "<p>48054 rows × 3 columns</p>\n",
              "</div>"
            ],
            "text/plain": [
              "      Result  HomeTeam  HomeWin\n",
              "0        0.0       1.0        0\n",
              "1        0.0       1.0        0\n",
              "2        1.0       1.0        1\n",
              "4        1.0       1.0        1\n",
              "5        1.0       1.0        1\n",
              "...      ...       ...      ...\n",
              "3603     0.0       1.0        0\n",
              "3604     1.0       1.0        1\n",
              "3605     0.0       1.0        0\n",
              "3606     1.0       1.0        1\n",
              "3607     1.0       1.0        1\n",
              "\n",
              "[48054 rows x 3 columns]"
            ]
          },
          "metadata": {
            "tags": []
          },
          "execution_count": 271
        }
      ]
    },
    {
      "cell_type": "code",
      "metadata": {
        "id": "fhxvTWhUm9a4"
      },
      "source": [
        "df_MLB_HomeTeams['Opp'] = 0"
      ],
      "execution_count": 272,
      "outputs": []
    },
    {
      "cell_type": "code",
      "metadata": {
        "colab": {
          "base_uri": "https://localhost:8080/",
          "height": 419
        },
        "id": "WdU-VQr8nEkm",
        "outputId": "ffac1d9b-030c-4890-ba8e-6a09e96e6c48"
      },
      "source": [
        "df_MLB_HomeTeams"
      ],
      "execution_count": 273,
      "outputs": [
        {
          "output_type": "execute_result",
          "data": {
            "text/html": [
              "<div>\n",
              "<style scoped>\n",
              "    .dataframe tbody tr th:only-of-type {\n",
              "        vertical-align: middle;\n",
              "    }\n",
              "\n",
              "    .dataframe tbody tr th {\n",
              "        vertical-align: top;\n",
              "    }\n",
              "\n",
              "    .dataframe thead th {\n",
              "        text-align: right;\n",
              "    }\n",
              "</style>\n",
              "<table border=\"1\" class=\"dataframe\">\n",
              "  <thead>\n",
              "    <tr style=\"text-align: right;\">\n",
              "      <th></th>\n",
              "      <th>Result</th>\n",
              "      <th>HomeTeam</th>\n",
              "      <th>HomeWin</th>\n",
              "      <th>Opp</th>\n",
              "    </tr>\n",
              "  </thead>\n",
              "  <tbody>\n",
              "    <tr>\n",
              "      <th>0</th>\n",
              "      <td>0.0</td>\n",
              "      <td>1.0</td>\n",
              "      <td>0</td>\n",
              "      <td>0</td>\n",
              "    </tr>\n",
              "    <tr>\n",
              "      <th>1</th>\n",
              "      <td>0.0</td>\n",
              "      <td>1.0</td>\n",
              "      <td>0</td>\n",
              "      <td>0</td>\n",
              "    </tr>\n",
              "    <tr>\n",
              "      <th>2</th>\n",
              "      <td>1.0</td>\n",
              "      <td>1.0</td>\n",
              "      <td>1</td>\n",
              "      <td>0</td>\n",
              "    </tr>\n",
              "    <tr>\n",
              "      <th>4</th>\n",
              "      <td>1.0</td>\n",
              "      <td>1.0</td>\n",
              "      <td>1</td>\n",
              "      <td>0</td>\n",
              "    </tr>\n",
              "    <tr>\n",
              "      <th>5</th>\n",
              "      <td>1.0</td>\n",
              "      <td>1.0</td>\n",
              "      <td>1</td>\n",
              "      <td>0</td>\n",
              "    </tr>\n",
              "    <tr>\n",
              "      <th>...</th>\n",
              "      <td>...</td>\n",
              "      <td>...</td>\n",
              "      <td>...</td>\n",
              "      <td>...</td>\n",
              "    </tr>\n",
              "    <tr>\n",
              "      <th>3603</th>\n",
              "      <td>0.0</td>\n",
              "      <td>1.0</td>\n",
              "      <td>0</td>\n",
              "      <td>0</td>\n",
              "    </tr>\n",
              "    <tr>\n",
              "      <th>3604</th>\n",
              "      <td>1.0</td>\n",
              "      <td>1.0</td>\n",
              "      <td>1</td>\n",
              "      <td>0</td>\n",
              "    </tr>\n",
              "    <tr>\n",
              "      <th>3605</th>\n",
              "      <td>0.0</td>\n",
              "      <td>1.0</td>\n",
              "      <td>0</td>\n",
              "      <td>0</td>\n",
              "    </tr>\n",
              "    <tr>\n",
              "      <th>3606</th>\n",
              "      <td>1.0</td>\n",
              "      <td>1.0</td>\n",
              "      <td>1</td>\n",
              "      <td>0</td>\n",
              "    </tr>\n",
              "    <tr>\n",
              "      <th>3607</th>\n",
              "      <td>1.0</td>\n",
              "      <td>1.0</td>\n",
              "      <td>1</td>\n",
              "      <td>0</td>\n",
              "    </tr>\n",
              "  </tbody>\n",
              "</table>\n",
              "<p>48054 rows × 4 columns</p>\n",
              "</div>"
            ],
            "text/plain": [
              "      Result  HomeTeam  HomeWin  Opp\n",
              "0        0.0       1.0        0    0\n",
              "1        0.0       1.0        0    0\n",
              "2        1.0       1.0        1    0\n",
              "4        1.0       1.0        1    0\n",
              "5        1.0       1.0        1    0\n",
              "...      ...       ...      ...  ...\n",
              "3603     0.0       1.0        0    0\n",
              "3604     1.0       1.0        1    0\n",
              "3605     0.0       1.0        0    0\n",
              "3606     1.0       1.0        1    0\n",
              "3607     1.0       1.0        1    0\n",
              "\n",
              "[48054 rows x 4 columns]"
            ]
          },
          "metadata": {
            "tags": []
          },
          "execution_count": 273
        }
      ]
    },
    {
      "cell_type": "code",
      "metadata": {
        "id": "8N3ofQJ-bErn"
      },
      "source": [
        "#Creating some more features\n",
        "df_MLB_HomeTeams[\"HomeLastWin\"] = False\n",
        "df_MLB_HomeTeams[\"VisitorLastWin\"] = False"
      ],
      "execution_count": 274,
      "outputs": []
    },
    {
      "cell_type": "code",
      "metadata": {
        "id": "nBE-gTCDcIM-"
      },
      "source": [
        "# Now compute the actual values for these above features\n",
        "# Did the home or visitor teams  win their last game?\n",
        "from collections import defaultdict\n",
        "won_last = defaultdict(int)\n",
        "\n",
        "'''Defaultdict is a container like dictionaries present in the module collections. \n",
        "Defaultdict is a sub-class of the dict class that returns a dictionary-like object. \n",
        "The functionality of both dictionaries and defualtdict are almost same except for \n",
        "the fact that defualtdict never raises a KeyError. It provides a default value for \n",
        "the key that does not exists.'''\n",
        "\n",
        "for index, row in df_MLB_HomeTeams.iterrows():\n",
        "  home_team = row[\"HomeTeam\"]\n",
        "  visitor_team = row[\"Opp\"]\n",
        "  row[\"HomeLastWin\"] = won_last[home_team]\n",
        "  row[\"VisitorLastWin\"] = won_last[visitor_team]\n",
        "  df_MLB_HomeTeams.iloc[index] = row\n",
        "  # Set current win\n",
        "  won_last[home_team] = row[\"HomeWin\"]\n",
        "  won_last[visitor_team] = not row[\"HomeWin\"]"
      ],
      "execution_count": 275,
      "outputs": []
    },
    {
      "cell_type": "code",
      "metadata": {
        "colab": {
          "base_uri": "https://localhost:8080/",
          "height": 419
        },
        "id": "jtijjvVqoMfh",
        "outputId": "7a834988-00a3-4b25-8ff4-a69f3516ab50"
      },
      "source": [
        "df_MLB_HomeTeams"
      ],
      "execution_count": 276,
      "outputs": [
        {
          "output_type": "execute_result",
          "data": {
            "text/html": [
              "<div>\n",
              "<style scoped>\n",
              "    .dataframe tbody tr th:only-of-type {\n",
              "        vertical-align: middle;\n",
              "    }\n",
              "\n",
              "    .dataframe tbody tr th {\n",
              "        vertical-align: top;\n",
              "    }\n",
              "\n",
              "    .dataframe thead th {\n",
              "        text-align: right;\n",
              "    }\n",
              "</style>\n",
              "<table border=\"1\" class=\"dataframe\">\n",
              "  <thead>\n",
              "    <tr style=\"text-align: right;\">\n",
              "      <th></th>\n",
              "      <th>Result</th>\n",
              "      <th>HomeTeam</th>\n",
              "      <th>HomeWin</th>\n",
              "      <th>Opp</th>\n",
              "      <th>HomeLastWin</th>\n",
              "      <th>VisitorLastWin</th>\n",
              "    </tr>\n",
              "  </thead>\n",
              "  <tbody>\n",
              "    <tr>\n",
              "      <th>0</th>\n",
              "      <td>0.0</td>\n",
              "      <td>1.0</td>\n",
              "      <td>0</td>\n",
              "      <td>0</td>\n",
              "      <td>0</td>\n",
              "      <td>True</td>\n",
              "    </tr>\n",
              "    <tr>\n",
              "      <th>1</th>\n",
              "      <td>1.0</td>\n",
              "      <td>1.0</td>\n",
              "      <td>1</td>\n",
              "      <td>0</td>\n",
              "      <td>0</td>\n",
              "      <td>True</td>\n",
              "    </tr>\n",
              "    <tr>\n",
              "      <th>2</th>\n",
              "      <td>1.0</td>\n",
              "      <td>1.0</td>\n",
              "      <td>1</td>\n",
              "      <td>0</td>\n",
              "      <td>1</td>\n",
              "      <td>False</td>\n",
              "    </tr>\n",
              "    <tr>\n",
              "      <th>4</th>\n",
              "      <td>0.0</td>\n",
              "      <td>1.0</td>\n",
              "      <td>0</td>\n",
              "      <td>0</td>\n",
              "      <td>1</td>\n",
              "      <td>False</td>\n",
              "    </tr>\n",
              "    <tr>\n",
              "      <th>5</th>\n",
              "      <td>1.0</td>\n",
              "      <td>1.0</td>\n",
              "      <td>1</td>\n",
              "      <td>0</td>\n",
              "      <td>1</td>\n",
              "      <td>False</td>\n",
              "    </tr>\n",
              "    <tr>\n",
              "      <th>...</th>\n",
              "      <td>...</td>\n",
              "      <td>...</td>\n",
              "      <td>...</td>\n",
              "      <td>...</td>\n",
              "      <td>...</td>\n",
              "      <td>...</td>\n",
              "    </tr>\n",
              "    <tr>\n",
              "      <th>3603</th>\n",
              "      <td>0.0</td>\n",
              "      <td>1.0</td>\n",
              "      <td>0</td>\n",
              "      <td>0</td>\n",
              "      <td>False</td>\n",
              "      <td>False</td>\n",
              "    </tr>\n",
              "    <tr>\n",
              "      <th>3604</th>\n",
              "      <td>1.0</td>\n",
              "      <td>1.0</td>\n",
              "      <td>1</td>\n",
              "      <td>0</td>\n",
              "      <td>False</td>\n",
              "      <td>False</td>\n",
              "    </tr>\n",
              "    <tr>\n",
              "      <th>3605</th>\n",
              "      <td>0.0</td>\n",
              "      <td>1.0</td>\n",
              "      <td>0</td>\n",
              "      <td>0</td>\n",
              "      <td>False</td>\n",
              "      <td>False</td>\n",
              "    </tr>\n",
              "    <tr>\n",
              "      <th>3606</th>\n",
              "      <td>1.0</td>\n",
              "      <td>1.0</td>\n",
              "      <td>1</td>\n",
              "      <td>0</td>\n",
              "      <td>False</td>\n",
              "      <td>False</td>\n",
              "    </tr>\n",
              "    <tr>\n",
              "      <th>3607</th>\n",
              "      <td>1.0</td>\n",
              "      <td>1.0</td>\n",
              "      <td>1</td>\n",
              "      <td>0</td>\n",
              "      <td>False</td>\n",
              "      <td>False</td>\n",
              "    </tr>\n",
              "  </tbody>\n",
              "</table>\n",
              "<p>48054 rows × 6 columns</p>\n",
              "</div>"
            ],
            "text/plain": [
              "      Result  HomeTeam  HomeWin  Opp HomeLastWin VisitorLastWin\n",
              "0        0.0       1.0        0    0           0           True\n",
              "1        1.0       1.0        1    0           0           True\n",
              "2        1.0       1.0        1    0           1          False\n",
              "4        0.0       1.0        0    0           1          False\n",
              "5        1.0       1.0        1    0           1          False\n",
              "...      ...       ...      ...  ...         ...            ...\n",
              "3603     0.0       1.0        0    0       False          False\n",
              "3604     1.0       1.0        1    0       False          False\n",
              "3605     0.0       1.0        0    0       False          False\n",
              "3606     1.0       1.0        1    0       False          False\n",
              "3607     1.0       1.0        1    0       False          False\n",
              "\n",
              "[48054 rows x 6 columns]"
            ]
          },
          "metadata": {
            "tags": []
          },
          "execution_count": 276
        }
      ]
    },
    {
      "cell_type": "code",
      "metadata": {
        "id": "2Kub55_XwGf_"
      },
      "source": [
        "df_MLB_HomeTeams[\"HomeLastWin\"] = df_MLB_HomeTeams[\"HomeLastWin\"].astype(int)\n",
        "df_MLB_HomeTeams[\"VisitorLastWin\"] = df_MLB_HomeTeams[\"VisitorLastWin\"].astype(int)"
      ],
      "execution_count": 277,
      "outputs": []
    },
    {
      "cell_type": "code",
      "metadata": {
        "colab": {
          "base_uri": "https://localhost:8080/",
          "height": 419
        },
        "id": "jui6WVcGwSCm",
        "outputId": "b6ae7c57-a0b5-4343-cc1c-c0d34b5a6ef9"
      },
      "source": [
        "df_MLB_HomeTeams"
      ],
      "execution_count": 278,
      "outputs": [
        {
          "output_type": "execute_result",
          "data": {
            "text/html": [
              "<div>\n",
              "<style scoped>\n",
              "    .dataframe tbody tr th:only-of-type {\n",
              "        vertical-align: middle;\n",
              "    }\n",
              "\n",
              "    .dataframe tbody tr th {\n",
              "        vertical-align: top;\n",
              "    }\n",
              "\n",
              "    .dataframe thead th {\n",
              "        text-align: right;\n",
              "    }\n",
              "</style>\n",
              "<table border=\"1\" class=\"dataframe\">\n",
              "  <thead>\n",
              "    <tr style=\"text-align: right;\">\n",
              "      <th></th>\n",
              "      <th>Result</th>\n",
              "      <th>HomeTeam</th>\n",
              "      <th>HomeWin</th>\n",
              "      <th>Opp</th>\n",
              "      <th>HomeLastWin</th>\n",
              "      <th>VisitorLastWin</th>\n",
              "    </tr>\n",
              "  </thead>\n",
              "  <tbody>\n",
              "    <tr>\n",
              "      <th>0</th>\n",
              "      <td>0.0</td>\n",
              "      <td>1.0</td>\n",
              "      <td>0</td>\n",
              "      <td>0</td>\n",
              "      <td>0</td>\n",
              "      <td>1</td>\n",
              "    </tr>\n",
              "    <tr>\n",
              "      <th>1</th>\n",
              "      <td>1.0</td>\n",
              "      <td>1.0</td>\n",
              "      <td>1</td>\n",
              "      <td>0</td>\n",
              "      <td>0</td>\n",
              "      <td>1</td>\n",
              "    </tr>\n",
              "    <tr>\n",
              "      <th>2</th>\n",
              "      <td>1.0</td>\n",
              "      <td>1.0</td>\n",
              "      <td>1</td>\n",
              "      <td>0</td>\n",
              "      <td>1</td>\n",
              "      <td>0</td>\n",
              "    </tr>\n",
              "    <tr>\n",
              "      <th>4</th>\n",
              "      <td>0.0</td>\n",
              "      <td>1.0</td>\n",
              "      <td>0</td>\n",
              "      <td>0</td>\n",
              "      <td>1</td>\n",
              "      <td>0</td>\n",
              "    </tr>\n",
              "    <tr>\n",
              "      <th>5</th>\n",
              "      <td>1.0</td>\n",
              "      <td>1.0</td>\n",
              "      <td>1</td>\n",
              "      <td>0</td>\n",
              "      <td>1</td>\n",
              "      <td>0</td>\n",
              "    </tr>\n",
              "    <tr>\n",
              "      <th>...</th>\n",
              "      <td>...</td>\n",
              "      <td>...</td>\n",
              "      <td>...</td>\n",
              "      <td>...</td>\n",
              "      <td>...</td>\n",
              "      <td>...</td>\n",
              "    </tr>\n",
              "    <tr>\n",
              "      <th>3603</th>\n",
              "      <td>0.0</td>\n",
              "      <td>1.0</td>\n",
              "      <td>0</td>\n",
              "      <td>0</td>\n",
              "      <td>0</td>\n",
              "      <td>0</td>\n",
              "    </tr>\n",
              "    <tr>\n",
              "      <th>3604</th>\n",
              "      <td>1.0</td>\n",
              "      <td>1.0</td>\n",
              "      <td>1</td>\n",
              "      <td>0</td>\n",
              "      <td>0</td>\n",
              "      <td>0</td>\n",
              "    </tr>\n",
              "    <tr>\n",
              "      <th>3605</th>\n",
              "      <td>0.0</td>\n",
              "      <td>1.0</td>\n",
              "      <td>0</td>\n",
              "      <td>0</td>\n",
              "      <td>0</td>\n",
              "      <td>0</td>\n",
              "    </tr>\n",
              "    <tr>\n",
              "      <th>3606</th>\n",
              "      <td>1.0</td>\n",
              "      <td>1.0</td>\n",
              "      <td>1</td>\n",
              "      <td>0</td>\n",
              "      <td>0</td>\n",
              "      <td>0</td>\n",
              "    </tr>\n",
              "    <tr>\n",
              "      <th>3607</th>\n",
              "      <td>1.0</td>\n",
              "      <td>1.0</td>\n",
              "      <td>1</td>\n",
              "      <td>0</td>\n",
              "      <td>0</td>\n",
              "      <td>0</td>\n",
              "    </tr>\n",
              "  </tbody>\n",
              "</table>\n",
              "<p>48054 rows × 6 columns</p>\n",
              "</div>"
            ],
            "text/plain": [
              "      Result  HomeTeam  HomeWin  Opp  HomeLastWin  VisitorLastWin\n",
              "0        0.0       1.0        0    0            0               1\n",
              "1        1.0       1.0        1    0            0               1\n",
              "2        1.0       1.0        1    0            1               0\n",
              "4        0.0       1.0        0    0            1               0\n",
              "5        1.0       1.0        1    0            1               0\n",
              "...      ...       ...      ...  ...          ...             ...\n",
              "3603     0.0       1.0        0    0            0               0\n",
              "3604     1.0       1.0        1    0            0               0\n",
              "3605     0.0       1.0        0    0            0               0\n",
              "3606     1.0       1.0        1    0            0               0\n",
              "3607     1.0       1.0        1    0            0               0\n",
              "\n",
              "[48054 rows x 6 columns]"
            ]
          },
          "metadata": {
            "tags": []
          },
          "execution_count": 278
        }
      ]
    },
    {
      "cell_type": "code",
      "metadata": {
        "id": "hcz-eOO0oUju"
      },
      "source": [
        "# Basic classification with a decision tree\n",
        "from sklearn.tree import DecisionTreeClassifier"
      ],
      "execution_count": 279,
      "outputs": []
    },
    {
      "cell_type": "code",
      "metadata": {
        "colab": {
          "base_uri": "https://localhost:8080/"
        },
        "id": "1Ishxjthoi1R",
        "outputId": "ddc16243-98ee-4e9e-eda1-081e692070b7"
      },
      "source": [
        "#from sklearn.cross_validation import cross_val_score\n",
        "from sklearn.model_selection import cross_val_score\n",
        "\n",
        "# Create a dataset with just the necessary information\n",
        "y_true = df_MLB_HomeTeams[\"HomeWin\"].values\n",
        "X_previouswins = df_MLB_HomeTeams[[\"HomeLastWin\", \"VisitorLastWin\"]].values\n",
        "clf = DecisionTreeClassifier(random_state=14)\n",
        "scores = cross_val_score(clf, X_previouswins, y_true, scoring=scorer)\n",
        "print(\"Using just the last game result from the home and visitor teams\")\n",
        "print(\"F1: {0:.4f}\".format(np.mean(scores)))"
      ],
      "execution_count": 280,
      "outputs": [
        {
          "output_type": "stream",
          "text": [
            "Using just the last game result from the home and visitor teams\n",
            "F1: 0.3466\n"
          ],
          "name": "stdout"
        }
      ]
    },
    {
      "cell_type": "code",
      "metadata": {
        "id": "Cb8aR2SM54tY"
      },
      "source": [
        "xls = pd.ExcelFile('/content/Baseball_Pitching_Stats.xlsx')\n",
        "df_Pitch2000 = pd.read_excel(xls, '2000_Season')\n",
        "df_Pitch2001 = pd.read_excel(xls, '2001_Season')\n",
        "df_Pitch2002 = pd.read_excel(xls, '2002_Season')\n",
        "df_Pitch2003 = pd.read_excel(xls, '2003_Season')\n",
        "df_Pitch2004 = pd.read_excel(xls, '2004_Season')\n",
        "df_Pitch2005 = pd.read_excel(xls, '2005_Season')\n",
        "df_Pitch2006 = pd.read_excel(xls, '2006_Season')\n",
        "df_Pitch2007 = pd.read_excel(xls, '2007_Season')\n",
        "df_Pitch2008 = pd.read_excel(xls, '2008_Season')\n",
        "df_Pitch2009 = pd.read_excel(xls, '2009_Season')\n",
        "df_Pitch2010 = pd.read_excel(xls, '2010_Season')\n",
        "df_Pitch2011 = pd.read_excel(xls, '2011_Season')\n",
        "df_Pitch2012 = pd.read_excel(xls, '2012_Season')\n",
        "df_Pitch2013 = pd.read_excel(xls, '2013_Season')\n",
        "df_Pitch2014 = pd.read_excel(xls, '2014_Season')\n",
        "df_Pitch2015 = pd.read_excel(xls, '2015_Season')\n",
        "df_Pitch2016 = pd.read_excel(xls, '2016_Season')\n",
        "df_Pitch2017 = pd.read_excel(xls, '2017_Season')\n",
        "df_Pitch2018 = pd.read_excel(xls, '2018_Season')\n",
        "df_Pitch2019 = pd.read_excel(xls, '2019_Season')"
      ],
      "execution_count": 281,
      "outputs": []
    },
    {
      "cell_type": "code",
      "metadata": {
        "colab": {
          "base_uri": "https://localhost:8080/",
          "height": 979
        },
        "id": "xHYsNtNI6faG",
        "outputId": "46440702-7561-4eab-ffcd-98c92438a48f"
      },
      "source": [
        "df_Pitch2000"
      ],
      "execution_count": 282,
      "outputs": [
        {
          "output_type": "execute_result",
          "data": {
            "text/html": [
              "<div>\n",
              "<style scoped>\n",
              "    .dataframe tbody tr th:only-of-type {\n",
              "        vertical-align: middle;\n",
              "    }\n",
              "\n",
              "    .dataframe tbody tr th {\n",
              "        vertical-align: top;\n",
              "    }\n",
              "\n",
              "    .dataframe thead th {\n",
              "        text-align: right;\n",
              "    }\n",
              "</style>\n",
              "<table border=\"1\" class=\"dataframe\">\n",
              "  <thead>\n",
              "    <tr style=\"text-align: right;\">\n",
              "      <th></th>\n",
              "      <th>Tm</th>\n",
              "      <th>IP</th>\n",
              "      <th>G</th>\n",
              "      <th>GS</th>\n",
              "      <th>R</th>\n",
              "      <th>RA9</th>\n",
              "      <th>RA9opp</th>\n",
              "      <th>RA9def</th>\n",
              "      <th>RA9role</th>\n",
              "      <th>PPFp</th>\n",
              "      <th>RA9avg</th>\n",
              "      <th>RAA</th>\n",
              "      <th>WAA</th>\n",
              "      <th>gmLI</th>\n",
              "      <th>WAAadj</th>\n",
              "      <th>WAR</th>\n",
              "      <th>RAR</th>\n",
              "      <th>waaWL%</th>\n",
              "      <th>162WL%</th>\n",
              "      <th>Salary</th>\n",
              "    </tr>\n",
              "  </thead>\n",
              "  <tbody>\n",
              "    <tr>\n",
              "      <th>0</th>\n",
              "      <td>Anaheim Angels</td>\n",
              "      <td>1448.0</td>\n",
              "      <td>603</td>\n",
              "      <td>162</td>\n",
              "      <td>869</td>\n",
              "      <td>5.40</td>\n",
              "      <td>5.46</td>\n",
              "      <td>0.44</td>\n",
              "      <td>-0.03</td>\n",
              "      <td>101.2</td>\n",
              "      <td>5.06</td>\n",
              "      <td>-66</td>\n",
              "      <td>-5.5</td>\n",
              "      <td>1.19</td>\n",
              "      <td>-1.6</td>\n",
              "      <td>8.0</td>\n",
              "      <td>123</td>\n",
              "      <td>0.491</td>\n",
              "      <td>0.500</td>\n",
              "      <td>22520000</td>\n",
              "    </tr>\n",
              "    <tr>\n",
              "      <th>1</th>\n",
              "      <td>Arizona Diamondbacks</td>\n",
              "      <td>1443.2</td>\n",
              "      <td>552</td>\n",
              "      <td>162</td>\n",
              "      <td>754</td>\n",
              "      <td>4.70</td>\n",
              "      <td>5.16</td>\n",
              "      <td>0.11</td>\n",
              "      <td>0.01</td>\n",
              "      <td>102.9</td>\n",
              "      <td>5.21</td>\n",
              "      <td>78</td>\n",
              "      <td>8.7</td>\n",
              "      <td>1.10</td>\n",
              "      <td>-1.5</td>\n",
              "      <td>19.6</td>\n",
              "      <td>219</td>\n",
              "      <td>0.516</td>\n",
              "      <td>0.504</td>\n",
              "      <td>43168500</td>\n",
              "    </tr>\n",
              "    <tr>\n",
              "      <th>2</th>\n",
              "      <td>Atlanta Braves</td>\n",
              "      <td>1440.1</td>\n",
              "      <td>538</td>\n",
              "      <td>162</td>\n",
              "      <td>714</td>\n",
              "      <td>4.46</td>\n",
              "      <td>5.02</td>\n",
              "      <td>0.22</td>\n",
              "      <td>0.03</td>\n",
              "      <td>99.3</td>\n",
              "      <td>4.79</td>\n",
              "      <td>48</td>\n",
              "      <td>5.4</td>\n",
              "      <td>1.22</td>\n",
              "      <td>-0.5</td>\n",
              "      <td>17.2</td>\n",
              "      <td>190</td>\n",
              "      <td>0.510</td>\n",
              "      <td>0.503</td>\n",
              "      <td>29302737</td>\n",
              "    </tr>\n",
              "    <tr>\n",
              "      <th>3</th>\n",
              "      <td>Baltimore Orioles</td>\n",
              "      <td>1433.1</td>\n",
              "      <td>558</td>\n",
              "      <td>162</td>\n",
              "      <td>913</td>\n",
              "      <td>5.73</td>\n",
              "      <td>5.38</td>\n",
              "      <td>-0.13</td>\n",
              "      <td>0.02</td>\n",
              "      <td>96.4</td>\n",
              "      <td>5.33</td>\n",
              "      <td>-75</td>\n",
              "      <td>-5.7</td>\n",
              "      <td>1.31</td>\n",
              "      <td>-1.4</td>\n",
              "      <td>7.9</td>\n",
              "      <td>112</td>\n",
              "      <td>0.490</td>\n",
              "      <td>0.500</td>\n",
              "      <td>26685953</td>\n",
              "    </tr>\n",
              "    <tr>\n",
              "      <th>4</th>\n",
              "      <td>Boston Red Sox</td>\n",
              "      <td>1452.2</td>\n",
              "      <td>587</td>\n",
              "      <td>162</td>\n",
              "      <td>745</td>\n",
              "      <td>4.62</td>\n",
              "      <td>5.43</td>\n",
              "      <td>0.23</td>\n",
              "      <td>-0.02</td>\n",
              "      <td>102.4</td>\n",
              "      <td>5.30</td>\n",
              "      <td>99</td>\n",
              "      <td>10.9</td>\n",
              "      <td>1.18</td>\n",
              "      <td>-0.6</td>\n",
              "      <td>25.5</td>\n",
              "      <td>289</td>\n",
              "      <td>0.518</td>\n",
              "      <td>0.505</td>\n",
              "      <td>34865000</td>\n",
              "    </tr>\n",
              "    <tr>\n",
              "      <th>5</th>\n",
              "      <td>Chicago Cubs</td>\n",
              "      <td>1454.2</td>\n",
              "      <td>583</td>\n",
              "      <td>162</td>\n",
              "      <td>904</td>\n",
              "      <td>5.59</td>\n",
              "      <td>5.13</td>\n",
              "      <td>0.04</td>\n",
              "      <td>0.00</td>\n",
              "      <td>99.6</td>\n",
              "      <td>5.07</td>\n",
              "      <td>-88</td>\n",
              "      <td>-7.5</td>\n",
              "      <td>1.46</td>\n",
              "      <td>-1.5</td>\n",
              "      <td>3.6</td>\n",
              "      <td>54</td>\n",
              "      <td>0.487</td>\n",
              "      <td>0.499</td>\n",
              "      <td>24041833</td>\n",
              "    </tr>\n",
              "    <tr>\n",
              "      <th>6</th>\n",
              "      <td>Chicago White Sox</td>\n",
              "      <td>1450.1</td>\n",
              "      <td>628</td>\n",
              "      <td>162</td>\n",
              "      <td>839</td>\n",
              "      <td>5.21</td>\n",
              "      <td>5.39</td>\n",
              "      <td>0.04</td>\n",
              "      <td>-0.02</td>\n",
              "      <td>101.9</td>\n",
              "      <td>5.44</td>\n",
              "      <td>26</td>\n",
              "      <td>3.4</td>\n",
              "      <td>1.23</td>\n",
              "      <td>0.3</td>\n",
              "      <td>18.9</td>\n",
              "      <td>215</td>\n",
              "      <td>0.505</td>\n",
              "      <td>0.504</td>\n",
              "      <td>14346000</td>\n",
              "    </tr>\n",
              "    <tr>\n",
              "      <th>7</th>\n",
              "      <td>Cincinnati Reds</td>\n",
              "      <td>1456.1</td>\n",
              "      <td>550</td>\n",
              "      <td>163</td>\n",
              "      <td>765</td>\n",
              "      <td>4.73</td>\n",
              "      <td>5.13</td>\n",
              "      <td>0.29</td>\n",
              "      <td>-0.01</td>\n",
              "      <td>102.5</td>\n",
              "      <td>4.94</td>\n",
              "      <td>30</td>\n",
              "      <td>3.5</td>\n",
              "      <td>1.29</td>\n",
              "      <td>-0.1</td>\n",
              "      <td>16.0</td>\n",
              "      <td>173</td>\n",
              "      <td>0.506</td>\n",
              "      <td>0.502</td>\n",
              "      <td>14050000</td>\n",
              "    </tr>\n",
              "    <tr>\n",
              "      <th>8</th>\n",
              "      <td>Cleveland Indians</td>\n",
              "      <td>1442.1</td>\n",
              "      <td>624</td>\n",
              "      <td>162</td>\n",
              "      <td>816</td>\n",
              "      <td>5.09</td>\n",
              "      <td>5.39</td>\n",
              "      <td>-0.09</td>\n",
              "      <td>-0.02</td>\n",
              "      <td>99.8</td>\n",
              "      <td>5.46</td>\n",
              "      <td>48</td>\n",
              "      <td>5.5</td>\n",
              "      <td>1.13</td>\n",
              "      <td>-1.1</td>\n",
              "      <td>19.5</td>\n",
              "      <td>236</td>\n",
              "      <td>0.509</td>\n",
              "      <td>0.504</td>\n",
              "      <td>29581615</td>\n",
              "    </tr>\n",
              "    <tr>\n",
              "      <th>9</th>\n",
              "      <td>Colorado Rockies</td>\n",
              "      <td>1430.0</td>\n",
              "      <td>641</td>\n",
              "      <td>162</td>\n",
              "      <td>897</td>\n",
              "      <td>5.65</td>\n",
              "      <td>5.15</td>\n",
              "      <td>0.34</td>\n",
              "      <td>-0.02</td>\n",
              "      <td>124.8</td>\n",
              "      <td>5.98</td>\n",
              "      <td>48</td>\n",
              "      <td>5.6</td>\n",
              "      <td>1.21</td>\n",
              "      <td>0.6</td>\n",
              "      <td>18.6</td>\n",
              "      <td>189</td>\n",
              "      <td>0.509</td>\n",
              "      <td>0.505</td>\n",
              "      <td>25405833</td>\n",
              "    </tr>\n",
              "    <tr>\n",
              "      <th>10</th>\n",
              "      <td>Detroit Tigers</td>\n",
              "      <td>1443.1</td>\n",
              "      <td>591</td>\n",
              "      <td>162</td>\n",
              "      <td>827</td>\n",
              "      <td>5.16</td>\n",
              "      <td>5.41</td>\n",
              "      <td>0.03</td>\n",
              "      <td>0.01</td>\n",
              "      <td>95.2</td>\n",
              "      <td>5.13</td>\n",
              "      <td>-15</td>\n",
              "      <td>-0.8</td>\n",
              "      <td>1.18</td>\n",
              "      <td>-1.1</td>\n",
              "      <td>13.2</td>\n",
              "      <td>173</td>\n",
              "      <td>0.499</td>\n",
              "      <td>0.500</td>\n",
              "      <td>19982667</td>\n",
              "    </tr>\n",
              "    <tr>\n",
              "      <th>11</th>\n",
              "      <td>Florida Marlins</td>\n",
              "      <td>1429.2</td>\n",
              "      <td>590</td>\n",
              "      <td>161</td>\n",
              "      <td>797</td>\n",
              "      <td>5.02</td>\n",
              "      <td>5.05</td>\n",
              "      <td>-0.07</td>\n",
              "      <td>0.00</td>\n",
              "      <td>96.4</td>\n",
              "      <td>4.93</td>\n",
              "      <td>-18</td>\n",
              "      <td>-1.1</td>\n",
              "      <td>1.30</td>\n",
              "      <td>-1.7</td>\n",
              "      <td>9.6</td>\n",
              "      <td>122</td>\n",
              "      <td>0.498</td>\n",
              "      <td>0.499</td>\n",
              "      <td>10779000</td>\n",
              "    </tr>\n",
              "    <tr>\n",
              "      <th>12</th>\n",
              "      <td>Houston Astros</td>\n",
              "      <td>1437.2</td>\n",
              "      <td>572</td>\n",
              "      <td>162</td>\n",
              "      <td>944</td>\n",
              "      <td>5.91</td>\n",
              "      <td>5.08</td>\n",
              "      <td>-0.33</td>\n",
              "      <td>0.00</td>\n",
              "      <td>107.4</td>\n",
              "      <td>5.81</td>\n",
              "      <td>-20</td>\n",
              "      <td>-1.6</td>\n",
              "      <td>1.17</td>\n",
              "      <td>-1.4</td>\n",
              "      <td>9.5</td>\n",
              "      <td>121</td>\n",
              "      <td>0.497</td>\n",
              "      <td>0.500</td>\n",
              "      <td>20816611</td>\n",
              "    </tr>\n",
              "    <tr>\n",
              "      <th>13</th>\n",
              "      <td>Kansas City Royals</td>\n",
              "      <td>1439.1</td>\n",
              "      <td>491</td>\n",
              "      <td>162</td>\n",
              "      <td>930</td>\n",
              "      <td>5.82</td>\n",
              "      <td>5.46</td>\n",
              "      <td>0.28</td>\n",
              "      <td>0.00</td>\n",
              "      <td>103.0</td>\n",
              "      <td>5.33</td>\n",
              "      <td>-88</td>\n",
              "      <td>-7.1</td>\n",
              "      <td>1.17</td>\n",
              "      <td>-1.5</td>\n",
              "      <td>6.4</td>\n",
              "      <td>100</td>\n",
              "      <td>0.486</td>\n",
              "      <td>0.499</td>\n",
              "      <td>8660500</td>\n",
              "    </tr>\n",
              "    <tr>\n",
              "      <th>14</th>\n",
              "      <td>Los Angeles Dodgers</td>\n",
              "      <td>1445.0</td>\n",
              "      <td>533</td>\n",
              "      <td>162</td>\n",
              "      <td>729</td>\n",
              "      <td>4.54</td>\n",
              "      <td>5.12</td>\n",
              "      <td>0.04</td>\n",
              "      <td>0.00</td>\n",
              "      <td>94.0</td>\n",
              "      <td>4.78</td>\n",
              "      <td>34</td>\n",
              "      <td>4.7</td>\n",
              "      <td>1.15</td>\n",
              "      <td>-1.5</td>\n",
              "      <td>15.7</td>\n",
              "      <td>176</td>\n",
              "      <td>0.509</td>\n",
              "      <td>0.504</td>\n",
              "      <td>42115952</td>\n",
              "    </tr>\n",
              "    <tr>\n",
              "      <th>15</th>\n",
              "      <td>Milwaukee Brewers</td>\n",
              "      <td>1466.1</td>\n",
              "      <td>596</td>\n",
              "      <td>163</td>\n",
              "      <td>826</td>\n",
              "      <td>5.07</td>\n",
              "      <td>5.14</td>\n",
              "      <td>0.18</td>\n",
              "      <td>-0.01</td>\n",
              "      <td>98.5</td>\n",
              "      <td>4.87</td>\n",
              "      <td>-37</td>\n",
              "      <td>-2.0</td>\n",
              "      <td>1.14</td>\n",
              "      <td>-0.6</td>\n",
              "      <td>10.1</td>\n",
              "      <td>107</td>\n",
              "      <td>0.497</td>\n",
              "      <td>0.501</td>\n",
              "      <td>14055500</td>\n",
              "    </tr>\n",
              "    <tr>\n",
              "      <th>16</th>\n",
              "      <td>Minnesota Twins</td>\n",
              "      <td>1432.2</td>\n",
              "      <td>574</td>\n",
              "      <td>162</td>\n",
              "      <td>880</td>\n",
              "      <td>5.53</td>\n",
              "      <td>5.53</td>\n",
              "      <td>-0.29</td>\n",
              "      <td>0.00</td>\n",
              "      <td>105.0</td>\n",
              "      <td>6.10</td>\n",
              "      <td>81</td>\n",
              "      <td>8.5</td>\n",
              "      <td>1.14</td>\n",
              "      <td>-0.5</td>\n",
              "      <td>23.0</td>\n",
              "      <td>268</td>\n",
              "      <td>0.515</td>\n",
              "      <td>0.506</td>\n",
              "      <td>10172500</td>\n",
              "    </tr>\n",
              "    <tr>\n",
              "      <th>17</th>\n",
              "      <td>Montreal Expos</td>\n",
              "      <td>1424.2</td>\n",
              "      <td>614</td>\n",
              "      <td>162</td>\n",
              "      <td>902</td>\n",
              "      <td>5.70</td>\n",
              "      <td>5.07</td>\n",
              "      <td>-0.23</td>\n",
              "      <td>-0.02</td>\n",
              "      <td>103.6</td>\n",
              "      <td>5.47</td>\n",
              "      <td>-40</td>\n",
              "      <td>-2.7</td>\n",
              "      <td>1.14</td>\n",
              "      <td>-0.8</td>\n",
              "      <td>8.8</td>\n",
              "      <td>100</td>\n",
              "      <td>0.496</td>\n",
              "      <td>0.501</td>\n",
              "      <td>13961333</td>\n",
              "    </tr>\n",
              "    <tr>\n",
              "      <th>18</th>\n",
              "      <td>New York Mets</td>\n",
              "      <td>1450.0</td>\n",
              "      <td>573</td>\n",
              "      <td>162</td>\n",
              "      <td>738</td>\n",
              "      <td>4.58</td>\n",
              "      <td>5.02</td>\n",
              "      <td>0.07</td>\n",
              "      <td>0.01</td>\n",
              "      <td>96.1</td>\n",
              "      <td>4.77</td>\n",
              "      <td>27</td>\n",
              "      <td>3.6</td>\n",
              "      <td>1.30</td>\n",
              "      <td>0.2</td>\n",
              "      <td>16.3</td>\n",
              "      <td>169</td>\n",
              "      <td>0.506</td>\n",
              "      <td>0.502</td>\n",
              "      <td>40629181</td>\n",
              "    </tr>\n",
              "    <tr>\n",
              "      <th>19</th>\n",
              "      <td>New York Yankees</td>\n",
              "      <td>1424.1</td>\n",
              "      <td>543</td>\n",
              "      <td>161</td>\n",
              "      <td>814</td>\n",
              "      <td>5.14</td>\n",
              "      <td>5.38</td>\n",
              "      <td>-0.14</td>\n",
              "      <td>0.02</td>\n",
              "      <td>97.9</td>\n",
              "      <td>5.41</td>\n",
              "      <td>32</td>\n",
              "      <td>3.7</td>\n",
              "      <td>1.02</td>\n",
              "      <td>-0.1</td>\n",
              "      <td>18.5</td>\n",
              "      <td>217</td>\n",
              "      <td>0.507</td>\n",
              "      <td>0.503</td>\n",
              "      <td>42921467</td>\n",
              "    </tr>\n",
              "    <tr>\n",
              "      <th>20</th>\n",
              "      <td>Oakland Athletics</td>\n",
              "      <td>1435.1</td>\n",
              "      <td>542</td>\n",
              "      <td>161</td>\n",
              "      <td>813</td>\n",
              "      <td>5.10</td>\n",
              "      <td>5.42</td>\n",
              "      <td>-0.29</td>\n",
              "      <td>0.01</td>\n",
              "      <td>95.5</td>\n",
              "      <td>5.46</td>\n",
              "      <td>47</td>\n",
              "      <td>5.1</td>\n",
              "      <td>1.19</td>\n",
              "      <td>-1.0</td>\n",
              "      <td>19.0</td>\n",
              "      <td>234</td>\n",
              "      <td>0.509</td>\n",
              "      <td>0.503</td>\n",
              "      <td>17258500</td>\n",
              "    </tr>\n",
              "    <tr>\n",
              "      <th>21</th>\n",
              "      <td>Philadelphia Phillies</td>\n",
              "      <td>1438.2</td>\n",
              "      <td>576</td>\n",
              "      <td>162</td>\n",
              "      <td>830</td>\n",
              "      <td>5.19</td>\n",
              "      <td>5.09</td>\n",
              "      <td>0.08</td>\n",
              "      <td>0.01</td>\n",
              "      <td>100.6</td>\n",
              "      <td>5.05</td>\n",
              "      <td>-26</td>\n",
              "      <td>-1.5</td>\n",
              "      <td>1.17</td>\n",
              "      <td>-1.7</td>\n",
              "      <td>9.3</td>\n",
              "      <td>115</td>\n",
              "      <td>0.497</td>\n",
              "      <td>0.500</td>\n",
              "      <td>18588000</td>\n",
              "    </tr>\n",
              "    <tr>\n",
              "      <th>22</th>\n",
              "      <td>Pittsburgh Pirates</td>\n",
              "      <td>1449.0</td>\n",
              "      <td>628</td>\n",
              "      <td>162</td>\n",
              "      <td>888</td>\n",
              "      <td>5.52</td>\n",
              "      <td>5.10</td>\n",
              "      <td>-0.37</td>\n",
              "      <td>-0.03</td>\n",
              "      <td>101.3</td>\n",
              "      <td>5.51</td>\n",
              "      <td>-5</td>\n",
              "      <td>0.2</td>\n",
              "      <td>1.13</td>\n",
              "      <td>-1.3</td>\n",
              "      <td>11.4</td>\n",
              "      <td>137</td>\n",
              "      <td>0.500</td>\n",
              "      <td>0.501</td>\n",
              "      <td>10815000</td>\n",
              "    </tr>\n",
              "    <tr>\n",
              "      <th>23</th>\n",
              "      <td>San Diego Padres</td>\n",
              "      <td>1459.1</td>\n",
              "      <td>605</td>\n",
              "      <td>162</td>\n",
              "      <td>815</td>\n",
              "      <td>5.03</td>\n",
              "      <td>5.16</td>\n",
              "      <td>-0.04</td>\n",
              "      <td>-0.01</td>\n",
              "      <td>92.6</td>\n",
              "      <td>4.80</td>\n",
              "      <td>-41</td>\n",
              "      <td>-3.2</td>\n",
              "      <td>1.29</td>\n",
              "      <td>-0.5</td>\n",
              "      <td>8.9</td>\n",
              "      <td>103</td>\n",
              "      <td>0.495</td>\n",
              "      <td>0.500</td>\n",
              "      <td>21398333</td>\n",
              "    </tr>\n",
              "    <tr>\n",
              "      <th>24</th>\n",
              "      <td>Seattle Mariners</td>\n",
              "      <td>1441.2</td>\n",
              "      <td>545</td>\n",
              "      <td>162</td>\n",
              "      <td>780</td>\n",
              "      <td>4.87</td>\n",
              "      <td>5.38</td>\n",
              "      <td>0.18</td>\n",
              "      <td>0.00</td>\n",
              "      <td>92.7</td>\n",
              "      <td>4.83</td>\n",
              "      <td>-18</td>\n",
              "      <td>-1.3</td>\n",
              "      <td>1.26</td>\n",
              "      <td>-1.4</td>\n",
              "      <td>12.4</td>\n",
              "      <td>170</td>\n",
              "      <td>0.498</td>\n",
              "      <td>0.500</td>\n",
              "      <td>28762500</td>\n",
              "    </tr>\n",
              "    <tr>\n",
              "      <th>25</th>\n",
              "      <td>San Francisco Giants</td>\n",
              "      <td>1444.1</td>\n",
              "      <td>546</td>\n",
              "      <td>162</td>\n",
              "      <td>747</td>\n",
              "      <td>4.65</td>\n",
              "      <td>5.06</td>\n",
              "      <td>0.03</td>\n",
              "      <td>0.02</td>\n",
              "      <td>93.6</td>\n",
              "      <td>4.72</td>\n",
              "      <td>6</td>\n",
              "      <td>0.9</td>\n",
              "      <td>1.22</td>\n",
              "      <td>-0.9</td>\n",
              "      <td>12.4</td>\n",
              "      <td>148</td>\n",
              "      <td>0.502</td>\n",
              "      <td>0.501</td>\n",
              "      <td>20525000</td>\n",
              "    </tr>\n",
              "    <tr>\n",
              "      <th>26</th>\n",
              "      <td>St. Louis Cardinals</td>\n",
              "      <td>1433.2</td>\n",
              "      <td>548</td>\n",
              "      <td>162</td>\n",
              "      <td>771</td>\n",
              "      <td>4.84</td>\n",
              "      <td>5.07</td>\n",
              "      <td>0.27</td>\n",
              "      <td>0.01</td>\n",
              "      <td>101.7</td>\n",
              "      <td>4.89</td>\n",
              "      <td>4</td>\n",
              "      <td>0.8</td>\n",
              "      <td>1.16</td>\n",
              "      <td>-0.6</td>\n",
              "      <td>12.6</td>\n",
              "      <td>145</td>\n",
              "      <td>0.501</td>\n",
              "      <td>0.502</td>\n",
              "      <td>25494690</td>\n",
              "    </tr>\n",
              "    <tr>\n",
              "      <th>27</th>\n",
              "      <td>Tampa Bay Devil Rays</td>\n",
              "      <td>1431.1</td>\n",
              "      <td>562</td>\n",
              "      <td>161</td>\n",
              "      <td>842</td>\n",
              "      <td>5.29</td>\n",
              "      <td>5.44</td>\n",
              "      <td>0.06</td>\n",
              "      <td>-0.01</td>\n",
              "      <td>99.6</td>\n",
              "      <td>5.34</td>\n",
              "      <td>-3</td>\n",
              "      <td>0.7</td>\n",
              "      <td>1.13</td>\n",
              "      <td>-1.6</td>\n",
              "      <td>14.0</td>\n",
              "      <td>183</td>\n",
              "      <td>0.501</td>\n",
              "      <td>0.501</td>\n",
              "      <td>16220000</td>\n",
              "    </tr>\n",
              "    <tr>\n",
              "      <th>28</th>\n",
              "      <td>Texas Rangers</td>\n",
              "      <td>1429.0</td>\n",
              "      <td>577</td>\n",
              "      <td>162</td>\n",
              "      <td>974</td>\n",
              "      <td>6.13</td>\n",
              "      <td>5.45</td>\n",
              "      <td>-0.39</td>\n",
              "      <td>0.01</td>\n",
              "      <td>102.3</td>\n",
              "      <td>5.98</td>\n",
              "      <td>-35</td>\n",
              "      <td>-2.4</td>\n",
              "      <td>1.28</td>\n",
              "      <td>-0.8</td>\n",
              "      <td>11.8</td>\n",
              "      <td>151</td>\n",
              "      <td>0.496</td>\n",
              "      <td>0.500</td>\n",
              "      <td>33240000</td>\n",
              "    </tr>\n",
              "    <tr>\n",
              "      <th>29</th>\n",
              "      <td>Toronto Blue Jays</td>\n",
              "      <td>1437.1</td>\n",
              "      <td>550</td>\n",
              "      <td>162</td>\n",
              "      <td>908</td>\n",
              "      <td>5.69</td>\n",
              "      <td>5.41</td>\n",
              "      <td>0.01</td>\n",
              "      <td>0.01</td>\n",
              "      <td>102.4</td>\n",
              "      <td>5.54</td>\n",
              "      <td>-34</td>\n",
              "      <td>-1.6</td>\n",
              "      <td>1.10</td>\n",
              "      <td>-1.0</td>\n",
              "      <td>12.5</td>\n",
              "      <td>154</td>\n",
              "      <td>0.497</td>\n",
              "      <td>0.500</td>\n",
              "      <td>17744999</td>\n",
              "    </tr>\n",
              "  </tbody>\n",
              "</table>\n",
              "</div>"
            ],
            "text/plain": [
              "                       Tm      IP    G   GS  ...  RAR  waaWL%  162WL%    Salary\n",
              "0          Anaheim Angels  1448.0  603  162  ...  123   0.491   0.500  22520000\n",
              "1    Arizona Diamondbacks  1443.2  552  162  ...  219   0.516   0.504  43168500\n",
              "2          Atlanta Braves  1440.1  538  162  ...  190   0.510   0.503  29302737\n",
              "3       Baltimore Orioles  1433.1  558  162  ...  112   0.490   0.500  26685953\n",
              "4          Boston Red Sox  1452.2  587  162  ...  289   0.518   0.505  34865000\n",
              "5            Chicago Cubs  1454.2  583  162  ...   54   0.487   0.499  24041833\n",
              "6       Chicago White Sox  1450.1  628  162  ...  215   0.505   0.504  14346000\n",
              "7         Cincinnati Reds  1456.1  550  163  ...  173   0.506   0.502  14050000\n",
              "8       Cleveland Indians  1442.1  624  162  ...  236   0.509   0.504  29581615\n",
              "9        Colorado Rockies  1430.0  641  162  ...  189   0.509   0.505  25405833\n",
              "10         Detroit Tigers  1443.1  591  162  ...  173   0.499   0.500  19982667\n",
              "11        Florida Marlins  1429.2  590  161  ...  122   0.498   0.499  10779000\n",
              "12         Houston Astros  1437.2  572  162  ...  121   0.497   0.500  20816611\n",
              "13     Kansas City Royals  1439.1  491  162  ...  100   0.486   0.499   8660500\n",
              "14    Los Angeles Dodgers  1445.0  533  162  ...  176   0.509   0.504  42115952\n",
              "15      Milwaukee Brewers  1466.1  596  163  ...  107   0.497   0.501  14055500\n",
              "16        Minnesota Twins  1432.2  574  162  ...  268   0.515   0.506  10172500\n",
              "17         Montreal Expos  1424.2  614  162  ...  100   0.496   0.501  13961333\n",
              "18          New York Mets  1450.0  573  162  ...  169   0.506   0.502  40629181\n",
              "19       New York Yankees  1424.1  543  161  ...  217   0.507   0.503  42921467\n",
              "20      Oakland Athletics  1435.1  542  161  ...  234   0.509   0.503  17258500\n",
              "21  Philadelphia Phillies  1438.2  576  162  ...  115   0.497   0.500  18588000\n",
              "22     Pittsburgh Pirates  1449.0  628  162  ...  137   0.500   0.501  10815000\n",
              "23       San Diego Padres  1459.1  605  162  ...  103   0.495   0.500  21398333\n",
              "24       Seattle Mariners  1441.2  545  162  ...  170   0.498   0.500  28762500\n",
              "25   San Francisco Giants  1444.1  546  162  ...  148   0.502   0.501  20525000\n",
              "26    St. Louis Cardinals  1433.2  548  162  ...  145   0.501   0.502  25494690\n",
              "27   Tampa Bay Devil Rays  1431.1  562  161  ...  183   0.501   0.501  16220000\n",
              "28          Texas Rangers  1429.0  577  162  ...  151   0.496   0.500  33240000\n",
              "29      Toronto Blue Jays  1437.1  550  162  ...  154   0.497   0.500  17744999\n",
              "\n",
              "[30 rows x 20 columns]"
            ]
          },
          "metadata": {
            "tags": []
          },
          "execution_count": 282
        }
      ]
    },
    {
      "cell_type": "code",
      "metadata": {
        "id": "ZBqCI2o_7lEx"
      },
      "source": [
        "df_PitchStats = df_Pitch2000.append(df_Pitch2001)\n",
        "df_PitchStats = df_PitchStats.append(df_Pitch2002)\n",
        "df_PitchStats = df_PitchStats.append(df_Pitch2003)\n",
        "df_PitchStats = df_PitchStats.append(df_Pitch2004)\n",
        "df_PitchStats = df_PitchStats.append(df_Pitch2005)\n",
        "df_PitchStats = df_PitchStats.append(df_Pitch2006)\n",
        "df_PitchStats = df_PitchStats.append(df_Pitch2007)\n",
        "df_PitchStats = df_PitchStats.append(df_Pitch2008)\n",
        "df_PitchStats = df_PitchStats.append(df_Pitch2009)\n",
        "df_PitchStats = df_PitchStats.append(df_Pitch2010)\n",
        "df_PitchStats = df_PitchStats.append(df_Pitch2011)\n",
        "df_PitchStats = df_PitchStats.append(df_Pitch2012)\n",
        "df_PitchStats = df_PitchStats.append(df_Pitch2013)\n",
        "df_PitchStats = df_PitchStats.append(df_Pitch2014)\n",
        "df_PitchStats = df_PitchStats.append(df_Pitch2015)\n",
        "df_PitchStats = df_PitchStats.append(df_Pitch2016)\n",
        "df_PitchStats = df_PitchStats.append(df_Pitch2017)\n",
        "df_PitchStats = df_PitchStats.append(df_Pitch2018)\n",
        "df_PitchStats = df_PitchStats.append(df_Pitch2019)"
      ],
      "execution_count": 283,
      "outputs": []
    },
    {
      "cell_type": "code",
      "metadata": {
        "colab": {
          "base_uri": "https://localhost:8080/",
          "height": 419
        },
        "id": "ElFtsXBE7_kO",
        "outputId": "96ce781c-8d67-4ec5-e4c8-1342992545cd"
      },
      "source": [
        "df_PitchStats"
      ],
      "execution_count": 284,
      "outputs": [
        {
          "output_type": "execute_result",
          "data": {
            "text/html": [
              "<div>\n",
              "<style scoped>\n",
              "    .dataframe tbody tr th:only-of-type {\n",
              "        vertical-align: middle;\n",
              "    }\n",
              "\n",
              "    .dataframe tbody tr th {\n",
              "        vertical-align: top;\n",
              "    }\n",
              "\n",
              "    .dataframe thead th {\n",
              "        text-align: right;\n",
              "    }\n",
              "</style>\n",
              "<table border=\"1\" class=\"dataframe\">\n",
              "  <thead>\n",
              "    <tr style=\"text-align: right;\">\n",
              "      <th></th>\n",
              "      <th>Tm</th>\n",
              "      <th>IP</th>\n",
              "      <th>G</th>\n",
              "      <th>GS</th>\n",
              "      <th>R</th>\n",
              "      <th>RA9</th>\n",
              "      <th>RA9opp</th>\n",
              "      <th>RA9def</th>\n",
              "      <th>RA9role</th>\n",
              "      <th>PPFp</th>\n",
              "      <th>RA9avg</th>\n",
              "      <th>RAA</th>\n",
              "      <th>WAA</th>\n",
              "      <th>gmLI</th>\n",
              "      <th>WAAadj</th>\n",
              "      <th>WAR</th>\n",
              "      <th>RAR</th>\n",
              "      <th>waaWL%</th>\n",
              "      <th>162WL%</th>\n",
              "      <th>Salary</th>\n",
              "    </tr>\n",
              "  </thead>\n",
              "  <tbody>\n",
              "    <tr>\n",
              "      <th>0</th>\n",
              "      <td>Anaheim Angels</td>\n",
              "      <td>1448.0</td>\n",
              "      <td>603</td>\n",
              "      <td>162</td>\n",
              "      <td>869</td>\n",
              "      <td>5.40</td>\n",
              "      <td>5.46</td>\n",
              "      <td>0.44</td>\n",
              "      <td>-0.03</td>\n",
              "      <td>101.2</td>\n",
              "      <td>5.06</td>\n",
              "      <td>-66</td>\n",
              "      <td>-5.5</td>\n",
              "      <td>1.19</td>\n",
              "      <td>-1.6</td>\n",
              "      <td>8.0</td>\n",
              "      <td>123</td>\n",
              "      <td>0.491</td>\n",
              "      <td>0.500</td>\n",
              "      <td>22520000</td>\n",
              "    </tr>\n",
              "    <tr>\n",
              "      <th>1</th>\n",
              "      <td>Arizona Diamondbacks</td>\n",
              "      <td>1443.2</td>\n",
              "      <td>552</td>\n",
              "      <td>162</td>\n",
              "      <td>754</td>\n",
              "      <td>4.70</td>\n",
              "      <td>5.16</td>\n",
              "      <td>0.11</td>\n",
              "      <td>0.01</td>\n",
              "      <td>102.9</td>\n",
              "      <td>5.21</td>\n",
              "      <td>78</td>\n",
              "      <td>8.7</td>\n",
              "      <td>1.10</td>\n",
              "      <td>-1.5</td>\n",
              "      <td>19.6</td>\n",
              "      <td>219</td>\n",
              "      <td>0.516</td>\n",
              "      <td>0.504</td>\n",
              "      <td>43168500</td>\n",
              "    </tr>\n",
              "    <tr>\n",
              "      <th>2</th>\n",
              "      <td>Atlanta Braves</td>\n",
              "      <td>1440.1</td>\n",
              "      <td>538</td>\n",
              "      <td>162</td>\n",
              "      <td>714</td>\n",
              "      <td>4.46</td>\n",
              "      <td>5.02</td>\n",
              "      <td>0.22</td>\n",
              "      <td>0.03</td>\n",
              "      <td>99.3</td>\n",
              "      <td>4.79</td>\n",
              "      <td>48</td>\n",
              "      <td>5.4</td>\n",
              "      <td>1.22</td>\n",
              "      <td>-0.5</td>\n",
              "      <td>17.2</td>\n",
              "      <td>190</td>\n",
              "      <td>0.510</td>\n",
              "      <td>0.503</td>\n",
              "      <td>29302737</td>\n",
              "    </tr>\n",
              "    <tr>\n",
              "      <th>3</th>\n",
              "      <td>Baltimore Orioles</td>\n",
              "      <td>1433.1</td>\n",
              "      <td>558</td>\n",
              "      <td>162</td>\n",
              "      <td>913</td>\n",
              "      <td>5.73</td>\n",
              "      <td>5.38</td>\n",
              "      <td>-0.13</td>\n",
              "      <td>0.02</td>\n",
              "      <td>96.4</td>\n",
              "      <td>5.33</td>\n",
              "      <td>-75</td>\n",
              "      <td>-5.7</td>\n",
              "      <td>1.31</td>\n",
              "      <td>-1.4</td>\n",
              "      <td>7.9</td>\n",
              "      <td>112</td>\n",
              "      <td>0.490</td>\n",
              "      <td>0.500</td>\n",
              "      <td>26685953</td>\n",
              "    </tr>\n",
              "    <tr>\n",
              "      <th>4</th>\n",
              "      <td>Boston Red Sox</td>\n",
              "      <td>1452.2</td>\n",
              "      <td>587</td>\n",
              "      <td>162</td>\n",
              "      <td>745</td>\n",
              "      <td>4.62</td>\n",
              "      <td>5.43</td>\n",
              "      <td>0.23</td>\n",
              "      <td>-0.02</td>\n",
              "      <td>102.4</td>\n",
              "      <td>5.30</td>\n",
              "      <td>99</td>\n",
              "      <td>10.9</td>\n",
              "      <td>1.18</td>\n",
              "      <td>-0.6</td>\n",
              "      <td>25.5</td>\n",
              "      <td>289</td>\n",
              "      <td>0.518</td>\n",
              "      <td>0.505</td>\n",
              "      <td>34865000</td>\n",
              "    </tr>\n",
              "    <tr>\n",
              "      <th>...</th>\n",
              "      <td>...</td>\n",
              "      <td>...</td>\n",
              "      <td>...</td>\n",
              "      <td>...</td>\n",
              "      <td>...</td>\n",
              "      <td>...</td>\n",
              "      <td>...</td>\n",
              "      <td>...</td>\n",
              "      <td>...</td>\n",
              "      <td>...</td>\n",
              "      <td>...</td>\n",
              "      <td>...</td>\n",
              "      <td>...</td>\n",
              "      <td>...</td>\n",
              "      <td>...</td>\n",
              "      <td>...</td>\n",
              "      <td>...</td>\n",
              "      <td>...</td>\n",
              "      <td>...</td>\n",
              "      <td>...</td>\n",
              "    </tr>\n",
              "    <tr>\n",
              "      <th>25</th>\n",
              "      <td>St. Louis Cardinals</td>\n",
              "      <td>1444.0</td>\n",
              "      <td>704</td>\n",
              "      <td>162</td>\n",
              "      <td>662</td>\n",
              "      <td>4.13</td>\n",
              "      <td>4.76</td>\n",
              "      <td>0.50</td>\n",
              "      <td>0.00</td>\n",
              "      <td>95.7</td>\n",
              "      <td>4.08</td>\n",
              "      <td>10</td>\n",
              "      <td>1.5</td>\n",
              "      <td>1.16</td>\n",
              "      <td>-1.3</td>\n",
              "      <td>13.1</td>\n",
              "      <td>128</td>\n",
              "      <td>0.502</td>\n",
              "      <td>0.501</td>\n",
              "      <td>63155100</td>\n",
              "    </tr>\n",
              "    <tr>\n",
              "      <th>26</th>\n",
              "      <td>Tampa Bay Rays</td>\n",
              "      <td>1474.1</td>\n",
              "      <td>765</td>\n",
              "      <td>162</td>\n",
              "      <td>656</td>\n",
              "      <td>4.00</td>\n",
              "      <td>5.03</td>\n",
              "      <td>0.38</td>\n",
              "      <td>-0.03</td>\n",
              "      <td>93.7</td>\n",
              "      <td>4.33</td>\n",
              "      <td>52</td>\n",
              "      <td>5.6</td>\n",
              "      <td>1.27</td>\n",
              "      <td>-1.9</td>\n",
              "      <td>18.3</td>\n",
              "      <td>213</td>\n",
              "      <td>0.507</td>\n",
              "      <td>0.501</td>\n",
              "      <td>24165800</td>\n",
              "    </tr>\n",
              "    <tr>\n",
              "      <th>27</th>\n",
              "      <td>Texas Rangers</td>\n",
              "      <td>1438.0</td>\n",
              "      <td>661</td>\n",
              "      <td>162</td>\n",
              "      <td>878</td>\n",
              "      <td>5.50</td>\n",
              "      <td>5.07</td>\n",
              "      <td>-0.27</td>\n",
              "      <td>0.00</td>\n",
              "      <td>111.4</td>\n",
              "      <td>5.95</td>\n",
              "      <td>71</td>\n",
              "      <td>8.7</td>\n",
              "      <td>0.98</td>\n",
              "      <td>-1.0</td>\n",
              "      <td>22.0</td>\n",
              "      <td>229</td>\n",
              "      <td>0.513</td>\n",
              "      <td>0.504</td>\n",
              "      <td>46549666</td>\n",
              "    </tr>\n",
              "    <tr>\n",
              "      <th>28</th>\n",
              "      <td>Toronto Blue Jays</td>\n",
              "      <td>1440.1</td>\n",
              "      <td>753</td>\n",
              "      <td>162</td>\n",
              "      <td>828</td>\n",
              "      <td>5.17</td>\n",
              "      <td>5.03</td>\n",
              "      <td>-0.06</td>\n",
              "      <td>-0.03</td>\n",
              "      <td>98.2</td>\n",
              "      <td>4.98</td>\n",
              "      <td>-32</td>\n",
              "      <td>-1.7</td>\n",
              "      <td>1.00</td>\n",
              "      <td>-1.1</td>\n",
              "      <td>11.6</td>\n",
              "      <td>125</td>\n",
              "      <td>0.498</td>\n",
              "      <td>0.501</td>\n",
              "      <td>38849100</td>\n",
              "    </tr>\n",
              "    <tr>\n",
              "      <th>29</th>\n",
              "      <td>Washington Nationals</td>\n",
              "      <td>1439.1</td>\n",
              "      <td>692</td>\n",
              "      <td>162</td>\n",
              "      <td>724</td>\n",
              "      <td>4.53</td>\n",
              "      <td>4.72</td>\n",
              "      <td>-0.04</td>\n",
              "      <td>0.03</td>\n",
              "      <td>99.7</td>\n",
              "      <td>4.78</td>\n",
              "      <td>56</td>\n",
              "      <td>7.7</td>\n",
              "      <td>1.11</td>\n",
              "      <td>-0.7</td>\n",
              "      <td>19.9</td>\n",
              "      <td>174</td>\n",
              "      <td>0.511</td>\n",
              "      <td>0.503</td>\n",
              "      <td>123512661</td>\n",
              "    </tr>\n",
              "  </tbody>\n",
              "</table>\n",
              "<p>600 rows × 20 columns</p>\n",
              "</div>"
            ],
            "text/plain": [
              "                      Tm      IP    G   GS  ...  RAR  waaWL%  162WL%     Salary\n",
              "0         Anaheim Angels  1448.0  603  162  ...  123   0.491   0.500   22520000\n",
              "1   Arizona Diamondbacks  1443.2  552  162  ...  219   0.516   0.504   43168500\n",
              "2         Atlanta Braves  1440.1  538  162  ...  190   0.510   0.503   29302737\n",
              "3      Baltimore Orioles  1433.1  558  162  ...  112   0.490   0.500   26685953\n",
              "4         Boston Red Sox  1452.2  587  162  ...  289   0.518   0.505   34865000\n",
              "..                   ...     ...  ...  ...  ...  ...     ...     ...        ...\n",
              "25   St. Louis Cardinals  1444.0  704  162  ...  128   0.502   0.501   63155100\n",
              "26        Tampa Bay Rays  1474.1  765  162  ...  213   0.507   0.501   24165800\n",
              "27         Texas Rangers  1438.0  661  162  ...  229   0.513   0.504   46549666\n",
              "28     Toronto Blue Jays  1440.1  753  162  ...  125   0.498   0.501   38849100\n",
              "29  Washington Nationals  1439.1  692  162  ...  174   0.511   0.503  123512661\n",
              "\n",
              "[600 rows x 20 columns]"
            ]
          },
          "metadata": {
            "tags": []
          },
          "execution_count": 284
        }
      ]
    },
    {
      "cell_type": "code",
      "metadata": {
        "id": "93zw_FF3W8Ma"
      },
      "source": [
        "xls = pd.ExcelFile('/content/Baseball_Records.xlsx')\n",
        "df_Records2000 = pd.read_excel(xls, 'Records_2000')\n",
        "df_Records2001 = pd.read_excel(xls, 'Records_2001')\n",
        "df_Records2002 = pd.read_excel(xls, 'Records_2002')\n",
        "df_Records2003 = pd.read_excel(xls, 'Records_2003')\n",
        "df_Records2004 = pd.read_excel(xls, 'Records_2004')\n",
        "df_Records2005 = pd.read_excel(xls, 'Records_2005')\n",
        "df_Records2006 = pd.read_excel(xls, 'Records_2006')\n",
        "df_Records2007 = pd.read_excel(xls, 'Records_2007')\n",
        "df_Records2008 = pd.read_excel(xls, 'Records_2008')\n",
        "df_Records2009 = pd.read_excel(xls, 'Records_2009')\n",
        "df_Records2010 = pd.read_excel(xls, 'Records_2010')\n",
        "df_Records2011 = pd.read_excel(xls, 'Records_2011')\n",
        "df_Records2012 = pd.read_excel(xls, 'Records_2012')\n",
        "df_Records2013 = pd.read_excel(xls, 'Records_2013')\n",
        "df_Records2014 = pd.read_excel(xls, 'Records_2014')\n",
        "df_Records2015 = pd.read_excel(xls, 'Records_2015')\n",
        "df_Records2016 = pd.read_excel(xls, 'Records_2016')\n",
        "df_Records2017 = pd.read_excel(xls, 'Records_2017')\n",
        "df_Records2018 = pd.read_excel(xls, 'Records_2018')\n",
        "df_Records2019 = pd.read_excel(xls, 'Records_2019')"
      ],
      "execution_count": 285,
      "outputs": []
    },
    {
      "cell_type": "code",
      "metadata": {
        "id": "AMESMHkeYWuD"
      },
      "source": [
        "df_Records = df_Records2000.append(df_Records2001)\n",
        "df_Records = df_Records.append(df_Records2002)\n",
        "df_Records = df_Records.append(df_Records2003)\n",
        "df_Records = df_Records.append(df_Records2004)\n",
        "df_Records = df_Records.append(df_Records2005)\n",
        "df_Records = df_Records.append(df_Records2006)\n",
        "df_Records = df_Records.append(df_Records2007)\n",
        "df_Records = df_Records.append(df_Records2008)\n",
        "df_Records = df_Records.append(df_Records2009)\n",
        "df_Records = df_Records.append(df_Records2010)\n",
        "df_Records = df_Records.append(df_Records2011)\n",
        "df_Records = df_Records.append(df_Records2012)\n",
        "df_Records = df_Records.append(df_Records2013)\n",
        "df_Records = df_Records.append(df_Records2014)\n",
        "df_Records = df_Records.append(df_Records2015)\n",
        "df_Records = df_Records.append(df_Records2016)\n",
        "df_Records = df_Records.append(df_Records2017)\n",
        "df_Records = df_Records.append(df_Records2018)\n",
        "df_Records = df_Records.append(df_Records2019)"
      ],
      "execution_count": 286,
      "outputs": []
    },
    {
      "cell_type": "code",
      "metadata": {
        "colab": {
          "base_uri": "https://localhost:8080/",
          "height": 759
        },
        "id": "4i7Di0S8aA1A",
        "outputId": "392b77cf-2b03-4eb7-d0ab-5135c1a56d66"
      },
      "source": [
        "df_Records "
      ],
      "execution_count": 287,
      "outputs": [
        {
          "output_type": "execute_result",
          "data": {
            "text/html": [
              "<div>\n",
              "<style scoped>\n",
              "    .dataframe tbody tr th:only-of-type {\n",
              "        vertical-align: middle;\n",
              "    }\n",
              "\n",
              "    .dataframe tbody tr th {\n",
              "        vertical-align: top;\n",
              "    }\n",
              "\n",
              "    .dataframe thead th {\n",
              "        text-align: right;\n",
              "    }\n",
              "</style>\n",
              "<table border=\"1\" class=\"dataframe\">\n",
              "  <thead>\n",
              "    <tr style=\"text-align: right;\">\n",
              "      <th></th>\n",
              "      <th>Rk</th>\n",
              "      <th>Tm</th>\n",
              "      <th>W</th>\n",
              "      <th>L</th>\n",
              "      <th>W-L%</th>\n",
              "      <th>R</th>\n",
              "      <th>RA</th>\n",
              "      <th>Rdiff</th>\n",
              "      <th>SOS</th>\n",
              "      <th>SRS</th>\n",
              "      <th>pythWL</th>\n",
              "      <th>Luck</th>\n",
              "      <th>vEast</th>\n",
              "      <th>vCent</th>\n",
              "      <th>vWest</th>\n",
              "      <th>Inter</th>\n",
              "      <th>Home</th>\n",
              "      <th>Road</th>\n",
              "      <th>ExInn</th>\n",
              "      <th>1Run</th>\n",
              "      <th>vRHP</th>\n",
              "      <th>vLHP</th>\n",
              "      <th>≥.500</th>\n",
              "      <th>&lt;.500</th>\n",
              "    </tr>\n",
              "  </thead>\n",
              "  <tbody>\n",
              "    <tr>\n",
              "      <th>0</th>\n",
              "      <td>1</td>\n",
              "      <td>San Francisco Giants</td>\n",
              "      <td>97</td>\n",
              "      <td>65</td>\n",
              "      <td>0.599</td>\n",
              "      <td>5.7</td>\n",
              "      <td>4.6</td>\n",
              "      <td>1.1</td>\n",
              "      <td>-0.1</td>\n",
              "      <td>1.0</td>\n",
              "      <td>97-65</td>\n",
              "      <td>0</td>\n",
              "      <td>27-17</td>\n",
              "      <td>36-17</td>\n",
              "      <td>26-24</td>\n",
              "      <td>2021-08-07 00:00:00</td>\n",
              "      <td>55-26</td>\n",
              "      <td>42-39</td>\n",
              "      <td>2021-07-05 00:00:00</td>\n",
              "      <td>18-22</td>\n",
              "      <td>78-45</td>\n",
              "      <td>19-20</td>\n",
              "      <td>43-42</td>\n",
              "      <td>54-23</td>\n",
              "    </tr>\n",
              "    <tr>\n",
              "      <th>1</th>\n",
              "      <td>2</td>\n",
              "      <td>St. Louis Cardinals</td>\n",
              "      <td>95</td>\n",
              "      <td>67</td>\n",
              "      <td>0.586</td>\n",
              "      <td>5.5</td>\n",
              "      <td>4.8</td>\n",
              "      <td>0.7</td>\n",
              "      <td>-0.1</td>\n",
              "      <td>0.6</td>\n",
              "      <td>91-71</td>\n",
              "      <td>4</td>\n",
              "      <td>25-16</td>\n",
              "      <td>37-25</td>\n",
              "      <td>26-18</td>\n",
              "      <td>2021-07-08 00:00:00</td>\n",
              "      <td>50-31</td>\n",
              "      <td>45-36</td>\n",
              "      <td>2021-05-02 00:00:00</td>\n",
              "      <td>28-16</td>\n",
              "      <td>78-44</td>\n",
              "      <td>17-23</td>\n",
              "      <td>33-37</td>\n",
              "      <td>62-30</td>\n",
              "    </tr>\n",
              "    <tr>\n",
              "      <th>2</th>\n",
              "      <td>3</td>\n",
              "      <td>Chicago White Sox</td>\n",
              "      <td>95</td>\n",
              "      <td>67</td>\n",
              "      <td>0.586</td>\n",
              "      <td>6.0</td>\n",
              "      <td>5.2</td>\n",
              "      <td>0.9</td>\n",
              "      <td>0.0</td>\n",
              "      <td>0.9</td>\n",
              "      <td>92-70</td>\n",
              "      <td>3</td>\n",
              "      <td>30-24</td>\n",
              "      <td>29-20</td>\n",
              "      <td>24-17</td>\n",
              "      <td>2021-12-06 00:00:00</td>\n",
              "      <td>46-35</td>\n",
              "      <td>49-32</td>\n",
              "      <td>2021-07-04 00:00:00</td>\n",
              "      <td>28-18</td>\n",
              "      <td>74-57</td>\n",
              "      <td>21-10</td>\n",
              "      <td>49-35</td>\n",
              "      <td>46-32</td>\n",
              "    </tr>\n",
              "    <tr>\n",
              "      <th>3</th>\n",
              "      <td>4</td>\n",
              "      <td>Atlanta Braves</td>\n",
              "      <td>95</td>\n",
              "      <td>67</td>\n",
              "      <td>0.586</td>\n",
              "      <td>5.0</td>\n",
              "      <td>4.4</td>\n",
              "      <td>0.6</td>\n",
              "      <td>-0.2</td>\n",
              "      <td>0.4</td>\n",
              "      <td>90-72</td>\n",
              "      <td>5</td>\n",
              "      <td>27-24</td>\n",
              "      <td>25-23</td>\n",
              "      <td>32-13</td>\n",
              "      <td>2021-11-07 00:00:00</td>\n",
              "      <td>51-30</td>\n",
              "      <td>44-37</td>\n",
              "      <td>2021-03-05 00:00:00</td>\n",
              "      <td>18-18</td>\n",
              "      <td>74-53</td>\n",
              "      <td>21-14</td>\n",
              "      <td>42-33</td>\n",
              "      <td>53-34</td>\n",
              "    </tr>\n",
              "    <tr>\n",
              "      <th>4</th>\n",
              "      <td>5</td>\n",
              "      <td>New York Mets</td>\n",
              "      <td>94</td>\n",
              "      <td>68</td>\n",
              "      <td>0.580</td>\n",
              "      <td>5.0</td>\n",
              "      <td>4.6</td>\n",
              "      <td>0.4</td>\n",
              "      <td>-0.1</td>\n",
              "      <td>0.3</td>\n",
              "      <td>88-74</td>\n",
              "      <td>6</td>\n",
              "      <td>27-23</td>\n",
              "      <td>34-16</td>\n",
              "      <td>24-20</td>\n",
              "      <td>2021-09-09 00:00:00</td>\n",
              "      <td>55-26</td>\n",
              "      <td>39-42</td>\n",
              "      <td>2021-10-08 00:00:00</td>\n",
              "      <td>29-20</td>\n",
              "      <td>76-55</td>\n",
              "      <td>18-13</td>\n",
              "      <td>42-36</td>\n",
              "      <td>52-32</td>\n",
              "    </tr>\n",
              "    <tr>\n",
              "      <th>...</th>\n",
              "      <td>...</td>\n",
              "      <td>...</td>\n",
              "      <td>...</td>\n",
              "      <td>...</td>\n",
              "      <td>...</td>\n",
              "      <td>...</td>\n",
              "      <td>...</td>\n",
              "      <td>...</td>\n",
              "      <td>...</td>\n",
              "      <td>...</td>\n",
              "      <td>...</td>\n",
              "      <td>...</td>\n",
              "      <td>...</td>\n",
              "      <td>...</td>\n",
              "      <td>...</td>\n",
              "      <td>...</td>\n",
              "      <td>...</td>\n",
              "      <td>...</td>\n",
              "      <td>...</td>\n",
              "      <td>...</td>\n",
              "      <td>...</td>\n",
              "      <td>...</td>\n",
              "      <td>...</td>\n",
              "      <td>...</td>\n",
              "    </tr>\n",
              "    <tr>\n",
              "      <th>25</th>\n",
              "      <td>26</td>\n",
              "      <td>Toronto Blue Jays</td>\n",
              "      <td>67</td>\n",
              "      <td>95</td>\n",
              "      <td>0.414</td>\n",
              "      <td>4.5</td>\n",
              "      <td>5.1</td>\n",
              "      <td>-0.6</td>\n",
              "      <td>-0.1</td>\n",
              "      <td>-0.7</td>\n",
              "      <td>71-91</td>\n",
              "      <td>-4</td>\n",
              "      <td>33-43</td>\n",
              "      <td>17-18</td>\n",
              "      <td>14-17</td>\n",
              "      <td>2021-03-17 00:00:00</td>\n",
              "      <td>35-46</td>\n",
              "      <td>32-49</td>\n",
              "      <td>2021-07-08 00:00:00</td>\n",
              "      <td>18-23</td>\n",
              "      <td>43-65</td>\n",
              "      <td>24-30</td>\n",
              "      <td>35-58</td>\n",
              "      <td>32-37</td>\n",
              "    </tr>\n",
              "    <tr>\n",
              "      <th>26</th>\n",
              "      <td>27</td>\n",
              "      <td>Kansas City Royals</td>\n",
              "      <td>59</td>\n",
              "      <td>103</td>\n",
              "      <td>0.364</td>\n",
              "      <td>4.3</td>\n",
              "      <td>5.4</td>\n",
              "      <td>-1.1</td>\n",
              "      <td>-0.2</td>\n",
              "      <td>-1.3</td>\n",
              "      <td>64-98</td>\n",
              "      <td>-5</td>\n",
              "      <td>2021-10-23 00:00:00</td>\n",
              "      <td>31-45</td>\n",
              "      <td>2021-09-24 00:00:00</td>\n",
              "      <td>2021-09-11 00:00:00</td>\n",
              "      <td>31-50</td>\n",
              "      <td>28-53</td>\n",
              "      <td>2021-04-09 00:00:00</td>\n",
              "      <td>15-25</td>\n",
              "      <td>43-76</td>\n",
              "      <td>16-27</td>\n",
              "      <td>28-60</td>\n",
              "      <td>31-43</td>\n",
              "    </tr>\n",
              "    <tr>\n",
              "      <th>27</th>\n",
              "      <td>28</td>\n",
              "      <td>Miami Marlins</td>\n",
              "      <td>57</td>\n",
              "      <td>105</td>\n",
              "      <td>0.352</td>\n",
              "      <td>3.8</td>\n",
              "      <td>5.0</td>\n",
              "      <td>-1.2</td>\n",
              "      <td>0.3</td>\n",
              "      <td>-0.9</td>\n",
              "      <td>61-101</td>\n",
              "      <td>-4</td>\n",
              "      <td>24-52</td>\n",
              "      <td>2021-10-24 00:00:00</td>\n",
              "      <td>14-18</td>\n",
              "      <td>2021-09-11 00:00:00</td>\n",
              "      <td>30-51</td>\n",
              "      <td>27-54</td>\n",
              "      <td>2021-07-09 00:00:00</td>\n",
              "      <td>16-28</td>\n",
              "      <td>39-81</td>\n",
              "      <td>18-24</td>\n",
              "      <td>38-83</td>\n",
              "      <td>19-22</td>\n",
              "    </tr>\n",
              "    <tr>\n",
              "      <th>28</th>\n",
              "      <td>29</td>\n",
              "      <td>Baltimore Orioles</td>\n",
              "      <td>54</td>\n",
              "      <td>108</td>\n",
              "      <td>0.333</td>\n",
              "      <td>4.5</td>\n",
              "      <td>6.1</td>\n",
              "      <td>-1.6</td>\n",
              "      <td>0.0</td>\n",
              "      <td>-1.5</td>\n",
              "      <td>60-102</td>\n",
              "      <td>-6</td>\n",
              "      <td>24-52</td>\n",
              "      <td>2021-12-20 00:00:00</td>\n",
              "      <td>2021-11-23 00:00:00</td>\n",
              "      <td>2021-07-13 00:00:00</td>\n",
              "      <td>25-56</td>\n",
              "      <td>29-52</td>\n",
              "      <td>2021-02-08 00:00:00</td>\n",
              "      <td>2021-11-22 00:00:00</td>\n",
              "      <td>33-67</td>\n",
              "      <td>21-41</td>\n",
              "      <td>26-67</td>\n",
              "      <td>28-41</td>\n",
              "    </tr>\n",
              "    <tr>\n",
              "      <th>29</th>\n",
              "      <td>30</td>\n",
              "      <td>Detroit Tigers</td>\n",
              "      <td>47</td>\n",
              "      <td>114</td>\n",
              "      <td>0.292</td>\n",
              "      <td>3.6</td>\n",
              "      <td>5.7</td>\n",
              "      <td>-2.1</td>\n",
              "      <td>-0.2</td>\n",
              "      <td>-2.2</td>\n",
              "      <td>49-112</td>\n",
              "      <td>-2</td>\n",
              "      <td>14-19</td>\n",
              "      <td>22-53</td>\n",
              "      <td>2021-06-27 00:00:00</td>\n",
              "      <td>2021-05-15 00:00:00</td>\n",
              "      <td>22-59</td>\n",
              "      <td>25-55</td>\n",
              "      <td>2021-06-10 00:00:00</td>\n",
              "      <td>14-22</td>\n",
              "      <td>34-90</td>\n",
              "      <td>13-24</td>\n",
              "      <td>19-65</td>\n",
              "      <td>28-49</td>\n",
              "    </tr>\n",
              "  </tbody>\n",
              "</table>\n",
              "<p>600 rows × 24 columns</p>\n",
              "</div>"
            ],
            "text/plain": [
              "    Rk                    Tm   W    L  ...   vRHP   vLHP  ≥.500  <.500\n",
              "0    1  San Francisco Giants  97   65  ...  78-45  19-20  43-42  54-23\n",
              "1    2   St. Louis Cardinals  95   67  ...  78-44  17-23  33-37  62-30\n",
              "2    3     Chicago White Sox  95   67  ...  74-57  21-10  49-35  46-32\n",
              "3    4        Atlanta Braves  95   67  ...  74-53  21-14  42-33  53-34\n",
              "4    5         New York Mets  94   68  ...  76-55  18-13  42-36  52-32\n",
              "..  ..                   ...  ..  ...  ...    ...    ...    ...    ...\n",
              "25  26     Toronto Blue Jays  67   95  ...  43-65  24-30  35-58  32-37\n",
              "26  27    Kansas City Royals  59  103  ...  43-76  16-27  28-60  31-43\n",
              "27  28         Miami Marlins  57  105  ...  39-81  18-24  38-83  19-22\n",
              "28  29     Baltimore Orioles  54  108  ...  33-67  21-41  26-67  28-41\n",
              "29  30        Detroit Tigers  47  114  ...  34-90  13-24  19-65  28-49\n",
              "\n",
              "[600 rows x 24 columns]"
            ]
          },
          "metadata": {
            "tags": []
          },
          "execution_count": 287
        }
      ]
    },
    {
      "cell_type": "code",
      "metadata": {
        "colab": {
          "base_uri": "https://localhost:8080/"
        },
        "id": "l6FW4DINawuI",
        "outputId": "01db9707-33ae-4a05-967e-16691ab331e6"
      },
      "source": [
        "# Create a dataset with just the necessary information\n",
        "y_true = df_Records[\"W\"].values\n",
        "X_PitchingStats = df_PitchStats[[\"RA9\", \"WAR\", \"Salary\"]].values\n",
        "clf = DecisionTreeClassifier(random_state=14)\n",
        "scores = cross_val_score(clf, X_PitchingStats, y_true, scoring=scorer)\n",
        "print(\"Using just a few pitching stats\")\n",
        "print(\"F1: {0:.4f}\".format(np.mean(scores)))"
      ],
      "execution_count": 288,
      "outputs": [
        {
          "output_type": "stream",
          "text": [
            "Using just a few pitching stats\n",
            "F1: 0.0264\n"
          ],
          "name": "stdout"
        },
        {
          "output_type": "stream",
          "text": [
            "/usr/local/lib/python3.7/dist-packages/sklearn/model_selection/_split.py:667: UserWarning: The least populated class in y has only 1 members, which is less than n_splits=5.\n",
            "  % (min_groups, self.n_splits)), UserWarning)\n"
          ],
          "name": "stderr"
        }
      ]
    },
    {
      "cell_type": "code",
      "metadata": {
        "colab": {
          "base_uri": "https://localhost:8080/"
        },
        "id": "cr6rbw18Pjs7",
        "outputId": "dbf0f269-7675-4845-cc1c-6025880f49c7"
      },
      "source": [
        "# Create a dataset with just the necessary information\n",
        "y_true = df_Records[\"L\"].values\n",
        "X_PitchingStats = df_PitchStats[[\"RA9\", \"WAR\", \"Salary\"]].values\n",
        "clf = DecisionTreeClassifier(random_state=14)\n",
        "scores = cross_val_score(clf, X_PitchingStats, y_true, scoring=scorer)\n",
        "print(\"Using just a few pitching stats\")\n",
        "print(\"F1: {0:.4f}\".format(np.mean(scores)))"
      ],
      "execution_count": 289,
      "outputs": [
        {
          "output_type": "stream",
          "text": [
            "Using just a few pitching stats\n",
            "F1: 0.0259\n"
          ],
          "name": "stdout"
        },
        {
          "output_type": "stream",
          "text": [
            "/usr/local/lib/python3.7/dist-packages/sklearn/model_selection/_split.py:667: UserWarning: The least populated class in y has only 1 members, which is less than n_splits=5.\n",
            "  % (min_groups, self.n_splits)), UserWarning)\n"
          ],
          "name": "stderr"
        }
      ]
    },
    {
      "cell_type": "markdown",
      "metadata": {
        "id": "2Od1rcFxtI4t"
      },
      "source": [
        "Logistic Regression is one of the most common machine learning algorithms used for classification. It a statistical model that uses a logistic function to model a binary dependent variable. In essence, it predicts the probability of an observation belonging to a certain class or label. For instance, is this a cat photo or a dog photo?\n",
        "\n",
        "Citation: https://towardsdatascience.com/implement-logistic-regression-with-l2-regularization-from-scratch-in-python-20bd4ee88a59\n"
      ]
    },
    {
      "cell_type": "code",
      "metadata": {
        "id": "_r-9pJiTVhCn"
      },
      "source": [
        "# Import cross_val_predict, KFold and LogisticRegression from 'sklearn'\n",
        "#from sklearn.cross_validation import cross_val_predict, KFold\n",
        "#from sklearn.linear_model import LogisticRegression\n",
        "\n",
        "#It must relate to the renaming and deprecation of cross_validation sub-module to model_selection. \n",
        "#Try substituting cross_validation to model_selection"
      ],
      "execution_count": 290,
      "outputs": []
    },
    {
      "cell_type": "code",
      "metadata": {
        "id": "JfCQx6P0WqLp"
      },
      "source": [
        "# Create `target` Series\n",
        "target = df_Records[\"W\"].values\n",
        "\n",
        "# Create `features` DataFrame\n",
        "features = df_PitchStats[[\"RA9\", \"WAR\", \"Salary\"]].values"
      ],
      "execution_count": 291,
      "outputs": []
    },
    {
      "cell_type": "code",
      "metadata": {
        "colab": {
          "base_uri": "https://localhost:8080/"
        },
        "id": "qnl63F5vcNaH",
        "outputId": "1c6fed9d-0b95-4f38-ac70-86a9b821a797"
      },
      "source": [
        "target"
      ],
      "execution_count": 292,
      "outputs": [
        {
          "output_type": "execute_result",
          "data": {
            "text/plain": [
              "array([ 97,  95,  95,  95,  94,  91,  91,  90,  87,  86,  85,  85,  85,\n",
              "        83,  82,  82,  79,  79,  77,  76,  74,  73,  72,  71,  69,  69,\n",
              "        69,  67,  65,  65, 116, 102,  95,  93,  93,  92,  91,  90,  88,\n",
              "        88,  86,  86,  85,  83,  82,  82,  80,  79,  76,  75,  73,  73,\n",
              "        68,  68,  66,  66,  65,  63,  62,  62, 103, 103, 101,  99,  98,\n",
              "        97,  95,  94,  93,  93,  92,  84,  83,  81,  80,  79,  78,  78,\n",
              "        75,  74,  73,  72,  72,  67,  67,  66,  62,  56,  55,  55, 101,\n",
              "       101, 100,  96,  95,  93,  91,  90,  88,  87,  86,  86,  86,  85,\n",
              "        85,  84,  83,  83,  77,  75,  74,  71,  71,  69,  68,  68,  66,\n",
              "        64,  63,  43, 105, 101,  98,  96,  93,  92,  92,  92,  91,  91,\n",
              "        89,  89,  87,  86,  83,  83,  80,  78,  76,  72,  72,  71,  70,\n",
              "        68,  67,  67,  67,  63,  58,  51, 100,  99,  95,  95,  95,  93,\n",
              "        90,  89,  88,  88,  83,  83,  83,  82,  81,  81,  80,  79,  79,\n",
              "        77,  75,  74,  73,  71,  71,  69,  67,  67,  67,  56,  97,  97,\n",
              "        96,  95,  93,  90,  89,  88,  88,  87,  86,  85,  83,  82,  80,\n",
              "        80,  79,  78,  78,  78,  76,  76,  76,  75,  71,  70,  67,  66,\n",
              "        62,  61,  96,  96,  94,  94,  90,  90,  89,  89,  88,  88,  88,\n",
              "        85,  84,  83,  83,  82,  79,  78,  76,  75,  73,  73,  72,  72,\n",
              "        71,  71,  69,  69,  68,  66, 100,  97,  97,  95,  92,  90,  89,\n",
              "        89,  89,  88,  86,  86,  86,  84,  84,  82,  81,  79,  75,  75,\n",
              "        74,  74,  74,  72,  72,  68,  67,  63,  61,  59, 103,  97,  95,\n",
              "        95,  93,  92,  91,  88,  87,  87,  87,  86,  86,  85,  84,  83,\n",
              "        80,  79,  78,  75,  75,  75,  74,  70,  70,  65,  65,  64,  62,\n",
              "        59,  97,  96,  95,  94,  92,  91,  91,  90,  90,  89,  88,  86,\n",
              "        85,  83,  81,  81,  80,  80,  80,  79,  77,  76,  75,  69,  69,\n",
              "        67,  66,  65,  61,  57, 102,  97,  96,  96,  95,  94,  91,  90,\n",
              "        90,  89,  86,  86,  82,  81,  80,  80,  79,  79,  77,  74,  73,\n",
              "        72,  72,  71,  71,  71,  69,  67,  63,  56,  98,  97,  95,  94,\n",
              "        94,  94,  93,  93,  90,  89,  88,  88,  86,  85,  83,  81,  81,\n",
              "        79,  76,  75,  74,  73,  72,  69,  69,  68,  66,  64,  61,  55,\n",
              "        97,  97,  96,  96,  94,  93,  92,  92,  92,  91,  90,  86,  86,\n",
              "        85,  85,  81,  78,  76,  76,  74,  74,  74,  74,  73,  71,  66,\n",
              "        66,  63,  62,  51,  98,  96,  96,  94,  90,  90,  89,  88,  88,\n",
              "        88,  87,  85,  84,  83,  82,  79,  79,  77,  77,  77,  76,  73,\n",
              "        73,  73,  71,  70,  70,  67,  66,  64, 100,  98,  97,  95,  93,\n",
              "        92,  90,  88,  87,  86,  85,  84,  83,  83,  81,  81,  80,  79,\n",
              "        78,  76,  76,  74,  74,  71,  68,  68,  68,  67,  64,  63, 103,\n",
              "        95,  95,  94,  93,  91,  89,  89,  87,  87,  86,  86,  86,  84,\n",
              "        84,  81,  79,  78,  78,  75,  74,  73,  71,  69,  69,  68,  68,\n",
              "        68,  68,  59, 104, 102, 101,  97,  93,  93,  92,  91,  87,  86,\n",
              "        85,  83,  80,  80,  80,  78,  78,  77,  76,  75,  75,  75,  72,\n",
              "        71,  70,  68,  67,  66,  64,  64, 108, 103, 100,  97,  96,  95,\n",
              "        92,  91,  91,  90,  90,  89,  88,  82,  82,  82,  80,  80,  78,\n",
              "        77,  73,  73,  67,  67,  66,  64,  63,  62,  58,  47, 107, 106,\n",
              "       103, 101,  97,  97,  96,  93,  93,  91,  89,  86,  85,  84,  84,\n",
              "        81,  78,  77,  75,  72,  72,  71,  70,  69,  68,  67,  59,  57,\n",
              "        54,  47])"
            ]
          },
          "metadata": {
            "tags": []
          },
          "execution_count": 292
        }
      ]
    },
    {
      "cell_type": "code",
      "metadata": {
        "colab": {
          "base_uri": "https://localhost:8080/"
        },
        "id": "9Tj3LWddcgBR",
        "outputId": "f9916167-b504-4dd3-e71c-88eca938be83"
      },
      "source": [
        "features"
      ],
      "execution_count": 293,
      "outputs": [
        {
          "output_type": "execute_result",
          "data": {
            "text/plain": [
              "array([[5.40000000e+00, 8.00000000e+00, 2.25200000e+07],\n",
              "       [4.70000000e+00, 1.96000000e+01, 4.31685000e+07],\n",
              "       [4.46000000e+00, 1.72000000e+01, 2.93027370e+07],\n",
              "       ...,\n",
              "       [5.50000000e+00, 2.20000000e+01, 4.65496660e+07],\n",
              "       [5.17000000e+00, 1.16000000e+01, 3.88491000e+07],\n",
              "       [4.53000000e+00, 1.99000000e+01, 1.23512661e+08]])"
            ]
          },
          "metadata": {
            "tags": []
          },
          "execution_count": 293
        }
      ]
    },
    {
      "cell_type": "code",
      "metadata": {
        "colab": {
          "base_uri": "https://localhost:8080/"
        },
        "id": "yvREh4gYdjkx",
        "outputId": "3aa574de-f5b9-47bc-d850-7cc3c4a6670c"
      },
      "source": [
        "from sklearn.model_selection import KFold\n",
        "X = np.array(features)\n",
        "y = np.array(target)\n",
        "kf = KFold(n_splits=2)\n",
        "kf.get_n_splits(X)\n",
        "\n",
        "print(kf)"
      ],
      "execution_count": 294,
      "outputs": [
        {
          "output_type": "stream",
          "text": [
            "KFold(n_splits=2, random_state=None, shuffle=False)\n"
          ],
          "name": "stdout"
        }
      ]
    },
    {
      "cell_type": "markdown",
      "metadata": {
        "id": "WOacebLge2pL"
      },
      "source": [
        "The k-fold cross-validation procedure is a standard method for estimating the performance of a machine learning algorithm or configuration on a dataset.\n",
        "\n",
        "A single run of the k-fold cross-validation procedure may result in a noisy estimate of model performance. Different splits of the data may result in very different results.\n",
        "\n",
        "Repeated k-fold cross-validation provides a way to improve the estimated performance of a machine learning model. This involves simply repeating the cross-validation procedure multiple times and reporting the mean result across all folds from all runs. This mean result is expected to be a more accurate estimate of the true unknown underlying mean performance of the model on the dataset, as calculated using the standard error.\n",
        "\n",
        "k-Fold Cross-Validation\n",
        "It is common to evaluate machine learning models on a dataset using k-fold cross-validation.\n",
        "\n",
        "The k-fold cross-validation procedure divides a limited dataset into k non-overlapping folds. Each of the k folds is given an opportunity to be used as a held back test set, whilst all other folds collectively are used as a training dataset. A total of k models are fit and evaluated on the k hold-out test sets and the mean performance is reported.\n",
        "\n",
        "Citation: https://machinelearningmastery.com/repeated-k-fold-cross-validation-with-python/"
      ]
    },
    {
      "cell_type": "code",
      "metadata": {
        "id": "tfc8ETHKfwcJ"
      },
      "source": [
        "# evaluate a logistic regression model using k-fold cross-validation\n",
        "from numpy import mean\n",
        "from numpy import std\n",
        "from sklearn.datasets import make_classification\n",
        "from sklearn.model_selection import KFold\n",
        "from sklearn.model_selection import cross_val_score\n",
        "from sklearn.linear_model import LogisticRegression"
      ],
      "execution_count": 295,
      "outputs": []
    },
    {
      "cell_type": "code",
      "metadata": {
        "id": "cQA5Z--ff2cs"
      },
      "source": [
        "# create dataset\n",
        "X = features\n",
        "y = target"
      ],
      "execution_count": 296,
      "outputs": []
    },
    {
      "cell_type": "code",
      "metadata": {
        "colab": {
          "base_uri": "https://localhost:8080/"
        },
        "id": "DWCXcx3DgCK1",
        "outputId": "c83774cb-b1c5-4b55-ebe9-99fc47272c43"
      },
      "source": [
        "print(X.shape, y.shape)"
      ],
      "execution_count": 297,
      "outputs": [
        {
          "output_type": "stream",
          "text": [
            "(600, 3) (600,)\n"
          ],
          "name": "stdout"
        }
      ]
    },
    {
      "cell_type": "code",
      "metadata": {
        "id": "yYQsIA9yf7fh"
      },
      "source": [
        "# prepare the cross-validation procedure\n",
        "cv = KFold(n_splits=10, random_state=1, shuffle=True)"
      ],
      "execution_count": 298,
      "outputs": []
    },
    {
      "cell_type": "code",
      "metadata": {
        "id": "US8akeQLghPS"
      },
      "source": [
        "# create model\n",
        "model = LogisticRegression()"
      ],
      "execution_count": 299,
      "outputs": []
    },
    {
      "cell_type": "code",
      "metadata": {
        "id": "qVsEJKhlgkrQ"
      },
      "source": [
        "# evaluate model\n",
        "scores = cross_val_score(model, X, y, scoring='accuracy', cv=cv, n_jobs=-1)"
      ],
      "execution_count": 300,
      "outputs": []
    },
    {
      "cell_type": "code",
      "metadata": {
        "colab": {
          "base_uri": "https://localhost:8080/"
        },
        "id": "gmAQxKx9goTX",
        "outputId": "60866a7e-7d7e-4808-a594-cd01921f9dc5"
      },
      "source": [
        "# report performance\n",
        "print('Accuracy: %.3f (%.3f)' % (mean(scores), std(scores)))"
      ],
      "execution_count": 301,
      "outputs": [
        {
          "output_type": "stream",
          "text": [
            "Accuracy: 0.022 (0.020)\n"
          ],
          "name": "stdout"
        }
      ]
    },
    {
      "cell_type": "markdown",
      "metadata": {
        "id": "igtkrzZ9g8Ok"
      },
      "source": [
        "Running the example creates the dataset, then evaluates a logistic regression model on it using 10-fold cross-validation. The mean classification accuracy on the dataset is then reported.\n",
        "\n",
        "Note: Your results may vary given the stochastic nature of the algorithm or evaluation procedure, or differences in numerical precision. Consider running the example a few times and compare the average outcome.\n",
        "\n",
        "Citation: https://machinelearningmastery.com/repeated-k-fold-cross-validation-with-python/"
      ]
    },
    {
      "cell_type": "markdown",
      "metadata": {
        "id": "nj8cp8sBhRWM"
      },
      "source": [
        "Repeated k-Fold Cross-Validation\n",
        "The estimate of model performance via k-fold cross-validation can be noisy.\n",
        "\n",
        "This means that each time the procedure is run, a different split of the dataset into k-folds can be implemented, and in turn, the distribution of performance scores can be different, resulting in a different mean estimate of model performance.\n",
        "\n",
        "The amount of difference in the estimated performance from one run of k-fold cross-validation to another is dependent upon the model that is being used and on the dataset itself.\n",
        "\n",
        "A noisy estimate of model performance can be frustrating as it may not be clear which result should be used to compare and select a final model to address the problem.\n",
        "\n",
        "One solution to reduce the noise in the estimated model performance is to increase the k-value. This will reduce the bias in the model’s estimated performance, although it will increase the variance: e.g. tie the result more to the specific dataset used in the evaluation.\n",
        "\n",
        "An alternate approach is to repeat the k-fold cross-validation process multiple times and report the mean performance across all folds and all repeats. This approach is generally referred to as repeated k-fold cross-validation.\n",
        "\n",
        "Citation: https://machinelearningmastery.com/repeated-k-fold-cross-validation-with-python/"
      ]
    },
    {
      "cell_type": "code",
      "metadata": {
        "colab": {
          "base_uri": "https://localhost:8080/"
        },
        "id": "PHoBDG75g69U",
        "outputId": "58d3f9c3-1712-4075-b090-f034fc528cab"
      },
      "source": [
        "# evaluate a logistic regression model using repeated k-fold cross-validation\n",
        "from numpy import mean\n",
        "from numpy import std\n",
        "from sklearn.datasets import make_classification\n",
        "from sklearn.model_selection import RepeatedKFold\n",
        "from sklearn.model_selection import cross_val_score\n",
        "from sklearn.linear_model import LogisticRegression\n",
        "\n",
        "# create dataset\n",
        "X = features\n",
        "y = target\n",
        "\n",
        "# prepare the cross-validation procedure\n",
        "cv = RepeatedKFold(n_splits=10, n_repeats=3, random_state=1)\n",
        "\n",
        "# create model\n",
        "model = LogisticRegression()\n",
        "\n",
        "# evaluate model\n",
        "scores = cross_val_score(model, X, y, scoring='accuracy', cv=cv, n_jobs=-1)\n",
        "\n",
        "# report performance\n",
        "print('Accuracy: %.3f (%.3f)' % (mean(scores), std(scores)))"
      ],
      "execution_count": 302,
      "outputs": [
        {
          "output_type": "stream",
          "text": [
            "Accuracy: 0.020 (0.018)\n"
          ],
          "name": "stdout"
        }
      ]
    },
    {
      "cell_type": "code",
      "metadata": {
        "colab": {
          "base_uri": "https://localhost:8080/",
          "height": 660
        },
        "id": "g4yswTMxitvg",
        "outputId": "28f373b2-cda1-4429-b877-d24b724c4db4"
      },
      "source": [
        "# compare the number of repeats for repeated k-fold cross-validation\n",
        "from scipy.stats import sem\n",
        "from numpy import mean\n",
        "from numpy import std\n",
        "from sklearn.datasets import make_classification\n",
        "from sklearn.model_selection import RepeatedKFold\n",
        "from sklearn.model_selection import cross_val_score\n",
        "from sklearn.linear_model import LogisticRegression\n",
        "from matplotlib import pyplot\n",
        " \n",
        "# evaluate a model with a given number of repeats\n",
        "def evaluate_model(X, y, repeats):\n",
        "\t# prepare the cross-validation procedure\n",
        "\tcv = RepeatedKFold(n_splits=10, n_repeats=repeats, random_state=1)\n",
        "\t# create model\n",
        "\tmodel = LogisticRegression()\n",
        "\t# evaluate model\n",
        "\tscores = cross_val_score(model, X, y, scoring='accuracy', cv=cv, n_jobs=-1)\n",
        "\treturn scores\n",
        " \n",
        "# create dataset\n",
        "X = features\n",
        "y = target\n",
        "\n",
        "# configurations to test\n",
        "repeats = range(1,16)\n",
        "results = list()\n",
        "for r in repeats:\n",
        "\t# evaluate using a given number of repeats\n",
        "\tscores = evaluate_model(X, y, r)\n",
        "\t# summarize\n",
        "\tprint('>%d mean=%.4f se=%.3f' % (r, mean(scores), sem(scores)))\n",
        "\t# store\n",
        "\tresults.append(scores)\n",
        "# plot the results\n",
        "pyplot.boxplot(results, labels=[str(r) for r in repeats], showmeans=True)\n",
        "pyplot.show()"
      ],
      "execution_count": 303,
      "outputs": [
        {
          "output_type": "stream",
          "text": [
            ">1 mean=0.0217 se=0.007\n",
            ">2 mean=0.0183 se=0.004\n",
            ">3 mean=0.0200 se=0.003\n",
            ">4 mean=0.0208 se=0.003\n",
            ">5 mean=0.0207 se=0.002\n",
            ">6 mean=0.0208 se=0.002\n",
            ">7 mean=0.0205 se=0.002\n",
            ">8 mean=0.0200 se=0.002\n",
            ">9 mean=0.0193 se=0.002\n",
            ">10 mean=0.0187 se=0.002\n",
            ">11 mean=0.0185 se=0.001\n",
            ">12 mean=0.0186 se=0.001\n",
            ">13 mean=0.0186 se=0.001\n",
            ">14 mean=0.0187 se=0.001\n",
            ">15 mean=0.0192 se=0.001\n"
          ],
          "name": "stdout"
        },
        {
          "output_type": "stream",
          "text": [
            "/usr/local/lib/python3.7/dist-packages/numpy/core/_asarray.py:83: VisibleDeprecationWarning: Creating an ndarray from ragged nested sequences (which is a list-or-tuple of lists-or-tuples-or ndarrays with different lengths or shapes) is deprecated. If you meant to do this, you must specify 'dtype=object' when creating the ndarray\n",
            "  return array(a, dtype, copy=False, order=order)\n"
          ],
          "name": "stderr"
        },
        {
          "output_type": "display_data",
          "data": {
            "image/png": "[encoded data removed]",
            "text/plain": [
              "<Figure size 576x396 with 1 Axes>"
            ]
          },
          "metadata": {
            "tags": []
          }
        }
      ]
    },
    {
      "cell_type": "code",
      "metadata": {
        "id": "YJUHykRNmMX3",
        "colab": {
          "base_uri": "https://localhost:8080/",
          "height": 419
        },
        "outputId": "2e28cb03-1928-421e-bdbb-cc045533d90f"
      },
      "source": [
        "df_MLB_HomeTeams"
      ],
      "execution_count": 304,
      "outputs": [
        {
          "output_type": "execute_result",
          "data": {
            "text/html": [
              "<div>\n",
              "<style scoped>\n",
              "    .dataframe tbody tr th:only-of-type {\n",
              "        vertical-align: middle;\n",
              "    }\n",
              "\n",
              "    .dataframe tbody tr th {\n",
              "        vertical-align: top;\n",
              "    }\n",
              "\n",
              "    .dataframe thead th {\n",
              "        text-align: right;\n",
              "    }\n",
              "</style>\n",
              "<table border=\"1\" class=\"dataframe\">\n",
              "  <thead>\n",
              "    <tr style=\"text-align: right;\">\n",
              "      <th></th>\n",
              "      <th>Result</th>\n",
              "      <th>HomeTeam</th>\n",
              "      <th>HomeWin</th>\n",
              "      <th>Opp</th>\n",
              "      <th>HomeLastWin</th>\n",
              "      <th>VisitorLastWin</th>\n",
              "    </tr>\n",
              "  </thead>\n",
              "  <tbody>\n",
              "    <tr>\n",
              "      <th>0</th>\n",
              "      <td>0.0</td>\n",
              "      <td>1.0</td>\n",
              "      <td>0</td>\n",
              "      <td>0</td>\n",
              "      <td>0</td>\n",
              "      <td>1</td>\n",
              "    </tr>\n",
              "    <tr>\n",
              "      <th>1</th>\n",
              "      <td>1.0</td>\n",
              "      <td>1.0</td>\n",
              "      <td>1</td>\n",
              "      <td>0</td>\n",
              "      <td>0</td>\n",
              "      <td>1</td>\n",
              "    </tr>\n",
              "    <tr>\n",
              "      <th>2</th>\n",
              "      <td>1.0</td>\n",
              "      <td>1.0</td>\n",
              "      <td>1</td>\n",
              "      <td>0</td>\n",
              "      <td>1</td>\n",
              "      <td>0</td>\n",
              "    </tr>\n",
              "    <tr>\n",
              "      <th>4</th>\n",
              "      <td>0.0</td>\n",
              "      <td>1.0</td>\n",
              "      <td>0</td>\n",
              "      <td>0</td>\n",
              "      <td>1</td>\n",
              "      <td>0</td>\n",
              "    </tr>\n",
              "    <tr>\n",
              "      <th>5</th>\n",
              "      <td>1.0</td>\n",
              "      <td>1.0</td>\n",
              "      <td>1</td>\n",
              "      <td>0</td>\n",
              "      <td>1</td>\n",
              "      <td>0</td>\n",
              "    </tr>\n",
              "    <tr>\n",
              "      <th>...</th>\n",
              "      <td>...</td>\n",
              "      <td>...</td>\n",
              "      <td>...</td>\n",
              "      <td>...</td>\n",
              "      <td>...</td>\n",
              "      <td>...</td>\n",
              "    </tr>\n",
              "    <tr>\n",
              "      <th>3603</th>\n",
              "      <td>0.0</td>\n",
              "      <td>1.0</td>\n",
              "      <td>0</td>\n",
              "      <td>0</td>\n",
              "      <td>0</td>\n",
              "      <td>0</td>\n",
              "    </tr>\n",
              "    <tr>\n",
              "      <th>3604</th>\n",
              "      <td>1.0</td>\n",
              "      <td>1.0</td>\n",
              "      <td>1</td>\n",
              "      <td>0</td>\n",
              "      <td>0</td>\n",
              "      <td>0</td>\n",
              "    </tr>\n",
              "    <tr>\n",
              "      <th>3605</th>\n",
              "      <td>0.0</td>\n",
              "      <td>1.0</td>\n",
              "      <td>0</td>\n",
              "      <td>0</td>\n",
              "      <td>0</td>\n",
              "      <td>0</td>\n",
              "    </tr>\n",
              "    <tr>\n",
              "      <th>3606</th>\n",
              "      <td>1.0</td>\n",
              "      <td>1.0</td>\n",
              "      <td>1</td>\n",
              "      <td>0</td>\n",
              "      <td>0</td>\n",
              "      <td>0</td>\n",
              "    </tr>\n",
              "    <tr>\n",
              "      <th>3607</th>\n",
              "      <td>1.0</td>\n",
              "      <td>1.0</td>\n",
              "      <td>1</td>\n",
              "      <td>0</td>\n",
              "      <td>0</td>\n",
              "      <td>0</td>\n",
              "    </tr>\n",
              "  </tbody>\n",
              "</table>\n",
              "<p>48054 rows × 6 columns</p>\n",
              "</div>"
            ],
            "text/plain": [
              "      Result  HomeTeam  HomeWin  Opp  HomeLastWin  VisitorLastWin\n",
              "0        0.0       1.0        0    0            0               1\n",
              "1        1.0       1.0        1    0            0               1\n",
              "2        1.0       1.0        1    0            1               0\n",
              "4        0.0       1.0        0    0            1               0\n",
              "5        1.0       1.0        1    0            1               0\n",
              "...      ...       ...      ...  ...          ...             ...\n",
              "3603     0.0       1.0        0    0            0               0\n",
              "3604     1.0       1.0        1    0            0               0\n",
              "3605     0.0       1.0        0    0            0               0\n",
              "3606     1.0       1.0        1    0            0               0\n",
              "3607     1.0       1.0        1    0            0               0\n",
              "\n",
              "[48054 rows x 6 columns]"
            ]
          },
          "metadata": {
            "tags": []
          },
          "execution_count": 304
        }
      ]
    },
    {
      "cell_type": "code",
      "metadata": {
        "id": "KtL_VBS4loUh",
        "colab": {
          "base_uri": "https://localhost:8080/"
        },
        "outputId": "741661cf-d951-4853-c2e2-7952d5aa749b"
      },
      "source": [
        "# create dataset\n",
        "X = df_MLB_HomeTeams[\"HomeLastWin\"].values\n",
        "y = df_MLB_HomeTeams[\"HomeWin\"].values\n",
        "\n",
        "# prepare the cross-validation procedure\n",
        "cv = RepeatedKFold(n_splits=10, n_repeats=3, random_state=1)\n",
        "\n",
        "# create model\n",
        "model = LogisticRegression()\n",
        "\n",
        "# evaluate model\n",
        "scores = cross_val_score(model, X, y, scoring='accuracy', cv=cv, n_jobs=-1)\n",
        "\n",
        "# report performance\n",
        "print('Accuracy: %.3f (%.3f)' % (mean(scores), std(scores)))"
      ],
      "execution_count": 305,
      "outputs": [
        {
          "output_type": "stream",
          "text": [
            "Accuracy: nan (nan)\n"
          ],
          "name": "stdout"
        }
      ]
    },
    {
      "cell_type": "markdown",
      "metadata": {
        "id": "octbyESny-oA"
      },
      "source": [
        "Binary logistic regression estimates the probability that a characteristic is present (e.g. estimate probability of \"success\") given the values of explanatory variables\n",
        "\n",
        "Model Fit:\n",
        "Overall goodness-of-fit statistics of the model; we will consider:\n",
        "Pearson chi-square statistic, \n",
        "Deviance,  and Likelihood ratio test and statistic, \n",
        "Hosmer-Lemeshow test and statistic\n",
        "Residual analysis: Pearson, deviance, adjusted residuals, etc...\n",
        "Overdispersion\n",
        "\n",
        "Logistic Regression is a Machine Learning classification algorithm that is used to predict the probability of a categorical dependent variable. In logistic regression, the dependent variable is a binary variable that contains data coded as 1 (yes, success, etc.) or 0 (no, failure, etc.). In other words, the logistic regression model predicts P(Y=1) as a function of X."
      ]
    },
    {
      "cell_type": "code",
      "metadata": {
        "id": "GMrWVp0QzAb7"
      },
      "source": [
        "import pandas as pd\n",
        "import numpy as np\n",
        "from sklearn import preprocessing\n",
        "import matplotlib.pyplot as plt \n",
        "plt.rc(\"font\", size=14)\n",
        "from sklearn.linear_model import LogisticRegression\n",
        "from sklearn.model_selection import train_test_split\n",
        "import seaborn as sns\n",
        "sns.set(style=\"white\")\n",
        "sns.set(style=\"whitegrid\", color_codes=True)"
      ],
      "execution_count": 306,
      "outputs": []
    },
    {
      "cell_type": "markdown",
      "metadata": {
        "id": "6CZIeG7G3oLw"
      },
      "source": [
        "Linear Regression Vs. Logistic Regression\n",
        "Linear regression gives you a continuous output, but logistic regression provides a constant output. An example of the continuous output is house price and stock price. Example's of the discrete output is predicting whether a patient has cancer or not, predicting whether the customer will churn. Linear regression is estimated using Ordinary Least Squares (OLS) while logistic regression is estimated using Maximum Likelihood Estimation (MLE) approach.\n",
        "\n",
        "\n",
        "![image.png](data:image/png;base64,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)\n",
        "\n",
        "Types of Logistic Regression:\n",
        "\n",
        "Binary Logistic Regression: The target variable has only two possible outcomes such as Spam or Not Spam, Cancer or No Cancer.\n",
        "\n",
        "Multinomial Logistic Regression: The target variable has three or more nominal categories such as predicting the type of Wine.\n",
        "\n",
        "Ordinal Logistic Regression: the target variable has three or more ordinal categories such as restaurant or product rating from 1 to 5."
      ]
    },
    {
      "cell_type": "code",
      "metadata": {
        "colab": {
          "base_uri": "https://localhost:8080/",
          "height": 289
        },
        "id": "YsqCUq5X_Iv7",
        "outputId": "0a6a74c6-3800-4c64-b5c2-3d1ac1dc1232"
      },
      "source": [
        "df_Records.head()"
      ],
      "execution_count": 307,
      "outputs": [
        {
          "output_type": "execute_result",
          "data": {
            "text/html": [
              "<div>\n",
              "<style scoped>\n",
              "    .dataframe tbody tr th:only-of-type {\n",
              "        vertical-align: middle;\n",
              "    }\n",
              "\n",
              "    .dataframe tbody tr th {\n",
              "        vertical-align: top;\n",
              "    }\n",
              "\n",
              "    .dataframe thead th {\n",
              "        text-align: right;\n",
              "    }\n",
              "</style>\n",
              "<table border=\"1\" class=\"dataframe\">\n",
              "  <thead>\n",
              "    <tr style=\"text-align: right;\">\n",
              "      <th></th>\n",
              "      <th>Rk</th>\n",
              "      <th>Tm</th>\n",
              "      <th>W</th>\n",
              "      <th>L</th>\n",
              "      <th>W-L%</th>\n",
              "      <th>R</th>\n",
              "      <th>RA</th>\n",
              "      <th>Rdiff</th>\n",
              "      <th>SOS</th>\n",
              "      <th>SRS</th>\n",
              "      <th>pythWL</th>\n",
              "      <th>Luck</th>\n",
              "      <th>vEast</th>\n",
              "      <th>vCent</th>\n",
              "      <th>vWest</th>\n",
              "      <th>Inter</th>\n",
              "      <th>Home</th>\n",
              "      <th>Road</th>\n",
              "      <th>ExInn</th>\n",
              "      <th>1Run</th>\n",
              "      <th>vRHP</th>\n",
              "      <th>vLHP</th>\n",
              "      <th>≥.500</th>\n",
              "      <th>&lt;.500</th>\n",
              "    </tr>\n",
              "  </thead>\n",
              "  <tbody>\n",
              "    <tr>\n",
              "      <th>0</th>\n",
              "      <td>1</td>\n",
              "      <td>San Francisco Giants</td>\n",
              "      <td>97</td>\n",
              "      <td>65</td>\n",
              "      <td>0.599</td>\n",
              "      <td>5.7</td>\n",
              "      <td>4.6</td>\n",
              "      <td>1.1</td>\n",
              "      <td>-0.1</td>\n",
              "      <td>1.0</td>\n",
              "      <td>97-65</td>\n",
              "      <td>0</td>\n",
              "      <td>27-17</td>\n",
              "      <td>36-17</td>\n",
              "      <td>26-24</td>\n",
              "      <td>2021-08-07 00:00:00</td>\n",
              "      <td>55-26</td>\n",
              "      <td>42-39</td>\n",
              "      <td>2021-07-05 00:00:00</td>\n",
              "      <td>18-22</td>\n",
              "      <td>78-45</td>\n",
              "      <td>19-20</td>\n",
              "      <td>43-42</td>\n",
              "      <td>54-23</td>\n",
              "    </tr>\n",
              "    <tr>\n",
              "      <th>1</th>\n",
              "      <td>2</td>\n",
              "      <td>St. Louis Cardinals</td>\n",
              "      <td>95</td>\n",
              "      <td>67</td>\n",
              "      <td>0.586</td>\n",
              "      <td>5.5</td>\n",
              "      <td>4.8</td>\n",
              "      <td>0.7</td>\n",
              "      <td>-0.1</td>\n",
              "      <td>0.6</td>\n",
              "      <td>91-71</td>\n",
              "      <td>4</td>\n",
              "      <td>25-16</td>\n",
              "      <td>37-25</td>\n",
              "      <td>26-18</td>\n",
              "      <td>2021-07-08 00:00:00</td>\n",
              "      <td>50-31</td>\n",
              "      <td>45-36</td>\n",
              "      <td>2021-05-02 00:00:00</td>\n",
              "      <td>28-16</td>\n",
              "      <td>78-44</td>\n",
              "      <td>17-23</td>\n",
              "      <td>33-37</td>\n",
              "      <td>62-30</td>\n",
              "    </tr>\n",
              "    <tr>\n",
              "      <th>2</th>\n",
              "      <td>3</td>\n",
              "      <td>Chicago White Sox</td>\n",
              "      <td>95</td>\n",
              "      <td>67</td>\n",
              "      <td>0.586</td>\n",
              "      <td>6.0</td>\n",
              "      <td>5.2</td>\n",
              "      <td>0.9</td>\n",
              "      <td>0.0</td>\n",
              "      <td>0.9</td>\n",
              "      <td>92-70</td>\n",
              "      <td>3</td>\n",
              "      <td>30-24</td>\n",
              "      <td>29-20</td>\n",
              "      <td>24-17</td>\n",
              "      <td>2021-12-06 00:00:00</td>\n",
              "      <td>46-35</td>\n",
              "      <td>49-32</td>\n",
              "      <td>2021-07-04 00:00:00</td>\n",
              "      <td>28-18</td>\n",
              "      <td>74-57</td>\n",
              "      <td>21-10</td>\n",
              "      <td>49-35</td>\n",
              "      <td>46-32</td>\n",
              "    </tr>\n",
              "    <tr>\n",
              "      <th>3</th>\n",
              "      <td>4</td>\n",
              "      <td>Atlanta Braves</td>\n",
              "      <td>95</td>\n",
              "      <td>67</td>\n",
              "      <td>0.586</td>\n",
              "      <td>5.0</td>\n",
              "      <td>4.4</td>\n",
              "      <td>0.6</td>\n",
              "      <td>-0.2</td>\n",
              "      <td>0.4</td>\n",
              "      <td>90-72</td>\n",
              "      <td>5</td>\n",
              "      <td>27-24</td>\n",
              "      <td>25-23</td>\n",
              "      <td>32-13</td>\n",
              "      <td>2021-11-07 00:00:00</td>\n",
              "      <td>51-30</td>\n",
              "      <td>44-37</td>\n",
              "      <td>2021-03-05 00:00:00</td>\n",
              "      <td>18-18</td>\n",
              "      <td>74-53</td>\n",
              "      <td>21-14</td>\n",
              "      <td>42-33</td>\n",
              "      <td>53-34</td>\n",
              "    </tr>\n",
              "    <tr>\n",
              "      <th>4</th>\n",
              "      <td>5</td>\n",
              "      <td>New York Mets</td>\n",
              "      <td>94</td>\n",
              "      <td>68</td>\n",
              "      <td>0.580</td>\n",
              "      <td>5.0</td>\n",
              "      <td>4.6</td>\n",
              "      <td>0.4</td>\n",
              "      <td>-0.1</td>\n",
              "      <td>0.3</td>\n",
              "      <td>88-74</td>\n",
              "      <td>6</td>\n",
              "      <td>27-23</td>\n",
              "      <td>34-16</td>\n",
              "      <td>24-20</td>\n",
              "      <td>2021-09-09 00:00:00</td>\n",
              "      <td>55-26</td>\n",
              "      <td>39-42</td>\n",
              "      <td>2021-10-08 00:00:00</td>\n",
              "      <td>29-20</td>\n",
              "      <td>76-55</td>\n",
              "      <td>18-13</td>\n",
              "      <td>42-36</td>\n",
              "      <td>52-32</td>\n",
              "    </tr>\n",
              "  </tbody>\n",
              "</table>\n",
              "</div>"
            ],
            "text/plain": [
              "   Rk                    Tm   W   L   W-L%  ...   1Run   vRHP   vLHP  ≥.500  <.500\n",
              "0   1  San Francisco Giants  97  65  0.599  ...  18-22  78-45  19-20  43-42  54-23\n",
              "1   2   St. Louis Cardinals  95  67  0.586  ...  28-16  78-44  17-23  33-37  62-30\n",
              "2   3     Chicago White Sox  95  67  0.586  ...  28-18  74-57  21-10  49-35  46-32\n",
              "3   4        Atlanta Braves  95  67  0.586  ...  18-18  74-53  21-14  42-33  53-34\n",
              "4   5         New York Mets  94  68  0.580  ...  29-20  76-55  18-13  42-36  52-32\n",
              "\n",
              "[5 rows x 24 columns]"
            ]
          },
          "metadata": {
            "tags": []
          },
          "execution_count": 307
        }
      ]
    },
    {
      "cell_type": "code",
      "metadata": {
        "id": "BvXn2siJ1jyl"
      },
      "source": [
        "#split dataset in features and target variable\n",
        "feature_cols = ['R', 'RA', 'Rdiff']\n",
        "X = df_Records[feature_cols] # Features\n",
        "y = df_Records.W # Target variable"
      ],
      "execution_count": 308,
      "outputs": []
    },
    {
      "cell_type": "code",
      "metadata": {
        "id": "yjdWUwfOATNs"
      },
      "source": [
        "# split X and y into training and testing sets\n",
        "from sklearn.model_selection import train_test_split\n",
        "X_train,X_test,y_train,y_test=train_test_split(X,y,test_size=0.25,random_state=0)"
      ],
      "execution_count": 309,
      "outputs": []
    },
    {
      "cell_type": "markdown",
      "metadata": {
        "id": "FfEjzor6BcyZ"
      },
      "source": [
        "So if you are facing the same problem you should check the shape of clf.fit(X,y)parameters:\n",
        "\n",
        "X : Training vector {array-like, sparse matrix}, shape (n_samples, n_features).\n",
        "\n",
        "y : Target vector relative to X array-like, shape (n_samples,).\n",
        "\n",
        "as you can see the y width should be 1, to make sure your target vector is shaped correctly try command\n",
        "\n",
        "y.shape"
      ]
    },
    {
      "cell_type": "code",
      "metadata": {
        "colab": {
          "base_uri": "https://localhost:8080/"
        },
        "id": "LWlGEommBuQU",
        "outputId": "e8fbea21-c971-4ace-dd17-ad141464c6a7"
      },
      "source": [
        "X_train.shape"
      ],
      "execution_count": 310,
      "outputs": [
        {
          "output_type": "execute_result",
          "data": {
            "text/plain": [
              "(450, 3)"
            ]
          },
          "metadata": {
            "tags": []
          },
          "execution_count": 310
        }
      ]
    },
    {
      "cell_type": "code",
      "metadata": {
        "colab": {
          "base_uri": "https://localhost:8080/"
        },
        "id": "7vBO8KdIB01K",
        "outputId": "20e5ea73-da13-4679-bb49-c455a8a858db"
      },
      "source": [
        "y_train.shape"
      ],
      "execution_count": 311,
      "outputs": [
        {
          "output_type": "execute_result",
          "data": {
            "text/plain": [
              "(450,)"
            ]
          },
          "metadata": {
            "tags": []
          },
          "execution_count": 311
        }
      ]
    },
    {
      "cell_type": "code",
      "metadata": {
        "colab": {
          "base_uri": "https://localhost:8080/"
        },
        "id": "2Rx0Ib1zCD__",
        "outputId": "53fcc20c-c131-4455-de70-4a7ae23d024a"
      },
      "source": [
        "y_train"
      ],
      "execution_count": 312,
      "outputs": [
        {
          "output_type": "execute_result",
          "data": {
            "text/plain": [
              "16    80\n",
              "23    72\n",
              "8     87\n",
              "20    73\n",
              "17    83\n",
              "      ..\n",
              "7     88\n",
              "9     86\n",
              "29    56\n",
              "12    83\n",
              "19    77\n",
              "Name: W, Length: 450, dtype: int64"
            ]
          },
          "metadata": {
            "tags": []
          },
          "execution_count": 312
        }
      ]
    },
    {
      "cell_type": "code",
      "metadata": {
        "id": "TcxxL2sXDwLa"
      },
      "source": [
        "from sklearn import preprocessing\n",
        "import numpy as np\n",
        "\n",
        "scaler = preprocessing.StandardScaler().fit(X_train)"
      ],
      "execution_count": 313,
      "outputs": []
    },
    {
      "cell_type": "code",
      "metadata": {
        "colab": {
          "base_uri": "https://localhost:8080/"
        },
        "id": "Wcaz1lx3D0SL",
        "outputId": "2d564fcb-c408-4c33-b621-3c1241e62589"
      },
      "source": [
        "scaler"
      ],
      "execution_count": 314,
      "outputs": [
        {
          "output_type": "execute_result",
          "data": {
            "text/plain": [
              "StandardScaler(copy=True, with_mean=True, with_std=True)"
            ]
          },
          "metadata": {
            "tags": []
          },
          "execution_count": 314
        }
      ]
    },
    {
      "cell_type": "code",
      "metadata": {
        "colab": {
          "base_uri": "https://localhost:8080/"
        },
        "id": "mEW3SDLZEJ8Y",
        "outputId": "7507643c-1e33-42e9-c9dc-63d100717ea3"
      },
      "source": [
        "scaler.mean_"
      ],
      "execution_count": 315,
      "outputs": [
        {
          "output_type": "execute_result",
          "data": {
            "text/plain": [
              "array([ 4.56666667e+00,  4.57155556e+00, -3.55555556e-03])"
            ]
          },
          "metadata": {
            "tags": []
          },
          "execution_count": 315
        }
      ]
    },
    {
      "cell_type": "code",
      "metadata": {
        "colab": {
          "base_uri": "https://localhost:8080/"
        },
        "id": "c4-FFdwIEOFT",
        "outputId": "5177ad40-1369-4006-be19-355123426f08"
      },
      "source": [
        "scaler.scale_"
      ],
      "execution_count": 316,
      "outputs": [
        {
          "output_type": "execute_result",
          "data": {
            "text/plain": [
              "array([0.51059878, 0.53966226, 0.68305573])"
            ]
          },
          "metadata": {
            "tags": []
          },
          "execution_count": 316
        }
      ]
    },
    {
      "cell_type": "code",
      "metadata": {
        "colab": {
          "base_uri": "https://localhost:8080/"
        },
        "id": "jnfcC1-BEUOO",
        "outputId": "a5bbc142-54b9-4c0e-c253-bd6384a285f1"
      },
      "source": [
        "X_scaled = scaler.transform(X_train)\n",
        "X_scaled"
      ],
      "execution_count": 317,
      "outputs": [
        {
          "output_type": "execute_result",
          "data": {
            "text/plain": [
              "array([[ 0.26113132,  0.05270786,  0.1516063 ],\n",
              "       [-1.10980812,  0.23800894, -1.0196012 ],\n",
              "       [ 0.26113132, -0.50319538,  0.59080912],\n",
              "       ...,\n",
              "       [-1.5015051 ,  0.6086111 , -1.60520495],\n",
              "       [ 0.6528283 ,  0.23800894,  0.1516063 ],\n",
              "       [-0.71811113, -0.3178943 , -0.28759651]])"
            ]
          },
          "metadata": {
            "tags": []
          },
          "execution_count": 317
        }
      ]
    },
    {
      "cell_type": "code",
      "metadata": {
        "colab": {
          "base_uri": "https://localhost:8080/"
        },
        "id": "fdGDI_r-Eb35",
        "outputId": "684ebb8d-6f08-4f33-86a0-0b445a79d017"
      },
      "source": [
        "X_scaled.mean(axis=0)"
      ],
      "execution_count": 318,
      "outputs": [
        {
          "output_type": "execute_result",
          "data": {
            "text/plain": [
              "array([4.69747698e-16, 3.15796771e-16, 7.89491929e-18])"
            ]
          },
          "metadata": {
            "tags": []
          },
          "execution_count": 318
        }
      ]
    },
    {
      "cell_type": "code",
      "metadata": {
        "colab": {
          "base_uri": "https://localhost:8080/"
        },
        "id": "0TGH87PoFkj5",
        "outputId": "2703e671-ae4a-4145-f31f-acd94470e31b"
      },
      "source": [
        "X_scaled.std(axis=0)"
      ],
      "execution_count": 319,
      "outputs": [
        {
          "output_type": "execute_result",
          "data": {
            "text/plain": [
              "array([1., 1., 1.])"
            ]
          },
          "metadata": {
            "tags": []
          },
          "execution_count": 319
        }
      ]
    },
    {
      "cell_type": "code",
      "metadata": {
        "id": "gxcA56qDURdi"
      },
      "source": [
        "X_test = X_scaled"
      ],
      "execution_count": 320,
      "outputs": []
    },
    {
      "cell_type": "code",
      "metadata": {
        "id": "Ocr8PzVWF551"
      },
      "source": [
        "from sklearn.datasets import make_classification\n",
        "from sklearn.linear_model import LogisticRegression\n",
        "from sklearn.model_selection import train_test_split\n",
        "from sklearn.pipeline import make_pipeline\n",
        "from sklearn.preprocessing import StandardScaler"
      ],
      "execution_count": 321,
      "outputs": []
    },
    {
      "cell_type": "code",
      "metadata": {
        "colab": {
          "base_uri": "https://localhost:8080/"
        },
        "id": "mn0-17pzFy8H",
        "outputId": "112ed182-2fa3-4af7-cab6-f077696ecce4"
      },
      "source": [
        "X, y = make_classification(random_state=42)\n",
        "X_train, X_test, y_train, y_test = train_test_split(X, y, random_state=42)\n",
        "pipe = make_pipeline(StandardScaler(), LogisticRegression())\n",
        "pipe.fit(X_train, y_train)  # apply scaling on training data\n",
        "\n",
        "pipe.score(X_test, y_test)  # apply scaling on testing data, without leaking training data."
      ],
      "execution_count": 322,
      "outputs": [
        {
          "output_type": "execute_result",
          "data": {
            "text/plain": [
              "0.96"
            ]
          },
          "metadata": {
            "tags": []
          },
          "execution_count": 322
        }
      ]
    },
    {
      "cell_type": "code",
      "metadata": {
        "id": "S4jHFLulA3j9"
      },
      "source": [
        "# import the class\n",
        "from sklearn.linear_model import LogisticRegression\n",
        "\n",
        "# instantiate the model (using the default parameters)\n",
        "logreg = LogisticRegression()\n",
        "\n",
        "# fit the model with data\n",
        "logreg.fit(X_train,y_train)\n",
        "\n",
        "#\n",
        "y_pred=logreg.predict(X_test)"
      ],
      "execution_count": 323,
      "outputs": []
    },
    {
      "cell_type": "code",
      "metadata": {
        "colab": {
          "base_uri": "https://localhost:8080/"
        },
        "id": "Qfbi-tkPHDcD",
        "outputId": "72cbdc15-89b7-4199-f70d-7ed35b7164b6"
      },
      "source": [
        "# import the metrics class\n",
        "from sklearn import metrics\n",
        "cnf_matrix = metrics.confusion_matrix(y_test, y_pred)\n",
        "cnf_matrix"
      ],
      "execution_count": 324,
      "outputs": [
        {
          "output_type": "execute_result",
          "data": {
            "text/plain": [
              "array([[15,  0],\n",
              "       [ 0, 10]])"
            ]
          },
          "metadata": {
            "tags": []
          },
          "execution_count": 324
        }
      ]
    },
    {
      "cell_type": "code",
      "metadata": {
        "id": "d3z8twetHT5k"
      },
      "source": [
        "# import required modules\n",
        "import numpy as np\n",
        "import matplotlib.pyplot as plt\n",
        "import seaborn as sns\n",
        "%matplotlib inline"
      ],
      "execution_count": 325,
      "outputs": []
    },
    {
      "cell_type": "code",
      "metadata": {
        "colab": {
          "base_uri": "https://localhost:8080/",
          "height": 344
        },
        "id": "Uqj3kzWgHg50",
        "outputId": "89ece53b-dbc0-4e76-bf74-be891de5a639"
      },
      "source": [
        "class_names=[0,1] # name  of classes\n",
        "fig, ax = plt.subplots()\n",
        "tick_marks = np.arange(len(class_names))\n",
        "plt.xticks(tick_marks, class_names)\n",
        "plt.yticks(tick_marks, class_names)\n",
        "# create heatmap\n",
        "sns.heatmap(pd.DataFrame(cnf_matrix), annot=True, cmap=\"YlGnBu\" ,fmt='g')\n",
        "ax.xaxis.set_label_position(\"top\")\n",
        "plt.tight_layout()\n",
        "plt.title('Confusion matrix', y=1.1)\n",
        "plt.ylabel('Actual label')\n",
        "plt.xlabel('Predicted label')"
      ],
      "execution_count": 326,
      "outputs": [
        {
          "output_type": "execute_result",
          "data": {
            "text/plain": [
              "Text(0.5, 257.44, 'Predicted label')"
            ]
          },
          "metadata": {
            "tags": []
          },
          "execution_count": 326
        },
        {
          "output_type": "display_data",
          "data": {
            "image/png": "[encoded data removed]",
            "text/plain": [
              "<Figure size 432x288 with 2 Axes>"
            ]
          },
          "metadata": {
            "tags": [],
            "needs_background": "light"
          }
        }
      ]
    },
    {
      "cell_type": "code",
      "metadata": {
        "colab": {
          "base_uri": "https://localhost:8080/"
        },
        "id": "4Z0ZYD9JHrV3",
        "outputId": "8d32544f-ea24-4cfb-c52b-4b3c3515a0fd"
      },
      "source": [
        "print(\"Accuracy:\",metrics.accuracy_score(y_test, y_pred))\n",
        "print(\"Precision:\",metrics.precision_score(y_test, y_pred))\n",
        "print(\"Recall:\",metrics.recall_score(y_test, y_pred))"
      ],
      "execution_count": 327,
      "outputs": [
        {
          "output_type": "stream",
          "text": [
            "Accuracy: 1.0\n",
            "Precision: 1.0\n",
            "Recall: 1.0\n"
          ],
          "name": "stdout"
        }
      ]
    },
    {
      "cell_type": "code",
      "metadata": {
        "colab": {
          "base_uri": "https://localhost:8080/",
          "height": 271
        },
        "id": "8P2ozL3WISZN",
        "outputId": "403c5449-7fde-4170-e0fc-1574ab5734ce"
      },
      "source": [
        "y_pred_proba = logreg.predict_proba(X_test)[::,1]\n",
        "fpr, tpr, _ = metrics.roc_curve(y_test,  y_pred_proba)\n",
        "auc = metrics.roc_auc_score(y_test, y_pred_proba)\n",
        "plt.plot(fpr,tpr,label=\"data 1, auc=\"+str(auc))\n",
        "plt.legend(loc=4)\n",
        "plt.show()"
      ],
      "execution_count": 328,
      "outputs": [
        {
          "output_type": "display_data",
          "data": {
            "image/png": "[encoded data removed]",
            "text/plain": [
              "<Figure size 432x288 with 1 Axes>"
            ]
          },
          "metadata": {
            "tags": [],
            "needs_background": "light"
          }
        }
      ]
    },
    {
      "cell_type": "code",
      "metadata": {
        "colab": {
          "base_uri": "https://localhost:8080/",
          "height": 204
        },
        "id": "EvrJDE9qRNQ_",
        "outputId": "6ab48cab-ad3c-48af-a703-7c3b27327105"
      },
      "source": [
        "df_PitchStats.head()"
      ],
      "execution_count": 329,
      "outputs": [
        {
          "output_type": "execute_result",
          "data": {
            "text/html": [
              "<div>\n",
              "<style scoped>\n",
              "    .dataframe tbody tr th:only-of-type {\n",
              "        vertical-align: middle;\n",
              "    }\n",
              "\n",
              "    .dataframe tbody tr th {\n",
              "        vertical-align: top;\n",
              "    }\n",
              "\n",
              "    .dataframe thead th {\n",
              "        text-align: right;\n",
              "    }\n",
              "</style>\n",
              "<table border=\"1\" class=\"dataframe\">\n",
              "  <thead>\n",
              "    <tr style=\"text-align: right;\">\n",
              "      <th></th>\n",
              "      <th>Tm</th>\n",
              "      <th>IP</th>\n",
              "      <th>G</th>\n",
              "      <th>GS</th>\n",
              "      <th>R</th>\n",
              "      <th>RA9</th>\n",
              "      <th>RA9opp</th>\n",
              "      <th>RA9def</th>\n",
              "      <th>RA9role</th>\n",
              "      <th>PPFp</th>\n",
              "      <th>RA9avg</th>\n",
              "      <th>RAA</th>\n",
              "      <th>WAA</th>\n",
              "      <th>gmLI</th>\n",
              "      <th>WAAadj</th>\n",
              "      <th>WAR</th>\n",
              "      <th>RAR</th>\n",
              "      <th>waaWL%</th>\n",
              "      <th>162WL%</th>\n",
              "      <th>Salary</th>\n",
              "    </tr>\n",
              "  </thead>\n",
              "  <tbody>\n",
              "    <tr>\n",
              "      <th>0</th>\n",
              "      <td>Anaheim Angels</td>\n",
              "      <td>1448.0</td>\n",
              "      <td>603</td>\n",
              "      <td>162</td>\n",
              "      <td>869</td>\n",
              "      <td>5.40</td>\n",
              "      <td>5.46</td>\n",
              "      <td>0.44</td>\n",
              "      <td>-0.03</td>\n",
              "      <td>101.2</td>\n",
              "      <td>5.06</td>\n",
              "      <td>-66</td>\n",
              "      <td>-5.5</td>\n",
              "      <td>1.19</td>\n",
              "      <td>-1.6</td>\n",
              "      <td>8.0</td>\n",
              "      <td>123</td>\n",
              "      <td>0.491</td>\n",
              "      <td>0.500</td>\n",
              "      <td>22520000</td>\n",
              "    </tr>\n",
              "    <tr>\n",
              "      <th>1</th>\n",
              "      <td>Arizona Diamondbacks</td>\n",
              "      <td>1443.2</td>\n",
              "      <td>552</td>\n",
              "      <td>162</td>\n",
              "      <td>754</td>\n",
              "      <td>4.70</td>\n",
              "      <td>5.16</td>\n",
              "      <td>0.11</td>\n",
              "      <td>0.01</td>\n",
              "      <td>102.9</td>\n",
              "      <td>5.21</td>\n",
              "      <td>78</td>\n",
              "      <td>8.7</td>\n",
              "      <td>1.10</td>\n",
              "      <td>-1.5</td>\n",
              "      <td>19.6</td>\n",
              "      <td>219</td>\n",
              "      <td>0.516</td>\n",
              "      <td>0.504</td>\n",
              "      <td>43168500</td>\n",
              "    </tr>\n",
              "    <tr>\n",
              "      <th>2</th>\n",
              "      <td>Atlanta Braves</td>\n",
              "      <td>1440.1</td>\n",
              "      <td>538</td>\n",
              "      <td>162</td>\n",
              "      <td>714</td>\n",
              "      <td>4.46</td>\n",
              "      <td>5.02</td>\n",
              "      <td>0.22</td>\n",
              "      <td>0.03</td>\n",
              "      <td>99.3</td>\n",
              "      <td>4.79</td>\n",
              "      <td>48</td>\n",
              "      <td>5.4</td>\n",
              "      <td>1.22</td>\n",
              "      <td>-0.5</td>\n",
              "      <td>17.2</td>\n",
              "      <td>190</td>\n",
              "      <td>0.510</td>\n",
              "      <td>0.503</td>\n",
              "      <td>29302737</td>\n",
              "    </tr>\n",
              "    <tr>\n",
              "      <th>3</th>\n",
              "      <td>Baltimore Orioles</td>\n",
              "      <td>1433.1</td>\n",
              "      <td>558</td>\n",
              "      <td>162</td>\n",
              "      <td>913</td>\n",
              "      <td>5.73</td>\n",
              "      <td>5.38</td>\n",
              "      <td>-0.13</td>\n",
              "      <td>0.02</td>\n",
              "      <td>96.4</td>\n",
              "      <td>5.33</td>\n",
              "      <td>-75</td>\n",
              "      <td>-5.7</td>\n",
              "      <td>1.31</td>\n",
              "      <td>-1.4</td>\n",
              "      <td>7.9</td>\n",
              "      <td>112</td>\n",
              "      <td>0.490</td>\n",
              "      <td>0.500</td>\n",
              "      <td>26685953</td>\n",
              "    </tr>\n",
              "    <tr>\n",
              "      <th>4</th>\n",
              "      <td>Boston Red Sox</td>\n",
              "      <td>1452.2</td>\n",
              "      <td>587</td>\n",
              "      <td>162</td>\n",
              "      <td>745</td>\n",
              "      <td>4.62</td>\n",
              "      <td>5.43</td>\n",
              "      <td>0.23</td>\n",
              "      <td>-0.02</td>\n",
              "      <td>102.4</td>\n",
              "      <td>5.30</td>\n",
              "      <td>99</td>\n",
              "      <td>10.9</td>\n",
              "      <td>1.18</td>\n",
              "      <td>-0.6</td>\n",
              "      <td>25.5</td>\n",
              "      <td>289</td>\n",
              "      <td>0.518</td>\n",
              "      <td>0.505</td>\n",
              "      <td>34865000</td>\n",
              "    </tr>\n",
              "  </tbody>\n",
              "</table>\n",
              "</div>"
            ],
            "text/plain": [
              "                     Tm      IP    G   GS  ...  RAR  waaWL%  162WL%    Salary\n",
              "0        Anaheim Angels  1448.0  603  162  ...  123   0.491   0.500  22520000\n",
              "1  Arizona Diamondbacks  1443.2  552  162  ...  219   0.516   0.504  43168500\n",
              "2        Atlanta Braves  1440.1  538  162  ...  190   0.510   0.503  29302737\n",
              "3     Baltimore Orioles  1433.1  558  162  ...  112   0.490   0.500  26685953\n",
              "4        Boston Red Sox  1452.2  587  162  ...  289   0.518   0.505  34865000\n",
              "\n",
              "[5 rows x 20 columns]"
            ]
          },
          "metadata": {
            "tags": []
          },
          "execution_count": 329
        }
      ]
    },
    {
      "cell_type": "code",
      "metadata": {
        "id": "vv7NqcuURLPn"
      },
      "source": [
        "#split dataset in features and target variable\n",
        "feature_cols = ['RA9opp', 'RA9def', 'RAR']\n",
        "X1 = df_PitchStats[feature_cols] # Features\n",
        "y1 = df_Records.W # Target variable"
      ],
      "execution_count": 330,
      "outputs": []
    },
    {
      "cell_type": "code",
      "metadata": {
        "id": "KQA9MLXgSOaw"
      },
      "source": [
        "X_train1,X_test1,y_train1,y_test1=train_test_split(X1,y1,test_size=0.25,random_state=0)"
      ],
      "execution_count": 331,
      "outputs": []
    },
    {
      "cell_type": "code",
      "metadata": {
        "colab": {
          "base_uri": "https://localhost:8080/"
        },
        "id": "kON49GGMSQ6s",
        "outputId": "734cd327-97e7-4120-973d-a68c0cc9190e"
      },
      "source": [
        "X_train1.shape"
      ],
      "execution_count": 332,
      "outputs": [
        {
          "output_type": "execute_result",
          "data": {
            "text/plain": [
              "(450, 3)"
            ]
          },
          "metadata": {
            "tags": []
          },
          "execution_count": 332
        }
      ]
    },
    {
      "cell_type": "code",
      "metadata": {
        "colab": {
          "base_uri": "https://localhost:8080/"
        },
        "id": "0n4v-nGZSbMh",
        "outputId": "ae07fb67-9f9b-496b-b566-162abe478c0d"
      },
      "source": [
        "y_train1.shape"
      ],
      "execution_count": 333,
      "outputs": [
        {
          "output_type": "execute_result",
          "data": {
            "text/plain": [
              "(450,)"
            ]
          },
          "metadata": {
            "tags": []
          },
          "execution_count": 333
        }
      ]
    },
    {
      "cell_type": "code",
      "metadata": {
        "id": "GEnA-S6ESmzg"
      },
      "source": [
        "scaler = preprocessing.StandardScaler().fit(X_train1)"
      ],
      "execution_count": 334,
      "outputs": []
    },
    {
      "cell_type": "code",
      "metadata": {
        "colab": {
          "base_uri": "https://localhost:8080/"
        },
        "id": "oN7ZjEY2SogV",
        "outputId": "f5215090-62fa-4611-cd2e-5fbc22902068"
      },
      "source": [
        "X_scaled1 = scaler.transform(X_train1)\n",
        "X_scaled1"
      ],
      "execution_count": 335,
      "outputs": [
        {
          "output_type": "execute_result",
          "data": {
            "text/plain": [
              "array([[ 1.07675294,  0.72944558,  0.45591797],\n",
              "       [ 0.78562207,  0.40160487, -0.94397084],\n",
              "       [-1.31698983, -0.99171814, -0.62647029],\n",
              "       ...,\n",
              "       [-1.57577283,  0.56552522, -0.39556079],\n",
              "       [ 1.43257957,  0.72944558, -2.25726859],\n",
              "       [-0.28185782,  1.59002744, -0.17908314]])"
            ]
          },
          "metadata": {
            "tags": []
          },
          "execution_count": 335
        }
      ]
    },
    {
      "cell_type": "code",
      "metadata": {
        "id": "PMowBkmQT1pd"
      },
      "source": [
        "X_train1 = X_scaled1"
      ],
      "execution_count": 336,
      "outputs": []
    },
    {
      "cell_type": "code",
      "metadata": {
        "colab": {
          "base_uri": "https://localhost:8080/"
        },
        "id": "MAQTvAwKS2Ta",
        "outputId": "f8c4a480-c8bf-480d-dcf4-5ab978ab35db"
      },
      "source": [
        "X1, y1 = make_classification(random_state=42)\n",
        "X_train1, X_test1, y_train1, y_test1 = train_test_split(X1, y1, random_state=42)\n",
        "pipe = make_pipeline(StandardScaler(), LogisticRegression())\n",
        "pipe.fit(X_train1, y_train1)  # apply scaling on training data\n",
        "\n",
        "pipe.score(X_test1, y_test1)  # apply scaling on testing data, without leaking training data."
      ],
      "execution_count": 337,
      "outputs": [
        {
          "output_type": "execute_result",
          "data": {
            "text/plain": [
              "0.96"
            ]
          },
          "metadata": {
            "tags": []
          },
          "execution_count": 337
        }
      ]
    },
    {
      "cell_type": "code",
      "metadata": {
        "id": "S_7GhXaGS_YX"
      },
      "source": [
        "# import the class\n",
        "from sklearn.linear_model import LogisticRegression\n",
        "\n",
        "# instantiate the model (using the default parameters)\n",
        "logreg = LogisticRegression()\n",
        "\n",
        "# fit the model with data\n",
        "logreg.fit(X_train1,y_train1)\n",
        "\n",
        "#\n",
        "y_pred1=logreg.predict(X_test1)"
      ],
      "execution_count": 338,
      "outputs": []
    },
    {
      "cell_type": "code",
      "metadata": {
        "colab": {
          "base_uri": "https://localhost:8080/"
        },
        "id": "HPM0QgYETJNb",
        "outputId": "09b537cf-8423-4765-ea6b-6d14d281fcf2"
      },
      "source": [
        "# import the metrics class\n",
        "from sklearn import metrics\n",
        "cnf_matrix = metrics.confusion_matrix(y_test1, y_pred1)\n",
        "cnf_matrix"
      ],
      "execution_count": 339,
      "outputs": [
        {
          "output_type": "execute_result",
          "data": {
            "text/plain": [
              "array([[15,  0],\n",
              "       [ 0, 10]])"
            ]
          },
          "metadata": {
            "tags": []
          },
          "execution_count": 339
        }
      ]
    },
    {
      "cell_type": "code",
      "metadata": {
        "id": "FTGlMRxOWG_j"
      },
      "source": [
        "#split dataset in features and target variable\n",
        "feature_cols = ['RA9opp', 'RA9def', 'RAR']\n",
        "X2 = df_PitchStats[feature_cols] # Features\n",
        "y2 = df_PitchStats.R # Target variable"
      ],
      "execution_count": 340,
      "outputs": []
    },
    {
      "cell_type": "code",
      "metadata": {
        "id": "Ness7qFYWvOu"
      },
      "source": [
        "X_train2,X_test2,y_train2,y_test2=train_test_split(X2,y2,test_size=0.25,random_state=0)"
      ],
      "execution_count": 341,
      "outputs": []
    },
    {
      "cell_type": "code",
      "metadata": {
        "colab": {
          "base_uri": "https://localhost:8080/"
        },
        "id": "NDAU_VxXW78z",
        "outputId": "97d59546-f830-4818-9f0e-bc33dd6f7ae4"
      },
      "source": [
        "X_train2.shape"
      ],
      "execution_count": 342,
      "outputs": [
        {
          "output_type": "execute_result",
          "data": {
            "text/plain": [
              "(450, 3)"
            ]
          },
          "metadata": {
            "tags": []
          },
          "execution_count": 342
        }
      ]
    },
    {
      "cell_type": "code",
      "metadata": {
        "colab": {
          "base_uri": "https://localhost:8080/"
        },
        "id": "j9Pc7o90XI7W",
        "outputId": "2eef2718-4f48-4f95-c656-d98527a7439b"
      },
      "source": [
        "y_train2.shape"
      ],
      "execution_count": 343,
      "outputs": [
        {
          "output_type": "execute_result",
          "data": {
            "text/plain": [
              "(450,)"
            ]
          },
          "metadata": {
            "tags": []
          },
          "execution_count": 343
        }
      ]
    },
    {
      "cell_type": "code",
      "metadata": {
        "id": "Yuh_OHdGX5An"
      },
      "source": [
        "# split X and y into training and testing sets\n",
        "from sklearn.model_selection import train_test_split\n",
        "X_train2,X_test2,y_train2,y_test2=train_test_split(X2,y2,test_size=0.25,random_state=0)"
      ],
      "execution_count": 344,
      "outputs": []
    },
    {
      "cell_type": "code",
      "metadata": {
        "colab": {
          "base_uri": "https://localhost:8080/"
        },
        "id": "49JJPYHyYVNA",
        "outputId": "86590786-9cad-4bea-a756-fd41b58c92af"
      },
      "source": [
        "# import the class\n",
        "from sklearn.linear_model import LogisticRegression\n",
        "\n",
        "# instantiate the model (using the default parameters)\n",
        "logreg = LogisticRegression()\n",
        "\n",
        "# fit the model with data\n",
        "logreg.fit(X_train2,y_train2)\n",
        "\n",
        "#\n",
        "y_pred2=logreg.predict(X_test2)"
      ],
      "execution_count": 345,
      "outputs": [
        {
          "output_type": "stream",
          "text": [
            "/usr/local/lib/python3.7/dist-packages/sklearn/linear_model/_logistic.py:940: ConvergenceWarning: lbfgs failed to converge (status=1):\n",
            "STOP: TOTAL NO. of ITERATIONS REACHED LIMIT.\n",
            "\n",
            "Increase the number of iterations (max_iter) or scale the data as shown in:\n",
            "    https://scikit-learn.org/stable/modules/preprocessing.html\n",
            "Please also refer to the documentation for alternative solver options:\n",
            "    https://scikit-learn.org/stable/modules/linear_model.html#logistic-regression\n",
            "  extra_warning_msg=_LOGISTIC_SOLVER_CONVERGENCE_MSG)\n"
          ],
          "name": "stderr"
        }
      ]
    },
    {
      "cell_type": "code",
      "metadata": {
        "colab": {
          "base_uri": "https://localhost:8080/"
        },
        "id": "Hi7kz9lOYr03",
        "outputId": "b72feb0c-0f5a-4b81-df97-568c5e56987e"
      },
      "source": [
        "# import the metrics class\n",
        "from sklearn import metrics\n",
        "cnf_matrix = metrics.confusion_matrix(y_test2, y_pred2)\n",
        "cnf_matrix"
      ],
      "execution_count": 346,
      "outputs": [
        {
          "output_type": "execute_result",
          "data": {
            "text/plain": [
              "array([[0, 0, 0, ..., 0, 0, 0],\n",
              "       [0, 0, 0, ..., 0, 0, 0],\n",
              "       [0, 0, 0, ..., 0, 0, 0],\n",
              "       ...,\n",
              "       [0, 0, 0, ..., 0, 0, 0],\n",
              "       [0, 0, 0, ..., 0, 0, 0],\n",
              "       [0, 0, 0, ..., 0, 0, 0]])"
            ]
          },
          "metadata": {
            "tags": []
          },
          "execution_count": 346
        }
      ]
    },
    {
      "cell_type": "code",
      "metadata": {
        "id": "gVsz63qtZylQ"
      },
      "source": [
        "# all parameters not specified are set to their defaults\n",
        "logisticRegr = LogisticRegression()"
      ],
      "execution_count": 347,
      "outputs": []
    },
    {
      "cell_type": "code",
      "metadata": {
        "colab": {
          "base_uri": "https://localhost:8080/"
        },
        "id": "_ZwDtUz9Z0zd",
        "outputId": "bc9d6338-1b4b-49e4-d78e-0524c70c1768"
      },
      "source": [
        "logisticRegr.fit(X_train2, y_train2)"
      ],
      "execution_count": 348,
      "outputs": [
        {
          "output_type": "stream",
          "text": [
            "/usr/local/lib/python3.7/dist-packages/sklearn/linear_model/_logistic.py:940: ConvergenceWarning: lbfgs failed to converge (status=1):\n",
            "STOP: TOTAL NO. of ITERATIONS REACHED LIMIT.\n",
            "\n",
            "Increase the number of iterations (max_iter) or scale the data as shown in:\n",
            "    https://scikit-learn.org/stable/modules/preprocessing.html\n",
            "Please also refer to the documentation for alternative solver options:\n",
            "    https://scikit-learn.org/stable/modules/linear_model.html#logistic-regression\n",
            "  extra_warning_msg=_LOGISTIC_SOLVER_CONVERGENCE_MSG)\n"
          ],
          "name": "stderr"
        },
        {
          "output_type": "execute_result",
          "data": {
            "text/plain": [
              "LogisticRegression(C=1.0, class_weight=None, dual=False, fit_intercept=True,\n",
              "                   intercept_scaling=1, l1_ratio=None, max_iter=100,\n",
              "                   multi_class='auto', n_jobs=None, penalty='l2',\n",
              "                   random_state=None, solver='lbfgs', tol=0.0001, verbose=0,\n",
              "                   warm_start=False)"
            ]
          },
          "metadata": {
            "tags": []
          },
          "execution_count": 348
        }
      ]
    },
    {
      "cell_type": "markdown",
      "metadata": {
        "id": "No8QYW8Vb6eG"
      },
      "source": [
        "The warning means what it mainly says: Suggestions to try to make the solver (the algorithm) converges.\n",
        "\n",
        "lbfgs stand for: \"Limited-memory Broyden–Fletcher–Goldfarb–Shanno Algorithm\". It is one of the solvers' algorithms provided by Scikit-Learn Library.\n",
        "\n",
        "The term limited-memory simply means it stores only a few vectors that represent the gradients approximation implicitly.\n",
        "\n",
        "It has better convergence on relatively small datasets.\n",
        "\n",
        "But what is algorithm convergence?\n",
        "\n",
        "In simple words. If the error of solving is ranging within very small range (i.e., it is almost not changing), then that means the algorithm reached the solution (not necessary to be the best solution as it might be stuck at what so-called \"local Optima\").\n",
        "\n",
        "On the other hand, if the error is varying noticeably (even if the error is relatively small [like in your case the score was good], but rather the differences between the errors per iteration is greater than some tolerance) then we say the algorithm did not converge.\n",
        "\n",
        "Now, you need to know that Scikit-Learn API sometimes provides the user the option to specify the maximum number of iterations the algorithm should take while it's searching for the solution in an iterative manner:\n",
        "\n",
        "LogisticRegression(... solver='lbfgs', max_iter=100 ...)\n",
        "As you can see, the default solver in LogisticRegression is 'lbfgs' and the maximum number of iterations is 100 by default.\n",
        "\n",
        "Final words, please, however, note that increasing the maximum number of iterations does not necessarily guarantee convergence, but it certainly helps!"
      ]
    },
    {
      "cell_type": "code",
      "metadata": {
        "colab": {
          "base_uri": "https://localhost:8080/",
          "height": 419
        },
        "id": "aXobQ21TgokX",
        "outputId": "60b7456f-ead0-4b0a-8914-04b5c46213eb"
      },
      "source": [
        "X_train2"
      ],
      "execution_count": 349,
      "outputs": [
        {
          "output_type": "execute_result",
          "data": {
            "text/html": [
              "<div>\n",
              "<style scoped>\n",
              "    .dataframe tbody tr th:only-of-type {\n",
              "        vertical-align: middle;\n",
              "    }\n",
              "\n",
              "    .dataframe tbody tr th {\n",
              "        vertical-align: top;\n",
              "    }\n",
              "\n",
              "    .dataframe thead th {\n",
              "        text-align: right;\n",
              "    }\n",
              "</style>\n",
              "<table border=\"1\" class=\"dataframe\">\n",
              "  <thead>\n",
              "    <tr style=\"text-align: right;\">\n",
              "      <th></th>\n",
              "      <th>RA9opp</th>\n",
              "      <th>RA9def</th>\n",
              "      <th>RAR</th>\n",
              "    </tr>\n",
              "  </thead>\n",
              "  <tbody>\n",
              "    <tr>\n",
              "      <th>16</th>\n",
              "      <td>4.98</td>\n",
              "      <td>0.19</td>\n",
              "      <td>174</td>\n",
              "    </tr>\n",
              "    <tr>\n",
              "      <th>23</th>\n",
              "      <td>4.89</td>\n",
              "      <td>0.11</td>\n",
              "      <td>77</td>\n",
              "    </tr>\n",
              "    <tr>\n",
              "      <th>8</th>\n",
              "      <td>4.24</td>\n",
              "      <td>-0.23</td>\n",
              "      <td>99</td>\n",
              "    </tr>\n",
              "    <tr>\n",
              "      <th>20</th>\n",
              "      <td>4.75</td>\n",
              "      <td>0.26</td>\n",
              "      <td>53</td>\n",
              "    </tr>\n",
              "    <tr>\n",
              "      <th>17</th>\n",
              "      <td>4.82</td>\n",
              "      <td>-0.04</td>\n",
              "      <td>220</td>\n",
              "    </tr>\n",
              "    <tr>\n",
              "      <th>...</th>\n",
              "      <td>...</td>\n",
              "      <td>...</td>\n",
              "      <td>...</td>\n",
              "    </tr>\n",
              "    <tr>\n",
              "      <th>7</th>\n",
              "      <td>4.80</td>\n",
              "      <td>-0.12</td>\n",
              "      <td>41</td>\n",
              "    </tr>\n",
              "    <tr>\n",
              "      <th>9</th>\n",
              "      <td>5.15</td>\n",
              "      <td>0.34</td>\n",
              "      <td>189</td>\n",
              "    </tr>\n",
              "    <tr>\n",
              "      <th>29</th>\n",
              "      <td>4.16</td>\n",
              "      <td>0.15</td>\n",
              "      <td>115</td>\n",
              "    </tr>\n",
              "    <tr>\n",
              "      <th>12</th>\n",
              "      <td>5.09</td>\n",
              "      <td>0.19</td>\n",
              "      <td>-14</td>\n",
              "    </tr>\n",
              "    <tr>\n",
              "      <th>19</th>\n",
              "      <td>4.56</td>\n",
              "      <td>0.40</td>\n",
              "      <td>130</td>\n",
              "    </tr>\n",
              "  </tbody>\n",
              "</table>\n",
              "<p>450 rows × 3 columns</p>\n",
              "</div>"
            ],
            "text/plain": [
              "    RA9opp  RA9def  RAR\n",
              "16    4.98    0.19  174\n",
              "23    4.89    0.11   77\n",
              "8     4.24   -0.23   99\n",
              "20    4.75    0.26   53\n",
              "17    4.82   -0.04  220\n",
              "..     ...     ...  ...\n",
              "7     4.80   -0.12   41\n",
              "9     5.15    0.34  189\n",
              "29    4.16    0.15  115\n",
              "12    5.09    0.19  -14\n",
              "19    4.56    0.40  130\n",
              "\n",
              "[450 rows x 3 columns]"
            ]
          },
          "metadata": {
            "tags": []
          },
          "execution_count": 349
        }
      ]
    },
    {
      "cell_type": "code",
      "metadata": {
        "colab": {
          "base_uri": "https://localhost:8080/",
          "height": 650
        },
        "id": "dE8x05jQZ9Va",
        "outputId": "28ca4cd6-179d-4855-93be-9488b2234e90"
      },
      "source": [
        "plt.scatter(X_train2, y_train2, marker='.', alpha = .5, color='navy')\n",
        "plt.gcf().set_size_inches((12,10))\n",
        "plt.xlabel('X_train2 Data', fontsize = 19)\n",
        "plt.ylabel('y_train2 Data', fontsize = 19)\n",
        "plt.title('Looking for Convergence Issues', fontsize = 22)\n",
        "\n",
        "plt.show()"
      ],
      "execution_count": 350,
      "outputs": [
        {
          "output_type": "error",
          "ename": "ValueError",
          "evalue": "ignored",
          "traceback": [
            "\u001b[0;31m---------------------------------------------------------------------------\u001b[0m",
            "\u001b[0;31mValueError\u001b[0m                                Traceback (most recent call last)",
            "\u001b[0;32m<ipython-input-350-013ea051be0d>\u001b[0m in \u001b[0;36m<module>\u001b[0;34m()\u001b[0m\n\u001b[0;32m----> 1\u001b[0;31m \u001b[0mplt\u001b[0m\u001b[0;34m.\u001b[0m\u001b[0mscatter\u001b[0m\u001b[0;34m(\u001b[0m\u001b[0mX_train2\u001b[0m\u001b[0;34m,\u001b[0m \u001b[0my_train2\u001b[0m\u001b[0;34m,\u001b[0m \u001b[0mmarker\u001b[0m\u001b[0;34m=\u001b[0m\u001b[0;34m'.'\u001b[0m\u001b[0;34m,\u001b[0m \u001b[0malpha\u001b[0m \u001b[0;34m=\u001b[0m \u001b[0;36m.5\u001b[0m\u001b[0;34m,\u001b[0m \u001b[0mcolor\u001b[0m\u001b[0;34m=\u001b[0m\u001b[0;34m'navy'\u001b[0m\u001b[0;34m)\u001b[0m\u001b[0;34m\u001b[0m\u001b[0;34m\u001b[0m\u001b[0m\n\u001b[0m\u001b[1;32m      2\u001b[0m \u001b[0mplt\u001b[0m\u001b[0;34m.\u001b[0m\u001b[0mgcf\u001b[0m\u001b[0;34m(\u001b[0m\u001b[0;34m)\u001b[0m\u001b[0;34m.\u001b[0m\u001b[0mset_size_inches\u001b[0m\u001b[0;34m(\u001b[0m\u001b[0;34m(\u001b[0m\u001b[0;36m12\u001b[0m\u001b[0;34m,\u001b[0m\u001b[0;36m10\u001b[0m\u001b[0;34m)\u001b[0m\u001b[0;34m)\u001b[0m\u001b[0;34m\u001b[0m\u001b[0;34m\u001b[0m\u001b[0m\n\u001b[1;32m      3\u001b[0m \u001b[0mplt\u001b[0m\u001b[0;34m.\u001b[0m\u001b[0mxlabel\u001b[0m\u001b[0;34m(\u001b[0m\u001b[0;34m'X_train2 Data'\u001b[0m\u001b[0;34m,\u001b[0m \u001b[0mfontsize\u001b[0m \u001b[0;34m=\u001b[0m \u001b[0;36m19\u001b[0m\u001b[0;34m)\u001b[0m\u001b[0;34m\u001b[0m\u001b[0;34m\u001b[0m\u001b[0m\n\u001b[1;32m      4\u001b[0m \u001b[0mplt\u001b[0m\u001b[0;34m.\u001b[0m\u001b[0mylabel\u001b[0m\u001b[0;34m(\u001b[0m\u001b[0;34m'y_train2 Data'\u001b[0m\u001b[0;34m,\u001b[0m \u001b[0mfontsize\u001b[0m \u001b[0;34m=\u001b[0m \u001b[0;36m19\u001b[0m\u001b[0;34m)\u001b[0m\u001b[0;34m\u001b[0m\u001b[0;34m\u001b[0m\u001b[0m\n\u001b[1;32m      5\u001b[0m \u001b[0mplt\u001b[0m\u001b[0;34m.\u001b[0m\u001b[0mtitle\u001b[0m\u001b[0;34m(\u001b[0m\u001b[0;34m'Looking for Convergence Issues'\u001b[0m\u001b[0;34m,\u001b[0m \u001b[0mfontsize\u001b[0m \u001b[0;34m=\u001b[0m \u001b[0;36m22\u001b[0m\u001b[0;34m)\u001b[0m\u001b[0;34m\u001b[0m\u001b[0;34m\u001b[0m\u001b[0m\n",
            "\u001b[0;32m/usr/local/lib/python3.7/dist-packages/matplotlib/pyplot.py\u001b[0m in \u001b[0;36mscatter\u001b[0;34m(x, y, s, c, marker, cmap, norm, vmin, vmax, alpha, linewidths, verts, edgecolors, plotnonfinite, data, **kwargs)\u001b[0m\n\u001b[1;32m   2814\u001b[0m         \u001b[0mverts\u001b[0m\u001b[0;34m=\u001b[0m\u001b[0mverts\u001b[0m\u001b[0;34m,\u001b[0m \u001b[0medgecolors\u001b[0m\u001b[0;34m=\u001b[0m\u001b[0medgecolors\u001b[0m\u001b[0;34m,\u001b[0m\u001b[0;34m\u001b[0m\u001b[0;34m\u001b[0m\u001b[0m\n\u001b[1;32m   2815\u001b[0m         plotnonfinite=plotnonfinite, **({\"data\": data} if data is not\n\u001b[0;32m-> 2816\u001b[0;31m         None else {}), **kwargs)\n\u001b[0m\u001b[1;32m   2817\u001b[0m     \u001b[0msci\u001b[0m\u001b[0;34m(\u001b[0m\u001b[0m__ret\u001b[0m\u001b[0;34m)\u001b[0m\u001b[0;34m\u001b[0m\u001b[0;34m\u001b[0m\u001b[0m\n\u001b[1;32m   2818\u001b[0m     \u001b[0;32mreturn\u001b[0m \u001b[0m__ret\u001b[0m\u001b[0;34m\u001b[0m\u001b[0;34m\u001b[0m\u001b[0m\n",
            "\u001b[0;32m/usr/local/lib/python3.7/dist-packages/matplotlib/__init__.py\u001b[0m in \u001b[0;36minner\u001b[0;34m(ax, data, *args, **kwargs)\u001b[0m\n\u001b[1;32m   1563\u001b[0m     \u001b[0;32mdef\u001b[0m \u001b[0minner\u001b[0m\u001b[0;34m(\u001b[0m\u001b[0max\u001b[0m\u001b[0;34m,\u001b[0m \u001b[0;34m*\u001b[0m\u001b[0margs\u001b[0m\u001b[0;34m,\u001b[0m \u001b[0mdata\u001b[0m\u001b[0;34m=\u001b[0m\u001b[0;32mNone\u001b[0m\u001b[0;34m,\u001b[0m \u001b[0;34m**\u001b[0m\u001b[0mkwargs\u001b[0m\u001b[0;34m)\u001b[0m\u001b[0;34m:\u001b[0m\u001b[0;34m\u001b[0m\u001b[0;34m\u001b[0m\u001b[0m\n\u001b[1;32m   1564\u001b[0m         \u001b[0;32mif\u001b[0m \u001b[0mdata\u001b[0m \u001b[0;32mis\u001b[0m \u001b[0;32mNone\u001b[0m\u001b[0;34m:\u001b[0m\u001b[0;34m\u001b[0m\u001b[0;34m\u001b[0m\u001b[0m\n\u001b[0;32m-> 1565\u001b[0;31m             \u001b[0;32mreturn\u001b[0m \u001b[0mfunc\u001b[0m\u001b[0;34m(\u001b[0m\u001b[0max\u001b[0m\u001b[0;34m,\u001b[0m \u001b[0;34m*\u001b[0m\u001b[0mmap\u001b[0m\u001b[0;34m(\u001b[0m\u001b[0msanitize_sequence\u001b[0m\u001b[0;34m,\u001b[0m \u001b[0margs\u001b[0m\u001b[0;34m)\u001b[0m\u001b[0;34m,\u001b[0m \u001b[0;34m**\u001b[0m\u001b[0mkwargs\u001b[0m\u001b[0;34m)\u001b[0m\u001b[0;34m\u001b[0m\u001b[0;34m\u001b[0m\u001b[0m\n\u001b[0m\u001b[1;32m   1566\u001b[0m \u001b[0;34m\u001b[0m\u001b[0m\n\u001b[1;32m   1567\u001b[0m         \u001b[0mbound\u001b[0m \u001b[0;34m=\u001b[0m \u001b[0mnew_sig\u001b[0m\u001b[0;34m.\u001b[0m\u001b[0mbind\u001b[0m\u001b[0;34m(\u001b[0m\u001b[0max\u001b[0m\u001b[0;34m,\u001b[0m \u001b[0;34m*\u001b[0m\u001b[0margs\u001b[0m\u001b[0;34m,\u001b[0m \u001b[0;34m**\u001b[0m\u001b[0mkwargs\u001b[0m\u001b[0;34m)\u001b[0m\u001b[0;34m\u001b[0m\u001b[0;34m\u001b[0m\u001b[0m\n",
            "\u001b[0;32m/usr/local/lib/python3.7/dist-packages/matplotlib/cbook/deprecation.py\u001b[0m in \u001b[0;36mwrapper\u001b[0;34m(*args, **kwargs)\u001b[0m\n\u001b[1;32m    356\u001b[0m                 \u001b[0;34mf\"%(removal)s.  If any parameter follows {name!r}, they \"\u001b[0m\u001b[0;34m\u001b[0m\u001b[0;34m\u001b[0m\u001b[0m\n\u001b[1;32m    357\u001b[0m                 f\"should be pass as keyword, not positionally.\")\n\u001b[0;32m--> 358\u001b[0;31m         \u001b[0;32mreturn\u001b[0m \u001b[0mfunc\u001b[0m\u001b[0;34m(\u001b[0m\u001b[0;34m*\u001b[0m\u001b[0margs\u001b[0m\u001b[0;34m,\u001b[0m \u001b[0;34m**\u001b[0m\u001b[0mkwargs\u001b[0m\u001b[0;34m)\u001b[0m\u001b[0;34m\u001b[0m\u001b[0;34m\u001b[0m\u001b[0m\n\u001b[0m\u001b[1;32m    359\u001b[0m \u001b[0;34m\u001b[0m\u001b[0m\n\u001b[1;32m    360\u001b[0m     \u001b[0;32mreturn\u001b[0m \u001b[0mwrapper\u001b[0m\u001b[0;34m\u001b[0m\u001b[0;34m\u001b[0m\u001b[0m\n",
            "\u001b[0;32m/usr/local/lib/python3.7/dist-packages/matplotlib/axes/_axes.py\u001b[0m in \u001b[0;36mscatter\u001b[0;34m(self, x, y, s, c, marker, cmap, norm, vmin, vmax, alpha, linewidths, verts, edgecolors, plotnonfinite, **kwargs)\u001b[0m\n\u001b[1;32m   4389\u001b[0m         \u001b[0my\u001b[0m \u001b[0;34m=\u001b[0m \u001b[0mnp\u001b[0m\u001b[0;34m.\u001b[0m\u001b[0mma\u001b[0m\u001b[0;34m.\u001b[0m\u001b[0mravel\u001b[0m\u001b[0;34m(\u001b[0m\u001b[0my\u001b[0m\u001b[0;34m)\u001b[0m\u001b[0;34m\u001b[0m\u001b[0;34m\u001b[0m\u001b[0m\n\u001b[1;32m   4390\u001b[0m         \u001b[0;32mif\u001b[0m \u001b[0mx\u001b[0m\u001b[0;34m.\u001b[0m\u001b[0msize\u001b[0m \u001b[0;34m!=\u001b[0m \u001b[0my\u001b[0m\u001b[0;34m.\u001b[0m\u001b[0msize\u001b[0m\u001b[0;34m:\u001b[0m\u001b[0;34m\u001b[0m\u001b[0;34m\u001b[0m\u001b[0m\n\u001b[0;32m-> 4391\u001b[0;31m             \u001b[0;32mraise\u001b[0m \u001b[0mValueError\u001b[0m\u001b[0;34m(\u001b[0m\u001b[0;34m\"x and y must be the same size\"\u001b[0m\u001b[0;34m)\u001b[0m\u001b[0;34m\u001b[0m\u001b[0;34m\u001b[0m\u001b[0m\n\u001b[0m\u001b[1;32m   4392\u001b[0m \u001b[0;34m\u001b[0m\u001b[0m\n\u001b[1;32m   4393\u001b[0m         \u001b[0;32mif\u001b[0m \u001b[0ms\u001b[0m \u001b[0;32mis\u001b[0m \u001b[0;32mNone\u001b[0m\u001b[0;34m:\u001b[0m\u001b[0;34m\u001b[0m\u001b[0;34m\u001b[0m\u001b[0m\n",
            "\u001b[0;31mValueError\u001b[0m: x and y must be the same size"
          ]
        },
        {
          "output_type": "display_data",
          "data": {
            "image/png": "[encoded data removed]",
            "text/plain": [
              "<Figure size 432x288 with 1 Axes>"
            ]
          },
          "metadata": {
            "tags": [],
            "needs_background": "light"
          }
        }
      ]
    },
    {
      "cell_type": "markdown",
      "metadata": {
        "id": "0-T38uo_dGre"
      },
      "source": [
        "A frequent problem in estimating logistic regression models is a failure of the likelihood maximization algorithm to\n",
        "converge. In most cases, this failure is a consequence of data patterns known as complete or quasi-complete\n",
        "separation. For these patterns, the maximum likelihood estimates simply do not exist."
      ]
    },
    {
      "cell_type": "markdown",
      "metadata": {
        "id": "6XqX4WG0hvjS"
      },
      "source": [
        "Decision Boundary\n",
        "To get a better sense of what a logistic regression hypothesis function computes, we need to know of a concept called ‘decision boundary’. The prediction function that we are using will return a probability score between 0 and 1. To map this score to a discrete class (positive/negative, true/false), we select a threshold value, say 0.5, above which we classify values into class 1 and below which the values will fall into class 2.\n",
        "For instance, say the prediction function returns a value of 0.8, this would get classified as true/positive (as it is above the selected value of threshold). A value of 0.3, on the other hand, would get classified as false/negative. When dealing with multivariate logistic regression, we select the class with the highest predicted probability.\n",
        "\n",
        "![image.png](data:image/png;base64,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)\n",
        "\n",
        "Citation: https://towardsdatascience.com/multivariate-logistic-regression-in-python-7c6255a286ec"
      ]
    },
    {
      "cell_type": "code",
      "metadata": {
        "id": "LuyTlPbHhuCX"
      },
      "source": [
        "# Import 'LogisticRegression' and create a LogisticRegression object\n",
        "from sklearn.linear_model import LogisticRegression\n",
        "logreg = LogisticRegression()"
      ],
      "execution_count": 351,
      "outputs": []
    },
    {
      "cell_type": "code",
      "metadata": {
        "id": "-ISf2ZkyiS1i"
      },
      "source": [
        "# Import RFE and select 15 variables\n",
        "from sklearn.feature_selection import RFE\n",
        "rfe = RFE(logreg, 5)             \n",
        "rfe = rfe.fit(X_train, y_train)"
      ],
      "execution_count": 352,
      "outputs": []
    },
    {
      "cell_type": "code",
      "metadata": {
        "colab": {
          "base_uri": "https://localhost:8080/",
          "height": 204
        },
        "id": "xgPWPig0jhNZ",
        "outputId": "355e7715-6239-4e87-9029-f5a0521bf57a"
      },
      "source": [
        "df_MLB_HomeTeams.head()"
      ],
      "execution_count": 353,
      "outputs": [
        {
          "output_type": "execute_result",
          "data": {
            "text/html": [
              "<div>\n",
              "<style scoped>\n",
              "    .dataframe tbody tr th:only-of-type {\n",
              "        vertical-align: middle;\n",
              "    }\n",
              "\n",
              "    .dataframe tbody tr th {\n",
              "        vertical-align: top;\n",
              "    }\n",
              "\n",
              "    .dataframe thead th {\n",
              "        text-align: right;\n",
              "    }\n",
              "</style>\n",
              "<table border=\"1\" class=\"dataframe\">\n",
              "  <thead>\n",
              "    <tr style=\"text-align: right;\">\n",
              "      <th></th>\n",
              "      <th>Result</th>\n",
              "      <th>HomeTeam</th>\n",
              "      <th>HomeWin</th>\n",
              "      <th>Opp</th>\n",
              "      <th>HomeLastWin</th>\n",
              "      <th>VisitorLastWin</th>\n",
              "    </tr>\n",
              "  </thead>\n",
              "  <tbody>\n",
              "    <tr>\n",
              "      <th>0</th>\n",
              "      <td>0.0</td>\n",
              "      <td>1.0</td>\n",
              "      <td>0</td>\n",
              "      <td>0</td>\n",
              "      <td>0</td>\n",
              "      <td>1</td>\n",
              "    </tr>\n",
              "    <tr>\n",
              "      <th>1</th>\n",
              "      <td>1.0</td>\n",
              "      <td>1.0</td>\n",
              "      <td>1</td>\n",
              "      <td>0</td>\n",
              "      <td>0</td>\n",
              "      <td>1</td>\n",
              "    </tr>\n",
              "    <tr>\n",
              "      <th>2</th>\n",
              "      <td>1.0</td>\n",
              "      <td>1.0</td>\n",
              "      <td>1</td>\n",
              "      <td>0</td>\n",
              "      <td>1</td>\n",
              "      <td>0</td>\n",
              "    </tr>\n",
              "    <tr>\n",
              "      <th>4</th>\n",
              "      <td>0.0</td>\n",
              "      <td>1.0</td>\n",
              "      <td>0</td>\n",
              "      <td>0</td>\n",
              "      <td>1</td>\n",
              "      <td>0</td>\n",
              "    </tr>\n",
              "    <tr>\n",
              "      <th>5</th>\n",
              "      <td>1.0</td>\n",
              "      <td>1.0</td>\n",
              "      <td>1</td>\n",
              "      <td>0</td>\n",
              "      <td>1</td>\n",
              "      <td>0</td>\n",
              "    </tr>\n",
              "  </tbody>\n",
              "</table>\n",
              "</div>"
            ],
            "text/plain": [
              "   Result  HomeTeam  HomeWin  Opp  HomeLastWin  VisitorLastWin\n",
              "0     0.0       1.0        0    0            0               1\n",
              "1     1.0       1.0        1    0            0               1\n",
              "2     1.0       1.0        1    0            1               0\n",
              "4     0.0       1.0        0    0            1               0\n",
              "5     1.0       1.0        1    0            1               0"
            ]
          },
          "metadata": {
            "tags": []
          },
          "execution_count": 353
        }
      ]
    },
    {
      "cell_type": "code",
      "metadata": {
        "id": "tpkzXGpbkDX1"
      },
      "source": [
        "#split dataset in features and target variable\n",
        "\n",
        "X = df_MLB_HomeTeams.HomeLastWin # Feature\n",
        "y = df_MLB_HomeTeams.HomeWin # Target variable"
      ],
      "execution_count": 354,
      "outputs": []
    },
    {
      "cell_type": "code",
      "metadata": {
        "colab": {
          "base_uri": "https://localhost:8080/"
        },
        "id": "VJm3nY9RkRXt",
        "outputId": "c457b5f7-e82f-449a-b590-db28353c3981"
      },
      "source": [
        "X.shape"
      ],
      "execution_count": 355,
      "outputs": [
        {
          "output_type": "execute_result",
          "data": {
            "text/plain": [
              "(48054,)"
            ]
          },
          "metadata": {
            "tags": []
          },
          "execution_count": 355
        }
      ]
    },
    {
      "cell_type": "code",
      "metadata": {
        "colab": {
          "base_uri": "https://localhost:8080/"
        },
        "id": "VuPpfkQLVNCF",
        "outputId": "a7c9df31-002a-4866-ff53-439d67b6d026"
      },
      "source": [
        "X.values.reshape(-1,1)"
      ],
      "execution_count": 360,
      "outputs": [
        {
          "output_type": "execute_result",
          "data": {
            "text/plain": [
              "array([[0],\n",
              "       [0],\n",
              "       [1],\n",
              "       ...,\n",
              "       [0],\n",
              "       [0],\n",
              "       [0]])"
            ]
          },
          "metadata": {
            "tags": []
          },
          "execution_count": 360
        }
      ]
    },
    {
      "cell_type": "code",
      "metadata": {
        "colab": {
          "base_uri": "https://localhost:8080/"
        },
        "id": "ZZGiXj_NkZWZ",
        "outputId": "2d469f85-fb7e-43d7-bcac-1eb3f8422692"
      },
      "source": [
        "y.shape"
      ],
      "execution_count": 356,
      "outputs": [
        {
          "output_type": "execute_result",
          "data": {
            "text/plain": [
              "(48054,)"
            ]
          },
          "metadata": {
            "tags": []
          },
          "execution_count": 356
        }
      ]
    },
    {
      "cell_type": "code",
      "metadata": {
        "colab": {
          "base_uri": "https://localhost:8080/"
        },
        "id": "mNIkM5RgVwlJ",
        "outputId": "ebf0b597-621d-4f39-8ec0-e1f6df6284f1"
      },
      "source": [
        "y.values.reshape(-1,1)"
      ],
      "execution_count": 361,
      "outputs": [
        {
          "output_type": "execute_result",
          "data": {
            "text/plain": [
              "array([[0],\n",
              "       [1],\n",
              "       [1],\n",
              "       ...,\n",
              "       [0],\n",
              "       [1],\n",
              "       [1]])"
            ]
          },
          "metadata": {
            "tags": []
          },
          "execution_count": 361
        }
      ]
    },
    {
      "cell_type": "code",
      "metadata": {
        "id": "Gyfl0h7Vkj8-"
      },
      "source": [
        "X_train,X_test,y_train,y_test=train_test_split(X,y,test_size=0.25,random_state=0)"
      ],
      "execution_count": 393,
      "outputs": []
    },
    {
      "cell_type": "code",
      "metadata": {
        "id": "1036qGPDYPbO"
      },
      "source": [
        "X_train = X_train.values.reshape(-1,1)"
      ],
      "execution_count": 394,
      "outputs": []
    },
    {
      "cell_type": "code",
      "metadata": {
        "colab": {
          "base_uri": "https://localhost:8080/"
        },
        "id": "UaLTt2R9X3Go",
        "outputId": "8ec4893b-131a-44c5-d528-f0a144b29b5c"
      },
      "source": [
        "X_train"
      ],
      "execution_count": 395,
      "outputs": [
        {
          "output_type": "execute_result",
          "data": {
            "text/plain": [
              "array([[0],\n",
              "       [0],\n",
              "       [0],\n",
              "       ...,\n",
              "       [0],\n",
              "       [0],\n",
              "       [1]])"
            ]
          },
          "metadata": {
            "tags": []
          },
          "execution_count": 395
        }
      ]
    },
    {
      "cell_type": "code",
      "metadata": {
        "id": "qD2Z6LsvYZZI"
      },
      "source": [
        "X_test = X_test.values.reshape(-1,1)"
      ],
      "execution_count": 396,
      "outputs": []
    },
    {
      "cell_type": "code",
      "metadata": {
        "colab": {
          "base_uri": "https://localhost:8080/"
        },
        "id": "-teYKZeOX_E7",
        "outputId": "765d4c5d-153a-42f4-e614-18b5c12537a1"
      },
      "source": [
        "X_test"
      ],
      "execution_count": 397,
      "outputs": [
        {
          "output_type": "execute_result",
          "data": {
            "text/plain": [
              "array([[0],\n",
              "       [0],\n",
              "       [0],\n",
              "       ...,\n",
              "       [0],\n",
              "       [0],\n",
              "       [0]])"
            ]
          },
          "metadata": {
            "tags": []
          },
          "execution_count": 397
        }
      ]
    },
    {
      "cell_type": "code",
      "metadata": {
        "id": "z74DrV-ZYgUx"
      },
      "source": [
        "y_train = y_train.values.reshape(-1,1)"
      ],
      "execution_count": 398,
      "outputs": []
    },
    {
      "cell_type": "code",
      "metadata": {
        "colab": {
          "base_uri": "https://localhost:8080/"
        },
        "id": "VJuESS_yYCdI",
        "outputId": "caf1ce5d-e449-42d3-ed63-05f0b9e058ab"
      },
      "source": [
        "y_train"
      ],
      "execution_count": 399,
      "outputs": [
        {
          "output_type": "execute_result",
          "data": {
            "text/plain": [
              "array([[1],\n",
              "       [0],\n",
              "       [0],\n",
              "       ...,\n",
              "       [1],\n",
              "       [1],\n",
              "       [1]])"
            ]
          },
          "metadata": {
            "tags": []
          },
          "execution_count": 399
        }
      ]
    },
    {
      "cell_type": "markdown",
      "metadata": {
        "id": "6lU0vbnYVAw6"
      },
      "source": [
        "Reshape your data either using array.reshape(-1, 1) if your data has a single feature or array.reshape(1, -1) if it contains a single sample."
      ]
    },
    {
      "cell_type": "code",
      "metadata": {
        "id": "eceyhIguYtbi"
      },
      "source": [
        "# import the class\n",
        "from sklearn.linear_model import LogisticRegression\n",
        "\n",
        "# instantiate the model (using the default parameters)\n",
        "logreg = LogisticRegression()"
      ],
      "execution_count": 400,
      "outputs": []
    },
    {
      "cell_type": "code",
      "metadata": {
        "id": "9SuBBADepsZE",
        "colab": {
          "base_uri": "https://localhost:8080/"
        },
        "outputId": "fe76506c-bd93-4d91-d987-0cca04f36879"
      },
      "source": [
        "# fit the model with data\n",
        "logreg.fit(X_train,y_train)"
      ],
      "execution_count": 401,
      "outputs": [
        {
          "output_type": "stream",
          "text": [
            "/usr/local/lib/python3.7/dist-packages/sklearn/utils/validation.py:760: DataConversionWarning: A column-vector y was passed when a 1d array was expected. Please change the shape of y to (n_samples, ), for example using ravel().\n",
            "  y = column_or_1d(y, warn=True)\n"
          ],
          "name": "stderr"
        },
        {
          "output_type": "execute_result",
          "data": {
            "text/plain": [
              "LogisticRegression(C=1.0, class_weight=None, dual=False, fit_intercept=True,\n",
              "                   intercept_scaling=1, l1_ratio=None, max_iter=100,\n",
              "                   multi_class='auto', n_jobs=None, penalty='l2',\n",
              "                   random_state=None, solver='lbfgs', tol=0.0001, verbose=0,\n",
              "                   warm_start=False)"
            ]
          },
          "metadata": {
            "tags": []
          },
          "execution_count": 401
        }
      ]
    },
    {
      "cell_type": "code",
      "metadata": {
        "id": "hborPjF1Y1up"
      },
      "source": [
        "y_pred=logreg.predict(X_test)"
      ],
      "execution_count": 402,
      "outputs": []
    },
    {
      "cell_type": "code",
      "metadata": {
        "colab": {
          "base_uri": "https://localhost:8080/"
        },
        "id": "xkHkwWSdpxpL",
        "outputId": "df64ac82-2b87-4313-96f5-7411fed7f420"
      },
      "source": [
        "# import the metrics class\n",
        "from sklearn import metrics\n",
        "cnf_matrix = metrics.confusion_matrix(y_test, y_pred)\n",
        "cnf_matrix"
      ],
      "execution_count": 403,
      "outputs": [
        {
          "output_type": "execute_result",
          "data": {
            "text/plain": [
              "array([[5987,  216],\n",
              "       [5512,  299]])"
            ]
          },
          "metadata": {
            "tags": []
          },
          "execution_count": 403
        }
      ]
    },
    {
      "cell_type": "code",
      "metadata": {
        "colab": {
          "base_uri": "https://localhost:8080/",
          "height": 344
        },
        "id": "aRKXNibGqSAD",
        "outputId": "fd217ddf-aff1-49c5-9a5a-0295e0ab3089"
      },
      "source": [
        "class_names=[0,1] # name  of classes\n",
        "fig, ax = plt.subplots()\n",
        "tick_marks = np.arange(len(class_names))\n",
        "plt.xticks(tick_marks, class_names)\n",
        "plt.yticks(tick_marks, class_names)\n",
        "# create heatmap\n",
        "sns.heatmap(pd.DataFrame(cnf_matrix), annot=True, cmap=\"YlGnBu\" ,fmt='g')\n",
        "ax.xaxis.set_label_position(\"top\")\n",
        "plt.tight_layout()\n",
        "plt.title('Confusion matrix', y=1.1)\n",
        "plt.ylabel('Actual label')\n",
        "plt.xlabel('Predicted label')"
      ],
      "execution_count": 404,
      "outputs": [
        {
          "output_type": "execute_result",
          "data": {
            "text/plain": [
              "Text(0.5, 257.44, 'Predicted label')"
            ]
          },
          "metadata": {
            "tags": []
          },
          "execution_count": 404
        },
        {
          "output_type": "display_data",
          "data": {
            "image/png": "[encoded data removed]",
            "text/plain": [
              "<Figure size 432x288 with 2 Axes>"
            ]
          },
          "metadata": {
            "tags": [],
            "needs_background": "light"
          }
        }
      ]
    },
    {
      "cell_type": "code",
      "metadata": {
        "colab": {
          "base_uri": "https://localhost:8080/"
        },
        "id": "FO5G-x82q3dE",
        "outputId": "3c6a3ade-a4c4-47a1-f043-d26f6e285516"
      },
      "source": [
        "print(\"Accuracy:\",metrics.accuracy_score(y_test, y_pred))\n",
        "print(\"Precision:\",metrics.precision_score(y_test, y_pred))\n",
        "print(\"Recall:\",metrics.recall_score(y_test, y_pred))"
      ],
      "execution_count": 405,
      "outputs": [
        {
          "output_type": "stream",
          "text": [
            "Accuracy: 0.5232229066089562\n",
            "Precision: 0.5805825242718446\n",
            "Recall: 0.05145413870246085\n"
          ],
          "name": "stdout"
        }
      ]
    }
  ]
}