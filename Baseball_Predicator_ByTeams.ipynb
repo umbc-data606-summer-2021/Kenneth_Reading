{
  "nbformat": 4,
  "nbformat_minor": 0,
  "metadata": {
    "colab": {
      "name": "Baseball_Predicator_ByTeams.ipynb",
      "provenance": [],
      "collapsed_sections": []
    },
    "kernelspec": {
      "name": "python3",
      "display_name": "Python 3"
    },
    "language_info": {
      "name": "python"
    }
  },
  "cells": [
    {
      "cell_type": "code",
      "metadata": {
        "colab": {
          "base_uri": "https://localhost:8080/"
        },
        "id": "wIpbNvX75g2W",
        "outputId": "40cd5800-a0bd-477b-8df9-a80ed40d1bc6"
      },
      "source": [
        "# import relevant libraries\n",
        "import pandas as pd\n",
        "import numpy as np\n",
        "import matplotlib.pyplot as plt\n",
        "!pip install bs4 \n",
        "from bs4 import BeautifulSoup\n",
        "!pip install lxml\n",
        "import requests\n",
        "from datetime import datetime\n",
        "import seaborn as sb\n",
        "from statsmodels.tsa.arima_model import ARIMA\n",
        "from pandas.plotting import autocorrelation_plot\n",
        "from sklearn.linear_model import LinearRegression\n",
        "from sklearn.metrics import f1_score"
      ],
      "execution_count": 65,
      "outputs": [
        {
          "output_type": "stream",
          "text": [
            "Requirement already satisfied: bs4 in /usr/local/lib/python3.7/dist-packages (0.0.1)\n",
            "Requirement already satisfied: beautifulsoup4 in /usr/local/lib/python3.7/dist-packages (from bs4) (4.6.3)\n",
            "Requirement already satisfied: lxml in /usr/local/lib/python3.7/dist-packages (4.2.6)\n"
          ],
          "name": "stdout"
        }
      ]
    },
    {
      "cell_type": "code",
      "metadata": {
        "id": "2j17-KYr5m1Z"
      },
      "source": [
        "# Web Scraping\n",
        "# use requests to open and grab the desired html link\n",
        "html = requests.get('https://www.baseball-reference.com/leagues/MLB/2018-schedule.shtml').text\n",
        "# employ BeautifulSoup with an appropriate parser to extract\n",
        "soup = BeautifulSoup(html, 'lxml')\n",
        "# find all of the games\n",
        "gameday = soup.find('p', class_='game')\n",
        "game = soup.find('h3').text\n",
        "\n",
        "# function that accepts the date from the website and returns\n",
        "# it in the correct datetime format\n",
        "def correctDateTime(date):\n",
        "  d = date.split(' ', 1)[1:]\n",
        "  substr1 = d[0].split()[0]\n",
        "  substr2 = d[0].split()[1]\n",
        "  # remove the comma\n",
        "  substr2 = substr2.replace(',', '')\n",
        "  # create appropriate date string to pass to datetime\n",
        "  gameday = substr2 + \" \" + substr1 + \", \" + d[0].split()[-1]\n",
        "  # convert gameday to a datetime called date\n",
        "  day = datetime.strptime(gameday, \"%d %B, %Y\").date()\n",
        "  return day"
      ],
      "execution_count": 3,
      "outputs": []
    },
    {
      "cell_type": "code",
      "metadata": {
        "id": "rXh-SYhW5sj8"
      },
      "source": [
        "# first let us create a list to hold the names of all 30 MLB teams\n",
        "columns = []\n",
        "# first loop through the schedule to find all MLB teams\n",
        "schedule = soup.find('div', class_='section_content')\n",
        "gamedays = schedule.find_all('div')\n",
        "# iterate through gamedays \n",
        "for gameday in gamedays:\n",
        "  # create a sup-soup of all the games\n",
        "  games = gameday.find_all('p', class_='game')\n",
        "  # loop through each game\n",
        "  for game in games:\n",
        "    awayTeam = game.find('a').text\n",
        "    homeTeam = game.find('strong').text\n",
        "    # fix format of homeTeam\n",
        "    homeTeam = homeTeam.partition('\\n')[0]\n",
        "    # if the first space is blank, delete it\n",
        "    if homeTeam[0] == ' ':\n",
        "      homeTeam = homeTeam[1:]\n",
        "    # add the home team to the list of teams if it had not\n",
        "    # already been added to the list\n",
        "    if awayTeam not in columns:\n",
        "      columns.append(awayTeam)\n",
        "    if homeTeam not in columns:\n",
        "      columns.append(homeTeam)\n",
        "\n",
        "# now let us loop through schedule to find all of the gamedays and\n",
        "# we shall store them in gamedates\n",
        "gamedates = []\n",
        "for gameday in gamedays: \n",
        "  date = correctDateTime(gameday.find('h3').text)\n",
        "  if date not in gamedates:\n",
        "    gamedates.append(date)"
      ],
      "execution_count": 4,
      "outputs": []
    },
    {
      "cell_type": "code",
      "metadata": {
        "colab": {
          "base_uri": "https://localhost:8080/",
          "height": 513
        },
        "id": "B9YoH6XH5xsm",
        "outputId": "97ae2888-1ebb-4f61-b392-adc40e5e3c48"
      },
      "source": [
        "# create dataframe with all 30 MLB teams in the columns and game dates as row indices\n",
        "gameResults = pd.DataFrame(columns=columns, index=gamedates)\n",
        "\n",
        "# iterate through gamedays \n",
        "for gameday in gamedays:\n",
        "  date = correctDateTime(gameday.find('h3').text)\n",
        "  # create a sup-soup of all the games\n",
        "  games = gameday.find_all('p', class_='game')\n",
        "  # loop through each game\n",
        "  for game in games:\n",
        "    # results of each game\n",
        "    teams = game.find_all('a')\n",
        "    awayTeam = teams[0].text\n",
        "    homeTeam = teams[1].text\n",
        "    awayRuns = game.text.splitlines()[2]\n",
        "    homeRuns = game.text.splitlines()[5]\n",
        "    # remove parentheses and blank spaces\n",
        "    for i in awayRuns:\n",
        "      awayRuns = awayRuns.replace('(', '')\n",
        "      awayRuns = awayRuns.replace(' ', '')\n",
        "    awayRuns = awayRuns[:-1]\n",
        "    for i in homeRuns:\n",
        "      homeRuns = homeRuns.replace('(', '')\n",
        "      homeRuns = homeRuns.replace(' ', '')\n",
        "    homeRuns = homeRuns[:-1]\n",
        "\n",
        "    # make runs ints\n",
        "    awayRuns = int(awayRuns)\n",
        "    homeRuns = int(homeRuns)\n",
        "\n",
        "    # if away team wins\n",
        "    if awayRuns > homeRuns:\n",
        "      # create list of info for the winner\n",
        "      winnerList = [awayRuns, homeRuns]\n",
        "      # add a +1 label since the game is one\n",
        "      winnerList.append(1)\n",
        "      # assign the results to the main dataframe\n",
        "      gameResults.loc[date][awayTeam] = winnerList\n",
        "    \n",
        "      # create list info for loser\n",
        "      loserList = [homeRuns, awayRuns]\n",
        "      # add a 0 label reflecting a loss\n",
        "      loserList.append(0)\n",
        "      # assign the results to the main dataframe\n",
        "      gameResults.loc[date][homeTeam] = loserList\n",
        "\n",
        "    # if home team wins\n",
        "    elif homeRuns > awayRuns:\n",
        "      # create list of info for the winner\n",
        "      winnerList = [homeRuns, awayRuns]\n",
        "      # add a +1 label since the game is one\n",
        "      winnerList.append(1)\n",
        "      # assign the results to the main dataframe\n",
        "      gameResults.loc[date][homeTeam] = winnerList\n",
        "    \n",
        "      # create list info for loser\n",
        "      loserList = [awayRuns, homeRuns]\n",
        "      # add a 0 label reflecting a loss\n",
        "      loserList.append(0)\n",
        "      # assign the results to the main dataframe\n",
        "      gameResults.loc[date][awayTeam] = loserList\n",
        "\n",
        "    gameResults.loc[date][homeTeam] = {'runs_for': gameResults.loc[date, homeTeam][0], 'runs_against': gameResults.loc[date, homeTeam][1], \"win/loss\": gameResults.loc[date, homeTeam][2]}\n",
        "    gameResults.loc[date][awayTeam] = {'runs_for': gameResults.loc[date, awayTeam][0], 'runs_against': gameResults.loc[date, awayTeam][1], \"win/loss\": gameResults.loc[date, awayTeam][2]} \n",
        "  \n",
        "gameResults.head()"
      ],
      "execution_count": 5,
      "outputs": [
        {
          "output_type": "execute_result",
          "data": {
            "text/html": [
              "<div>\n",
              "<style scoped>\n",
              "    .dataframe tbody tr th:only-of-type {\n",
              "        vertical-align: middle;\n",
              "    }\n",
              "\n",
              "    .dataframe tbody tr th {\n",
              "        vertical-align: top;\n",
              "    }\n",
              "\n",
              "    .dataframe thead th {\n",
              "        text-align: right;\n",
              "    }\n",
              "</style>\n",
              "<table border=\"1\" class=\"dataframe\">\n",
              "  <thead>\n",
              "    <tr style=\"text-align: right;\">\n",
              "      <th></th>\n",
              "      <th>Colorado Rockies</th>\n",
              "      <th>Arizona D'Backs</th>\n",
              "      <th>Philadelphia Phillies</th>\n",
              "      <th>Atlanta Braves</th>\n",
              "      <th>Minnesota Twins</th>\n",
              "      <th>Baltimore Orioles</th>\n",
              "      <th>Chicago White Sox</th>\n",
              "      <th>San Francisco Giants</th>\n",
              "      <th>Chicago Cubs</th>\n",
              "      <th>St. Louis Cardinals</th>\n",
              "      <th>New York Mets</th>\n",
              "      <th>Los Angeles Angels</th>\n",
              "      <th>Oakland Athletics</th>\n",
              "      <th>Milwaukee Brewers</th>\n",
              "      <th>Cleveland Indians</th>\n",
              "      <th>Seattle Mariners</th>\n",
              "      <th>Boston Red Sox</th>\n",
              "      <th>Tampa Bay Rays</th>\n",
              "      <th>Houston Astros</th>\n",
              "      <th>New York Yankees</th>\n",
              "      <th>Washington Nationals</th>\n",
              "      <th>Pittsburgh Pirates</th>\n",
              "      <th>Miami Marlins</th>\n",
              "      <th>Texas Rangers</th>\n",
              "      <th>Los Angeles Dodgers</th>\n",
              "      <th>Toronto Blue Jays</th>\n",
              "      <th>Cincinnati Reds</th>\n",
              "      <th>Kansas City Royals</th>\n",
              "      <th>Detroit Tigers</th>\n",
              "      <th>San Diego Padres</th>\n",
              "    </tr>\n",
              "  </thead>\n",
              "  <tbody>\n",
              "    <tr>\n",
              "      <th>2018-03-29</th>\n",
              "      <td>{'runs_for': 2, 'runs_against': 8, 'win/loss': 0}</td>\n",
              "      <td>{'runs_for': 8, 'runs_against': 2, 'win/loss': 1}</td>\n",
              "      <td>{'runs_for': 5, 'runs_against': 8, 'win/loss': 0}</td>\n",
              "      <td>{'runs_for': 8, 'runs_against': 5, 'win/loss': 1}</td>\n",
              "      <td>{'runs_for': 2, 'runs_against': 3, 'win/loss': 0}</td>\n",
              "      <td>{'runs_for': 3, 'runs_against': 2, 'win/loss': 1}</td>\n",
              "      <td>{'runs_for': 14, 'runs_against': 7, 'win/loss'...</td>\n",
              "      <td>{'runs_for': 1, 'runs_against': 0, 'win/loss': 1}</td>\n",
              "      <td>{'runs_for': 8, 'runs_against': 4, 'win/loss': 1}</td>\n",
              "      <td>{'runs_for': 4, 'runs_against': 9, 'win/loss': 0}</td>\n",
              "      <td>{'runs_for': 9, 'runs_against': 4, 'win/loss': 1}</td>\n",
              "      <td>{'runs_for': 5, 'runs_against': 6, 'win/loss': 0}</td>\n",
              "      <td>{'runs_for': 6, 'runs_against': 5, 'win/loss': 1}</td>\n",
              "      <td>{'runs_for': 2, 'runs_against': 1, 'win/loss': 1}</td>\n",
              "      <td>{'runs_for': 1, 'runs_against': 2, 'win/loss': 0}</td>\n",
              "      <td>{'runs_for': 2, 'runs_against': 1, 'win/loss': 1}</td>\n",
              "      <td>{'runs_for': 4, 'runs_against': 6, 'win/loss': 0}</td>\n",
              "      <td>{'runs_for': 6, 'runs_against': 4, 'win/loss': 1}</td>\n",
              "      <td>{'runs_for': 4, 'runs_against': 1, 'win/loss': 1}</td>\n",
              "      <td>{'runs_for': 6, 'runs_against': 1, 'win/loss': 1}</td>\n",
              "      <td>NaN</td>\n",
              "      <td>NaN</td>\n",
              "      <td>{'runs_for': 4, 'runs_against': 8, 'win/loss': 0}</td>\n",
              "      <td>{'runs_for': 1, 'runs_against': 4, 'win/loss': 0}</td>\n",
              "      <td>{'runs_for': 0, 'runs_against': 1, 'win/loss': 0}</td>\n",
              "      <td>{'runs_for': 1, 'runs_against': 6, 'win/loss': 0}</td>\n",
              "      <td>NaN</td>\n",
              "      <td>{'runs_for': 7, 'runs_against': 14, 'win/loss'...</td>\n",
              "      <td>NaN</td>\n",
              "      <td>{'runs_for': 1, 'runs_against': 2, 'win/loss': 0}</td>\n",
              "    </tr>\n",
              "    <tr>\n",
              "      <th>2018-03-30</th>\n",
              "      <td>{'runs_for': 8, 'runs_against': 9, 'win/loss': 0}</td>\n",
              "      <td>{'runs_for': 9, 'runs_against': 8, 'win/loss': 1}</td>\n",
              "      <td>{'runs_for': 5, 'runs_against': 4, 'win/loss': 1}</td>\n",
              "      <td>{'runs_for': 4, 'runs_against': 5, 'win/loss': 0}</td>\n",
              "      <td>NaN</td>\n",
              "      <td>NaN</td>\n",
              "      <td>NaN</td>\n",
              "      <td>{'runs_for': 1, 'runs_against': 0, 'win/loss': 1}</td>\n",
              "      <td>{'runs_for': 1, 'runs_against': 2, 'win/loss': 0}</td>\n",
              "      <td>NaN</td>\n",
              "      <td>NaN</td>\n",
              "      <td>{'runs_for': 2, 'runs_against': 1, 'win/loss': 1}</td>\n",
              "      <td>{'runs_for': 1, 'runs_against': 2, 'win/loss': 0}</td>\n",
              "      <td>{'runs_for': 8, 'runs_against': 6, 'win/loss': 1}</td>\n",
              "      <td>NaN</td>\n",
              "      <td>NaN</td>\n",
              "      <td>{'runs_for': 1, 'runs_against': 0, 'win/loss': 1}</td>\n",
              "      <td>{'runs_for': 0, 'runs_against': 1, 'win/loss': 0}</td>\n",
              "      <td>{'runs_for': 1, 'runs_against': 5, 'win/loss': 0}</td>\n",
              "      <td>{'runs_for': 4, 'runs_against': 2, 'win/loss': 1}</td>\n",
              "      <td>{'runs_for': 2, 'runs_against': 0, 'win/loss': 1}</td>\n",
              "      <td>{'runs_for': 13, 'runs_against': 10, 'win/loss...</td>\n",
              "      <td>{'runs_for': 2, 'runs_against': 1, 'win/loss': 1}</td>\n",
              "      <td>{'runs_for': 5, 'runs_against': 1, 'win/loss': 1}</td>\n",
              "      <td>{'runs_for': 0, 'runs_against': 1, 'win/loss': 0}</td>\n",
              "      <td>{'runs_for': 2, 'runs_against': 4, 'win/loss': 0}</td>\n",
              "      <td>{'runs_for': 0, 'runs_against': 2, 'win/loss': 0}</td>\n",
              "      <td>NaN</td>\n",
              "      <td>{'runs_for': 10, 'runs_against': 13, 'win/loss...</td>\n",
              "      <td>{'runs_for': 6, 'runs_against': 8, 'win/loss': 0}</td>\n",
              "    </tr>\n",
              "    <tr>\n",
              "      <th>2018-03-31</th>\n",
              "      <td>{'runs_for': 2, 'runs_against': 1, 'win/loss': 1}</td>\n",
              "      <td>{'runs_for': 1, 'runs_against': 2, 'win/loss': 0}</td>\n",
              "      <td>{'runs_for': 2, 'runs_against': 15, 'win/loss'...</td>\n",
              "      <td>{'runs_for': 15, 'runs_against': 2, 'win/loss'...</td>\n",
              "      <td>{'runs_for': 6, 'runs_against': 2, 'win/loss': 1}</td>\n",
              "      <td>{'runs_for': 2, 'runs_against': 6, 'win/loss': 0}</td>\n",
              "      <td>{'runs_for': 4, 'runs_against': 3, 'win/loss': 1}</td>\n",
              "      <td>{'runs_for': 0, 'runs_against': 5, 'win/loss': 0}</td>\n",
              "      <td>{'runs_for': 10, 'runs_against': 6, 'win/loss'...</td>\n",
              "      <td>{'runs_for': 2, 'runs_against': 6, 'win/loss': 0}</td>\n",
              "      <td>{'runs_for': 6, 'runs_against': 2, 'win/loss': 1}</td>\n",
              "      <td>{'runs_for': 8, 'runs_against': 3, 'win/loss': 1}</td>\n",
              "      <td>{'runs_for': 3, 'runs_against': 8, 'win/loss': 0}</td>\n",
              "      <td>{'runs_for': 7, 'runs_against': 3, 'win/loss': 1}</td>\n",
              "      <td>{'runs_for': 6, 'runs_against': 5, 'win/loss': 1}</td>\n",
              "      <td>{'runs_for': 5, 'runs_against': 6, 'win/loss': 0}</td>\n",
              "      <td>{'runs_for': 3, 'runs_against': 2, 'win/loss': 1}</td>\n",
              "      <td>{'runs_for': 2, 'runs_against': 3, 'win/loss': 0}</td>\n",
              "      <td>{'runs_for': 9, 'runs_against': 3, 'win/loss': 1}</td>\n",
              "      <td>{'runs_for': 3, 'runs_against': 5, 'win/loss': 0}</td>\n",
              "      <td>{'runs_for': 13, 'runs_against': 7, 'win/loss'...</td>\n",
              "      <td>NaN</td>\n",
              "      <td>{'runs_for': 6, 'runs_against': 10, 'win/loss'...</td>\n",
              "      <td>{'runs_for': 3, 'runs_against': 9, 'win/loss': 0}</td>\n",
              "      <td>{'runs_for': 5, 'runs_against': 0, 'win/loss': 1}</td>\n",
              "      <td>{'runs_for': 5, 'runs_against': 3, 'win/loss': 1}</td>\n",
              "      <td>{'runs_for': 7, 'runs_against': 13, 'win/loss'...</td>\n",
              "      <td>{'runs_for': 3, 'runs_against': 4, 'win/loss': 0}</td>\n",
              "      <td>NaN</td>\n",
              "      <td>{'runs_for': 3, 'runs_against': 7, 'win/loss': 0}</td>\n",
              "    </tr>\n",
              "    <tr>\n",
              "      <th>2018-04-01</th>\n",
              "      <td>NaN</td>\n",
              "      <td>NaN</td>\n",
              "      <td>NaN</td>\n",
              "      <td>NaN</td>\n",
              "      <td>{'runs_for': 7, 'runs_against': 0, 'win/loss': 1}</td>\n",
              "      <td>{'runs_for': 0, 'runs_against': 7, 'win/loss': 0}</td>\n",
              "      <td>NaN</td>\n",
              "      <td>{'runs_for': 0, 'runs_against': 9, 'win/loss': 0}</td>\n",
              "      <td>{'runs_for': 0, 'runs_against': 6, 'win/loss': 0}</td>\n",
              "      <td>{'runs_for': 5, 'runs_against': 1, 'win/loss': 1}</td>\n",
              "      <td>{'runs_for': 1, 'runs_against': 5, 'win/loss': 0}</td>\n",
              "      <td>{'runs_for': 7, 'runs_against': 4, 'win/loss': 1}</td>\n",
              "      <td>{'runs_for': 4, 'runs_against': 7, 'win/loss': 0}</td>\n",
              "      <td>NaN</td>\n",
              "      <td>{'runs_for': 4, 'runs_against': 5, 'win/loss': 0}</td>\n",
              "      <td>{'runs_for': 5, 'runs_against': 4, 'win/loss': 1}</td>\n",
              "      <td>{'runs_for': 2, 'runs_against': 1, 'win/loss': 1}</td>\n",
              "      <td>{'runs_for': 1, 'runs_against': 2, 'win/loss': 0}</td>\n",
              "      <td>{'runs_for': 8, 'runs_against': 2, 'win/loss': 1}</td>\n",
              "      <td>{'runs_for': 4, 'runs_against': 7, 'win/loss': 0}</td>\n",
              "      <td>{'runs_for': 6, 'runs_against': 5, 'win/loss': 1}</td>\n",
              "      <td>{'runs_for': 8, 'runs_against': 6, 'win/loss': 1}</td>\n",
              "      <td>{'runs_for': 6, 'runs_against': 0, 'win/loss': 1}</td>\n",
              "      <td>{'runs_for': 2, 'runs_against': 8, 'win/loss': 0}</td>\n",
              "      <td>{'runs_for': 9, 'runs_against': 0, 'win/loss': 1}</td>\n",
              "      <td>{'runs_for': 7, 'runs_against': 4, 'win/loss': 1}</td>\n",
              "      <td>{'runs_for': 5, 'runs_against': 6, 'win/loss': 0}</td>\n",
              "      <td>NaN</td>\n",
              "      <td>{'runs_for': 6, 'runs_against': 8, 'win/loss': 0}</td>\n",
              "      <td>NaN</td>\n",
              "    </tr>\n",
              "    <tr>\n",
              "      <th>2018-04-02</th>\n",
              "      <td>{'runs_for': 7, 'runs_against': 4, 'win/loss': 1}</td>\n",
              "      <td>{'runs_for': 8, 'runs_against': 7, 'win/loss': 1}</td>\n",
              "      <td>NaN</td>\n",
              "      <td>{'runs_for': 1, 'runs_against': 8, 'win/loss': 0}</td>\n",
              "      <td>{'runs_for': 4, 'runs_against': 5, 'win/loss': 0}</td>\n",
              "      <td>{'runs_for': 1, 'runs_against': 6, 'win/loss': 0}</td>\n",
              "      <td>{'runs_for': 2, 'runs_against': 4, 'win/loss': 0}</td>\n",
              "      <td>NaN</td>\n",
              "      <td>{'runs_for': 0, 'runs_against': 1, 'win/loss': 0}</td>\n",
              "      <td>{'runs_for': 8, 'runs_against': 4, 'win/loss': 1}</td>\n",
              "      <td>NaN</td>\n",
              "      <td>{'runs_for': 0, 'runs_against': 6, 'win/loss': 0}</td>\n",
              "      <td>{'runs_for': 3, 'runs_against': 1, 'win/loss': 1}</td>\n",
              "      <td>{'runs_for': 4, 'runs_against': 8, 'win/loss': 0}</td>\n",
              "      <td>{'runs_for': 6, 'runs_against': 0, 'win/loss': 1}</td>\n",
              "      <td>NaN</td>\n",
              "      <td>{'runs_for': 7, 'runs_against': 3, 'win/loss': 1}</td>\n",
              "      <td>NaN</td>\n",
              "      <td>{'runs_for': 6, 'runs_against': 1, 'win/loss': 1}</td>\n",
              "      <td>NaN</td>\n",
              "      <td>{'runs_for': 8, 'runs_against': 1, 'win/loss': 1}</td>\n",
              "      <td>{'runs_for': 5, 'runs_against': 4, 'win/loss': 1}</td>\n",
              "      <td>{'runs_for': 3, 'runs_against': 7, 'win/loss': 0}</td>\n",
              "      <td>{'runs_for': 1, 'runs_against': 3, 'win/loss': 0}</td>\n",
              "      <td>{'runs_for': 7, 'runs_against': 8, 'win/loss': 0}</td>\n",
              "      <td>{'runs_for': 4, 'runs_against': 2, 'win/loss': 1}</td>\n",
              "      <td>{'runs_for': 1, 'runs_against': 0, 'win/loss': 1}</td>\n",
              "      <td>{'runs_for': 1, 'runs_against': 6, 'win/loss': 0}</td>\n",
              "      <td>{'runs_for': 6, 'runs_against': 1, 'win/loss': 1}</td>\n",
              "      <td>{'runs_for': 4, 'runs_against': 7, 'win/loss': 0}</td>\n",
              "    </tr>\n",
              "  </tbody>\n",
              "</table>\n",
              "</div>"
            ],
            "text/plain": [
              "                                             Colorado Rockies  ...                                   San Diego Padres\n",
              "2018-03-29  {'runs_for': 2, 'runs_against': 8, 'win/loss': 0}  ...  {'runs_for': 1, 'runs_against': 2, 'win/loss': 0}\n",
              "2018-03-30  {'runs_for': 8, 'runs_against': 9, 'win/loss': 0}  ...  {'runs_for': 6, 'runs_against': 8, 'win/loss': 0}\n",
              "2018-03-31  {'runs_for': 2, 'runs_against': 1, 'win/loss': 1}  ...  {'runs_for': 3, 'runs_against': 7, 'win/loss': 0}\n",
              "2018-04-01                                                NaN  ...                                                NaN\n",
              "2018-04-02  {'runs_for': 7, 'runs_against': 4, 'win/loss': 1}  ...  {'runs_for': 4, 'runs_against': 7, 'win/loss': 0}\n",
              "\n",
              "[5 rows x 30 columns]"
            ]
          },
          "metadata": {
            "tags": []
          },
          "execution_count": 5
        }
      ]
    },
    {
      "cell_type": "code",
      "metadata": {
        "colab": {
          "base_uri": "https://localhost:8080/"
        },
        "id": "R52pTrK36C7l",
        "outputId": "201f0acc-faa7-49c8-e449-a403611e86e5"
      },
      "source": [
        "# make null list\n",
        "nullList = gameResults.isnull()\n",
        "# iterate through gamedays \n",
        "for i in range(len(gameResults)):\n",
        "  for j in range(len(gameResults.columns)):\n",
        "    # ensure that the game is not an off-day (null)\n",
        "    if nullList.iloc[i][j] == False:\n",
        "      gameResults.iloc[i][j]['run_differential'] = gameResults.iloc[i][j]['runs_for'] - gameResults.iloc[i][j]['runs_against']\n",
        "      \n",
        "for i in range(15, len(gameResults)):\n",
        "  for j in range(len(gameResults.columns)):\n",
        "    # make sure game is not an off-day (null)\n",
        "    if nullList.iloc[i][j] == False:\n",
        "      # make sure previous game was not an off-day (null)\n",
        "      # find the most-recent non-off-day\n",
        "      sum = 0\n",
        "      # g will be a dummy variable that tracks\n",
        "      # how far back we go\n",
        "      g = 0\n",
        "      for p in range(1,10):\n",
        "        # make sure the value is non-null\n",
        "        if nullList.iloc[i-p][j] == False:\n",
        "          sum += gameResults.iloc[i-p][j]['runs_for']\n",
        "          # increment g by 1 indicating that we have \"found\"\n",
        "          # a previos game\n",
        "          g +=1\n",
        "        # stop when g gets to 5 because we only want the last 5 games\n",
        "        if g > 4:\n",
        "          break\n",
        "      # avg = sum/n\n",
        "      gameResults.iloc[i][j][\"5-day_avg_runs\"] = sum/5\n",
        "\n",
        "print('Game Date: ' + str(gameResults.index[-1]))\n",
        "print('Los Angeles Dodgers\\nScore: ' + str(gameResults.iloc[-1]['Los Angeles Dodgers']['runs_for']) \\\n",
        "+ '-' + str(gameResults.iloc[-1]['Los Angeles Dodgers']['runs_against']) + '\\nResult(Win/Loss-1/0): '\\\n",
        "+ str(str(gameResults.iloc[-1]['Los Angeles Dodgers']['win/loss'])))\n",
        "print('Avg. Runs Scored Over Previous 5 Games: ' + str(gameResults.iloc[-1]['Los Angeles Dodgers']['5-day_avg_runs']))"
      ],
      "execution_count": 6,
      "outputs": [
        {
          "output_type": "stream",
          "text": [
            "Game Date: 2018-10-01\n",
            "Los Angeles Dodgers\n",
            "Score: 5-2\n",
            "Result(Win/Loss-1/0): 1\n",
            "Avg. Runs Scored Over Previous 5 Games: 6.6\n"
          ],
          "name": "stdout"
        }
      ]
    },
    {
      "cell_type": "code",
      "metadata": {
        "id": "B4-q1Tvk6N1u"
      },
      "source": [
        "# aggregate data into one numpy array on which we can employ correlation\n",
        "winLossList = []\n",
        "prevGameDiffList = []\n",
        "\n",
        "# iterate through games by the same procedure as before\n",
        "for j in range(len(gameResults.columns)):\n",
        "  for i in range(15, len(gameResults)):\n",
        "    if nullList.iloc[i][j] == False:\n",
        "      # append the lists accordingly\n",
        "      winLossList.append(gameResults.iloc[i][j]['runs_for'])\n",
        "      prevGameDiffList.append(gameResults.iloc[i][j]['5-day_avg_runs'])"
      ],
      "execution_count": 7,
      "outputs": []
    },
    {
      "cell_type": "code",
      "metadata": {
        "colab": {
          "base_uri": "https://localhost:8080/",
          "height": 637
        },
        "id": "qjZEwOTy6VBG",
        "outputId": "df535c03-7ee0-4655-9fcf-0593b946af9e"
      },
      "source": [
        "# create releveant numpy arrays\n",
        "winLossArray = np.array(winLossList)\n",
        "avgGameDiff = np.array(prevGameDiffList)\n",
        "\n",
        "plt.scatter(prevGameDiffList, winLossList, marker='.', alpha = .5, color='navy')\n",
        "plt.gcf().set_size_inches((12,10))\n",
        "plt.xlabel('Avg. Runs Scored Over Past 5 Games', fontsize = 19)\n",
        "plt.ylabel('Runs Scored', fontsize = 19)\n",
        "plt.title('Runs Scored in Prior Games vs. in Upcoming Game', fontsize = 22)\n",
        "plt.text(8.21, 21, '    Correlation\\nCoefficient: ' + str(round(np.corrcoef(winLossArray, avgGameDiff)[1][0], 2)), fontsize=14, color='black')\n",
        "plt.style.use('ggplot')\n",
        "\n",
        "plt.show()"
      ],
      "execution_count": 8,
      "outputs": [
        {
          "output_type": "display_data",
          "data": {
            "image/png": "[encoded data removed]",
            "text/plain": [
              "<Figure size 864x720 with 1 Axes>"
            ]
          },
          "metadata": {
            "tags": [],
            "needs_background": "light"
          }
        }
      ]
    },
    {
      "cell_type": "code",
      "metadata": {
        "colab": {
          "base_uri": "https://localhost:8080/",
          "height": 635
        },
        "id": "E4KRgHYk6aTK",
        "outputId": "dd711c99-08c0-49f1-b531-7df24eaf57a2"
      },
      "source": [
        "plt.hist(avgGameDiff, bins=49, color='steelblue')\n",
        "plt.gcf().set_size_inches((12,10))\n",
        "plt.title('Distribution of Avg. Runs Scored Every 5 Games by all Teams', fontsize = 22)\n",
        "plt.xlabel('Runs Scored', fontsize=19)\n",
        "plt.ylabel('Occurances', fontsize=19)\n",
        "plt.style.use('seaborn')\n",
        "plt.axvline(avgGameDiff.mean(), color='k', linestyle='dashed', alpha = 0.6, linewidth=1)\n",
        "plt.text(6, 210, ' Mean Runs Scored\\nEvery 5 Games: ' + str(round(avgGameDiff.mean(), 2)), fontsize=14, color='black')\n",
        "plt.show()"
      ],
      "execution_count": 9,
      "outputs": [
        {
          "output_type": "display_data",
          "data": {
            "image/png": "[encoded data removed]",
            "text/plain": [
              "<Figure size 864x720 with 1 Axes>"
            ]
          },
          "metadata": {
            "tags": []
          }
        }
      ]
    },
    {
      "cell_type": "code",
      "metadata": {
        "colab": {
          "base_uri": "https://localhost:8080/",
          "height": 650
        },
        "id": "grwfLsLS6i6y",
        "outputId": "129efd9b-8c0b-49aa-90e2-ffdbcbaf91e6"
      },
      "source": [
        "# create lists to hold win/loss info and iterate through the \n",
        "# dataframe like before\n",
        "DodgersWinLoss = []\n",
        "DodgersWinLossIndex = []\n",
        "for i in range(len(gameResults)):\n",
        "  if nullList.iloc[i]['Los Angeles Dodgers'] == False:\n",
        "    DodgersWinLoss.append(gameResults.iloc[i]['Los Angeles Dodgers']['win/loss'])\n",
        "    DodgersWinLossIndex.append(gameResults.index[i])\n",
        "\n",
        "first = np.array(DodgersWinLoss[:-1])\n",
        "second = np.array(DodgersWinLoss[1:])\n",
        "\n",
        "autocorrelation_plot(DodgersWinLoss, color='steelblue')\n",
        "plt.title('Dodgers Win/Loss Autocorrelation Plot', fontsize=22)\n",
        "plt.gcf().set_size_inches((12,10))\n",
        "plt.style.use('seaborn')\n",
        "plt.ylabel('Autocorrelation', fontsize=17)\n",
        "plt.xlabel('Lag', fontsize=17)\n",
        "plt.text(10, .23, 'First lag\\nAutocorrelation: ' + str(round((np.corrcoef(first, second))[0][1], 2)), fontsize=14, color='black', alpha =.75)\n",
        "plt.ylim(-.3,.3)"
      ],
      "execution_count": 10,
      "outputs": [
        {
          "output_type": "execute_result",
          "data": {
            "text/plain": [
              "(-0.3, 0.3)"
            ]
          },
          "metadata": {
            "tags": []
          },
          "execution_count": 10
        },
        {
          "output_type": "display_data",
          "data": {
            "image/png": "[encoded data removed]",
            "text/plain": [
              "<Figure size 864x720 with 1 Axes>"
            ]
          },
          "metadata": {
            "tags": []
          }
        }
      ]
    },
    {
      "cell_type": "code",
      "metadata": {
        "colab": {
          "base_uri": "https://localhost:8080/"
        },
        "id": "Hx3DXX5x6qNh",
        "outputId": "260696ad-230b-4052-f26c-7ebbf301c924"
      },
      "source": [
        "# ARIMA Output\n",
        "ARIMA_model = ARIMA(DodgersWinLoss, order=(5,0,0))\n",
        "ARIMA_model_fit = ARIMA_model.fit()\n",
        "print(ARIMA_model_fit.summary())"
      ],
      "execution_count": 11,
      "outputs": [
        {
          "output_type": "stream",
          "text": [
            "                              ARMA Model Results                              \n",
            "==============================================================================\n",
            "Dep. Variable:                      y   No. Observations:                  160\n",
            "Model:                     ARMA(5, 0)   Log Likelihood                -111.963\n",
            "Method:                       css-mle   S.D. of innovations              0.487\n",
            "Date:                Wed, 28 Jul 2021   AIC                            237.926\n",
            "Time:                        17:02:57   BIC                            259.452\n",
            "Sample:                             0   HQIC                           246.667\n",
            "                                                                              \n",
            "==============================================================================\n",
            "                 coef    std err          z      P>|z|      [0.025      0.975]\n",
            "------------------------------------------------------------------------------\n",
            "const          0.5562      0.038     14.640      0.000       0.482       0.631\n",
            "ar.L1.y        0.1047      0.079      1.321      0.188      -0.051       0.260\n",
            "ar.L2.y       -0.0206      0.080     -0.258      0.797      -0.177       0.136\n",
            "ar.L3.y       -0.1611      0.079     -2.047      0.042      -0.315      -0.007\n",
            "ar.L4.y        0.0706      0.080      0.883      0.379      -0.086       0.227\n",
            "ar.L5.y       -0.0084      0.080     -0.105      0.917      -0.166       0.149\n",
            "                                    Roots                                    \n",
            "=============================================================================\n",
            "                  Real          Imaginary           Modulus         Frequency\n",
            "-----------------------------------------------------------------------------\n",
            "AR.1           -1.6038           -0.0000j            1.6038           -0.5000\n",
            "AR.2            0.5456           -1.7480j            1.8312           -0.2018\n",
            "AR.3            0.5456           +1.7480j            1.8312            0.2018\n",
            "AR.4            4.4437           -1.5223j            4.6972           -0.0525\n",
            "AR.5            4.4437           +1.5223j            4.6972            0.0525\n",
            "-----------------------------------------------------------------------------\n"
          ],
          "name": "stdout"
        }
      ]
    },
    {
      "cell_type": "code",
      "metadata": {
        "colab": {
          "base_uri": "https://localhost:8080/",
          "height": 538
        },
        "id": "xcRRUrXy6zKp",
        "outputId": "b07f7b2e-6092-47fe-8eee-58ae060e925c"
      },
      "source": [
        "# dump all of the team names into a list\n",
        "teams = []\n",
        "for i in range(len(gameResults.columns)):\n",
        "  teams.append(gameResults.columns[i])\n",
        "\n",
        "# create dictionaries\n",
        "wins = {}\n",
        "runsFor = {}\n",
        "runsAgainst = {}\n",
        "\n",
        "# fill in the number of wins, runs for, and runs against\n",
        "for i in range(len(teams)):\n",
        "  wins[teams[i]] = 0\n",
        "for i in range(len(teams)):\n",
        "  runsFor[teams[i]] = 0\n",
        "for i in range(len(teams)):\n",
        "  runsAgainst[teams[i]] = 0\n",
        "\n",
        "# create a nullList for future checking\n",
        "# loop through the results and increment each dictionary\n",
        "nullList = gameResults.isnull()\n",
        "for i in range(len(gameResults)):\n",
        "  for j in range(len(teams)):\n",
        "    if nullList.iloc[i][j] == False: \n",
        "      wins[teams[j]] += gameResults.iloc[i][j]['win/loss']\n",
        "for i in range(len(gameResults)):\n",
        "  for j in range(len(teams)):\n",
        "    if nullList.iloc[i][j] == False: \n",
        "      runsFor[teams[j]] += gameResults.iloc[i][j]['runs_for']\n",
        "for i in range(len(gameResults)):\n",
        "  for j in range(len(teams)):\n",
        "    if nullList.iloc[i][j] == False: \n",
        "      runsAgainst[teams[j]] += gameResults.iloc[i][j]['runs_against']\n",
        "\n",
        "# create dummy lists so that we can create numpy arrays \n",
        "# to perform subsequent operations on\n",
        "list1 = []\n",
        "for key, value in wins.items():\n",
        "  list1.append(value)\n",
        "winNum = np.array(list1)\n",
        "list2 = []\n",
        "for key, value in runsFor.items():\n",
        "  list2.append(value)\n",
        "runNum = np.array(list2)\n",
        "list3 = []\n",
        "for key, value in runsAgainst.items():\n",
        "  list3.append(value)\n",
        "runsAgainstNum = np.array(list3)\n",
        "\n",
        "# plot both scatter charts and show correlations\n",
        "fig = plt.figure()\n",
        "plt.subplot(1,2,1)\n",
        "plt.scatter(runNum, winNum, color='steelblue')\n",
        "plt.xlabel('Runs Scored', fontsize = 16)\n",
        "plt.ylabel('Games Won', fontsize = 16)\n",
        "plt.title('Runs Scored vs. Games Won', fontsize = 18)\n",
        "plt.text(610, 92, '    Correlation\\nCoefficient: ' + str(round(np.corrcoef(winNum, runNum)[1][0], 2)), fontsize=14, color='black')\n",
        "plt.style.use('seaborn')\n",
        "plt.plot()\n",
        "\n",
        "plt.subplot(1,2,2)\n",
        "plt.scatter(runsAgainstNum, winNum, alpha = .7, color='navy')\n",
        "plt.gcf().set_size_inches((18,8))\n",
        "plt.xlabel('Runs Given Up', fontsize = 16)\n",
        "plt.ylabel('Games Won', fontsize = 16)\n",
        "plt.title('Runs Given Up vs. Games Won', fontsize = 18)\n",
        "plt.text(570, 62, '    Correlation\\nCoefficient: ' + str(round(np.corrcoef(winNum, runsAgainstNum)[1][0], 2)), fontsize=14, color='black')\n",
        "plt.style.use('seaborn')\n",
        "plt.plot()"
      ],
      "execution_count": 12,
      "outputs": [
        {
          "output_type": "execute_result",
          "data": {
            "text/plain": [
              "[]"
            ]
          },
          "metadata": {
            "tags": []
          },
          "execution_count": 12
        },
        {
          "output_type": "display_data",
          "data": {
            "image/png": "[encoded data removed]",
            "text/plain": [
              "<Figure size 1296x576 with 2 Axes>"
            ]
          },
          "metadata": {
            "tags": []
          }
        }
      ]
    },
    {
      "cell_type": "code",
      "metadata": {
        "colab": {
          "base_uri": "https://localhost:8080/",
          "height": 633
        },
        "id": "szfIrx617NJP",
        "outputId": "cc558aa9-6cf6-41ca-a468-e792f6e3c39b"
      },
      "source": [
        "# Linear Regression\n",
        "X = runNum[:, np.newaxis]\n",
        "model = LinearRegression(fit_intercept=True)\n",
        "model.fit(X, winNum)\n",
        "predictions = model.predict(X)\n",
        "plt.scatter(X, winNum, color='steelblue')\n",
        "plt.plot(X, predictions, color='midnightblue')\n",
        "plt.gcf().set_size_inches((10,10))\n",
        "plt.text(605, 82, 'R-Squared: ' + str(round((np.corrcoef(winNum, runNum)[1][0])**2, 2)), fontsize=14, color='black')\n",
        "plt.xlabel('Runs Scored', fontsize = 16)\n",
        "plt.ylabel('Games Won', fontsize = 16)\n",
        "plt.title('Linear Regression Model', fontsize = 22)\n",
        "plt.style.use('seaborn')"
      ],
      "execution_count": 13,
      "outputs": [
        {
          "output_type": "display_data",
          "data": {
            "image/png": "[encoded data removed]",
            "text/plain": [
              "<Figure size 720x720 with 1 Axes>"
            ]
          },
          "metadata": {
            "tags": []
          }
        }
      ]
    },
    {
      "cell_type": "code",
      "metadata": {
        "id": "HKy_5vTo7TZf"
      },
      "source": [
        "Mariners = pd.read_csv('/content/Mariners.csv')\n",
        "Pirates = pd.read_csv('/content/Pirates.csv')\n",
        "Reds = pd.read_csv('/content/Reds.csv')\n",
        "WhiteSox = pd.read_csv('/content/WhiteSox.csv')\n",
        "Royals = pd.read_csv('/content/Royals.csv')\n",
        "DBacks = pd.read_csv('/content/DBacks.csv')\n",
        "Dodgers = pd.read_csv('/content/Dodgers.csv')\n",
        "Rockies = pd.read_csv('/content/Rockies.csv')\n",
        "Cardinals = pd.read_csv('/content/Cardinals.csv')\n",
        "Brewers = pd.read_csv('/content/Brewers.csv')\n",
        "Indians = pd.read_csv('/content/Indians.csv')\n",
        "Nationals = pd.read_csv('/content/Nationals.csv')\n",
        "Rangers = pd.read_csv('/content/Rangers.csv')\n",
        "Marlins = pd.read_csv('/content/Marlins.csv')\n",
        "BlueJays = pd.read_csv('/content/BlueJays.csv')\n",
        "Rays = pd.read_csv('/content/Rays.csv')\n",
        "Mets = pd.read_csv('/content/Mets.csv')\n",
        "Tigers = pd.read_csv('/content/Tigers.csv') \n",
        "Cubs = pd.read_csv('/content/Cubs.csv') \n",
        "Astros = pd.read_csv('/content/Astros.csv') \n",
        "RedSox = pd.read_csv('/content/RedSox.csv') \n",
        "Padres = pd.read_csv('/content/Padres.csv') \n",
        "Giants = pd.read_csv('/content/Giants.csv') \n",
        "Twins = pd.read_csv('/content/Twins.csv') \n",
        "Orioles = pd.read_csv('/content/Orioles.csv') \n",
        "Yankees = pd.read_csv('/content/Yankees.csv') \n",
        "Angels = pd.read_csv('/content/Angels.csv')\n",
        "Athletics = pd.read_csv('/content/Athletics.csv')  \n",
        "Phillies = pd.read_csv('/content/Phillies.csv') \n",
        "Braves = pd.read_csv('/content/Braves.csv') "
      ],
      "execution_count": 14,
      "outputs": []
    },
    {
      "cell_type": "code",
      "metadata": {
        "colab": {
          "base_uri": "https://localhost:8080/",
          "height": 419
        },
        "id": "4VqFOl1JFdYO",
        "outputId": "39a7f340-ac9e-439e-eaad-f5936bb5e9ab"
      },
      "source": [
        "Reds"
      ],
      "execution_count": 15,
      "outputs": [
        {
          "output_type": "execute_result",
          "data": {
            "text/html": [
              "<div>\n",
              "<style scoped>\n",
              "    .dataframe tbody tr th:only-of-type {\n",
              "        vertical-align: middle;\n",
              "    }\n",
              "\n",
              "    .dataframe tbody tr th {\n",
              "        vertical-align: top;\n",
              "    }\n",
              "\n",
              "    .dataframe thead th {\n",
              "        text-align: right;\n",
              "    }\n",
              "</style>\n",
              "<table border=\"1\" class=\"dataframe\">\n",
              "  <thead>\n",
              "    <tr style=\"text-align: right;\">\n",
              "      <th></th>\n",
              "      <th>Runs</th>\n",
              "      <th>RA</th>\n",
              "      <th>Result</th>\n",
              "      <th>HomeTeam</th>\n",
              "    </tr>\n",
              "  </thead>\n",
              "  <tbody>\n",
              "    <tr>\n",
              "      <th>0</th>\n",
              "      <td>1.0</td>\n",
              "      <td>5.0</td>\n",
              "      <td>0.0</td>\n",
              "      <td>1.0</td>\n",
              "    </tr>\n",
              "    <tr>\n",
              "      <th>1</th>\n",
              "      <td>5.0</td>\n",
              "      <td>8.0</td>\n",
              "      <td>0.0</td>\n",
              "      <td>1.0</td>\n",
              "    </tr>\n",
              "    <tr>\n",
              "      <th>2</th>\n",
              "      <td>5.0</td>\n",
              "      <td>1.0</td>\n",
              "      <td>1.0</td>\n",
              "      <td>1.0</td>\n",
              "    </tr>\n",
              "    <tr>\n",
              "      <th>3</th>\n",
              "      <td>6.0</td>\n",
              "      <td>10.0</td>\n",
              "      <td>0.0</td>\n",
              "      <td>1.0</td>\n",
              "    </tr>\n",
              "    <tr>\n",
              "      <th>4</th>\n",
              "      <td>4.0</td>\n",
              "      <td>3.0</td>\n",
              "      <td>1.0</td>\n",
              "      <td>1.0</td>\n",
              "    </tr>\n",
              "    <tr>\n",
              "      <th>...</th>\n",
              "      <td>...</td>\n",
              "      <td>...</td>\n",
              "      <td>...</td>\n",
              "      <td>...</td>\n",
              "    </tr>\n",
              "    <tr>\n",
              "      <th>3609</th>\n",
              "      <td>2.0</td>\n",
              "      <td>9.0</td>\n",
              "      <td>0.0</td>\n",
              "      <td>1.0</td>\n",
              "    </tr>\n",
              "    <tr>\n",
              "      <th>3610</th>\n",
              "      <td>3.0</td>\n",
              "      <td>5.0</td>\n",
              "      <td>0.0</td>\n",
              "      <td>1.0</td>\n",
              "    </tr>\n",
              "    <tr>\n",
              "      <th>3611</th>\n",
              "      <td>5.0</td>\n",
              "      <td>6.0</td>\n",
              "      <td>0.0</td>\n",
              "      <td>0.0</td>\n",
              "    </tr>\n",
              "    <tr>\n",
              "      <th>3612</th>\n",
              "      <td>4.0</td>\n",
              "      <td>2.0</td>\n",
              "      <td>1.0</td>\n",
              "      <td>0.0</td>\n",
              "    </tr>\n",
              "    <tr>\n",
              "      <th>3613</th>\n",
              "      <td>3.0</td>\n",
              "      <td>1.0</td>\n",
              "      <td>1.0</td>\n",
              "      <td>0.0</td>\n",
              "    </tr>\n",
              "  </tbody>\n",
              "</table>\n",
              "<p>3614 rows × 4 columns</p>\n",
              "</div>"
            ],
            "text/plain": [
              "      Runs    RA  Result  HomeTeam\n",
              "0      1.0   5.0     0.0       1.0\n",
              "1      5.0   8.0     0.0       1.0\n",
              "2      5.0   1.0     1.0       1.0\n",
              "3      6.0  10.0     0.0       1.0\n",
              "4      4.0   3.0     1.0       1.0\n",
              "...    ...   ...     ...       ...\n",
              "3609   2.0   9.0     0.0       1.0\n",
              "3610   3.0   5.0     0.0       1.0\n",
              "3611   5.0   6.0     0.0       0.0\n",
              "3612   4.0   2.0     1.0       0.0\n",
              "3613   3.0   1.0     1.0       0.0\n",
              "\n",
              "[3614 rows x 4 columns]"
            ]
          },
          "metadata": {
            "tags": []
          },
          "execution_count": 15
        }
      ]
    },
    {
      "cell_type": "code",
      "metadata": {
        "id": "6cuZrcnR7ynN"
      },
      "source": [
        "Angels_Home = pd.DataFrame(Angels, columns = ['Result', 'HomeTeam'])\n",
        "Astros_Home = pd.DataFrame(Astros, columns = ['Result', 'HomeTeam'])\n",
        "Athletics_Home = pd.DataFrame(Athletics, columns = ['Result', 'HomeTeam'])\n",
        "BlueJays_Home = pd.DataFrame(BlueJays, columns = ['Result', 'HomeTeam'])\n",
        "Braves_Home = pd.DataFrame(Braves, columns = ['Result', 'HomeTeam'])\n",
        "Brewers_Home = pd.DataFrame(Brewers, columns = ['Result', 'HomeTeam'])\n",
        "Cardinals_Home = pd.DataFrame(Cardinals, columns = ['Result', 'HomeTeam'])\n",
        "Cubs_Home = pd.DataFrame(Cubs, columns = ['Result', 'HomeTeam'])\n",
        "DBacks_Home = pd.DataFrame(DBacks, columns = ['Result', 'HomeTeam'])\n",
        "Dodgers_Home = pd.DataFrame(Dodgers, columns = ['Result', 'HomeTeam'])\n",
        "Giants_Home = pd.DataFrame(Giants, columns = ['Result', 'HomeTeam'])\n",
        "Indians_Home = pd.DataFrame(Indians, columns = ['Result', 'HomeTeam'])\n",
        "Mariners_Home = pd.DataFrame(Mariners, columns = ['Result', 'HomeTeam'])\n",
        "Marlins_Home = pd.DataFrame(Marlins, columns = ['Result', 'HomeTeam'])\n",
        "Mets_Home = pd.DataFrame(Mets, columns = ['Result', 'HomeTeam'])\n",
        "Nationals_Home = pd.DataFrame(Nationals, columns = ['Result', 'HomeTeam'])\n",
        "Orioles_Home = pd.DataFrame(Orioles, columns = ['Result', 'HomeTeam'])\n",
        "Padres_Home = pd.DataFrame(Padres, columns = ['Result', 'HomeTeam'])\n",
        "Phillies_Home = pd.DataFrame(Phillies, columns = ['Result', 'HomeTeam'])\n",
        "Pirates_Home = pd.DataFrame(Pirates, columns = ['Result', 'HomeTeam'])\n",
        "Rangers_Home = pd.DataFrame(Rangers, columns = ['Result', 'HomeTeam'])\n",
        "Rays_Home = pd.DataFrame(Rays, columns = ['Result', 'HomeTeam'])\n",
        "RedSox_Home = pd.DataFrame(RedSox, columns = ['Result', 'HomeTeam'])\n",
        "Reds_Home = pd.DataFrame(Reds, columns = ['Result', 'HomeTeam'])\n",
        "Rockies_Home = pd.DataFrame(Rockies, columns = ['Result', 'HomeTeam'])\n",
        "Royals_Home = pd.DataFrame(Royals, columns = ['Result', 'HomeTeam'])\n",
        "Tigers_Home = pd.DataFrame(Tigers, columns = ['Result', 'HomeTeam'])\n",
        "Twins_Home = pd.DataFrame(Twins, columns = ['Result', 'HomeTeam'])\n",
        "WhiteSox_Home = pd.DataFrame(WhiteSox, columns = ['Result', 'HomeTeam'])\n",
        "Yankees_Home = pd.DataFrame(Yankees, columns = ['Result', 'HomeTeam'])\n"
      ],
      "execution_count": 16,
      "outputs": []
    },
    {
      "cell_type": "code",
      "metadata": {
        "id": "N5CgSqEEyIRf"
      },
      "source": [
        "Reds_filtered = Reds_Home[Reds_Home['HomeTeam'] == 1]\n",
        "Angels_filtered = Angels_Home[Angels_Home['HomeTeam'] == 1]\n",
        "Astros_filtered = Astros_Home[Astros_Home['HomeTeam'] == 1]\n",
        "Athletics_filtered = Athletics_Home[Athletics_Home['HomeTeam'] == 1]\n",
        "BlueJays_filtered = BlueJays_Home[BlueJays_Home['HomeTeam'] == 1]\n",
        "Braves_filtered = Braves_Home[Braves_Home['HomeTeam'] == 1]\n",
        "Brewers_filtered = Brewers_Home[Brewers_Home['HomeTeam'] == 1]\n",
        "Cardinals_filtered = Cardinals_Home[Cardinals_Home['HomeTeam'] == 1]\n",
        "Cubs_filtered = Cubs_Home[Cubs_Home['HomeTeam'] == 1]\n",
        "DBacks_filtered = DBacks_Home[DBacks_Home['HomeTeam'] == 1]\n",
        "Dodgers_filtered = Dodgers_Home[Dodgers_Home['HomeTeam'] == 1]\n",
        "Giants_filtered = Giants_Home[Giants_Home['HomeTeam'] == 1]\n",
        "Indians_filtered= Indians_Home[Indians_Home['HomeTeam'] == 1]\n",
        "Mariners_filtered = Mariners_Home[Mariners_Home['HomeTeam'] == 1]\n",
        "Marlins_filtered = Marlins_Home[Marlins_Home['HomeTeam'] == 1]\n",
        "Mets_filtered = Mets_Home[Mets_Home['HomeTeam'] == 1]\n",
        "Nationals_filtered = Nationals_Home[Nationals_Home['HomeTeam'] == 1]\n",
        "Orioles_filtered = Orioles_Home[Orioles_Home['HomeTeam'] == 1]\n",
        "Padres_filtered = Padres_Home[Padres_Home['HomeTeam'] == 1]\n",
        "Phillies_filtered = Phillies_Home[Phillies_Home['HomeTeam'] == 1]\n",
        "Pirates_filtered = Pirates_Home[Pirates_Home['HomeTeam'] == 1]\n",
        "Rangers_filtered = Rangers_Home[Rangers_Home['HomeTeam'] == 1]\n",
        "Rays_filtered = Rays_Home[Rays_Home['HomeTeam'] == 1]\n",
        "RedSox_filtered = RedSox_Home[RedSox_Home['HomeTeam'] == 1]\n",
        "Reds_filtered = Reds_Home[Reds_Home['HomeTeam'] == 1]\n",
        "Rockies_filtered = Rockies_Home[Rockies_Home['HomeTeam'] == 1]\n",
        "Royals_filtered = Royals_Home[Royals_Home['HomeTeam'] == 1]\n",
        "Tigers_filtered = Tigers_Home[Tigers_Home['HomeTeam'] == 1]\n",
        "Twins_filtered = Twins_Home[Twins_Home['HomeTeam'] == 1]\n",
        "WhiteSox_filtered = WhiteSox_Home[WhiteSox_Home['HomeTeam'] == 1]\n",
        "Yankees_filtered = Yankees_Home[Yankees_Home['HomeTeam'] == 1]"
      ],
      "execution_count": 17,
      "outputs": []
    },
    {
      "cell_type": "code",
      "metadata": {
        "id": "wbQH-cZU18b8"
      },
      "source": [
        "df_Angels = Angels_filtered.copy()\n",
        "df_Angels['HomeWin'] = df_Angels.loc[:,'Result'].apply(lambda x: 1 if x == 1 else 0)\n",
        "\n",
        "df_Astros = Astros_filtered.copy()\n",
        "df_Astros['HomeWin'] = df_Astros.loc[:,'Result'].apply(lambda x: 1 if x == 1 else 0)\n",
        "\n",
        "df_Athletics = Reds_filtered.copy()\n",
        "df_Athletics['HomeWin'] = df_Athletics.loc[:,'Result'].apply(lambda x: 1 if x == 1 else 0)\n",
        "\n",
        "df_BlueJays = BlueJays_filtered.copy()\n",
        "df_BlueJays['HomeWin'] = df_BlueJays.loc[:,'Result'].apply(lambda x: 1 if x == 1 else 0)\n",
        "\n",
        "df_Braves = Braves_filtered.copy()\n",
        "df_Braves['HomeWin'] = df_Braves.loc[:,'Result'].apply(lambda x: 1 if x == 1 else 0)\n",
        "\n",
        "df_Brewers = Brewers_filtered.copy()\n",
        "df_Brewers['HomeWin'] = df_Brewers.loc[:,'Result'].apply(lambda x: 1 if x == 1 else 0)\n",
        "\n",
        "df_Cardinals = Cardinals_filtered.copy()\n",
        "df_Cardinals['HomeWin'] = df_Cardinals.loc[:,'Result'].apply(lambda x: 1 if x == 1 else 0)\n",
        "\n",
        "df_Cubs = Cubs_filtered.copy()\n",
        "df_Cubs['HomeWin'] = df_Cubs.loc[:,'Result'].apply(lambda x: 1 if x == 1 else 0)\n",
        "\n",
        "df_DBacks = DBacks_filtered.copy()\n",
        "df_DBacks['HomeWin'] = df_DBacks.loc[:,'Result'].apply(lambda x: 1 if x == 1 else 0)\n",
        "\n",
        "df_Dodgers = Dodgers_filtered.copy()\n",
        "df_Dodgers['HomeWin'] = df_Dodgers.loc[:,'Result'].apply(lambda x: 1 if x == 1 else 0)\n",
        "\n",
        "df_Giants = Giants_filtered.copy()\n",
        "df_Giants['HomeWin'] = df_Giants.loc[:,'Result'].apply(lambda x: 1 if x == 1 else 0)\n",
        "\n",
        "df_Indians = Indians_filtered.copy()\n",
        "df_Indians['HomeWin'] = df_Indians.loc[:,'Result'].apply(lambda x: 1 if x == 1 else 0)\n",
        "\n",
        "df_Mariners = Mariners_filtered.copy()\n",
        "df_Mariners['HomeWin'] = df_Mariners.loc[:,'Result'].apply(lambda x: 1 if x == 1 else 0)\n",
        "\n",
        "df_Marlins = Marlins_filtered.copy()\n",
        "df_Marlins['HomeWin'] = df_Marlins.loc[:,'Result'].apply(lambda x: 1 if x == 1 else 0)\n",
        "\n",
        "df_Mets = Mets_filtered.copy()\n",
        "df_Mets['HomeWin'] = df_Mets.loc[:,'Result'].apply(lambda x: 1 if x == 1 else 0)\n",
        "\n",
        "df_Nationals = Nationals_filtered.copy()\n",
        "df_Nationals['HomeWin'] = df_Nationals.loc[:,'Result'].apply(lambda x: 1 if x == 1 else 0)\n",
        "\n",
        "df_Orioles = Orioles_filtered.copy()\n",
        "df_Orioles['HomeWin'] = df_Orioles.loc[:,'Result'].apply(lambda x: 1 if x == 1 else 0)\n",
        "\n",
        "df_Padres = Padres_filtered.copy()\n",
        "df_Padres['HomeWin'] = df_Padres.loc[:,'Result'].apply(lambda x: 1 if x == 1 else 0)\n",
        "\n",
        "df_Phillies = Phillies_filtered.copy()\n",
        "df_Phillies['HomeWin'] = df_Phillies.loc[:,'Result'].apply(lambda x: 1 if x == 1 else 0)\n",
        "\n",
        "df_Pirates = Pirates_filtered.copy()\n",
        "df_Pirates['HomeWin'] = df_Pirates.loc[:,'Result'].apply(lambda x: 1 if x == 1 else 0)\n",
        "\n",
        "df_Rangers = Rangers_filtered.copy()\n",
        "df_Rangers['HomeWin'] = df_Rangers.loc[:,'Result'].apply(lambda x: 1 if x == 1 else 0)\n",
        "\n",
        "df_Rays = Rays_filtered.copy()\n",
        "df_Rays['HomeWin'] = df_Rays.loc[:,'Result'].apply(lambda x: 1 if x == 1 else 0)\n",
        "\n",
        "df_RedSox = RedSox_filtered.copy()\n",
        "df_RedSox['HomeWin'] = df_RedSox.loc[:,'Result'].apply(lambda x: 1 if x == 1 else 0)\n",
        "\n",
        "df_Reds = Reds_filtered.copy()\n",
        "df_Reds['HomeWin'] = df_Reds.loc[:,'Result'].apply(lambda x: 1 if x == 1 else 0)\n",
        "\n",
        "df_Rockies = Rockies_filtered.copy()\n",
        "df_Rockies['HomeWin'] = df_Rockies.loc[:,'Result'].apply(lambda x: 1 if x == 1 else 0)\n",
        "\n",
        "df_Royals = Royals_filtered.copy()\n",
        "df_Royals['HomeWin'] = df_Royals.loc[:,'Result'].apply(lambda x: 1 if x == 1 else 0)\n",
        "\n",
        "df_Tigers = Tigers_filtered.copy()\n",
        "df_Tigers['HomeWin'] = df_Tigers.loc[:,'Result'].apply(lambda x: 1 if x == 1 else 0)\n",
        "\n",
        "df_Twins = Twins_filtered.copy()\n",
        "df_Twins['HomeWin'] = df_Twins.loc[:,'Result'].apply(lambda x: 1 if x == 1 else 0)\n",
        "\n",
        "df_WhiteSox = WhiteSox_filtered.copy()\n",
        "df_WhiteSox['HomeWin'] = df_WhiteSox.loc[:,'Result'].apply(lambda x: 1 if x == 1 else 0)\n",
        "\n",
        "df_Yankees = Yankees_filtered.copy()\n",
        "df_Yankees['HomeWin'] = df_Yankees.loc[:,'Result'].apply(lambda x: 1 if x == 1 else 0)"
      ],
      "execution_count": 18,
      "outputs": []
    },
    {
      "cell_type": "code",
      "metadata": {
        "colab": {
          "base_uri": "https://localhost:8080/",
          "height": 419
        },
        "id": "FkzuhPUM2XTM",
        "outputId": "0038152b-4471-475b-da3f-f27e23edcfbe"
      },
      "source": [
        "df_Reds"
      ],
      "execution_count": 19,
      "outputs": [
        {
          "output_type": "execute_result",
          "data": {
            "text/html": [
              "<div>\n",
              "<style scoped>\n",
              "    .dataframe tbody tr th:only-of-type {\n",
              "        vertical-align: middle;\n",
              "    }\n",
              "\n",
              "    .dataframe tbody tr th {\n",
              "        vertical-align: top;\n",
              "    }\n",
              "\n",
              "    .dataframe thead th {\n",
              "        text-align: right;\n",
              "    }\n",
              "</style>\n",
              "<table border=\"1\" class=\"dataframe\">\n",
              "  <thead>\n",
              "    <tr style=\"text-align: right;\">\n",
              "      <th></th>\n",
              "      <th>Result</th>\n",
              "      <th>HomeTeam</th>\n",
              "      <th>HomeWin</th>\n",
              "    </tr>\n",
              "  </thead>\n",
              "  <tbody>\n",
              "    <tr>\n",
              "      <th>0</th>\n",
              "      <td>0.0</td>\n",
              "      <td>1.0</td>\n",
              "      <td>0</td>\n",
              "    </tr>\n",
              "    <tr>\n",
              "      <th>1</th>\n",
              "      <td>0.0</td>\n",
              "      <td>1.0</td>\n",
              "      <td>0</td>\n",
              "    </tr>\n",
              "    <tr>\n",
              "      <th>2</th>\n",
              "      <td>1.0</td>\n",
              "      <td>1.0</td>\n",
              "      <td>1</td>\n",
              "    </tr>\n",
              "    <tr>\n",
              "      <th>3</th>\n",
              "      <td>0.0</td>\n",
              "      <td>1.0</td>\n",
              "      <td>0</td>\n",
              "    </tr>\n",
              "    <tr>\n",
              "      <th>4</th>\n",
              "      <td>1.0</td>\n",
              "      <td>1.0</td>\n",
              "      <td>1</td>\n",
              "    </tr>\n",
              "    <tr>\n",
              "      <th>...</th>\n",
              "      <td>...</td>\n",
              "      <td>...</td>\n",
              "      <td>...</td>\n",
              "    </tr>\n",
              "    <tr>\n",
              "      <th>3605</th>\n",
              "      <td>1.0</td>\n",
              "      <td>1.0</td>\n",
              "      <td>1</td>\n",
              "    </tr>\n",
              "    <tr>\n",
              "      <th>3606</th>\n",
              "      <td>0.0</td>\n",
              "      <td>1.0</td>\n",
              "      <td>0</td>\n",
              "    </tr>\n",
              "    <tr>\n",
              "      <th>3608</th>\n",
              "      <td>0.0</td>\n",
              "      <td>1.0</td>\n",
              "      <td>0</td>\n",
              "    </tr>\n",
              "    <tr>\n",
              "      <th>3609</th>\n",
              "      <td>0.0</td>\n",
              "      <td>1.0</td>\n",
              "      <td>0</td>\n",
              "    </tr>\n",
              "    <tr>\n",
              "      <th>3610</th>\n",
              "      <td>0.0</td>\n",
              "      <td>1.0</td>\n",
              "      <td>0</td>\n",
              "    </tr>\n",
              "  </tbody>\n",
              "</table>\n",
              "<p>1604 rows × 3 columns</p>\n",
              "</div>"
            ],
            "text/plain": [
              "      Result  HomeTeam  HomeWin\n",
              "0        0.0       1.0        0\n",
              "1        0.0       1.0        0\n",
              "2        1.0       1.0        1\n",
              "3        0.0       1.0        0\n",
              "4        1.0       1.0        1\n",
              "...      ...       ...      ...\n",
              "3605     1.0       1.0        1\n",
              "3606     0.0       1.0        0\n",
              "3608     0.0       1.0        0\n",
              "3609     0.0       1.0        0\n",
              "3610     0.0       1.0        0\n",
              "\n",
              "[1604 rows x 3 columns]"
            ]
          },
          "metadata": {
            "tags": []
          },
          "execution_count": 19
        }
      ]
    },
    {
      "cell_type": "code",
      "metadata": {
        "id": "LBAPoNXWf18I",
        "colab": {
          "base_uri": "https://localhost:8080/",
          "height": 137
        },
        "outputId": "ee748a99-2f2f-4869-f54a-4c6e9ba3209b"
      },
      "source": [
        "'''\n",
        "Mariners[\"HomeWin\"] = Mariners[\"Result\"] == 1.0\n",
        "Pirates[\"HomeWin\"] = Pirates[\"Result\"] == 1.0\n",
        "Reds[\"HomeWin\"] = Reds[\"Result\"] == 1.0\n",
        "WhiteSox[\"HomeWin\"] = WhiteSox[\"Result\"] == 1.0\n",
        "Royals[\"HomeWin\"] = Royals[\"Result\"] == 1.0\n",
        "DBacks[\"HomeWin\"] = DBacks[\"Result\"] == 1.0\n",
        "Dodgers[\"HomeWin\"] = Dodgers[\"Result\"] == 1.0\n",
        "Rockies[\"HomeWin\"] = Rockies[\"Result\"] == 1.0\n",
        "Cardinals[\"HomeWin\"] = Cardinals[\"Result\"] == 1.0\n",
        "Brewers[\"HomeWin\"] = Brewers[\"Result\"] == 1.0\n",
        "Indians[\"HomeWin\"] = Indians[\"Result\"] == 1.0\n",
        "Nationals[\"HomeWin\"] = Nationals[\"Result\"] == 1.0\n",
        "Rangers[\"HomeWin\"] = Rangers[\"Result\"] == 1.0\n",
        "Marlins[\"HomeWin\"] = Marlins[\"Result\"] == 1.0\n",
        "BlueJays[\"HomeWin\"] = BlueJays[\"Result\"] == 1.0\n",
        "Rays[\"HomeWin\"] = Rays[\"Result\"] == 1.0\n",
        "Mets[\"HomeWin\"] = Mets[\"Result\"] == 1.0\n",
        "Tigers[\"HomeWin\"] = Tigers[\"Result\"] == 1.0\n",
        "Cubs[\"HomeWin\"] = Cubs[\"Result\"] == 1.0\n",
        "Astros[\"HomeWin\"] = Astros[\"Result\"] == 1.0\n",
        "RedSox[\"HomeWin\"] = RedSox[\"Result\"] == 1.0\n",
        "Padres[\"HomeWin\"] = Padres[\"Result\"] == 1.0\n",
        "Giants[\"HomeWin\"] = Giants[\"Result\"] == 1.0\n",
        "Twins[\"HomeWin\"] = Twins[\"Result\"] == 1.0\n",
        "Orioles[\"HomeWin\"] = Orioles[\"Result\"] == 1.0\n",
        "Yankees[\"HomeWin\"] = Yankees[\"Result\"] == 1.0\n",
        "Angels[\"HomeWin\"] = Angels[\"Result\"] == 1.0\n",
        "Athletics[\"HomeWin\"] = Athletics[\"Result\"] == 1.0\n",
        "Phillies[\"HomeWin\"] = Phillies[\"Result\"] == 1.0\n",
        "Braves[\"HomeWin\"] = Braves[\"Result\"] == 1.0\n",
        "'''"
      ],
      "execution_count": 20,
      "outputs": [
        {
          "output_type": "execute_result",
          "data": {
            "application/vnd.google.colaboratory.intrinsic+json": {
              "type": "string"
            },
            "text/plain": [
              "'\\nMariners[\"HomeWin\"] = Mariners[\"Result\"] == 1.0\\nPirates[\"HomeWin\"] = Pirates[\"Result\"] == 1.0\\nReds[\"HomeWin\"] = Reds[\"Result\"] == 1.0\\nWhiteSox[\"HomeWin\"] = WhiteSox[\"Result\"] == 1.0\\nRoyals[\"HomeWin\"] = Royals[\"Result\"] == 1.0\\nDBacks[\"HomeWin\"] = DBacks[\"Result\"] == 1.0\\nDodgers[\"HomeWin\"] = Dodgers[\"Result\"] == 1.0\\nRockies[\"HomeWin\"] = Rockies[\"Result\"] == 1.0\\nCardinals[\"HomeWin\"] = Cardinals[\"Result\"] == 1.0\\nBrewers[\"HomeWin\"] = Brewers[\"Result\"] == 1.0\\nIndians[\"HomeWin\"] = Indians[\"Result\"] == 1.0\\nNationals[\"HomeWin\"] = Nationals[\"Result\"] == 1.0\\nRangers[\"HomeWin\"] = Rangers[\"Result\"] == 1.0\\nMarlins[\"HomeWin\"] = Marlins[\"Result\"] == 1.0\\nBlueJays[\"HomeWin\"] = BlueJays[\"Result\"] == 1.0\\nRays[\"HomeWin\"] = Rays[\"Result\"] == 1.0\\nMets[\"HomeWin\"] = Mets[\"Result\"] == 1.0\\nTigers[\"HomeWin\"] = Tigers[\"Result\"] == 1.0\\nCubs[\"HomeWin\"] = Cubs[\"Result\"] == 1.0\\nAstros[\"HomeWin\"] = Astros[\"Result\"] == 1.0\\nRedSox[\"HomeWin\"] = RedSox[\"Result\"] == 1.0\\nPadres[\"HomeWin\"] = Padres[\"Result\"] == 1.0\\nGiants[\"HomeWin\"] = Giants[\"Result\"] == 1.0\\nTwins[\"HomeWin\"] = Twins[\"Result\"] == 1.0\\nOrioles[\"HomeWin\"] = Orioles[\"Result\"] == 1.0\\nYankees[\"HomeWin\"] = Yankees[\"Result\"] == 1.0\\nAngels[\"HomeWin\"] = Angels[\"Result\"] == 1.0\\nAthletics[\"HomeWin\"] = Athletics[\"Result\"] == 1.0\\nPhillies[\"HomeWin\"] = Phillies[\"Result\"] == 1.0\\nBraves[\"HomeWin\"] = Braves[\"Result\"] == 1.0\\n'"
            ]
          },
          "metadata": {
            "tags": []
          },
          "execution_count": 20
        }
      ]
    },
    {
      "cell_type": "code",
      "metadata": {
        "colab": {
          "base_uri": "https://localhost:8080/"
        },
        "id": "K6S8gj8Rb1F_",
        "outputId": "b967f432-9a1e-4ac8-b452-3c82b96a889f"
      },
      "source": [
        "n_games = df_Reds[\"HomeWin\"].count()\n",
        "n_games"
      ],
      "execution_count": 21,
      "outputs": [
        {
          "output_type": "execute_result",
          "data": {
            "text/plain": [
              "1604"
            ]
          },
          "metadata": {
            "tags": []
          },
          "execution_count": 21
        }
      ]
    },
    {
      "cell_type": "code",
      "metadata": {
        "colab": {
          "base_uri": "https://localhost:8080/"
        },
        "id": "yUwjbJgPcAoZ",
        "outputId": "4924a0fd-957b-4db8-a073-4fbbde70e396"
      },
      "source": [
        "n_homewins = df_Reds[\"HomeWin\"].sum()\n",
        "n_homewins"
      ],
      "execution_count": 22,
      "outputs": [
        {
          "output_type": "execute_result",
          "data": {
            "text/plain": [
              "806"
            ]
          },
          "metadata": {
            "tags": []
          },
          "execution_count": 22
        }
      ]
    },
    {
      "cell_type": "code",
      "metadata": {
        "colab": {
          "base_uri": "https://localhost:8080/"
        },
        "id": "R_tu1L4mbfc4",
        "outputId": "37a33167-b9ee-49a5-ed96-b94be503fd8e"
      },
      "source": [
        "#Create the baseline: Home Teams win games more frequently--this is true in most sports!\n",
        "Angels_games = df_Angels[\"HomeWin\"].count()\n",
        "Angels_homewins = df_Angels[\"HomeWin\"].sum()\n",
        "win_percentage = Angels_homewins / Angels_games\n",
        "\n",
        "print (\"Angels Home Win Percentage: {0:.1f}%\".format(100 * win_percentage))"
      ],
      "execution_count": 23,
      "outputs": [
        {
          "output_type": "stream",
          "text": [
            "Angels Home Win Percentage: 56.3%\n"
          ],
          "name": "stdout"
        }
      ]
    },
    {
      "cell_type": "code",
      "metadata": {
        "colab": {
          "base_uri": "https://localhost:8080/"
        },
        "id": "M5k_-PrCfmGO",
        "outputId": "05693e81-b5a8-48fe-8a08-c2689d6cbbfc"
      },
      "source": [
        "#Create the baseline: Home Teams win games more frequently--this is true in most sports!\n",
        "Astros_games = df_Astros[\"HomeWin\"].count()\n",
        "Astros_homewins = df_Astros[\"HomeWin\"].sum()\n",
        "win_percentage = Astros_homewins / Astros_games\n",
        "\n",
        "print (\"Astros Home Win Percentage: {0:.1f}%\".format(100 * win_percentage))"
      ],
      "execution_count": 24,
      "outputs": [
        {
          "output_type": "stream",
          "text": [
            "Astros Home Win Percentage: 54.1%\n"
          ],
          "name": "stdout"
        }
      ]
    },
    {
      "cell_type": "code",
      "metadata": {
        "colab": {
          "base_uri": "https://localhost:8080/"
        },
        "id": "x3PqxFXz9gCE",
        "outputId": "f0d82c37-5567-408a-f826-28c15cab13bc"
      },
      "source": [
        "#Create the baseline: Home Teams win games more frequently--this is true in most sports!\n",
        "Athletics_games = df_Athletics[\"HomeWin\"].count()\n",
        "Athletics_homewins = df_Athletics[\"HomeWin\"].sum()\n",
        "win_percentage = Athletics_homewins / Athletics_games\n",
        "\n",
        "print (\"Athletics Home Win Percentage: {0:.1f}%\".format(100 * win_percentage))"
      ],
      "execution_count": 25,
      "outputs": [
        {
          "output_type": "stream",
          "text": [
            "Athletics Home Win Percentage: 50.2%\n"
          ],
          "name": "stdout"
        }
      ]
    },
    {
      "cell_type": "code",
      "metadata": {
        "colab": {
          "base_uri": "https://localhost:8080/"
        },
        "id": "JkTOztDwFrEz",
        "outputId": "39c3d22a-50ec-4552-c3c3-0f594251d2a9"
      },
      "source": [
        "#Create the baseline: Home Teams win games more frequently--this is true in most sports!\n",
        "BlueJays_games = df_BlueJays[\"HomeWin\"].count()\n",
        "BlueJays_homewins = df_BlueJays[\"HomeWin\"].sum()\n",
        "win_percentage = BlueJays_homewins / BlueJays_games\n",
        "\n",
        "print (\"BlueJays Home Win Percentage: {0:.1f}%\".format(100 * win_percentage))"
      ],
      "execution_count": 26,
      "outputs": [
        {
          "output_type": "stream",
          "text": [
            "BlueJays Home Win Percentage: 53.8%\n"
          ],
          "name": "stdout"
        }
      ]
    },
    {
      "cell_type": "code",
      "metadata": {
        "colab": {
          "base_uri": "https://localhost:8080/"
        },
        "id": "qwyeVf-jG736",
        "outputId": "b2ca7606-eb92-4109-e60d-1b90172bc888"
      },
      "source": [
        "#Create the baseline: Home Teams win games more frequently--this is true in most sports!\n",
        "Braves_games = df_Braves[\"HomeWin\"].count()\n",
        "Braves_homewins = df_Braves[\"HomeWin\"].sum()\n",
        "win_percentage = Braves_homewins / Braves_games\n",
        "\n",
        "print (\"Braves Home Win Percentage: {0:.1f}%\".format(100 * win_percentage))"
      ],
      "execution_count": 27,
      "outputs": [
        {
          "output_type": "stream",
          "text": [
            "Braves Home Win Percentage: 56.9%\n"
          ],
          "name": "stdout"
        }
      ]
    },
    {
      "cell_type": "code",
      "metadata": {
        "colab": {
          "base_uri": "https://localhost:8080/"
        },
        "id": "0iWvaucaIM0t",
        "outputId": "840c1ccf-e3ce-48ec-be2f-1db0e5279a55"
      },
      "source": [
        "#Create the baseline: Home Teams win games more frequently--this is true in most sports!\n",
        "Brewers_games = df_Brewers[\"HomeWin\"].count()\n",
        "Brewers_homewins = df_Brewers[\"HomeWin\"].sum()\n",
        "win_percentage = Brewers_homewins / Brewers_games\n",
        "\n",
        "print (\"Brewers Home Win Percentage: {0:.1f}%\".format(100 * win_percentage))"
      ],
      "execution_count": 28,
      "outputs": [
        {
          "output_type": "stream",
          "text": [
            "Brewers Home Win Percentage: 52.7%\n"
          ],
          "name": "stdout"
        }
      ]
    },
    {
      "cell_type": "code",
      "metadata": {
        "colab": {
          "base_uri": "https://localhost:8080/"
        },
        "id": "fD-RJajDJgcF",
        "outputId": "c405294b-734c-40fb-dec9-1d218b7e6e52"
      },
      "source": [
        "#Create the baseline: Home Teams win games more frequently--this is true in most sports!\n",
        "Cardinals_games = df_Cardinals[\"HomeWin\"].count()\n",
        "Cardinals_homewins = df_Cardinals[\"HomeWin\"].sum()\n",
        "win_percentage = Cardinals_homewins / Cardinals_games\n",
        "\n",
        "print (\"Cardinals Home Win Percentage: {0:.1f}%\".format(100 * win_percentage))"
      ],
      "execution_count": 29,
      "outputs": [
        {
          "output_type": "stream",
          "text": [
            "Cardinals Home Win Percentage: 59.9%\n"
          ],
          "name": "stdout"
        }
      ]
    },
    {
      "cell_type": "code",
      "metadata": {
        "colab": {
          "base_uri": "https://localhost:8080/"
        },
        "id": "aqUlzzypKrCV",
        "outputId": "623135d8-2b73-419f-cb7b-b81762ddf415"
      },
      "source": [
        "#Create the baseline: Home Teams win games more frequently--this is true in most sports!\n",
        "Cubs_games = df_Cubs[\"HomeWin\"].count()\n",
        "Cubs_homewins = df_Cubs[\"HomeWin\"].sum()\n",
        "win_percentage = Cubs_homewins / Cubs_games\n",
        "\n",
        "print (\"Cubs Home Win Percentage: {0:.1f}%\".format(100 * win_percentage))"
      ],
      "execution_count": 30,
      "outputs": [
        {
          "output_type": "stream",
          "text": [
            "Cubs Home Win Percentage: 53.8%\n"
          ],
          "name": "stdout"
        }
      ]
    },
    {
      "cell_type": "code",
      "metadata": {
        "colab": {
          "base_uri": "https://localhost:8080/"
        },
        "id": "bOrSJDo7MBZB",
        "outputId": "53cc46ed-3925-4785-9772-dfb37b30a1d1"
      },
      "source": [
        "#Create the baseline: Home Teams win games more frequently--this is true in most sports!\n",
        "DBacks_games = df_DBacks[\"HomeWin\"].count()\n",
        "DBacks_homewins = df_DBacks[\"HomeWin\"].sum()\n",
        "win_percentage = DBacks_homewins / DBacks_games\n",
        "\n",
        "print (\"Diamondbacks Home Win Percentage: {0:.1f}%\".format(100 * win_percentage))"
      ],
      "execution_count": 31,
      "outputs": [
        {
          "output_type": "stream",
          "text": [
            "Diamondbacks Home Win Percentage: 52.5%\n"
          ],
          "name": "stdout"
        }
      ]
    },
    {
      "cell_type": "code",
      "metadata": {
        "colab": {
          "base_uri": "https://localhost:8080/"
        },
        "id": "yuz8WFDjNELi",
        "outputId": "3432ff60-737a-48d4-840c-0987eccdab89"
      },
      "source": [
        "#Create the baseline: Home Teams win games more frequently--this is true in most sports!\n",
        "Dodgers_games = df_Dodgers[\"HomeWin\"].count()\n",
        "Dodgers_homewins = df_Dodgers[\"HomeWin\"].sum()\n",
        "win_percentage = Dodgers_homewins / Dodgers_games\n",
        "\n",
        "print (\"Dodgers Home Win Percentage: {0:.1f}%\".format(100 * win_percentage))"
      ],
      "execution_count": 32,
      "outputs": [
        {
          "output_type": "stream",
          "text": [
            "Dodgers Home Win Percentage: 58.7%\n"
          ],
          "name": "stdout"
        }
      ]
    },
    {
      "cell_type": "code",
      "metadata": {
        "colab": {
          "base_uri": "https://localhost:8080/"
        },
        "id": "y2F1QV3WN69j",
        "outputId": "a18ec5c8-cddc-40ca-e8e0-113d309ed298"
      },
      "source": [
        "#Create the baseline: Home Teams win games more frequently--this is true in most sports!\n",
        "Giants_games = df_Giants[\"HomeWin\"].count()\n",
        "Giants_homewins = df_Giants[\"HomeWin\"].sum()\n",
        "win_percentage = Giants_homewins / Giants_games\n",
        "\n",
        "print (\"Giants Home Win Percentage: {0:.1f}%\".format(100 * win_percentage))"
      ],
      "execution_count": 33,
      "outputs": [
        {
          "output_type": "stream",
          "text": [
            "Giants Home Win Percentage: 55.5%\n"
          ],
          "name": "stdout"
        }
      ]
    },
    {
      "cell_type": "code",
      "metadata": {
        "colab": {
          "base_uri": "https://localhost:8080/"
        },
        "id": "lrYTY6j9Pywa",
        "outputId": "fd99b33e-5dfb-488e-aabc-38ef888f4713"
      },
      "source": [
        "#Create the baseline: Home Teams win games more frequently--this is true in most sports!\n",
        "Indians_games = df_Indians[\"HomeWin\"].count()\n",
        "Indians_homewins = df_Indians[\"HomeWin\"].sum()\n",
        "win_percentage = Indians_homewins / Indians_games\n",
        "\n",
        "print (\"Indians Home Win Percentage: {0:.1f}%\".format(100 * win_percentage))"
      ],
      "execution_count": 34,
      "outputs": [
        {
          "output_type": "stream",
          "text": [
            "Indians Home Win Percentage: 55.0%\n"
          ],
          "name": "stdout"
        }
      ]
    },
    {
      "cell_type": "code",
      "metadata": {
        "colab": {
          "base_uri": "https://localhost:8080/"
        },
        "id": "G0RSo9A6RAGV",
        "outputId": "769f2523-6831-4333-f781-350e1d86abd0"
      },
      "source": [
        "#Create the baseline: Home Teams win games more frequently--this is true in most sports!\n",
        "Mariners_games = df_Mariners[\"HomeWin\"].count()\n",
        "Mariners_homewins = df_Mariners[\"HomeWin\"].sum()\n",
        "win_percentage = Mariners_homewins / Mariners_games\n",
        "\n",
        "print (\"Mariners Home Win Percentage: {0:.1f}%\".format(100 * win_percentage))"
      ],
      "execution_count": 35,
      "outputs": [
        {
          "output_type": "stream",
          "text": [
            "Mariners Home Win Percentage: 52.0%\n"
          ],
          "name": "stdout"
        }
      ]
    },
    {
      "cell_type": "code",
      "metadata": {
        "colab": {
          "base_uri": "https://localhost:8080/"
        },
        "id": "Pvu_Jo1pSDGP",
        "outputId": "417c1475-f7b5-4d27-84cb-8884c92459f4"
      },
      "source": [
        "#Create the baseline: Home Teams win games more frequently--this is true in most sports!\n",
        "Marlins_games = df_Marlins[\"HomeWin\"].count()\n",
        "Marlins_homewins = df_Marlins[\"HomeWin\"].sum()\n",
        "win_percentage = Marlins_homewins / Marlins_games\n",
        "\n",
        "print (\"Marlins Home Win Percentage: {0:.1f}%\".format(100 * win_percentage))"
      ],
      "execution_count": 36,
      "outputs": [
        {
          "output_type": "stream",
          "text": [
            "Marlins Home Win Percentage: 50.9%\n"
          ],
          "name": "stdout"
        }
      ]
    },
    {
      "cell_type": "code",
      "metadata": {
        "colab": {
          "base_uri": "https://localhost:8080/"
        },
        "id": "eO4VfXJ7Sho_",
        "outputId": "706e990b-ec2c-4b86-d150-cb3e137b6885"
      },
      "source": [
        "#Create the baseline: Home Teams win games more frequently--this is true in most sports!\n",
        "Mets_games = df_Mets[\"HomeWin\"].count()\n",
        "Mets_homewins = df_Mets[\"HomeWin\"].sum()\n",
        "win_percentage = Mets_homewins / Mets_games\n",
        "\n",
        "print (\"Mets Home Win Percentage: {0:.1f}%\".format(100 * win_percentage))"
      ],
      "execution_count": 37,
      "outputs": [
        {
          "output_type": "stream",
          "text": [
            "Mets Home Win Percentage: 52.0%\n"
          ],
          "name": "stdout"
        }
      ]
    },
    {
      "cell_type": "code",
      "metadata": {
        "colab": {
          "base_uri": "https://localhost:8080/"
        },
        "id": "blQyZ4O8Tl22",
        "outputId": "f6587cbe-672c-4135-b373-eb115f52469f"
      },
      "source": [
        "#Create the baseline: Home Teams win games more frequently--this is true in most sports!\n",
        "Nationals_games = df_Nationals[\"HomeWin\"].count()\n",
        "Nationals_homewins = df_Nationals[\"HomeWin\"].sum()\n",
        "win_percentage = Nationals_homewins / Nationals_games\n",
        "\n",
        "print (\"Nationals Home Win Percentage: {0:.1f}%\".format(100 * win_percentage))"
      ],
      "execution_count": 38,
      "outputs": [
        {
          "output_type": "stream",
          "text": [
            "Nationals Home Win Percentage: 53.1%\n"
          ],
          "name": "stdout"
        }
      ]
    },
    {
      "cell_type": "code",
      "metadata": {
        "colab": {
          "base_uri": "https://localhost:8080/"
        },
        "id": "3Zs7XL73UZM7",
        "outputId": "bb491e6f-f5bc-4fd1-c27d-4194298e37c6"
      },
      "source": [
        "#Create the baseline: Home Teams win games more frequently--this is true in most sports!\n",
        "Orioles_games = df_Orioles[\"HomeWin\"].count()\n",
        "Orioles_homewins = df_Orioles[\"HomeWin\"].sum()\n",
        "win_percentage = Orioles_homewins / Orioles_games\n",
        "\n",
        "print (\"Orioles Home Win Percentage: {0:.1f}%\".format(100 * win_percentage))"
      ],
      "execution_count": 39,
      "outputs": [
        {
          "output_type": "stream",
          "text": [
            "Orioles Home Win Percentage: 48.7%\n"
          ],
          "name": "stdout"
        }
      ]
    },
    {
      "cell_type": "code",
      "metadata": {
        "colab": {
          "base_uri": "https://localhost:8080/"
        },
        "id": "qY2-yWCoVeCs",
        "outputId": "a1fcc518-a46b-4965-9295-16df8c0300d1"
      },
      "source": [
        "#Create the baseline: Home Teams win games more frequently--this is true in most sports!\n",
        "Padres_games = df_Padres[\"HomeWin\"].count()\n",
        "Padres_homewins = df_Padres[\"HomeWin\"].sum()\n",
        "win_percentage = Padres_homewins / Padres_games\n",
        "\n",
        "print (\"Padres Home Win Percentage: {0:.1f}%\".format(100 * win_percentage))"
      ],
      "execution_count": 40,
      "outputs": [
        {
          "output_type": "stream",
          "text": [
            "Padres Home Win Percentage: 50.0%\n"
          ],
          "name": "stdout"
        }
      ]
    },
    {
      "cell_type": "code",
      "metadata": {
        "colab": {
          "base_uri": "https://localhost:8080/"
        },
        "id": "mRt5LByhWTEy",
        "outputId": "5a44652f-2f9b-4c01-9a45-be2318a6780a"
      },
      "source": [
        "#Create the baseline: Home Teams win games more frequently--this is true in most sports!\n",
        "Phillies_games = df_Phillies[\"HomeWin\"].count()\n",
        "Phillies_homewins = df_Phillies[\"HomeWin\"].sum()\n",
        "win_percentage = Phillies_homewins / Phillies_games\n",
        "\n",
        "print (\"Phillies Home Win Percentage: {0:.1f}%\".format(100 * win_percentage))"
      ],
      "execution_count": 41,
      "outputs": [
        {
          "output_type": "stream",
          "text": [
            "Phillies Home Win Percentage: 53.7%\n"
          ],
          "name": "stdout"
        }
      ]
    },
    {
      "cell_type": "code",
      "metadata": {
        "colab": {
          "base_uri": "https://localhost:8080/"
        },
        "id": "66jK3RebXWlz",
        "outputId": "625a86ca-d918-458f-e4f2-18d8797caa8d"
      },
      "source": [
        "#Create the baseline: Home Teams win games more frequently--this is true in most sports!\n",
        "Pirates_games = df_Pirates[\"HomeWin\"].count()\n",
        "Pirates_homewins = df_Pirates[\"HomeWin\"].sum()\n",
        "win_percentage = Pirates_homewins / Pirates_games\n",
        "\n",
        "print (\"Pirates Home Win Percentage: {0:.1f}%\".format(100 * win_percentage))"
      ],
      "execution_count": 42,
      "outputs": [
        {
          "output_type": "stream",
          "text": [
            "Pirates Home Win Percentage: 50.7%\n"
          ],
          "name": "stdout"
        }
      ]
    },
    {
      "cell_type": "code",
      "metadata": {
        "colab": {
          "base_uri": "https://localhost:8080/"
        },
        "id": "SSNwHE0UYEL0",
        "outputId": "f0f9249d-e7a5-4ab2-85f6-ef700ae4c1cf"
      },
      "source": [
        "#Create the baseline: Home Teams win games more frequently--this is true in most sports!\n",
        "Rangers_games = df_Rangers[\"HomeWin\"].count()\n",
        "Rangers_homewins = df_Rangers[\"HomeWin\"].sum()\n",
        "win_percentage = Rangers_homewins / Rangers_games\n",
        "\n",
        "print (\"Rangers Home Win Percentage: {0:.1f}%\".format(100 * win_percentage))"
      ],
      "execution_count": 43,
      "outputs": [
        {
          "output_type": "stream",
          "text": [
            "Rangers Home Win Percentage: 54.3%\n"
          ],
          "name": "stdout"
        }
      ]
    },
    {
      "cell_type": "code",
      "metadata": {
        "colab": {
          "base_uri": "https://localhost:8080/"
        },
        "id": "UL8aO2efgmEL",
        "outputId": "07c0b986-ba05-4055-81a6-b5b0b77e5351"
      },
      "source": [
        "#Create the baseline: Home Teams win games more frequently--this is true in most sports!\n",
        "Rays_games = df_Rays[\"HomeWin\"].count()\n",
        "Rays_homewins = df_Rays[\"HomeWin\"].sum()\n",
        "win_percentage = Rays_homewins / Rays_games\n",
        "\n",
        "print (\"Rays Home Win Percentage: {0:.1f}%\".format(100 * win_percentage))"
      ],
      "execution_count": 44,
      "outputs": [
        {
          "output_type": "stream",
          "text": [
            "Rays Home Win Percentage: 52.7%\n"
          ],
          "name": "stdout"
        }
      ]
    },
    {
      "cell_type": "code",
      "metadata": {
        "colab": {
          "base_uri": "https://localhost:8080/"
        },
        "id": "sF0kh1spjOo0",
        "outputId": "263b8fd4-cf8e-42a8-f75a-1139f9e13bf9"
      },
      "source": [
        "#Create the baseline: Home Teams win games more frequently--this is true in most sports!\n",
        "Reds_games = df_Reds[\"HomeWin\"].count()\n",
        "Reds_homewins = df_Reds[\"HomeWin\"].sum()\n",
        "win_percentage = Reds_homewins / Reds_games\n",
        "\n",
        "print (\"Reds Home Win Percentage: {0:.1f}%\".format(100 * win_percentage))"
      ],
      "execution_count": 45,
      "outputs": [
        {
          "output_type": "stream",
          "text": [
            "Reds Home Win Percentage: 50.2%\n"
          ],
          "name": "stdout"
        }
      ]
    },
    {
      "cell_type": "code",
      "metadata": {
        "colab": {
          "base_uri": "https://localhost:8080/"
        },
        "id": "xpOGd8YSkChM",
        "outputId": "b9c0ba1e-7c64-4a31-baad-abbf42a2a710"
      },
      "source": [
        "#Create the baseline: Home Teams win games more frequently--this is true in most sports!\n",
        "RedSox_games = df_RedSox[\"HomeWin\"].count()\n",
        "RedSox_homewins = df_RedSox[\"HomeWin\"].sum()\n",
        "win_percentage = RedSox_homewins / RedSox_games\n",
        "\n",
        "print (\"RedSox Home Win Percentage: {0:.1f}%\".format(100 * win_percentage))"
      ],
      "execution_count": 46,
      "outputs": [
        {
          "output_type": "stream",
          "text": [
            "RedSox Home Win Percentage: 58.5%\n"
          ],
          "name": "stdout"
        }
      ]
    },
    {
      "cell_type": "code",
      "metadata": {
        "colab": {
          "base_uri": "https://localhost:8080/"
        },
        "id": "AmG6j9wnlP8z",
        "outputId": "8f4543d6-c80d-436a-ad06-c3157b5e7ca5"
      },
      "source": [
        "#Create the baseline: Home Teams win games more frequently--this is true in most sports!\n",
        "Rockies_games = df_Rockies[\"HomeWin\"].count()\n",
        "Rockies_homewins = df_Rockies[\"HomeWin\"].sum()\n",
        "win_percentage = Rockies_homewins / Rockies_games\n",
        "\n",
        "print (\"Rockies Home Win Percentage: {0:.1f}%\".format(100 * win_percentage))"
      ],
      "execution_count": 47,
      "outputs": [
        {
          "output_type": "stream",
          "text": [
            "Rockies Home Win Percentage: 54.5%\n"
          ],
          "name": "stdout"
        }
      ]
    },
    {
      "cell_type": "code",
      "metadata": {
        "colab": {
          "base_uri": "https://localhost:8080/"
        },
        "id": "o1ON2h26l8r-",
        "outputId": "7eaebe02-51be-4643-dd7c-2b5b071ed40b"
      },
      "source": [
        "#Create the baseline: Home Teams win games more frequently--this is true in most sports!\n",
        "Royals_games = df_Royals[\"HomeWin\"].count()\n",
        "Royals_homewins = df_Royals[\"HomeWin\"].sum()\n",
        "win_percentage = Royals_homewins / Royals_games\n",
        "\n",
        "print (\"Royals Home Win Percentage: {0:.1f}%\".format(100 * win_percentage))"
      ],
      "execution_count": 48,
      "outputs": [
        {
          "output_type": "stream",
          "text": [
            "Royals Home Win Percentage: 47.5%\n"
          ],
          "name": "stdout"
        }
      ]
    },
    {
      "cell_type": "code",
      "metadata": {
        "colab": {
          "base_uri": "https://localhost:8080/"
        },
        "id": "gzkWEkpbmseF",
        "outputId": "eaba0e4e-fc2f-44c7-f062-77eabbb56df4"
      },
      "source": [
        "#Create the baseline: Home Teams win games more frequently--this is true in most sports!\n",
        "Tigers_games = df_Tigers[\"HomeWin\"].count()\n",
        "Tigers_homewins = df_Tigers[\"HomeWin\"].sum()\n",
        "win_percentage = Tigers_homewins / Tigers_games\n",
        "\n",
        "print (\"Tigers Home Win Percentage: {0:.1f}%\".format(100 * win_percentage))"
      ],
      "execution_count": 49,
      "outputs": [
        {
          "output_type": "stream",
          "text": [
            "Tigers Home Win Percentage: 50.6%\n"
          ],
          "name": "stdout"
        }
      ]
    },
    {
      "cell_type": "code",
      "metadata": {
        "colab": {
          "base_uri": "https://localhost:8080/"
        },
        "id": "noIwWDlDnY_V",
        "outputId": "4f571e1e-443e-44c8-fa40-9f6611ccf711"
      },
      "source": [
        "#Create the baseline: Home Teams win games more frequently--this is true in most sports!\n",
        "Twins_games = df_Twins[\"HomeWin\"].count()\n",
        "Twins_homewins = df_Twins[\"HomeWin\"].sum()\n",
        "win_percentage = Twins_homewins / Twins_games\n",
        "\n",
        "print (\"Twins Home Win Percentage: {0:.1f}%\".format(100 * win_percentage))"
      ],
      "execution_count": 50,
      "outputs": [
        {
          "output_type": "stream",
          "text": [
            "Twins Home Win Percentage: 53.9%\n"
          ],
          "name": "stdout"
        }
      ]
    },
    {
      "cell_type": "code",
      "metadata": {
        "colab": {
          "base_uri": "https://localhost:8080/"
        },
        "id": "t2j_TWLhoYhZ",
        "outputId": "3af13c03-45e5-4324-83e7-5dd33264296e"
      },
      "source": [
        "#Create the baseline: Home Teams win games more frequently--this is true in most sports!\n",
        "WhiteSox_games = df_WhiteSox[\"HomeWin\"].count()\n",
        "WhiteSox_homewins = df_WhiteSox[\"HomeWin\"].sum()\n",
        "win_percentage = WhiteSox_homewins / WhiteSox_games\n",
        "\n",
        "print (\"WhiteSox Home Win Percentage: {0:.1f}%\".format(100 * win_percentage))"
      ],
      "execution_count": 51,
      "outputs": [
        {
          "output_type": "stream",
          "text": [
            "WhiteSox Home Win Percentage: 53.4%\n"
          ],
          "name": "stdout"
        }
      ]
    },
    {
      "cell_type": "code",
      "metadata": {
        "colab": {
          "base_uri": "https://localhost:8080/"
        },
        "id": "G1NxHO5apDBv",
        "outputId": "f45ab954-80b8-4b4b-e245-f0e56afbeca1"
      },
      "source": [
        "#Create the baseline: Home Teams win games more frequently--this is true in most sports!\n",
        "Yankees_games = df_Yankees[\"HomeWin\"].count()\n",
        "Yankees_homewins = df_Yankees[\"HomeWin\"].sum()\n",
        "win_percentage = Yankees_homewins / Yankees_games\n",
        "\n",
        "print (\"Yankees Home Win Percentage: {0:.1f}%\".format(100 * win_percentage))"
      ],
      "execution_count": 52,
      "outputs": [
        {
          "output_type": "stream",
          "text": [
            "Yankees Home Win Percentage: 62.5%\n"
          ],
          "name": "stdout"
        }
      ]
    },
    {
      "cell_type": "code",
      "metadata": {
        "id": "lC_b8RGsmRIH"
      },
      "source": [
        "from sklearn.metrics import f1_score, make_scorer, classification_report\n",
        "\n",
        "scorer = make_scorer(f1_score, pos_label=None, average='weighted')"
      ],
      "execution_count": 53,
      "outputs": []
    },
    {
      "cell_type": "code",
      "metadata": {
        "id": "LRMdLjwhG8IX"
      },
      "source": [
        "#My class values for each MLB Team\n",
        "y_true_Angels = df_Angels[\"HomeWin\"].values\n",
        "y_true_Astros = df_Astros[\"HomeWin\"].values\n",
        "y_true_Athletics = df_Athletics[\"HomeWin\"].values\n",
        "y_true_BlueJays = df_BlueJays[\"HomeWin\"].values\n",
        "y_true_Braves = df_Braves[\"HomeWin\"].values\n",
        "y_true_Brewers = df_Brewers[\"HomeWin\"].values\n",
        "y_true_Cardinals = df_Cardinals[\"HomeWin\"].values\n",
        "y_true_Cubs = df_Cubs[\"HomeWin\"].values\n",
        "y_true_DBacks = df_DBacks[\"HomeWin\"].values\n",
        "y_true_Dodgers = df_Dodgers[\"HomeWin\"].values\n",
        "y_true_Giants = df_Giants[\"HomeWin\"].values\n",
        "y_true_Indians = df_Indians[\"HomeWin\"].values\n",
        "y_true_Mariners = df_Mariners[\"HomeWin\"].values\n",
        "y_true_Marlins = df_Marlins[\"HomeWin\"].values\n",
        "y_true_Mets = df_Mets[\"HomeWin\"].values\n",
        "y_true_Nationals = df_Nationals[\"HomeWin\"].values\n",
        "y_true_Orioles = df_Angels[\"HomeWin\"].values\n",
        "y_true_Padres = df_Angels[\"HomeWin\"].values\n",
        "y_true_Phillies = df_Angels[\"HomeWin\"].values\n",
        "y_true_Pirates = df_Angels[\"HomeWin\"].values\n",
        "y_true_Rangers = df_Angels[\"HomeWin\"].values\n",
        "y_true_Rays = df_Angels[\"HomeWin\"].values\n",
        "y_true_RedSox = df_Angels[\"HomeWin\"].values\n",
        "y_true_Reds = df_Angels[\"HomeWin\"].values\n",
        "y_true_Rockies = df_Angels[\"HomeWin\"].values\n",
        "y_true_Royals = df_Angels[\"HomeWin\"].values\n",
        "y_true_Tigers = df_Angels[\"HomeWin\"].values\n",
        "y_true_Twins = df_Angels[\"HomeWin\"].values\n",
        "y_true_WhiteSox = df_Angels[\"HomeWin\"].values\n",
        "y_true_Yankees = df_Angels[\"HomeWin\"].values"
      ],
      "execution_count": 70,
      "outputs": []
    },
    {
      "cell_type": "code",
      "metadata": {
        "colab": {
          "base_uri": "https://localhost:8080/"
        },
        "id": "z_eLzc9ilu8n",
        "outputId": "ae9a7807-4f75-4872-c1db-b7f5437622d4"
      },
      "source": [
        "#Create a \"basic\" classifer\n",
        "y_pred = [1] * len(y_true_Angels)\n",
        "print (\"F1: {:.4f}\".format(f1_score(y_true_Angels, y_pred, pos_label=None, average='weighted')))\n",
        "print (\"This is not very good we must do better!!!\")"
      ],
      "execution_count": 71,
      "outputs": [
        {
          "output_type": "stream",
          "text": [
            "F1: 0.4052\n",
            "This is not very good we must do better!!!\n"
          ],
          "name": "stdout"
        }
      ]
    },
    {
      "cell_type": "code",
      "metadata": {
        "id": "PxUW5BAWF6Eh"
      },
      "source": [
        "# Divide data into feature values ​​and tag values\n",
        "X_all = playing_stat.drop(['FTR'],1)\n",
        "y_all = playing_stat['FTR']\n",
        "# Length of eigenvalue\n",
        "len(X_all)"
      ],
      "execution_count": null,
      "outputs": []
    },
    {
      "cell_type": "code",
      "metadata": {
        "colab": {
          "base_uri": "https://localhost:8080/",
          "height": 181
        },
        "id": "XTOCezRSELh7",
        "outputId": "585229be-d6dc-42bf-e4f9-43997550206b"
      },
      "source": [
        "from sklearn.model_selection import train_test_split\n",
        "X_train, X_test, y_train, y_test = train_test_split(X_all, y_all,test_size = 0.3,random_state = 2,stratify = y_all)"
      ],
      "execution_count": 56,
      "outputs": [
        {
          "output_type": "error",
          "ename": "NameError",
          "evalue": "ignored",
          "traceback": [
            "\u001b[0;31m---------------------------------------------------------------------------\u001b[0m",
            "\u001b[0;31mNameError\u001b[0m                                 Traceback (most recent call last)",
            "\u001b[0;32m<ipython-input-56-85800cf603b3>\u001b[0m in \u001b[0;36m<module>\u001b[0;34m()\u001b[0m\n\u001b[1;32m      1\u001b[0m \u001b[0;32mfrom\u001b[0m \u001b[0msklearn\u001b[0m\u001b[0;34m.\u001b[0m\u001b[0mmodel_selection\u001b[0m \u001b[0;32mimport\u001b[0m \u001b[0mtrain_test_split\u001b[0m\u001b[0;34m\u001b[0m\u001b[0;34m\u001b[0m\u001b[0m\n\u001b[0;32m----> 2\u001b[0;31m \u001b[0mX_train\u001b[0m\u001b[0;34m,\u001b[0m \u001b[0mX_test\u001b[0m\u001b[0;34m,\u001b[0m \u001b[0my_train\u001b[0m\u001b[0;34m,\u001b[0m \u001b[0my_test\u001b[0m \u001b[0;34m=\u001b[0m \u001b[0mtrain_test_split\u001b[0m\u001b[0;34m(\u001b[0m\u001b[0mX_all\u001b[0m\u001b[0;34m,\u001b[0m \u001b[0my_all\u001b[0m\u001b[0;34m,\u001b[0m\u001b[0mtest_size\u001b[0m \u001b[0;34m=\u001b[0m \u001b[0;36m0.3\u001b[0m\u001b[0;34m,\u001b[0m\u001b[0mrandom_state\u001b[0m \u001b[0;34m=\u001b[0m \u001b[0;36m2\u001b[0m\u001b[0;34m,\u001b[0m\u001b[0mstratify\u001b[0m \u001b[0;34m=\u001b[0m \u001b[0my_all\u001b[0m\u001b[0;34m)\u001b[0m\u001b[0;34m\u001b[0m\u001b[0;34m\u001b[0m\u001b[0m\n\u001b[0m",
            "\u001b[0;31mNameError\u001b[0m: name 'X_all' is not defined"
          ]
        }
      ]
    }
  ]
}